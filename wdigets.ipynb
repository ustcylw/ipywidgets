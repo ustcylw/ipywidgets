{
 "cells": [
  {
   "cell_type": "markdown",
   "id": "454b5b31-898c-401a-830a-ca27a68532f1",
   "metadata": {},
   "source": [
    "# widget"
   ]
  },
  {
   "cell_type": "code",
   "execution_count": 5,
   "id": "b980a979-84dc-4dec-b3b2-ffa919c9c6c7",
   "metadata": {
    "execution": {
     "iopub.execute_input": "2022-05-06T11:46:01.472640Z",
     "iopub.status.busy": "2022-05-06T11:46:01.472121Z",
     "iopub.status.idle": "2022-05-06T11:46:01.479374Z",
     "shell.execute_reply": "2022-05-06T11:46:01.478146Z",
     "shell.execute_reply.started": "2022-05-06T11:46:01.472600Z"
    },
    "tags": []
   },
   "outputs": [],
   "source": [
    "import ipywidgets as widgets\n",
    "from ipywidgets import interact, interact_manual\n",
    "from IPython.core.interactiveshell import InteractiveShell\n",
    "InteractiveShell.ast_node_interactivity = \"all\"\n",
    "\n",
    "from IPython.display import display\n",
    "\n",
    "import cv2\n",
    "import matplotlib.pyplot as plt\n",
    "import numpy as np"
   ]
  },
  {
   "cell_type": "code",
   "execution_count": null,
   "id": "2e5ea7ee-7b6f-4fbc-802a-074f5144c0bb",
   "metadata": {},
   "outputs": [],
   "source": []
  },
  {
   "cell_type": "code",
   "execution_count": null,
   "id": "9536ed56-e6cc-4ec9-871a-d76fd552b168",
   "metadata": {
    "tags": []
   },
   "outputs": [],
   "source": [
    "@interact\n",
    "def resize(image, scale=1.0):\n",
    "    w, h = image.shape[0:2]\n",
    "    nw, nh = int(w*scale), int(h*scale)\n",
    "    img = cv2.resize(image, (nw, nh))\n",
    "    return img"
   ]
  },
  {
   "cell_type": "code",
   "execution_count": null,
   "id": "c92ff695-ad38-43c3-bb47-95b315ffb308",
   "metadata": {},
   "outputs": [],
   "source": []
  },
  {
   "cell_type": "code",
   "execution_count": 8,
   "id": "26b9eb19-d894-4944-b837-faa12043c031",
   "metadata": {
    "execution": {
     "iopub.execute_input": "2022-05-06T11:46:29.990815Z",
     "iopub.status.busy": "2022-05-06T11:46:29.990244Z",
     "iopub.status.idle": "2022-05-06T11:46:30.012920Z",
     "shell.execute_reply": "2022-05-06T11:46:30.012116Z",
     "shell.execute_reply.started": "2022-05-06T11:46:29.990770Z"
    },
    "tags": []
   },
   "outputs": [
    {
     "data": {
      "application/vnd.jupyter.widget-view+json": {
       "model_id": "d5a99abda1404878b363a41a31e511c5",
       "version_major": 2,
       "version_minor": 0
      },
      "text/plain": [
       "FloatSlider(value=7.5, continuous_update=False, description='Test:', max=10.0, readout_format='.1f')"
      ]
     },
     "metadata": {},
     "output_type": "display_data"
    }
   ],
   "source": [
    "widgets.FloatSlider(\n",
    "    value=7.5,\n",
    "    min=0,\n",
    "    max=10.0,\n",
    "    step=0.1,\n",
    "    description='Test:',\n",
    "    disabled=False,\n",
    "    continuous_update=False,\n",
    "    orientation='horizontal',\n",
    "    readout=True,\n",
    "    readout_format='.1f',\n",
    ")"
   ]
  },
  {
   "cell_type": "code",
   "execution_count": null,
   "id": "aad76390-d97f-4b6a-ad3c-5380d1f28321",
   "metadata": {},
   "outputs": [],
   "source": []
  },
  {
   "cell_type": "markdown",
   "id": "a72a39c2-bba7-47de-a535-e87be76ee954",
   "metadata": {},
   "source": [
    "## interact"
   ]
  },
  {
   "cell_type": "code",
   "execution_count": 10,
   "id": "14e25155-ecfd-451c-9af2-a8b74a97bf37",
   "metadata": {
    "execution": {
     "iopub.execute_input": "2022-05-06T11:46:57.123337Z",
     "iopub.status.busy": "2022-05-06T11:46:57.122896Z",
     "iopub.status.idle": "2022-05-06T11:46:57.165994Z",
     "shell.execute_reply": "2022-05-06T11:46:57.164590Z",
     "shell.execute_reply.started": "2022-05-06T11:46:57.123292Z"
    },
    "tags": []
   },
   "outputs": [
    {
     "data": {
      "application/vnd.jupyter.widget-view+json": {
       "model_id": "d664b268caa04d1398c3319162022d51",
       "version_major": 2,
       "version_minor": 0
      },
      "text/plain": [
       "interactive(children=(FloatSlider(value=2.2, description='x', max=6.6000000000000005, min=-2.2), Output()), _d…"
      ]
     },
     "metadata": {},
     "output_type": "display_data"
    }
   ],
   "source": [
    "def func1(x):\n",
    "    return 5*x\n",
    "\n",
    "interact(func1, x=2.2);"
   ]
  },
  {
   "cell_type": "markdown",
   "id": "3ee3f5ea-973f-4a08-a28f-7d21bd08f500",
   "metadata": {},
   "source": [
    "## fixed"
   ]
  },
  {
   "cell_type": "markdown",
   "id": "425723ca-8a76-4198-8659-972dd71fbb10",
   "metadata": {},
   "source": [
    "fixed() to Prevent Widgets from Getting Created"
   ]
  },
  {
   "cell_type": "code",
   "execution_count": 11,
   "id": "06ee7696-4b87-4009-b2cf-a79260dd7ceb",
   "metadata": {
    "execution": {
     "iopub.execute_input": "2022-05-06T11:47:01.009678Z",
     "iopub.status.busy": "2022-05-06T11:47:01.009209Z",
     "iopub.status.idle": "2022-05-06T11:47:01.037813Z",
     "shell.execute_reply": "2022-05-06T11:47:01.036707Z",
     "shell.execute_reply.started": "2022-05-06T11:47:01.009629Z"
    },
    "tags": []
   },
   "outputs": [
    {
     "ename": "NameError",
     "evalue": "name 'widgetfixed' is not defined",
     "output_type": "error",
     "traceback": [
      "\u001b[0;31m---------------------------------------------------------------------------\u001b[0m",
      "\u001b[0;31mNameError\u001b[0m                                 Traceback (most recent call last)",
      "Input \u001b[0;32mIn [11]\u001b[0m, in \u001b[0;36m<cell line: 4>\u001b[0;34m()\u001b[0m\n\u001b[1;32m      1\u001b[0m \u001b[38;5;28;01mdef\u001b[39;00m \u001b[38;5;21mfunc2\u001b[39m(a,b,c):\n\u001b[1;32m      2\u001b[0m     \u001b[38;5;28;01mreturn\u001b[39;00m (a\u001b[38;5;241m*\u001b[39mb) \u001b[38;5;241m+\u001b[39m c\n\u001b[0;32m----> 4\u001b[0m interact(func2, a\u001b[38;5;241m=\u001b[39m\u001b[38;5;241m5\u001b[39m, b\u001b[38;5;241m=\u001b[39m\u001b[38;5;241m5\u001b[39m, c\u001b[38;5;241m=\u001b[39m\u001b[43mwidgetfixed\u001b[49m(\u001b[38;5;241m10\u001b[39m))\n",
      "\u001b[0;31mNameError\u001b[0m: name 'widgetfixed' is not defined"
     ]
    }
   ],
   "source": [
    "def func2(a,b,c):\n",
    "    return (a*b) + c\n",
    "\n",
    "interact(func2, a=5, b=5, c=widgetfixed(10));"
   ]
  },
  {
   "cell_type": "markdown",
   "id": "5dccbef2-7af5-483c-9616-44c75dc59df3",
   "metadata": {
    "execution": {
     "iopub.execute_input": "2022-04-25T10:43:48.192588Z",
     "iopub.status.busy": "2022-04-25T10:43:48.192154Z",
     "iopub.status.idle": "2022-04-25T10:43:48.198004Z",
     "shell.execute_reply": "2022-04-25T10:43:48.196913Z",
     "shell.execute_reply.started": "2022-04-25T10:43:48.192541Z"
    }
   },
   "source": [
    "## selector"
   ]
  },
  {
   "cell_type": "code",
   "execution_count": 12,
   "id": "2dddaa66-237c-4609-b478-04e561532be5",
   "metadata": {
    "execution": {
     "iopub.execute_input": "2022-05-06T11:47:21.584760Z",
     "iopub.status.busy": "2022-05-06T11:47:21.584306Z",
     "iopub.status.idle": "2022-05-06T11:47:21.624735Z",
     "shell.execute_reply": "2022-05-06T11:47:21.623576Z",
     "shell.execute_reply.started": "2022-05-06T11:47:21.584710Z"
    },
    "tags": []
   },
   "outputs": [
    {
     "data": {
      "application/vnd.jupyter.widget-view+json": {
       "model_id": "1611a8fae85d47e69bfe08dafd41957b",
       "version_major": 2,
       "version_minor": 0
      },
      "text/plain": [
       "interactive(children=(Dropdown(description='x', options=('good ', 'bad '), value='good '), Output()), _dom_cla…"
      ]
     },
     "metadata": {},
     "output_type": "display_data"
    }
   ],
   "source": [
    "interact(func1, x=['good ','bad ']);"
   ]
  },
  {
   "cell_type": "code",
   "execution_count": 13,
   "id": "941d932d-4c24-4d11-b1d5-d6a6702bb61b",
   "metadata": {
    "execution": {
     "iopub.execute_input": "2022-05-06T11:47:21.982210Z",
     "iopub.status.busy": "2022-05-06T11:47:21.981628Z",
     "iopub.status.idle": "2022-05-06T11:47:22.017368Z",
     "shell.execute_reply": "2022-05-06T11:47:22.016454Z",
     "shell.execute_reply.started": "2022-05-06T11:47:21.982162Z"
    },
    "tags": []
   },
   "outputs": [
    {
     "data": {
      "application/vnd.jupyter.widget-view+json": {
       "model_id": "acf14db381f344c8bdbd2b0393b6c0dc",
       "version_major": 2,
       "version_minor": 0
      },
      "text/plain": [
       "interactive(children=(Dropdown(description='x', options=(('first', 100), ('second', 200)), value=100), Output(…"
      ]
     },
     "metadata": {},
     "output_type": "display_data"
    }
   ],
   "source": [
    "interact(func1, x=[('first', 100), ('second', 200)]);"
   ]
  },
  {
   "cell_type": "markdown",
   "id": "f53a7e89-a4dc-42a6-91e0-46b41e25f237",
   "metadata": {},
   "source": [
    "## 获取interact值"
   ]
  },
  {
   "cell_type": "code",
   "execution_count": 33,
   "id": "1e3c6d22-e7f0-401d-9e0d-b328c618927a",
   "metadata": {
    "execution": {
     "iopub.execute_input": "2022-04-25T10:51:42.324111Z",
     "iopub.status.busy": "2022-04-25T10:51:42.323715Z",
     "iopub.status.idle": "2022-04-25T10:51:42.349613Z",
     "shell.execute_reply": "2022-04-25T10:51:42.348479Z",
     "shell.execute_reply.started": "2022-04-25T10:51:42.324067Z"
    },
    "tags": []
   },
   "outputs": [
    {
     "data": {
      "application/vnd.jupyter.widget-view+json": {
       "model_id": "2a1de0643c2a4dae9ac0c9c072e587e6",
       "version_major": 2,
       "version_minor": 0
      },
      "text/plain": [
       "IntSlider(value=25, description='Integer Slider', max=50, min=10, step=2)"
      ]
     },
     "metadata": {},
     "output_type": "display_data"
    },
    {
     "data": {
      "text/plain": [
       "25"
      ]
     },
     "execution_count": 33,
     "metadata": {},
     "output_type": "execute_result"
    },
    {
     "data": {
      "text/plain": [
       "['_dom_classes',\n",
       " '_model_module',\n",
       " '_model_module_version',\n",
       " '_model_name',\n",
       " '_view_count',\n",
       " '_view_module',\n",
       " '_view_module_version',\n",
       " '_view_name',\n",
       " 'continuous_update',\n",
       " 'description',\n",
       " 'description_tooltip',\n",
       " 'disabled',\n",
       " 'layout',\n",
       " 'max',\n",
       " 'min',\n",
       " 'orientation',\n",
       " 'readout',\n",
       " 'readout_format',\n",
       " 'step',\n",
       " 'style',\n",
       " 'value']"
      ]
     },
     "execution_count": 33,
     "metadata": {},
     "output_type": "execute_result"
    }
   ],
   "source": [
    "int_slider = widgets.IntSlider(min=10, max=50, value=25, step=2, description=\"Integer Slider\")\n",
    "int_slider\n",
    "int_slider.value\n",
    "int_slider.keys"
   ]
  },
  {
   "cell_type": "code",
   "execution_count": 30,
   "id": "278c907a-fb08-4f9b-a993-e44c4704f446",
   "metadata": {
    "execution": {
     "iopub.execute_input": "2022-04-25T10:49:55.916273Z",
     "iopub.status.busy": "2022-04-25T10:49:55.915881Z",
     "iopub.status.idle": "2022-04-25T10:49:55.943322Z",
     "shell.execute_reply": "2022-04-25T10:49:55.942673Z",
     "shell.execute_reply.started": "2022-04-25T10:49:55.916228Z"
    },
    "tags": []
   },
   "outputs": [
    {
     "data": {
      "application/vnd.jupyter.widget-view+json": {
       "model_id": "d01b1a9f689f40db8db52246a495f7d8",
       "version_major": 2,
       "version_minor": 0
      },
      "text/plain": [
       "FloatSlider(value=25.0, description='Float Slider', max=50.0, min=10.0, step=2.5)"
      ]
     },
     "metadata": {},
     "output_type": "display_data"
    },
    {
     "data": {
      "text/plain": [
       "25.0"
      ]
     },
     "execution_count": 30,
     "metadata": {},
     "output_type": "execute_result"
    }
   ],
   "source": [
    "float_slider = widgets.FloatSlider(min=10.0, max=50.0, value=25.0, step=2.5, description=\"Float Slider\")\n",
    "float_slider\n",
    "float_slider.value"
   ]
  },
  {
   "cell_type": "code",
   "execution_count": null,
   "id": "17318e95-7bf7-4238-ba31-350418abdc88",
   "metadata": {},
   "outputs": [],
   "source": []
  },
  {
   "cell_type": "markdown",
   "id": "f31aef8c-9672-4416-9aef-bf796641685f",
   "metadata": {},
   "source": [
    "## check box"
   ]
  },
  {
   "cell_type": "code",
   "execution_count": 34,
   "id": "46062aa0-7140-455b-86e2-070ad6ada8a0",
   "metadata": {
    "execution": {
     "iopub.execute_input": "2022-04-25T10:52:07.838820Z",
     "iopub.status.busy": "2022-04-25T10:52:07.838367Z",
     "iopub.status.idle": "2022-04-25T10:52:07.857398Z",
     "shell.execute_reply": "2022-04-25T10:52:07.856703Z",
     "shell.execute_reply.started": "2022-04-25T10:52:07.838761Z"
    }
   },
   "outputs": [
    {
     "data": {
      "application/vnd.jupyter.widget-view+json": {
       "model_id": "1cc6424781a743eab3c92399daaebee5",
       "version_major": 2,
       "version_minor": 0
      },
      "text/plain": [
       "Checkbox(value=True, description='Check')"
      ]
     },
     "metadata": {},
     "output_type": "display_data"
    }
   ],
   "source": [
    "widgets.Checkbox(value=True, description=\"Check\")"
   ]
  },
  {
   "cell_type": "code",
   "execution_count": null,
   "id": "2958da46-68a5-4a29-9799-c7bc6190bc0b",
   "metadata": {},
   "outputs": [],
   "source": []
  },
  {
   "cell_type": "code",
   "execution_count": null,
   "id": "d8fee938-92ca-41bf-b305-fdc6fb4b49e7",
   "metadata": {},
   "outputs": [],
   "source": []
  },
  {
   "cell_type": "markdown",
   "id": "c856585a-8f45-48d8-8ed7-b5bed616e5ad",
   "metadata": {},
   "source": [
    "## button"
   ]
  },
  {
   "cell_type": "code",
   "execution_count": 41,
   "id": "b54b4997-341e-4746-bd46-0e478ea88aec",
   "metadata": {
    "execution": {
     "iopub.execute_input": "2022-04-25T10:54:52.651618Z",
     "iopub.status.busy": "2022-04-25T10:54:52.651172Z",
     "iopub.status.idle": "2022-04-25T10:54:52.668487Z",
     "shell.execute_reply": "2022-04-25T10:54:52.667441Z",
     "shell.execute_reply.started": "2022-04-25T10:54:52.651571Z"
    },
    "tags": []
   },
   "outputs": [],
   "source": [
    "button = widgets.Button(description=\"Check\")"
   ]
  },
  {
   "cell_type": "code",
   "execution_count": null,
   "id": "02d515ae-f406-4785-a82b-ca13d2f700ab",
   "metadata": {},
   "outputs": [],
   "source": []
  },
  {
   "cell_type": "markdown",
   "id": "30fecd0c-d855-4dd5-87c5-e76c8d0096c9",
   "metadata": {},
   "source": [
    "## Dropdown"
   ]
  },
  {
   "cell_type": "code",
   "execution_count": 36,
   "id": "438bfa15-51fe-4612-b0ea-d756e98d4a00",
   "metadata": {
    "execution": {
     "iopub.execute_input": "2022-04-25T10:52:51.136646Z",
     "iopub.status.busy": "2022-04-25T10:52:51.135887Z",
     "iopub.status.idle": "2022-04-25T10:52:51.159552Z",
     "shell.execute_reply": "2022-04-25T10:52:51.158432Z",
     "shell.execute_reply.started": "2022-04-25T10:52:51.136574Z"
    }
   },
   "outputs": [
    {
     "data": {
      "application/vnd.jupyter.widget-view+json": {
       "model_id": "e6b875a8c2514b299da0b9911d76e58f",
       "version_major": 2,
       "version_minor": 0
      },
      "text/plain": [
       "Dropdown(description='Select Right Option', options=('A', 'B', 'C', 'D'), value='A')"
      ]
     },
     "metadata": {},
     "output_type": "display_data"
    }
   ],
   "source": [
    "widgets.Dropdown(options=[\"A\",\"B\",\"C\",\"D\"], description=\"Select Right Option\")"
   ]
  },
  {
   "cell_type": "markdown",
   "id": "888e93ad-dffd-45dc-9819-2d0f74f4eb33",
   "metadata": {},
   "source": [
    "## Textarea"
   ]
  },
  {
   "cell_type": "code",
   "execution_count": 37,
   "id": "dd772e9d-372a-4f53-907d-0df6ace89aed",
   "metadata": {
    "execution": {
     "iopub.execute_input": "2022-04-25T10:52:59.338479Z",
     "iopub.status.busy": "2022-04-25T10:52:59.337896Z",
     "iopub.status.idle": "2022-04-25T10:52:59.358619Z",
     "shell.execute_reply": "2022-04-25T10:52:59.357739Z",
     "shell.execute_reply.started": "2022-04-25T10:52:59.338432Z"
    }
   },
   "outputs": [
    {
     "data": {
      "application/vnd.jupyter.widget-view+json": {
       "model_id": "beee52a6a98f49fda36d00bf14715062",
       "version_major": 2,
       "version_minor": 0
      },
      "text/plain": [
       "Textarea(value='Please enter text here..')"
      ]
     },
     "metadata": {},
     "output_type": "display_data"
    }
   ],
   "source": [
    "widgets.Textarea(value=\"Please enter text here..\")"
   ]
  },
  {
   "cell_type": "code",
   "execution_count": null,
   "id": "00f27c64-54a1-43fb-bf51-b0417575f383",
   "metadata": {},
   "outputs": [],
   "source": []
  },
  {
   "cell_type": "code",
   "execution_count": null,
   "id": "2560e120-ab67-4165-9463-9a7deaddf4b0",
   "metadata": {},
   "outputs": [],
   "source": []
  },
  {
   "cell_type": "markdown",
   "id": "333e464b-be03-41cd-860c-b1ce110b5a5c",
   "metadata": {},
   "source": [
    "## XXX"
   ]
  },
  {
   "cell_type": "markdown",
   "id": "0cf29689-c549-45a2-9059-110a258d72d4",
   "metadata": {},
   "source": [
    "We can pass the above-created widgets as a parameter value to interact() and it'll use those widgets instead of creating widgets by itself. We can prevent the default behavior of interact() function this way and force it to use our designed widgets according to our needs."
   ]
  },
  {
   "cell_type": "code",
   "execution_count": 43,
   "id": "7fdc7876-69ed-42f4-8116-035de760a5ef",
   "metadata": {
    "execution": {
     "iopub.execute_input": "2022-04-25T13:25:43.534280Z",
     "iopub.status.busy": "2022-04-25T13:25:43.533777Z",
     "iopub.status.idle": "2022-04-25T13:25:43.573308Z",
     "shell.execute_reply": "2022-04-25T13:25:43.572375Z",
     "shell.execute_reply.started": "2022-04-25T13:25:43.534218Z"
    },
    "tags": []
   },
   "outputs": [
    {
     "data": {
      "application/vnd.jupyter.widget-view+json": {
       "model_id": "919fa9f74a9347eea456028d71aa5f19",
       "version_major": 2,
       "version_minor": 0
      },
      "text/plain": [
       "interactive(children=(IntSlider(value=25, description='Integer Slider', max=50, min=10, step=2), Output()), _d…"
      ]
     },
     "metadata": {},
     "output_type": "display_data"
    }
   ],
   "source": [
    "interact(func1, x= widgets.IntSlider(min=10, max=50, value=25, step=2, description=\"Integer Slider\"));"
   ]
  },
  {
   "cell_type": "code",
   "execution_count": 44,
   "id": "c9948277-e76e-4f91-9038-b5ed0ecbf9e2",
   "metadata": {
    "execution": {
     "iopub.execute_input": "2022-04-25T13:25:46.498460Z",
     "iopub.status.busy": "2022-04-25T13:25:46.497823Z",
     "iopub.status.idle": "2022-04-25T13:25:46.538883Z",
     "shell.execute_reply": "2022-04-25T13:25:46.537748Z",
     "shell.execute_reply.started": "2022-04-25T13:25:46.498408Z"
    }
   },
   "outputs": [
    {
     "data": {
      "application/vnd.jupyter.widget-view+json": {
       "model_id": "7703f59915c742189d735bc234086b77",
       "version_major": 2,
       "version_minor": 0
      },
      "text/plain": [
       "interactive(children=(FloatSlider(value=25.0, description='Float Slider', max=50.0, min=10.0, step=2.5), Outpu…"
      ]
     },
     "metadata": {},
     "output_type": "display_data"
    }
   ],
   "source": [
    "interact(func1, x= widgets.FloatSlider(min=10.0, max=50.0, value=25.0, step=2.5, description=\"Float Slider\"));"
   ]
  },
  {
   "cell_type": "code",
   "execution_count": null,
   "id": "5298920b-3f34-4b11-99d2-cda1c2e75053",
   "metadata": {},
   "outputs": [],
   "source": []
  },
  {
   "cell_type": "markdown",
   "id": "6d40c106-4de0-41e9-8f49-1f171c38f6f1",
   "metadata": {},
   "source": [
    "## interactive"
   ]
  },
  {
   "cell_type": "code",
   "execution_count": 46,
   "id": "ae4ad53a-bd61-421f-8512-0b644580697e",
   "metadata": {
    "execution": {
     "iopub.execute_input": "2022-04-25T13:28:19.107701Z",
     "iopub.status.busy": "2022-04-25T13:28:19.107167Z",
     "iopub.status.idle": "2022-04-25T13:28:19.155199Z",
     "shell.execute_reply": "2022-04-25T13:28:19.154177Z",
     "shell.execute_reply.started": "2022-04-25T13:28:19.107653Z"
    },
    "tags": []
   },
   "outputs": [
    {
     "data": {
      "application/vnd.jupyter.widget-view+json": {
       "model_id": "c6ed5bbe54ba42daa7d8298d41e036f5",
       "version_major": 2,
       "version_minor": 0
      },
      "text/plain": [
       "interactive(children=(IntSlider(value=25, description='a', max=50, min=10, step=2), IntSlider(value=25, descri…"
      ]
     },
     "metadata": {},
     "output_type": "display_data"
    }
   ],
   "source": [
    "from IPython.display import display\n",
    "\n",
    "def func3(a,b,c):\n",
    "    display((a+b)^c)\n",
    "\n",
    "w = widgets.interactive(func3,  a=widgets.IntSlider(min=10, max=50, value=25, step=2),\n",
    "                        b=widgets.IntSlider(min=10, max=50, value=25, step=2),\n",
    "                        c=widgets.IntSlider(min=10, max=50, value=25, step=2),\n",
    "                       )\n",
    "display(w)"
   ]
  },
  {
   "cell_type": "code",
   "execution_count": 47,
   "id": "1298e68d-cf7e-444b-a17b-448ffcaf6992",
   "metadata": {
    "execution": {
     "iopub.execute_input": "2022-04-25T13:29:45.598192Z",
     "iopub.status.busy": "2022-04-25T13:29:45.597239Z",
     "iopub.status.idle": "2022-04-25T13:29:45.611220Z",
     "shell.execute_reply": "2022-04-25T13:29:45.609618Z",
     "shell.execute_reply.started": "2022-04-25T13:29:45.598144Z"
    }
   },
   "outputs": [
    {
     "data": {
      "text/plain": [
       "(IntSlider(value=38, description='a', max=50, min=10, step=2),\n",
       " IntSlider(value=38, description='b', max=50, min=10, step=2),\n",
       " IntSlider(value=42, description='c', max=50, min=10, step=2),\n",
       " Output(outputs=({'output_type': 'display_data', 'data': {'text/plain': '102'}, 'metadata': {}},)))"
      ]
     },
     "execution_count": 47,
     "metadata": {},
     "output_type": "execute_result"
    }
   ],
   "source": [
    "w.children"
   ]
  },
  {
   "cell_type": "code",
   "execution_count": 48,
   "id": "cba450db-1d47-4795-b88e-485c9a79e00e",
   "metadata": {
    "execution": {
     "iopub.execute_input": "2022-04-25T13:29:51.405771Z",
     "iopub.status.busy": "2022-04-25T13:29:51.405258Z",
     "iopub.status.idle": "2022-04-25T13:29:51.413984Z",
     "shell.execute_reply": "2022-04-25T13:29:51.412583Z",
     "shell.execute_reply.started": "2022-04-25T13:29:51.405725Z"
    }
   },
   "outputs": [
    {
     "data": {
      "text/plain": [
       "{'a': 38, 'b': 38, 'c': 42}"
      ]
     },
     "execution_count": 48,
     "metadata": {},
     "output_type": "execute_result"
    }
   ],
   "source": [
    "w.kwargs"
   ]
  },
  {
   "cell_type": "code",
   "execution_count": 51,
   "id": "0700a3ed-d4ba-418e-baa9-caf871e3537e",
   "metadata": {
    "execution": {
     "iopub.execute_input": "2022-04-25T13:30:31.727990Z",
     "iopub.status.busy": "2022-04-25T13:30:31.727636Z",
     "iopub.status.idle": "2022-04-25T13:30:31.884760Z",
     "shell.execute_reply": "2022-04-25T13:30:31.884259Z",
     "shell.execute_reply.started": "2022-04-25T13:30:31.727964Z"
    },
    "tags": []
   },
   "outputs": [
    {
     "data": {
      "application/vnd.jupyter.widget-view+json": {
       "model_id": "088ed1ef056a4200b9cd484b23640ba8",
       "version_major": 2,
       "version_minor": 0
      },
      "text/plain": [
       "interactive(children=(FloatSlider(value=0.0, description='m', max=10.0, min=-10.0, step=0.5), FloatSlider(valu…"
      ]
     },
     "metadata": {},
     "output_type": "display_data"
    }
   ],
   "source": [
    "import matplotlib.pyplot as plt\n",
    "import numpy as np\n",
    "\n",
    "def plot(m,c):\n",
    "    x = np.random.rand(10)\n",
    "    y = m *x + c\n",
    "    plt.plot(x,y)\n",
    "    plt.show()\n",
    "\n",
    "widgets.interactive(plot, m=(-10,10, 0.5), c=(-5,5,0.5))"
   ]
  },
  {
   "cell_type": "code",
   "execution_count": null,
   "id": "ee62cdf0-52c5-42ad-b1cb-1e2a28219897",
   "metadata": {},
   "outputs": [],
   "source": []
  },
  {
   "cell_type": "markdown",
   "id": "9fd144b0-c048-4e5a-b977-26cb5971c163",
   "metadata": {},
   "source": [
    "## interactive_output"
   ]
  },
  {
   "cell_type": "markdown",
   "id": "8d49ce79-13ef-41f9-9426-20223ec3b012",
   "metadata": {},
   "source": [
    "interactive_output lets us layout widgets according to our need. interactive_output does not generate output UI but it lets us create UI, organize them in a box and pass them to it. This gives us more control over the layout of widgets."
   ]
  },
  {
   "cell_type": "code",
   "execution_count": 52,
   "id": "7f4f3f33-f8c8-4f34-b4ad-6cfbcd2b8445",
   "metadata": {
    "execution": {
     "iopub.execute_input": "2022-04-25T13:33:03.916967Z",
     "iopub.status.busy": "2022-04-25T13:33:03.916605Z",
     "iopub.status.idle": "2022-04-25T13:33:04.039463Z",
     "shell.execute_reply": "2022-04-25T13:33:04.038731Z",
     "shell.execute_reply.started": "2022-04-25T13:33:03.916940Z"
    }
   },
   "outputs": [
    {
     "data": {
      "application/vnd.jupyter.widget-view+json": {
       "model_id": "35049ec4496d4ebe82890649ad7539bc",
       "version_major": 2,
       "version_minor": 0
      },
      "text/plain": [
       "Output()"
      ]
     },
     "metadata": {},
     "output_type": "display_data"
    },
    {
     "data": {
      "application/vnd.jupyter.widget-view+json": {
       "model_id": "c5e4d6c2aee54b4a868c36dffb3ad6d6",
       "version_major": 2,
       "version_minor": 0
      },
      "text/plain": [
       "HBox(children=(FloatSlider(value=0.0, description='Slope', max=5.0, min=-5.0, step=0.5), FloatSlider(value=0.0…"
      ]
     },
     "metadata": {},
     "output_type": "display_data"
    }
   ],
   "source": [
    "m = widgets.FloatSlider(min=-5,max=5,step=0.5, description=\"Slope\")\n",
    "c = widgets.FloatSlider(min=-5,max=5,step=0.5, description=\"Intercept\")\n",
    "\n",
    "# An HBox lays out its children horizontally\n",
    "ui = widgets.HBox([m, c])\n",
    "\n",
    "def plot(m, c):\n",
    "    x = np.random.rand(10)\n",
    "    y = m *x + c\n",
    "    plt.plot(x,y)\n",
    "    plt.show()\n",
    "\n",
    "out = widgets.interactive_output(plot, {'m': m, 'c': c})\n",
    "\n",
    "display(out, ui)"
   ]
  },
  {
   "cell_type": "markdown",
   "id": "51657e1b-865e-49ea-99a6-954b67ee1688",
   "metadata": {},
   "source": [
    "The interactive object is of type VBox which is a container object of ipywidgets. VBox can layout various widgets according to vertical layout. We can access its children as well as arguments."
   ]
  },
  {
   "cell_type": "code",
   "execution_count": null,
   "id": "6cbeaa00-809f-4299-aa7f-77f926d8f92b",
   "metadata": {},
   "outputs": [],
   "source": []
  },
  {
   "cell_type": "code",
   "execution_count": 64,
   "id": "98bc2d37-aaaa-4cd2-bd22-93bcf4a571d8",
   "metadata": {
    "execution": {
     "iopub.execute_input": "2022-04-25T13:51:28.092290Z",
     "iopub.status.busy": "2022-04-25T13:51:28.091853Z",
     "iopub.status.idle": "2022-04-25T13:51:28.244783Z",
     "shell.execute_reply": "2022-04-25T13:51:28.244248Z",
     "shell.execute_reply.started": "2022-04-25T13:51:28.092252Z"
    },
    "tags": []
   },
   "outputs": [
    {
     "data": {
      "application/vnd.jupyter.widget-view+json": {
       "model_id": "ebe8aadd27094e938d53f1e611d62084",
       "version_major": 2,
       "version_minor": 0
      },
      "text/plain": [
       "interactive(children=(FloatSlider(value=0.0, description='a', max=5.0, min=-5.0, step=0.5), Dropdown(descripti…"
      ]
     },
     "metadata": {},
     "output_type": "display_data"
    }
   ],
   "source": [
    "x = np.array([1,2,3,4,5,6,7,8])\n",
    "def myfunc(a,b,c):\n",
    "    y = (x-1)**2+2\n",
    "    plt.scatter(x,y,c='k',lw=3,s=60)\n",
    "    r = (x-a)**b+c\n",
    "    cost = np.sum(r-y)\n",
    "    plt.plot(x,r,c='yellow')\n",
    "    plt.scatter(0,cost,c='blue')\n",
    "    plt.show()\n",
    "    return r\n",
    "\n",
    "myy = widgets.interactive(myfunc,a=(-5,5,0.5),b=[1,2,3,4,5],c=(-4,4,0.5))\n",
    "display(myy)"
   ]
  },
  {
   "cell_type": "code",
   "execution_count": 5,
   "id": "27bbf25c-877e-4b5a-bad4-f64c8b1f85b5",
   "metadata": {
    "execution": {
     "iopub.execute_input": "2022-04-25T14:00:50.147329Z",
     "iopub.status.busy": "2022-04-25T14:00:50.146883Z",
     "iopub.status.idle": "2022-04-25T14:00:50.185003Z",
     "shell.execute_reply": "2022-04-25T14:00:50.183508Z",
     "shell.execute_reply.started": "2022-04-25T14:00:50.147284Z"
    },
    "tags": []
   },
   "outputs": [
    {
     "ename": "ImportError",
     "evalue": "cannot import name 'dataframe' from 'pandas' (/home/jiangxing/anaconda3/envs/train/lib/python3.9/site-packages/pandas/__init__.py)",
     "output_type": "error",
     "traceback": [
      "\u001b[0;31m---------------------------------------------------------------------------\u001b[0m",
      "\u001b[0;31mImportError\u001b[0m                               Traceback (most recent call last)",
      "Input \u001b[0;32mIn [5]\u001b[0m, in \u001b[0;36m<cell line: 2>\u001b[0;34m()\u001b[0m\n\u001b[1;32m      1\u001b[0m \u001b[38;5;28;01mimport\u001b[39;00m \u001b[38;5;21;01mcufflinks\u001b[39;00m \u001b[38;5;28;01mas\u001b[39;00m \u001b[38;5;21;01mcf\u001b[39;00m\n\u001b[0;32m----> 2\u001b[0m \u001b[38;5;28;01mfrom\u001b[39;00m \u001b[38;5;21;01mpandas\u001b[39;00m \u001b[38;5;28;01mimport\u001b[39;00m dataframe \u001b[38;5;28;01mas\u001b[39;00m df\n\u001b[1;32m      4\u001b[0m \u001b[38;5;129m@interact\u001b[39m\n\u001b[1;32m      5\u001b[0m \u001b[38;5;28;01mdef\u001b[39;00m \u001b[38;5;21mscatter_plot\u001b[39m(x\u001b[38;5;241m=\u001b[39m\u001b[38;5;28mlist\u001b[39m(df\u001b[38;5;241m.\u001b[39mselect_dtypes(\u001b[38;5;124m'\u001b[39m\u001b[38;5;124mnumber\u001b[39m\u001b[38;5;124m'\u001b[39m)\u001b[38;5;241m.\u001b[39mcolumns), \n\u001b[1;32m      6\u001b[0m                  y\u001b[38;5;241m=\u001b[39m\u001b[38;5;28mlist\u001b[39m(df\u001b[38;5;241m.\u001b[39mselect_dtypes(\u001b[38;5;124m'\u001b[39m\u001b[38;5;124mnumber\u001b[39m\u001b[38;5;124m'\u001b[39m)\u001b[38;5;241m.\u001b[39mcolumns)[\u001b[38;5;241m1\u001b[39m:],\n\u001b[1;32m      7\u001b[0m                  theme\u001b[38;5;241m=\u001b[39m\u001b[38;5;28mlist\u001b[39m(cf\u001b[38;5;241m.\u001b[39mthemes\u001b[38;5;241m.\u001b[39mTHEMES\u001b[38;5;241m.\u001b[39mkeys()), \n\u001b[1;32m      8\u001b[0m                  colorscale\u001b[38;5;241m=\u001b[39m\u001b[38;5;28mlist\u001b[39m(cf\u001b[38;5;241m.\u001b[39mcolors\u001b[38;5;241m.\u001b[39m_scales_names\u001b[38;5;241m.\u001b[39mkeys())):\n\u001b[1;32m     10\u001b[0m     df\u001b[38;5;241m.\u001b[39miplot(kind\u001b[38;5;241m=\u001b[39m\u001b[38;5;124m'\u001b[39m\u001b[38;5;124mscatter\u001b[39m\u001b[38;5;124m'\u001b[39m, x\u001b[38;5;241m=\u001b[39mx, y\u001b[38;5;241m=\u001b[39my, mode\u001b[38;5;241m=\u001b[39m\u001b[38;5;124m'\u001b[39m\u001b[38;5;124mmarkers\u001b[39m\u001b[38;5;124m'\u001b[39m, \n\u001b[1;32m     11\u001b[0m              xTitle\u001b[38;5;241m=\u001b[39mx\u001b[38;5;241m.\u001b[39mtitle(), yTitle\u001b[38;5;241m=\u001b[39my\u001b[38;5;241m.\u001b[39mtitle(), \n\u001b[1;32m     12\u001b[0m              text\u001b[38;5;241m=\u001b[39m\u001b[38;5;124m'\u001b[39m\u001b[38;5;124mtitle\u001b[39m\u001b[38;5;124m'\u001b[39m,\n\u001b[1;32m     13\u001b[0m              title\u001b[38;5;241m=\u001b[39m\u001b[38;5;124mf\u001b[39m\u001b[38;5;124m'\u001b[39m\u001b[38;5;132;01m{\u001b[39;00my\u001b[38;5;241m.\u001b[39mtitle()\u001b[38;5;132;01m}\u001b[39;00m\u001b[38;5;124m vs \u001b[39m\u001b[38;5;132;01m{\u001b[39;00mx\u001b[38;5;241m.\u001b[39mtitle()\u001b[38;5;132;01m}\u001b[39;00m\u001b[38;5;124m'\u001b[39m,\n\u001b[1;32m     14\u001b[0m              theme\u001b[38;5;241m=\u001b[39mtheme, colorscale\u001b[38;5;241m=\u001b[39mcolorscale)\n",
      "\u001b[0;31mImportError\u001b[0m: cannot import name 'dataframe' from 'pandas' (/home/jiangxing/anaconda3/envs/train/lib/python3.9/site-packages/pandas/__init__.py)"
     ]
    }
   ],
   "source": [
    "import cufflinks as cf\n",
    "from pandas import dataframe as df\n",
    "\n",
    "@interact\n",
    "def scatter_plot(x=list(df.select_dtypes('number').columns), \n",
    "                 y=list(df.select_dtypes('number').columns)[1:],\n",
    "                 theme=list(cf.themes.THEMES.keys()), \n",
    "                 colorscale=list(cf.colors._scales_names.keys())):\n",
    "    \n",
    "    df.iplot(kind='scatter', x=x, y=y, mode='markers', \n",
    "             xTitle=x.title(), yTitle=y.title(), \n",
    "             text='title',\n",
    "             title=f'{y.title()} vs {x.title()}',\n",
    "             theme=theme, colorscale=colorscale)"
   ]
  },
  {
   "cell_type": "code",
   "execution_count": null,
   "id": "61b6b9f5-362a-4b59-b1bc-9326b0a066c9",
   "metadata": {},
   "outputs": [],
   "source": []
  },
  {
   "cell_type": "code",
   "execution_count": null,
   "id": "1b244be9-9b84-492d-9fb8-ae96946c4020",
   "metadata": {},
   "outputs": [],
   "source": []
  },
  {
   "cell_type": "code",
   "execution_count": null,
   "id": "5862c80c-9401-428c-868d-10d64e8c7fc0",
   "metadata": {},
   "outputs": [],
   "source": []
  },
  {
   "cell_type": "code",
   "execution_count": null,
   "id": "a33a0740-10ab-4f88-8e68-0f5d8033597f",
   "metadata": {},
   "outputs": [],
   "source": []
  },
  {
   "cell_type": "code",
   "execution_count": 38,
   "id": "29e122bb-6d31-4009-8506-2961dbd0b45c",
   "metadata": {
    "execution": {
     "iopub.execute_input": "2022-04-25T10:53:31.319464Z",
     "iopub.status.busy": "2022-04-25T10:53:31.318966Z",
     "iopub.status.idle": "2022-04-25T10:53:31.352146Z",
     "shell.execute_reply": "2022-04-25T10:53:31.351363Z",
     "shell.execute_reply.started": "2022-04-25T10:53:31.319422Z"
    }
   },
   "outputs": [
    {
     "data": {
      "application/vnd.jupyter.widget-view+json": {
       "model_id": "bf8f9a2e17d946a88416efdbd190129d",
       "version_major": 2,
       "version_minor": 0
      },
      "text/plain": [
       "interactive(children=(IntSlider(value=25, description='Integer Slider', max=50, min=10, step=2), Output()), _d…"
      ]
     },
     "metadata": {},
     "output_type": "display_data"
    }
   ],
   "source": [
    "interact(func1, x= widgets.IntSlider(min=10, max=50, value=25, step=2, description=\"Integer Slider\"));"
   ]
  },
  {
   "cell_type": "code",
   "execution_count": 15,
   "id": "e664dfeb-a38d-498a-974a-014ac636cfd3",
   "metadata": {
    "execution": {
     "iopub.execute_input": "2022-04-25T10:39:16.298597Z",
     "iopub.status.busy": "2022-04-25T10:39:16.298001Z",
     "iopub.status.idle": "2022-04-25T10:39:16.335922Z",
     "shell.execute_reply": "2022-04-25T10:39:16.334929Z",
     "shell.execute_reply.started": "2022-04-25T10:39:16.298547Z"
    }
   },
   "outputs": [
    {
     "ename": "NameError",
     "evalue": "name 'interactive' is not defined",
     "output_type": "error",
     "traceback": [
      "\u001b[0;31m---------------------------------------------------------------------------\u001b[0m",
      "\u001b[0;31mNameError\u001b[0m                                 Traceback (most recent call last)",
      "Input \u001b[0;32mIn [15]\u001b[0m, in \u001b[0;36m<cell line: 6>\u001b[0;34m()\u001b[0m\n\u001b[1;32m      3\u001b[0m \u001b[38;5;28;01mdef\u001b[39;00m \u001b[38;5;21mfunc3\u001b[39m(a,b,c):\n\u001b[1;32m      4\u001b[0m     display((a\u001b[38;5;241m+\u001b[39mb)\u001b[38;5;241m^\u001b[39mc)\n\u001b[0;32m----> 6\u001b[0m w \u001b[38;5;241m=\u001b[39m \u001b[43minteractive\u001b[49m(func3,  a\u001b[38;5;241m=\u001b[39mwidgets\u001b[38;5;241m.\u001b[39mIntSlider(\u001b[38;5;28mmin\u001b[39m\u001b[38;5;241m=\u001b[39m\u001b[38;5;241m10\u001b[39m, \u001b[38;5;28mmax\u001b[39m\u001b[38;5;241m=\u001b[39m\u001b[38;5;241m50\u001b[39m, value\u001b[38;5;241m=\u001b[39m\u001b[38;5;241m25\u001b[39m, step\u001b[38;5;241m=\u001b[39m\u001b[38;5;241m2\u001b[39m),\n\u001b[1;32m      7\u001b[0m                         b\u001b[38;5;241m=\u001b[39mwidgets\u001b[38;5;241m.\u001b[39mIntSlider(\u001b[38;5;28mmin\u001b[39m\u001b[38;5;241m=\u001b[39m\u001b[38;5;241m10\u001b[39m, \u001b[38;5;28mmax\u001b[39m\u001b[38;5;241m=\u001b[39m\u001b[38;5;241m50\u001b[39m, value\u001b[38;5;241m=\u001b[39m\u001b[38;5;241m25\u001b[39m, step\u001b[38;5;241m=\u001b[39m\u001b[38;5;241m2\u001b[39m),\n\u001b[1;32m      8\u001b[0m                         c\u001b[38;5;241m=\u001b[39mwidgets\u001b[38;5;241m.\u001b[39mIntSlider(\u001b[38;5;28mmin\u001b[39m\u001b[38;5;241m=\u001b[39m\u001b[38;5;241m10\u001b[39m, \u001b[38;5;28mmax\u001b[39m\u001b[38;5;241m=\u001b[39m\u001b[38;5;241m50\u001b[39m, value\u001b[38;5;241m=\u001b[39m\u001b[38;5;241m25\u001b[39m, step\u001b[38;5;241m=\u001b[39m\u001b[38;5;241m2\u001b[39m),\n\u001b[1;32m      9\u001b[0m                        )\n\u001b[1;32m     10\u001b[0m display(w)\n",
      "\u001b[0;31mNameError\u001b[0m: name 'interactive' is not defined"
     ]
    }
   ],
   "source": [
    "from IPython.display import display\n",
    "\n",
    "def func3(a,b,c):\n",
    "    display((a+b)^c)\n",
    "\n",
    "w = interactive(func3,  a=widgets.IntSlider(min=10, max=50, value=25, step=2),\n",
    "                        b=widgets.IntSlider(min=10, max=50, value=25, step=2),\n",
    "                        c=widgets.IntSlider(min=10, max=50, value=25, step=2),\n",
    "                       )\n",
    "display(w)"
   ]
  },
  {
   "cell_type": "code",
   "execution_count": null,
   "id": "124ef46f-eb71-42c3-b640-2e2834894954",
   "metadata": {},
   "outputs": [],
   "source": []
  },
  {
   "cell_type": "code",
   "execution_count": null,
   "id": "20529dd1-fa69-4167-98e0-cbdb9a97d09c",
   "metadata": {},
   "outputs": [],
   "source": []
  },
  {
   "cell_type": "code",
   "execution_count": 22,
   "id": "e7170dd7-cbfd-4abd-a483-ca6f52387bad",
   "metadata": {
    "execution": {
     "iopub.execute_input": "2022-05-18T04:12:12.494653Z",
     "iopub.status.busy": "2022-05-18T04:12:12.494154Z",
     "iopub.status.idle": "2022-05-18T04:12:12.689375Z",
     "shell.execute_reply": "2022-05-18T04:12:12.688994Z",
     "shell.execute_reply.started": "2022-05-18T04:12:12.494607Z"
    },
    "tags": []
   },
   "outputs": [
    {
     "data": {
      "text/plain": [
       "(-5.0, 5.0)"
      ]
     },
     "execution_count": 22,
     "metadata": {},
     "output_type": "execute_result"
    },
    {
     "data": {
      "application/vnd.jupyter.widget-view+json": {
       "model_id": "b38c369a599c482281f9cbdc4342711d",
       "version_major": 2,
       "version_minor": 0
      },
      "text/plain": [
       "interactive(children=(FloatSlider(value=0.0, description='m', max=2.0, min=-2.0), FloatSlider(value=0.0, descr…"
      ]
     },
     "metadata": {},
     "output_type": "display_data"
    },
    {
     "data": {
      "image/png": "[encoded data removed]",
      "text/plain": [
       "<Figure size 432x288 with 1 Axes>"
      ]
     },
     "metadata": {
      "needs_background": "light"
     },
     "output_type": "display_data"
    }
   ],
   "source": [
    "%matplotlib inline\n",
    "from ipywidgets import interactive\n",
    "import matplotlib.pyplot as plt\n",
    "import numpy as np\n",
    "\n",
    "fig, ax = plt.subplots()\n",
    "ax.set_ylim(-5, 5)\n",
    "\n",
    "\n",
    "def f(m, b):\n",
    "    global ax\n",
    "    plt.sca(ax)\n",
    "    ax.cla()\n",
    "    x = np.linspace(-10, 10, num=100)\n",
    "    ax.plot(x, m * x + b)\n",
    "    # fig.canvas.draw()\n",
    "    plt.show()\n",
    "\n",
    "\n",
    "interactive_plot = interactive(f, m=(-2.0, 2.0), b=(-3, 3, 0.5))\n",
    "output = interactive_plot.children[-1]\n",
    "output.layout.height = '350px'\n",
    "interactive_plot"
   ]
  },
  {
   "cell_type": "code",
   "execution_count": 5,
   "id": "cc46952d-83a5-46b8-a579-3f8d6031f813",
   "metadata": {
    "execution": {
     "iopub.execute_input": "2022-05-18T03:39:36.217101Z",
     "iopub.status.busy": "2022-05-18T03:39:36.216651Z",
     "iopub.status.idle": "2022-05-18T03:39:36.351150Z",
     "shell.execute_reply": "2022-05-18T03:39:36.350409Z",
     "shell.execute_reply.started": "2022-05-18T03:39:36.217055Z"
    }
   },
   "outputs": [
    {
     "data": {
      "application/vnd.jupyter.widget-view+json": {
       "model_id": "1d701a71cbc042969529cbe0a93addc1",
       "version_major": 2,
       "version_minor": 0
      },
      "text/plain": [
       "interactive(children=(FloatSlider(value=0.0, description='m', max=2.0, min=-2.0), FloatSlider(value=0.0, descr…"
      ]
     },
     "metadata": {},
     "output_type": "display_data"
    }
   ],
   "source": [
    "%matplotlib inline\n",
    "from ipywidgets import interactive\n",
    "import matplotlib.pyplot as plt\n",
    "import numpy as np\n",
    "\n",
    "def f(m, b):\n",
    "    plt.figure(2)\n",
    "    x = np.linspace(-10, 10, num=1000)\n",
    "    plt.plot(x, m * x + b)\n",
    "    plt.ylim(-5, 5)\n",
    "    plt.show()\n",
    "\n",
    "interactive_plot = interactive(f, m=(-2.0, 2.0), b=(-3, 3, 0.5))\n",
    "output = interactive_plot.children[-1]\n",
    "output.layout.height = '350px'\n",
    "interactive_plot"
   ]
  },
  {
   "cell_type": "code",
   "execution_count": 37,
   "id": "98f45d91-f7d5-43e9-9c44-f026e2cfd2d7",
   "metadata": {
    "execution": {
     "iopub.execute_input": "2022-05-18T04:29:44.205598Z",
     "iopub.status.busy": "2022-05-18T04:29:44.204741Z",
     "iopub.status.idle": "2022-05-18T04:29:44.545364Z",
     "shell.execute_reply": "2022-05-18T04:29:44.544786Z",
     "shell.execute_reply.started": "2022-05-18T04:29:44.205453Z"
    },
    "tags": []
   },
   "outputs": [
    {
     "data": {
      "application/vnd.jupyter.widget-view+json": {
       "model_id": "52bcf2c603954da3b97fd9edebb3ea3c",
       "version_major": 2,
       "version_minor": 0
      },
      "text/plain": [
       "interactive(children=(FloatSlider(value=0.0, description='m', max=2.0, min=-2.0), FloatSlider(value=0.0, descr…"
      ]
     },
     "metadata": {},
     "output_type": "display_data"
    },
    {
     "data": {
      "image/png": "[encoded data removed]",
      "text/plain": [
       "<Figure size 432x288 with 1 Axes>"
      ]
     },
     "metadata": {
      "needs_background": "light"
     },
     "output_type": "display_data"
    }
   ],
   "source": [
    "%matplotlib inline\n",
    "from ipywidgets import interactive\n",
    "import matplotlib.pyplot as plt\n",
    "import numpy as np\n",
    "\n",
    "# fig, axes = plt.subplots(nrows=1, ncols=1, figsize=(8, 8))\n",
    "# fig, axes = plt.subplots(nrows=1, ncols=1)\n",
    "# fig, axes = plt.subplots()\n",
    "fig = plt.gcf()\n",
    "axes = fig.add_subplot()\n",
    "\n",
    "\n",
    "def f(m, b):\n",
    "    global axes\n",
    "    plt.sca(axes)  # ******** 如果不进行选择画在哪个axis上，则不能显示话出来的内容 ********\n",
    "    axes.clear()  # 如果去掉，则在原图上一直累加显示\n",
    "    x = np.linspace(-10, 10, num=1000)\n",
    "    axes.plot(x, m * x + b)\n",
    "    axes.set_ylim(-5, 5)\n",
    "    # plt.show()  # 要不要都没关系\n",
    "    # fig.canvas.draw()  # 要不要都没关系\n",
    "\n",
    "\n",
    "interactive_plot = interactive(f, m=(-2.0, 2.0), b=(-3, 3, 0.5))\n",
    "# output = interactive_plot.children[-1]\n",
    "# output.layout.height = '350px'\n",
    "interactive_plot"
   ]
  },
  {
   "cell_type": "code",
   "execution_count": null,
   "id": "98131741-672e-4180-8a1a-f93f7e1d26dc",
   "metadata": {},
   "outputs": [],
   "source": []
  }
 ],
 "metadata": {
  "kernelspec": {
   "display_name": "train",
   "language": "python",
   "name": "train"
  },
  "language_info": {
   "codemirror_mode": {
    "name": "ipython",
    "version": 3
   },
   "file_extension": ".py",
   "mimetype": "text/x-python",
   "name": "python",
   "nbconvert_exporter": "python",
   "pygments_lexer": "ipython3",
   "version": "3.9.0"
  },
  "widgets": {
   "application/vnd.jupyter.widget-state+json": {
    "state": {
     "016e0169d963488881bb60da6aa2063d": {
      "model_module": "@jupyter-widgets/base",
      "model_module_version": "1.2.0",
      "model_name": "LayoutModel",
      "state": {}
     },
     "031283f0bdf3443fa2f0f4ca54c63547": {
      "model_module": "@jupyter-widgets/base",
      "model_module_version": "1.2.0",
      "model_name": "LayoutModel",
      "state": {
       "height": "350px"
      }
     },
     "03fcfd8464e6499989a2a9470766e2cb": {
      "model_module": "@jupyter-widgets/base",
      "model_module_version": "1.2.0",
      "model_name": "LayoutModel",
      "state": {}
     },
     "0408747ec1b646bc8bc52c6d6ca9c28c": {
      "model_module": "@jupyter-widgets/output",
      "model_module_version": "1.0.0",
      "model_name": "OutputModel",
      "state": {
       "layout": "IPY_MODEL_a48a3f0cd70c4b5fafd7927960da9592",
       "outputs": [
        {
         "ename": "NameError",
         "evalue": "name 'plg' is not defined",
         "output_type": "error",
         "traceback": [
          "\u001b[0;31m---------------------------------------------------------------------------\u001b[0m",
          "\u001b[0;31mNameError\u001b[0m                                 Traceback (most recent call last)",
          "File \u001b[0;32m~/anaconda3/envs/train/lib/python3.9/site-packages/ipywidgets/widgets/interaction.py:257\u001b[0m, in \u001b[0;36minteractive.update\u001b[0;34m(self, *args)\u001b[0m\n\u001b[1;32m    255\u001b[0m     value \u001b[38;5;241m=\u001b[39m widget\u001b[38;5;241m.\u001b[39mget_interact_value()\n\u001b[1;32m    256\u001b[0m     \u001b[38;5;28mself\u001b[39m\u001b[38;5;241m.\u001b[39mkwargs[widget\u001b[38;5;241m.\u001b[39m_kwarg] \u001b[38;5;241m=\u001b[39m value\n\u001b[0;32m--> 257\u001b[0m \u001b[38;5;28mself\u001b[39m\u001b[38;5;241m.\u001b[39mresult \u001b[38;5;241m=\u001b[39m \u001b[38;5;28;43mself\u001b[39;49m\u001b[38;5;241;43m.\u001b[39;49m\u001b[43mf\u001b[49m\u001b[43m(\u001b[49m\u001b[38;5;241;43m*\u001b[39;49m\u001b[38;5;241;43m*\u001b[39;49m\u001b[38;5;28;43mself\u001b[39;49m\u001b[38;5;241;43m.\u001b[39;49m\u001b[43mkwargs\u001b[49m\u001b[43m)\u001b[49m\n\u001b[1;32m    258\u001b[0m show_inline_matplotlib_plots()\n\u001b[1;32m    259\u001b[0m \u001b[38;5;28;01mif\u001b[39;00m \u001b[38;5;28mself\u001b[39m\u001b[38;5;241m.\u001b[39mauto_display \u001b[38;5;129;01mand\u001b[39;00m \u001b[38;5;28mself\u001b[39m\u001b[38;5;241m.\u001b[39mresult \u001b[38;5;129;01mis\u001b[39;00m \u001b[38;5;129;01mnot\u001b[39;00m \u001b[38;5;28;01mNone\u001b[39;00m:\n",
          "Input \u001b[0;32mIn [16]\u001b[0m, in \u001b[0;36mf\u001b[0;34m(m, b)\u001b[0m\n\u001b[1;32m     11\u001b[0m \u001b[38;5;28;01mdef\u001b[39;00m \u001b[38;5;21mf\u001b[39m(m, b):\n\u001b[1;32m     12\u001b[0m     \u001b[38;5;28;01mglobal\u001b[39;00m axes\n\u001b[0;32m---> 13\u001b[0m     \u001b[43mplg\u001b[49m\u001b[38;5;241m.\u001b[39mgcf()\n\u001b[1;32m     14\u001b[0m     plt\u001b[38;5;241m.\u001b[39msca(axes)  \u001b[38;5;66;03m# ******** 如果不进行选择画在哪个axis上，则不能显示话出来的内容 ********\u001b[39;00m\n\u001b[1;32m     15\u001b[0m     axes\u001b[38;5;241m.\u001b[39mclear()  \u001b[38;5;66;03m# 如果去掉，则在原图上一直累加显示\u001b[39;00m\n",
          "\u001b[0;31mNameError\u001b[0m: name 'plg' is not defined"
         ]
        }
       ]
      }
     },
     "0437cc657f8748e78f8e783cd36fd048": {
      "model_module": "@jupyter-widgets/controls",
      "model_module_version": "1.5.0",
      "model_name": "VBoxModel",
      "state": {
       "_dom_classes": [
        "widget-interact"
       ],
       "children": [
        "IPY_MODEL_56c7e72f7bbe4a5aa979c2d69c7eb89e",
        "IPY_MODEL_d21c945f696848e0b903f6f08148459b",
        "IPY_MODEL_b28e1a6c617643a0a4c9459379ca51a8"
       ],
       "layout": "IPY_MODEL_228efe3c63c747c9b6b32f2bcb80af46"
      }
     },
     "06a2e02a37754c44bd58eea4ed6fe793": {
      "model_module": "@jupyter-widgets/output",
      "model_module_version": "1.0.0",
      "model_name": "OutputModel",
      "state": {
       "layout": "IPY_MODEL_a168d1e93ff2425bbf178ba15356cd35",
       "outputs": [
        {
         "data": {
          "image/png": "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\n",
          "text/plain": "<Figure size 432x288 with 1 Axes>"
         },
         "metadata": {
          "needs_background": "light"
         },
         "output_type": "display_data"
        }
       ]
      }
     },
     "0770e78b02d9464d8210bacc0d1ccf5f": {
      "model_module": "@jupyter-widgets/base",
      "model_module_version": "1.2.0",
      "model_name": "LayoutModel",
      "state": {}
     },
     "07828fd7a58a4770bfee85a3d6165ed6": {
      "model_module": "@jupyter-widgets/controls",
      "model_module_version": "1.5.0",
      "model_name": "SliderStyleModel",
      "state": {
       "description_width": ""
      }
     },
     "0787c6c26bff42e4b1834337811c8c2d": {
      "model_module": "@jupyter-widgets/controls",
      "model_module_version": "1.5.0",
      "model_name": "FloatSliderModel",
      "state": {
       "description": "b",
       "layout": "IPY_MODEL_a360a1e47bc24114b6da8d23330e0a29",
       "max": 3,
       "min": -3,
       "step": 0.5,
       "style": "IPY_MODEL_90332fc809cb4b16878a1224a7d835b1"
      }
     },
     "07ab32b210754825b57b3249aa29d320": {
      "model_module": "@jupyter-widgets/output",
      "model_module_version": "1.0.0",
      "model_name": "OutputModel",
      "state": {
       "layout": "IPY_MODEL_ecd2fd11c3f84b0eb99f1eace38b7d72",
       "outputs": [
        {
         "data": {
          "image/png": "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\n",
          "text/plain": "<Figure size 432x288 with 1 Axes>"
         },
         "metadata": {
          "needs_background": "light"
         },
         "output_type": "display_data"
        }
       ]
      }
     },
     "08e96c637220408daeee744b5dc6b7e6": {
      "model_module": "@jupyter-widgets/base",
      "model_module_version": "1.2.0",
      "model_name": "LayoutModel",
      "state": {
       "height": "350px"
      }
     },
     "0945c1f5ef884d949951f21d4ee80bc4": {
      "model_module": "@jupyter-widgets/base",
      "model_module_version": "1.2.0",
      "model_name": "LayoutModel",
      "state": {}
     },
     "099b16751e4048cb9e00ccd2ecbd5022": {
      "model_module": "@jupyter-widgets/base",
      "model_module_version": "1.2.0",
      "model_name": "LayoutModel",
      "state": {}
     },
     "099e9bfd27d640d68a5268cb8c187ed1": {
      "model_module": "@jupyter-widgets/base",
      "model_module_version": "1.2.0",
      "model_name": "LayoutModel",
      "state": {}
     },
     "09ea7312ecc64bed89005912216bb6df": {
      "model_module": "@jupyter-widgets/base",
      "model_module_version": "1.2.0",
      "model_name": "LayoutModel",
      "state": {}
     },
     "0a19f150c7f748bd8c1042083d27be2d": {
      "model_module": "@jupyter-widgets/controls",
      "model_module_version": "1.5.0",
      "model_name": "SliderStyleModel",
      "state": {
       "description_width": ""
      }
     },
     "0a38ad98da57497d92288bc8143cf4c6": {
      "model_module": "@jupyter-widgets/base",
      "model_module_version": "1.2.0",
      "model_name": "LayoutModel",
      "state": {}
     },
     "0d06ffa23579430d9d0740625116f306": {
      "model_module": "@jupyter-widgets/base",
      "model_module_version": "1.2.0",
      "model_name": "LayoutModel",
      "state": {
       "height": "350px"
      }
     },
     "0ebcce0448f84c488111a683d823c98b": {
      "model_module": "@jupyter-widgets/controls",
      "model_module_version": "1.5.0",
      "model_name": "FloatSliderModel",
      "state": {
       "description": "b",
       "layout": "IPY_MODEL_863cd9727cff41c1ab367fbdb79423f7",
       "max": 3,
       "min": -3,
       "step": 0.5,
       "style": "IPY_MODEL_5d5be612ed4e41c89de0eba782e9a757"
      }
     },
     "0f97dd887084455ab965a2806effd858": {
      "model_module": "@jupyter-widgets/controls",
      "model_module_version": "1.5.0",
      "model_name": "FloatSliderModel",
      "state": {
       "description": "m",
       "layout": "IPY_MODEL_41a2ae85bb83424983dbbf51241e85b7",
       "max": 2,
       "min": -2,
       "step": 0.1,
       "style": "IPY_MODEL_26f65bfc24d34af39fd9e7b3f5a7bcfa"
      }
     },
     "0fd10957ca45437f8161746fc805eff5": {
      "model_module": "@jupyter-widgets/controls",
      "model_module_version": "1.5.0",
      "model_name": "SliderStyleModel",
      "state": {
       "description_width": ""
      }
     },
     "10d2d0d5aed7401c811814f3a08a2bae": {
      "model_module": "@jupyter-widgets/output",
      "model_module_version": "1.0.0",
      "model_name": "OutputModel",
      "state": {
       "layout": "IPY_MODEL_7cdcca89148240379713ab2eecfb570d",
       "outputs": [
        {
         "data": {
          "image/png": "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\n",
          "text/plain": "<Figure size 432x288 with 1 Axes>"
         },
         "metadata": {
          "needs_background": "light"
         },
         "output_type": "display_data"
        }
       ]
      }
     },
     "11798ff3627a4ec986428f22b229c4ac": {
      "model_module": "@jupyter-widgets/controls",
      "model_module_version": "1.5.0",
      "model_name": "FloatSliderModel",
      "state": {
       "description": "b",
       "layout": "IPY_MODEL_f248e3ace382420397caf310ae1feb3f",
       "max": 3,
       "min": -3,
       "step": 0.5,
       "style": "IPY_MODEL_5e48313fec8345578ea5c7faca20b7c9"
      }
     },
     "11c6d3b89a1648b6ba47f31bd6724944": {
      "model_module": "@jupyter-widgets/base",
      "model_module_version": "1.2.0",
      "model_name": "LayoutModel",
      "state": {}
     },
     "12fde1d7e29f4f33b2e3bd4f4e8e7178": {
      "model_module": "@jupyter-widgets/base",
      "model_module_version": "1.2.0",
      "model_name": "LayoutModel",
      "state": {}
     },
     "1363ed65910c4870824fafcab0b090ec": {
      "model_module": "@jupyter-widgets/controls",
      "model_module_version": "1.5.0",
      "model_name": "SliderStyleModel",
      "state": {
       "description_width": ""
      }
     },
     "13f5f85bd8ed4a46895edf15f667ad28": {
      "model_module": "@jupyter-widgets/controls",
      "model_module_version": "1.5.0",
      "model_name": "SliderStyleModel",
      "state": {
       "description_width": ""
      }
     },
     "13f6fe2bc8eb44d78b15228fb3bbe874": {
      "model_module": "@jupyter-widgets/controls",
      "model_module_version": "1.5.0",
      "model_name": "SliderStyleModel",
      "state": {
       "description_width": ""
      }
     },
     "14e29899950c4ed79029a1cac42ea5e1": {
      "model_module": "@jupyter-widgets/base",
      "model_module_version": "1.2.0",
      "model_name": "LayoutModel",
      "state": {}
     },
     "15264dfac36e4dbdb5f0cdabac1be1b1": {
      "model_module": "@jupyter-widgets/base",
      "model_module_version": "1.2.0",
      "model_name": "LayoutModel",
      "state": {}
     },
     "16b4a947df1a42529dc7478ff5e64394": {
      "model_module": "@jupyter-widgets/base",
      "model_module_version": "1.2.0",
      "model_name": "LayoutModel",
      "state": {}
     },
     "16f84c7421ba4e4f8b8576e2a32aa5f2": {
      "model_module": "@jupyter-widgets/base",
      "model_module_version": "1.2.0",
      "model_name": "LayoutModel",
      "state": {
       "height": "350px"
      }
     },
     "1716858afcf64063a516abc11379b95f": {
      "model_module": "@jupyter-widgets/base",
      "model_module_version": "1.2.0",
      "model_name": "LayoutModel",
      "state": {}
     },
     "174f1c19ac234eac84c201f06749f7a7": {
      "model_module": "@jupyter-widgets/controls",
      "model_module_version": "1.5.0",
      "model_name": "FloatSliderModel",
      "state": {
       "description": "b",
       "layout": "IPY_MODEL_24b16ed5ae504e0fb102b38fb857884a",
       "max": 3,
       "min": -3,
       "step": 0.5,
       "style": "IPY_MODEL_e2ff2e9cfc654e1c863f394ab9fdacf4"
      }
     },
     "17795f09c9d64d0eab6a1d07b6d2884b": {
      "model_module": "@jupyter-widgets/output",
      "model_module_version": "1.0.0",
      "model_name": "OutputModel",
      "state": {
       "layout": "IPY_MODEL_f4412b9d28834b4b9c605a46381fb39b"
      }
     },
     "17acf5c90de5443ca6e0ec84346243a3": {
      "model_module": "@jupyter-widgets/base",
      "model_module_version": "1.2.0",
      "model_name": "LayoutModel",
      "state": {}
     },
     "18284a58c907459197d45b6aa62b932a": {
      "model_module": "@jupyter-widgets/output",
      "model_module_version": "1.0.0",
      "model_name": "OutputModel",
      "state": {
       "layout": "IPY_MODEL_c51aa8238ec34157a24a48d8031f6cea",
       "outputs": [
        {
         "data": {
          "image/png": "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\n",
          "text/plain": "<Figure size 432x288 with 1 Axes>"
         },
         "metadata": {
          "needs_background": "light"
         },
         "output_type": "display_data"
        }
       ]
      }
     },
     "1926f3698e5a4384afca463b7651d337": {
      "model_module": "@jupyter-widgets/controls",
      "model_module_version": "1.5.0",
      "model_name": "FloatSliderModel",
      "state": {
       "description": "m",
       "layout": "IPY_MODEL_855a1bde9af9450d8fc4466b03cc5324",
       "max": 2,
       "min": -2,
       "step": 0.1,
       "style": "IPY_MODEL_8dd3e9681922479ab1cc3df556d624f9"
      }
     },
     "196a3a7197cc4c4ca3275af899052c64": {
      "model_module": "@jupyter-widgets/output",
      "model_module_version": "1.0.0",
      "model_name": "OutputModel",
      "state": {
       "layout": "IPY_MODEL_fedf8e9f34d14860a934f54576dab594",
       "outputs": [
        {
         "data": {
          "image/png": "iVBORw0KGgoAAAANSUhEUgAAAXIAAAD4CAYAAADxeG0DAAAAOXRFWHRTb2Z0d2FyZQBNYXRwbG90bGliIHZlcnNpb24zLjUuMSwgaHR0cHM6Ly9tYXRwbG90bGliLm9yZy/YYfK9AAAACXBIWXMAAAsTAAALEwEAmpwYAAATzklEQVR4nO3de5CV9X3H8c9XQEyVeAkLWgFXxRoBMxNcUWvT4CUKNiOpmXY0MXXGzlAvmehMM4KSZlSSmjSJmk5zKRGqbZ2aGliiaCZCYuIlMc2C3G8ioCyiLCQql2Rl4ds/znP0sJ6ze86e5/68XzM77J5z9nm++5zdD799zvMBc3cBALLriKQHAAA0hyAHgIwjyAEg4whyAMg4ghwAMm5wEjsdPny4t7a2JrFroJD2/PGAtu7er5HDjtKIDw5NehwM0NKlS3e5e0vv2xMJ8tbWVnV0dCSxa6Bw9nb36LJ7f6kxQwfriS98TEcO5hfxrDKzV6rdnkiQA4jPN3+6QTve/qN+dMMFhHhO8awCOfbiq7/XQ7/eqmvPO0XnnHJC0uMgIgQ5kFMHDh7S7QtWaeSwo3TblDOTHgcR4tQKkFNzntms9a/v0ZzPnaNhRw1JehxEiBU5kEObu/bq2z97SVMnnKjLxp+Y9DiIGEEO5Iy76472VRo6+AjddeX4pMdBDAhyIGce7ejUC5t/p9unnqURHzwq6XEQA4IcyJGuPd366pPrNKn1BF197uikx0FMCHIgR+56fI3+8M5B/fNVZ+uIIyzpcRATghzIiZ+vf0OLVu7QzReN1dgRxyQ9DmJEkAM5sLe7R19qX60zRhyjGyefnvQ4iBnXkQM5QA2/2HjGgYyjhg+CHMgwaviQOLUCZBo1fEisyIHM2rJrHzV8SCLIgUxyd92xoFTDv5MafuGFFuRmNsjMXjSzRWFtE0B1j3Z06tebd2vm1A9rJDX8wgtzRX6LpHUhbg9AFZU1/GvOHZP0OEiBUILczEZJ+itJD4SxPQC1UcNHb2GtyO+XdJukQ7UeYGbTzazDzDq6urpC2i1QLNTwUU3TQW5mn5S0092X9vU4d5/j7m3u3tbS0tLsboHCoYaPWsJYkV8o6Uoz2yrpEUkXm9l/h7BdABXKNfyvffpsavg4TNPfDe5+u7uPcvdWSVdL+rm7X9v0ZADetXzbm9TwURN/rQMpd+DgIc2cv5IaPmoKtaLv7r+Q9IswtwkUXbmG/+/U8FEDK3Igxco1/CnjT9Tl1PBRA0EOpFRlDf+uadTwURtBDqQUNXzUiyAHUogaPhpBkAMpRA0fjSDIgZShho9GEeRAiuzr7tE/LVxDDR8N4b96A1Lkm09t0PY3/6Af3XABNXzUje8UICWWb3tTD/5qq649f4zaWqnho34EOZAC5Rr+iGFDdduUDyc9DjKGUytAClTW8D9IDR8NYkUOJIwaPppFkAMJooaPMBDkQIIeXUoNH80jyIGEdO3p1lefoIaP5hHkQELuXrQ2qOFPoIaPphDkQAKeXr9Tj694TTdddLrGjhiW9DjIOIIciNm+7h59aeFqjaWGj5BwHTkQs8oa/tDBg5IeBznAihyIETV8RIEgB2JCDR9R4dQKEBNq+IgKK3IgBtTwESWCHIiYu2tWOzV8RIcgByL26NJO/eplaviIDkEORKhcwz+39Xhq+IgMQQ5EqFzDv+eqs6nhIzIEORARaviIC0EORIAaPuLEdeRABKjhI06syIGQUcNH3AhyIETU8JEETq0AIfrBs9TwET9W5EBItu7ap28voYaP+DUd5GY22syeNrN1ZrbGzG4JYzAgS9xdd7Sv0pGDqOEjfmGsyHsk/aO7nyXpfEk3m9m4ELYLZEa5hj+DGj4S0HSQu/sOd18WvL9H0jpJJze7XSArKmv4n5lEDR/xC/UcuZm1SvqopN+EuV0gzajhI2mhBbmZHSNpvqRb3f3tKvdPN7MOM+vo6uoKa7dAoqjhIw1CCXIzG6JSiD/s7guqPcbd57h7m7u3tbS0hLFbIFHU8JEWTV9HbmYmaa6kde5+b/MjAdnwrac2UsNHKoSxIr9Q0uckXWxmy4O3K0LYLpBaK7a9qQd/tYUaPlKh6RW5uz8niVd4UBgHDh7SjPkr1UINHylBRR9oULmG//1rqeEjHajoAw0o1/AvHz9SUyZQw0c6EORAnSpr+HdPm5D0OMC7CHKgTtTwkVYEOVCHXXup4SO9CHKgDnc/Tg0f6UWQA/14esNOPUYNHylGkAN92Nfdoy+1U8NHunEdOdCHcg3/UWr4SDFW5EAN5Rr+Z88bo3Op4SPFCHKgisoa/oyp1PCRbpxaAaqgho8sYUUO9EINH1lDkAMV3F2zFlLDR7YQ5ECFHy3t1PObqOEjWwhyILBrb7e++iQ1fGQPQQ4E7n58rfZ191DDR+YQ5IAqaviTx1LDR+YQ5Ci8yhr+TRdRw0f2cB05Co8aPrKOFTkKjRo+8oAgR2EdOHhIMxesooaPzOPUCgrrgWe3aN2Ot6nhI/NYkaOQtu7ap/uXbKSGj1wgyFE4lTX8u66kho/sI8hROOUa/m1TP6wTj6WGj+wjyFEo5Rp+2ynH67PU8JETBDkKhRo+8oggR2FU1vDPGEkNH/lBkKMQqOEjz7iOHIVw72Jq+MgvVuTIvRXb3tR/PE8NH/lFkCPXqOGjCDi1glyjho8iYEWO3CrX8C8bRw0f+RZKkJvZFDPbYGabzGxmGNsEmlFZw797GjV85FvTQW5mgyR9R9JUSeMkXWNm45rdLtAMavgokjBW5JMkbXL3ze7+jqRHJE0LYbvAgFDDR9GEEeQnS9pW8XFncNthzGy6mXWYWUdXV1cIuwWqm72IGj6KJYwgr/aT4u+7wX2Ou7e5e1tLS0sIuwXe7+kNO/Xj5dTwUSxhBHmnpNEVH4+S9FoI2wUaQg0fRRVGkP9W0hlmdqqZHSnpakmPhbBdoCHlGv49V51NDR+F0nQhyN17zOzzkn4qaZCkee6+punJgAZQw0eRhdLsdPcnJT0ZxraARpVr+MOPoYaPYqKij8x7r4Y/kRo+ComKPjLt8Br+SUmPAySCIEdmUcMHSghyZNb8Zdup4QMiyJFRu/Z26ytPrKWGD4ggR0ZRwwfeQ5Ajc6jhA4cjyJEp5Rr+6S1HU8MHAlxHjkwp1/AfveECavhAgBU5MqNcw/8MNXzgMAQ5MqGyhj+TGj5wGE6tIBPmPkcNH6iFFTlS75Xd+3TfYmr4QC0EOVLN3XVHOzV8oC8EOVKNGj7QP4IcqVWu4Z9DDR/oE0GO1CrX8L9GDR/oE0GOVCrX8G+khg/0iyBH6lTW8G+mhg/0i+vIkTr3UcMHGsKKHKmysvNNzaOGDzSEIEdqHDh4SDPnU8MHGsWpFaTG3Oe2aC01fKBhrMiRCtTwgYEjyJG4cg1/CDV8YEAIciSuXMOfMeVMavjAABDkSNRhNfzzTkl6HCCTCHIk6ivU8IGmEeRIzC83dmkhNXygaQQ5ErH/nR7Nal9FDR8IAdeRIxH3PrVRnb+nhg+EgRU5YkcNHwgXQY5YUcMHwsepFcSKGj4QvqZW5Gb2DTNbb2YrzazdzI4LaS7kULmG/4lxI3X5+BOTHgfIjWZPrSyWNMHdPyJpo6Tbmx8JeeTumtW+WkMGHaHZ0ybIjGvGgbA0FeTu/pS79wQfviBpVPMjIY8WLNuu5zbtooYPRCDMFzuvl/STELeHnNhNDR+IVL8vdprZEknVTmjOcvcfB4+ZJalH0sN9bGe6pOmSNGbMmAENi2yavWit9lLDByLTb5C7+6V93W9m10n6pKRL3N372M4cSXMkqa2trebjkC/lGv4XLjmDGj4QkaYuPzSzKZJmSPq4u+8PZyTkBTV8IB7NXkf+b5KGSlocXIXwgrvf0PRUyIVyDf9//4EaPhClpoLc3ceGNQjypVzDv2bSGE06lRo+ECUq+ggdNXwgXlT0Ebp5QQ3/e5+dqGM/QA0fiBorcoTq1d37dd+SUg1/ygRq+EAcCHKExt11R/sqDT6CGj4QJ4IcoaGGDySDIEcoqOEDySHIEQpq+EByCHI0rVzDv3HyWGr4QAIIcjSlXMM/reVo3TSZGj6QBK4jR1PuW/xeDf+oIdTwgSSwIseArep8S3Ofo4YPJI0gx4D0HDykmQtWUsMHUoBTKxiQuc9t0ZrXqOEDacCKHA2jhg+kC0GOhlDDB9KHIEdDqOED6UOQo27U8IF0IshRt3IN/x5q+ECqEOSoy7s1/I+frj+jhg+kCkGOfh1Ww7+I/6YVSBuuI0e/qOED6caKHH2ihg+kH0GOmqjhA9nAqRXURA0fyAZW5KiKGj6QHQQ53qeyhn/3tPHU8IGUI8jxPu0vlmr4t005Uycd+4GkxwHQD4Ich9m9t1uzF63VxDHH6Vpq+EAmEOQ4zFeeWKe93T362qc/Qg0fyAiCHO/65cYutb+4nRo+kDEEOSRRwweyjOvIIYkaPpBlrMhBDR/IOIK84Mo1/A9Rwwcyi1MrBTfv+VIN/7vU8IHMCmVFbmZfNDM3s+FhbA/xeHX3ft27eKMuPWukplLDBzKr6SA3s9GSPiHp1ebHQVzcXbMWlmr4sz9FDR/IsjBW5PdJuk2Sh7AtxKT9xe169iVq+EAeNBXkZnalpO3uvqKOx043sw4z6+jq6mpmt2gSNXwgX/p9sdPMlkiqdgJ1lqQ7JF1Wz47cfY6kOZLU1tbG6j1B1PCBfOk3yN390mq3m9nZkk6VtCI4vzpK0jIzm+Tur4c6JUJTruF/4eKx1PCBnBjw5YfuvkrSiPLHZrZVUpu77wphLkSAGj6QT1xHXiDlGv4Pp59PDR/IkdCC3N1bw9oWwrd6e7mGP1rnnfahpMcBECIq+gXQc/CQZswv1/DPSnocACHj1EoBUMMH8o0Vec5RwwfyjyDPMWr4QDEQ5DlGDR8oBoI8p6jhA8VBkOcUNXygOAjyHHomqOHf+PHTqeEDBUCQ58z+d3o0ayE1fKBIuI48Z+5f8pK2/Y4aPlAkrMhzZPX2t/TAs5up4QMFQ5DnBDV8oLg4tZIT1PCB4mJFngPU8IFiI8gzjho+AII84xYup4YPFJ25x///IJtZl6RXBvjpwyWl8b+TY67GMFdjmKsxaZ1Lam62U9y9pfeNiQR5M8ysw93bkp6jN+ZqDHM1hrkak9a5pGhm49QKAGQcQQ4AGZfFIJ+T9AA1MFdjmKsxzNWYtM4lRTBb5s6RAwAOl8UVOQCgAkEOABmXyiA3s78xszVmdsjM2nrdd7uZbTKzDWZ2eY3PP8HMFpvZS8Gfx0cw4w/NbHnwttXMltd43FYzWxU8riPsOars704z214x2xU1HjclOIabzGxmDHN9w8zWm9lKM2s3s+NqPC6W49Xf128l/xrcv9LMJkY1S8U+R5vZ02a2Lvj+v6XKYyab2VsVz++Xo54r2G+fz0tCx+vMiuOw3MzeNrNbez0mluNlZvPMbKeZra64ra4cCuVn0d1T9ybpLElnSvqFpLaK28dJWiFpqKRTJb0saVCVz/8XSTOD92dK+nrE835L0pdr3LdV0vAYj92dkr7Yz2MGBcfuNElHBsd0XMRzXSZpcPD+12s9J3Ecr3q+fklXSPqJJJN0vqTfxPDcnSRpYvD+MEkbq8w1WdKiuL6f6n1ekjheVZ7T11UqzMR+vCT9paSJklZX3NZvDoX1s5jKFbm7r3P3DVXumibpEXfvdvctkjZJmlTjcQ8F7z8k6VORDKrSSkTS30r6n6j2EYFJkja5+2Z3f0fSIyods8i4+1Pu3hN8+IKkUVHurx/1fP3TJP2nl7wg6TgzOynKodx9h7svC97fI2mdpJOj3GeIYj9evVwi6WV3H2hjvCnu/oyk3/W6uZ4cCuVnMZVB3oeTJW2r+LhT1b/RR7r7Dqn0wyFpRIQzfUzSG+7+Uo37XdJTZrbUzKZHOEelzwe/3s6r8etcvccxKtertHqrJo7jVc/Xn+gxMrNWSR+V9Jsqd19gZivM7CdmNj6mkfp7XpL+nrpatRdTSRwvqb4cCuW4JfbvkZvZEknV/s3VWe7+41qfVuW2yK6frHPGa9T3avxCd3/NzEZIWmxm64O/vSOZS9L3JM1W6bjMVum0z/W9N1Hlc5s+jvUcLzObJalH0sM1NhP68ao2apXben/9sX6vHbZjs2MkzZd0q7u/3evuZSqdPtgbvP6xUNIZMYzV3/OS5PE6UtKVkm6vcndSx6teoRy3xILc3S8dwKd1Shpd8fEoSa9VedwbZnaSu+8Ifr3bGcWMZjZY0lWSzuljG68Ff+40s3aVfpVqKpjqPXZm9gNJi6rcVe9xDHUuM7tO0iclXeLBCcIq2wj9eFVRz9cfyTHqj5kNUSnEH3b3Bb3vrwx2d3/SzL5rZsPdPdJ/IKqO5yWR4xWYKmmZu7/R+46kjlegnhwK5bhl7dTKY5KuNrOhZnaqSn+z/l+Nx10XvH+dpFor/GZdKmm9u3dWu9PMjjazYeX3VXrBb3W1x4al13nJv66xv99KOsPMTg1WM1erdMyinGuKpBmSrnT3/TUeE9fxqufrf0zS3wVXY5wv6a3yr8lRCV5vmStpnbvfW+MxJwaPk5lNUulneHfEc9XzvMR+vCrU/K04ieNVoZ4cCudnMepXcwfyplIAdUrqlvSGpJ9W3DdLpVd5N0iaWnH7AwqucJH0IUk/k/RS8OcJEc35oKQbet32p5KeDN4/TaVXoVdIWqPSKYaoj91/SVolaWXwDXFS77mCj69Q6aqIl2Oaa5NK5wKXB2/fT/J4Vfv6Jd1Qfj5V+pX3O8H9q1Rx9VSEM/2FSr9Wr6w4Tlf0muvzwbFZodKLxn8ew1xVn5ekj1ew3z9RKZiPrbgt9uOl0l8kOyQdCLLr72vlUBQ/i1T0ASDjsnZqBQDQC0EOABlHkANAxhHkAJBxBDkAZBxBDgAZR5ADQMb9P/dSB9nAMQNYAAAAAElFTkSuQmCC\n",
          "text/plain": "<Figure size 432x288 with 1 Axes>"
         },
         "metadata": {
          "needs_background": "light"
         },
         "output_type": "display_data"
        }
       ]
      }
     },
     "1b33a9a336404dbcae9dd2b285fcf0a1": {
      "model_module": "@jupyter-widgets/base",
      "model_module_version": "1.2.0",
      "model_name": "LayoutModel",
      "state": {}
     },
     "1b3c444f30e04c4a85324c592d6ac7c3": {
      "model_module": "@jupyter-widgets/controls",
      "model_module_version": "1.5.0",
      "model_name": "FloatSliderModel",
      "state": {
       "description": "b",
       "layout": "IPY_MODEL_2e28f9a923a545bead38c8ea9ac74599",
       "max": 3,
       "min": -3,
       "step": 0.5,
       "style": "IPY_MODEL_4a0f9546c8894e1cb15b52929ff7727d"
      }
     },
     "1c201c863afe4e6096d03b9a804511dd": {
      "model_module": "@jupyter-widgets/base",
      "model_module_version": "1.2.0",
      "model_name": "LayoutModel",
      "state": {}
     },
     "1c3b4d5d9b39454ebb03dd53427e8c57": {
      "model_module": "@jupyter-widgets/controls",
      "model_module_version": "1.5.0",
      "model_name": "VBoxModel",
      "state": {
       "_dom_classes": [
        "widget-interact"
       ],
       "children": [
        "IPY_MODEL_fa04c13a2d1f46c9ac8347d06a60ad64",
        "IPY_MODEL_41d7568c793f44cda41cbda0fda62d4c",
        "IPY_MODEL_79bf6d285e3c4c099875da3d1a4e4cd9"
       ],
       "layout": "IPY_MODEL_6e2f73c25eec412282f3812683d52d2e"
      }
     },
     "1d3712b739a442aba6ce96733a418ab9": {
      "model_module": "@jupyter-widgets/controls",
      "model_module_version": "1.5.0",
      "model_name": "FloatSliderModel",
      "state": {
       "description": "m",
       "layout": "IPY_MODEL_539836812d304cabb71d6c322e96d145",
       "max": 2,
       "min": -2,
       "step": 0.1,
       "style": "IPY_MODEL_dca48dc80816442bba871fb8eebd312d"
      }
     },
     "1e97c00a16184d6e952f283f7f38f255": {
      "model_module": "@jupyter-widgets/controls",
      "model_module_version": "1.5.0",
      "model_name": "SliderStyleModel",
      "state": {
       "description_width": ""
      }
     },
     "1f4064a26b824d5e82fd091e6a4d090d": {
      "model_module": "@jupyter-widgets/controls",
      "model_module_version": "1.5.0",
      "model_name": "FloatSliderModel",
      "state": {
       "description": "b",
       "layout": "IPY_MODEL_2f68fb903d4d43ea9069e529ec7454a3",
       "max": 3,
       "min": -3,
       "step": 0.5,
       "style": "IPY_MODEL_7b5748425a004bf8b9da399a07c33ea2",
       "value": 0.5
      }
     },
     "1fa449ca4a274aac97801c1a59622f9b": {
      "model_module": "@jupyter-widgets/controls",
      "model_module_version": "1.5.0",
      "model_name": "FloatSliderModel",
      "state": {
       "description": "b",
       "layout": "IPY_MODEL_ff09fe8dfe7f4695a3514c93f4637594",
       "max": 3,
       "min": -3,
       "step": 0.5,
       "style": "IPY_MODEL_362ec175d045411eb6761d3fb944c46c"
      }
     },
     "209a83a2ba424739b26fdd54c43f5548": {
      "model_module": "@jupyter-widgets/base",
      "model_module_version": "1.2.0",
      "model_name": "LayoutModel",
      "state": {}
     },
     "20c1c258f0a44396add29513222d83be": {
      "model_module": "@jupyter-widgets/base",
      "model_module_version": "1.2.0",
      "model_name": "LayoutModel",
      "state": {}
     },
     "228efe3c63c747c9b6b32f2bcb80af46": {
      "model_module": "@jupyter-widgets/base",
      "model_module_version": "1.2.0",
      "model_name": "LayoutModel",
      "state": {}
     },
     "229c4264ace44bcea5cd183570fe2420": {
      "model_module": "@jupyter-widgets/controls",
      "model_module_version": "1.5.0",
      "model_name": "FloatSliderModel",
      "state": {
       "description": "m",
       "layout": "IPY_MODEL_2c07930e7f6e4195bc6015fe4c508488",
       "max": 2,
       "min": -2,
       "step": 0.1,
       "style": "IPY_MODEL_b5b4ae7d3dea4840917ad1f78e2928a3"
      }
     },
     "24939a3d85894374b7a9fe0486c2bed1": {
      "model_module": "@jupyter-widgets/controls",
      "model_module_version": "1.5.0",
      "model_name": "SliderStyleModel",
      "state": {
       "description_width": ""
      }
     },
     "24b16ed5ae504e0fb102b38fb857884a": {
      "model_module": "@jupyter-widgets/base",
      "model_module_version": "1.2.0",
      "model_name": "LayoutModel",
      "state": {}
     },
     "26ea2c1f5bec46b9929ab49c25951d16": {
      "model_module": "@jupyter-widgets/base",
      "model_module_version": "1.2.0",
      "model_name": "LayoutModel",
      "state": {}
     },
     "26f65bfc24d34af39fd9e7b3f5a7bcfa": {
      "model_module": "@jupyter-widgets/controls",
      "model_module_version": "1.5.0",
      "model_name": "SliderStyleModel",
      "state": {
       "description_width": ""
      }
     },
     "28866c9b396947de9fcdd4ae53d1c5e6": {
      "model_module": "@jupyter-widgets/base",
      "model_module_version": "1.2.0",
      "model_name": "LayoutModel",
      "state": {}
     },
     "297828d06391411dbe90a701f92e3ade": {
      "model_module": "@jupyter-widgets/base",
      "model_module_version": "1.2.0",
      "model_name": "LayoutModel",
      "state": {}
     },
     "2b6664ae10b4436f92fb51e4b563512a": {
      "model_module": "@jupyter-widgets/controls",
      "model_module_version": "1.5.0",
      "model_name": "VBoxModel",
      "state": {
       "_dom_classes": [
        "widget-interact"
       ],
       "children": [
        "IPY_MODEL_e33f22f13c76421ba92b30ec24ad4177",
        "IPY_MODEL_73fff4e16acb4c049ada6476f630d468",
        "IPY_MODEL_07ab32b210754825b57b3249aa29d320"
       ],
       "layout": "IPY_MODEL_db8fddc04d5e4c1491bd408753b1f835"
      }
     },
     "2be0f53969f5418787e344850e2dba1f": {
      "model_module": "@jupyter-widgets/controls",
      "model_module_version": "1.5.0",
      "model_name": "FloatSliderModel",
      "state": {
       "description": "m",
       "layout": "IPY_MODEL_43e3e2f38dae4ae394cd3631b29d08d8",
       "max": 2,
       "min": -2,
       "step": 0.1,
       "style": "IPY_MODEL_b217d254910143339de89ad4028d366d"
      }
     },
     "2c07930e7f6e4195bc6015fe4c508488": {
      "model_module": "@jupyter-widgets/base",
      "model_module_version": "1.2.0",
      "model_name": "LayoutModel",
      "state": {}
     },
     "2c3333569f0e4ad4a23d08ae7f8872de": {
      "model_module": "@jupyter-widgets/base",
      "model_module_version": "1.2.0",
      "model_name": "LayoutModel",
      "state": {}
     },
     "2d1d3e1754054f8689a68458b6c77b5e": {
      "model_module": "@jupyter-widgets/base",
      "model_module_version": "1.2.0",
      "model_name": "LayoutModel",
      "state": {}
     },
     "2d99e5c2ce29453e83079acd82c3fc19": {
      "model_module": "@jupyter-widgets/output",
      "model_module_version": "1.0.0",
      "model_name": "OutputModel",
      "state": {
       "layout": "IPY_MODEL_ab29768d5f4f4f849f019efed7c65da5",
       "outputs": [
        {
         "data": {
          "image/png": "iVBORw0KGgoAAAANSUhEUgAAAXIAAAD4CAYAAADxeG0DAAAAOXRFWHRTb2Z0d2FyZQBNYXRwbG90bGliIHZlcnNpb24zLjUuMSwgaHR0cHM6Ly9tYXRwbG90bGliLm9yZy/YYfK9AAAACXBIWXMAAAsTAAALEwEAmpwYAAAMv0lEQVR4nO3dXYxcZR3H8d/PrpAoKGKLlLa4JRJiURNw0qD4QqBiqVjURFMStQkmDRckkEigtQliuEIiGiNKViCiNtYLQJCUQFGI8QJkW/tCKS8Fi5QWWDQBDAna8PdiDsl0mNk9s/PMTP/6/SSbzpxz9pxnntn97pmzs+CIEAAgr3eMegAAgP4QcgBIjpADQHKEHACSI+QAkNzYKA46d+7cGB8fH8WhASCtLVu2vBwR89qXjyTk4+PjmpycHMWhASAt2892Ws6lFQBIjpADQHKEHACSI+QAkBwhB4DkCDkAJEfIASA5Qg4AyRFyAEiOkANAcoQcAJIj5ACQHCEHgOQIOQAkR8gBIDlCDgDJEXIASK5YyG3Psf1X23eX2icAYGYlz8gvlbS74P4AADUUCbnthZK+IOmmEvsDANRX6oz8R5KukPRmtw1sr7E9aXtyamqq0GEBAH2H3Pb5kl6KiC3TbRcRExHRiIjGvHnz+j0sAKBS4oz8TEkrbe+VtFHS2bZ/XWC/AIAa+g55RKyLiIURMS5plaQ/RsTX+x4ZAKAW3kcOAMmNldxZRDwo6cGS+wQATI8zcgBIjpADQHKEHACSI+QAkBwhB4DkCDkAJEfIASA5Qg4AyRFyAEiOkANAcoQcAJIj5ACQHCEHgOQIOQAkR8gBIDlCDgDJEXIASI6QA0ByhBwAkiPkAJAcIQeA5Ag5ACRHyAEgOUIOAMkRcgBIjpADQHKEHACSI+QAkBwhB4DkCDkAJEfIASA5Qg4AyRFyAEiOkANAcn2H3PYi2w/Y3m17l+1LSwwMAFDPWIF9HJT07YjYavtoSVtsb46IxwrsGwAwg77PyCPiQERsrW6/Jmm3pAX97hcAUE/Ra+S2xyWdJunhkvsFAHRXLOS2j5J0m6TLIuLVDuvX2J60PTk1NVXqsADwf69IyG2/U82Ib4iI2zttExETEdGIiMa8efNKHBYAoDLvWrGkmyXtjojr+x8SAKAXJc7Iz5T0DUln295WfawosF8AQA19v/0wIv4syQXGAgCYBf6yEwCSI+QAkBwhB4DkCDkAJEfIASA5Qg4AyRFyAEiOkANAcoQcAJIj5ACQHCEHgOQIOQAkR8gBIDlCDgDJEXIASI6QA0ByhBwAkiPkAJAcIQeA5Ag5ACRHyAEgOUIOAMkRcgBIjpADQHKEHACSI+QAkBwhB4DkCDkAJEfIASA5Qg4AyRFyAEiOkANAcoQcAJIj5ACQHCEHgOSKhNz2cttP2N5je22JfQIA6uk75LbnSLpB0nmSlki60PaSfvcLAKhnrMA+lkraExHPSJLtjZIukPRYgX0f4nu/36XH9r9aercAMDRLTniPvvvFU4vus8SllQWSnmu5v69adgjba2xP2p6cmpoqcFgAgFTmjNwdlsXbFkRMSJqQpEaj8bb1dZT+KQYA/wtKnJHvk7So5f5CSfsL7BcAUEOJkD8i6WTbi20fIWmVpLsK7BcAUEPfl1Yi4qDtSyTdK2mOpFsiYlffIwMA1FLiGrkiYpOkTSX2BQDoDX/ZCQDJEXIASI6QA0ByhBwAkiPkAJAcIQeA5Ag5ACRHyAEgOUIOAMkRcgBIjpADQHKEHACSI+QAkBwhB4DkCDkAJEfIASA5Qg4AyRFyAEiOkANAcoQcAJIj5ACQHCEHgOQIOQAkR8gBIDlCDgDJEXIASI6QA0ByhBwAkiPkAJAcIQeA5Ag5ACRHyAEgOUIOAMkRcgBIrq+Q277O9uO2d9i+w/YxhcYFAKip3zPyzZI+EhEfk/SkpHX9DwkA0Iu+Qh4R90XEweruQ5IW9j8kAEAvSl4jv0jSPQX3BwCoYWymDWzfL+n4DqvWR8Sd1TbrJR2UtGGa/ayRtEaSTjzxxFkNFgDwdjOGPCKWTbfe9mpJ50s6JyJimv1MSJqQpEaj0XU7AEBvZgz5dGwvl3SlpM9GxOtlhgQA6EW/18h/IuloSZttb7N9Y4ExAQB60NcZeUR8qNRAAACzw192AkByhBwAkiPkAJAcIQeA5Ag5ACRHyAEgOUIOAMkRcgBIjpADQHKEHACSI+QAkBwhB4DkCDkAJEfIASA5Qg4AyRFyAEiOkANAcoQcAJIj5ACQHCEHgOQIOQAkR8gBIDlCDgDJEXIASI6QA0ByhBwAkiPkAJAcIQeA5Ag5ACRHyAEgOUIOAMkRcgBIjpADQHKEHACSI+QAkFyRkNu+3HbYnltifwCA+voOue1Fkj4n6e/9DwcA0KsSZ+Q/lHSFpCiwLwBAj/oKue2Vkp6PiO01tl1je9L25NTUVD+HBQC0GJtpA9v3Szq+w6r1kr4j6dw6B4qICUkTktRoNDh7B4BCZgx5RCzrtNz2RyUtlrTdtiQtlLTV9tKIeKHoKAEAXc0Y8m4iYqek4966b3uvpEZEvFxgXACAmngfOQAkN+sz8nYRMV5qXwCA+jgjB4DkCDkAJEfIASA5Qg4AyRFyAEiOkANAcoQcAJIj5ACQHCEHgOQIOQAkR8gBIDlCDgDJEXIASI6QA0ByhBwAkiPkAJCcI4b//0G2PSXp2Vl++lxJh+P/To5x9YZx9YZx9eZwHZfU39g+GBHz2heOJOT9sD0ZEY1Rj6Md4+oN4+oN4+rN4TouaTBj49IKACRHyAEguYwhnxj1ALpgXL1hXL1hXL05XMclDWBs6a6RAwAOlfGMHADQgpADQHKHZchtf9X2Lttv2m60rVtne4/tJ2x/vsvnH2t7s+2nqn/fN4Ax/tb2tupjr+1tXbbba3tntd1k6XF0ON7Vtp9vGduKLtstr+Zwj+21QxjXdbYft73D9h22j+my3VDma6bH76YfV+t32D59UGNpOeYi2w/Y3l19/V/aYZuzbL/S8vxeNehxVced9nkZ0Xyd0jIP22y/avuytm2GMl+2b7H9ku1HW5bV6lCR78WIOOw+JH1Y0imSHpTUaFm+RNJ2SUdKWizpaUlzOnz+9yWtrW6vlXTtgMf7A0lXdVm3V9LcIc7d1ZIun2GbOdXcnSTpiGpOlwx4XOdKGqtuX9vtORnGfNV5/JJWSLpHkiWdIenhITx38yWdXt0+WtKTHcZ1lqS7h/X1VPd5GcV8dXhOX1DzD2aGPl+SPiPpdEmPtiybsUOlvhcPyzPyiNgdEU90WHWBpI0R8UZE/E3SHklLu2x3a3X7VklfGshA1TwTkfQ1Sb8Z1DEGYKmkPRHxTET8W9JGNedsYCLivog4WN19SNLCQR5vBnUe/wWSfhlND0k6xvb8QQ4qIg5ExNbq9muSdktaMMhjFjT0+WpzjqSnI2K2fzHel4j4k6R/ti2u06Ei34uHZcinsUDScy3396nzF/oHIuKA1PzmkHTcAMf0aUkvRsRTXdaHpPtsb7G9ZoDjaHVJ9fL2li4v5+rO46BcpObZWyfDmK86j3+kc2R7XNJpkh7usPoTtrfbvsf2qUMa0kzPy6i/plap+8nUKOZLqtehIvM2NqvhFWD7fknHd1i1PiLu7PZpHZYN7P2TNcd4oaY/Gz8zIvbbPk7SZtuPVz+9BzIuST+TdI2a83KNmpd9LmrfRYfP7Xse68yX7fWSDkra0GU3xeer01A7LGt//EP9WjvkwPZRkm6TdFlEvNq2equalw/+Vf3+43eSTh7CsGZ6XkY5X0dIWilpXYfVo5qvuorM28hCHhHLZvFp+yQtarm/UNL+Dtu9aHt+RByoXt69NIgx2h6T9BVJH59mH/urf1+yfYeaL6X6ClPdubP9c0l3d1hVdx6Ljsv2aknnSzonqguEHfZRfL46qPP4BzJHM7H9TjUjviEibm9f3xr2iNhk+6e250bEQP8DUTWel5HMV+U8SVsj4sX2FaOar0qdDhWZt2yXVu6StMr2kbYXq/mT9S9dtltd3V4tqdsZfr+WSXo8IvZ1Wmn73baPfuu2mr/we7TTtqW0XZf8cpfjPSLpZNuLq7OZVWrO2SDHtVzSlZJWRsTrXbYZ1nzVefx3Sfpm9W6MMyS98tbL5EGpft9ys6TdEXF9l22Or7aT7aVqfg//Y8DjqvO8DH2+WnR9VTyK+WpRp0NlvhcH/dvc2XyoGaB9kt6Q9KKke1vWrVfzt7xPSDqvZflNqt7hIun9kv4g6anq32MHNM5fSLq4bdkJkjZVt09S87fQ2yXtUvMSw6Dn7leSdkraUX1BzG8fV3V/hZrvinh6SOPao+a1wG3Vx42jnK9Oj1/SxW89n2q+5L2hWr9TLe+eGuCYPqXmy+odLfO0om1cl1Rzs13NXxp/cgjj6vi8jHq+quO+S80wv7dl2dDnS80fJAck/adq17e6dWgQ34v8iT4AJJft0goAoA0hB4DkCDkAJEfIASA5Qg4AyRFyAEiOkANAcv8FN/jk1wZDAXYAAAAASUVORK5CYII=\n",
          "text/plain": "<Figure size 432x288 with 1 Axes>"
         },
         "metadata": {
          "needs_background": "light"
         },
         "output_type": "display_data"
        }
       ]
      }
     },
     "2e2137eb6bf6410981fbe0a743bbd095": {
      "model_module": "@jupyter-widgets/base",
      "model_module_version": "1.2.0",
      "model_name": "LayoutModel",
      "state": {}
     },
     "2e28f9a923a545bead38c8ea9ac74599": {
      "model_module": "@jupyter-widgets/base",
      "model_module_version": "1.2.0",
      "model_name": "LayoutModel",
      "state": {}
     },
     "2f68fb903d4d43ea9069e529ec7454a3": {
      "model_module": "@jupyter-widgets/base",
      "model_module_version": "1.2.0",
      "model_name": "LayoutModel",
      "state": {}
     },
     "30a023aafdbb4f7aae1c83e007d927d9": {
      "model_module": "@jupyter-widgets/controls",
      "model_module_version": "1.5.0",
      "model_name": "VBoxModel",
      "state": {
       "_dom_classes": [
        "widget-interact"
       ],
       "children": [
        "IPY_MODEL_717f0e18946e4d8185e4844734614146",
        "IPY_MODEL_6dc9bb74f6c548d0bb2f1c09ab2badec",
        "IPY_MODEL_2d99e5c2ce29453e83079acd82c3fc19"
       ],
       "layout": "IPY_MODEL_f297c0eec9d347a986c02ae2749e2ca6"
      }
     },
     "31de940e32d64e97aebf9635acd9731a": {
      "model_module": "@jupyter-widgets/controls",
      "model_module_version": "1.5.0",
      "model_name": "SliderStyleModel",
      "state": {
       "description_width": ""
      }
     },
     "326d2902507d4ae289dd11aa2e4c6e4b": {
      "model_module": "@jupyter-widgets/controls",
      "model_module_version": "1.5.0",
      "model_name": "SliderStyleModel",
      "state": {
       "description_width": ""
      }
     },
     "338c281b25f74dd4892afb656314520f": {
      "model_module": "@jupyter-widgets/controls",
      "model_module_version": "1.5.0",
      "model_name": "FloatSliderModel",
      "state": {
       "description": "m",
       "layout": "IPY_MODEL_e1ba0ccb9e1548788c7575f95ca43718",
       "max": 2,
       "min": -2,
       "step": 0.1,
       "style": "IPY_MODEL_8535c299c22345bbafb4e11bb42b2f3e"
      }
     },
     "35e34740e38f485289bb516f2ddfd3b0": {
      "model_module": "@jupyter-widgets/controls",
      "model_module_version": "1.5.0",
      "model_name": "VBoxModel",
      "state": {
       "_dom_classes": [
        "widget-interact"
       ],
       "children": [
        "IPY_MODEL_7e449a1a92ec4249a1f903b30b946fc4",
        "IPY_MODEL_cf601261153041c791e5d94297d8a529",
        "IPY_MODEL_affba62e9494419e95082003a704694f"
       ],
       "layout": "IPY_MODEL_b2ff81c2a7f54f64a499ea097785fc23"
      }
     },
     "362ec175d045411eb6761d3fb944c46c": {
      "model_module": "@jupyter-widgets/controls",
      "model_module_version": "1.5.0",
      "model_name": "SliderStyleModel",
      "state": {
       "description_width": ""
      }
     },
     "3aeae7ce34e540d0a59a46abb4715b50": {
      "model_module": "@jupyter-widgets/controls",
      "model_module_version": "1.5.0",
      "model_name": "VBoxModel",
      "state": {
       "_dom_classes": [
        "widget-interact"
       ],
       "children": [
        "IPY_MODEL_bb7345c36dab4a579980dd16fa79cae6",
        "IPY_MODEL_6caba8b445ac4b18b2a476fad716d0d2",
        "IPY_MODEL_a44e031fdb934db8a62512a42e61588c"
       ],
       "layout": "IPY_MODEL_099e9bfd27d640d68a5268cb8c187ed1"
      }
     },
     "3b9df552b0f649ddb879ad5e1d4b1996": {
      "model_module": "@jupyter-widgets/controls",
      "model_module_version": "1.5.0",
      "model_name": "FloatSliderModel",
      "state": {
       "description": "b",
       "layout": "IPY_MODEL_0a38ad98da57497d92288bc8143cf4c6",
       "max": 3,
       "min": -3,
       "step": 0.5,
       "style": "IPY_MODEL_c43bffa8a7ab4b689a1c3163b516d25c"
      }
     },
     "3c3db56c67e848e4a19641d00aabf245": {
      "model_module": "@jupyter-widgets/controls",
      "model_module_version": "1.5.0",
      "model_name": "VBoxModel",
      "state": {
       "_dom_classes": [
        "widget-interact"
       ],
       "children": [
        "IPY_MODEL_70595d3cf06248bc9d5d7394e7940972",
        "IPY_MODEL_c98ba4fd71c04c2cb985a636b5186f1e",
        "IPY_MODEL_196a3a7197cc4c4ca3275af899052c64"
       ],
       "layout": "IPY_MODEL_dc03f742ff07442fb3a4ad13e67f433d"
      }
     },
     "3c43f54600754495a8b19d281d5f27a8": {
      "model_module": "@jupyter-widgets/controls",
      "model_module_version": "1.5.0",
      "model_name": "VBoxModel",
      "state": {
       "_dom_classes": [
        "widget-interact"
       ],
       "children": [
        "IPY_MODEL_7560b99fc013438d99895f5d6b0bbaaa",
        "IPY_MODEL_4d1116e8d0014db09c775d3810bb931d",
        "IPY_MODEL_c5f73c6f594146bbbcdbf4302684d694"
       ],
       "layout": "IPY_MODEL_e61ab590527a401db4c7a64613e3da37"
      }
     },
     "3df6856f0b154aec99eae423a9eadb42": {
      "model_module": "@jupyter-widgets/controls",
      "model_module_version": "1.5.0",
      "model_name": "FloatSliderModel",
      "state": {
       "description": "b",
       "layout": "IPY_MODEL_bdbd6894d68745f5a27a8f675c86f8aa",
       "max": 3,
       "min": -3,
       "step": 0.5,
       "style": "IPY_MODEL_a0e3f85e0ed447ceba8796fc8a4b9a77"
      }
     },
     "3df74a1573d54c84ae2c8d73f8115c08": {
      "model_module": "@jupyter-widgets/controls",
      "model_module_version": "1.5.0",
      "model_name": "VBoxModel",
      "state": {
       "_dom_classes": [
        "widget-interact"
       ],
       "children": [
        "IPY_MODEL_2be0f53969f5418787e344850e2dba1f",
        "IPY_MODEL_e82eca05056c453a9923add7565725fc",
        "IPY_MODEL_9f3cf7cd452c49aaa465b6157394f622"
       ],
       "layout": "IPY_MODEL_3f5f6859eda747f99ee71067eaf7d42c"
      }
     },
     "3dfad8350543462fb0c0e7679ae03151": {
      "model_module": "@jupyter-widgets/output",
      "model_module_version": "1.0.0",
      "model_name": "OutputModel",
      "state": {
       "layout": "IPY_MODEL_ab24819f04e84bf7a5319d57b159d2db",
       "outputs": [
        {
         "data": {
          "image/png": "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\n",
          "text/plain": "<Figure size 432x288 with 1 Axes>"
         },
         "metadata": {
          "needs_background": "light"
         },
         "output_type": "display_data"
        }
       ]
      }
     },
     "3f5f6859eda747f99ee71067eaf7d42c": {
      "model_module": "@jupyter-widgets/base",
      "model_module_version": "1.2.0",
      "model_name": "LayoutModel",
      "state": {}
     },
     "3fb629aeb27f4034bd90c2d31109e99e": {
      "model_module": "@jupyter-widgets/output",
      "model_module_version": "1.0.0",
      "model_name": "OutputModel",
      "state": {
       "layout": "IPY_MODEL_08e96c637220408daeee744b5dc6b7e6",
       "outputs": [
        {
         "data": {
          "image/png": "iVBORw0KGgoAAAANSUhEUgAAAXIAAAD4CAYAAADxeG0DAAAAOXRFWHRTb2Z0d2FyZQBNYXRwbG90bGliIHZlcnNpb24zLjUuMSwgaHR0cHM6Ly9tYXRwbG90bGliLm9yZy/YYfK9AAAACXBIWXMAAAsTAAALEwEAmpwYAAAjnElEQVR4nO3dd3gVddrG8e+TRui9Se+9GukkltAVFBvqIjYQFSlxd227rrvW1TUUG4rYCxZAkCIBS0KH0EPv0gmC9M7v/SPxvVg2kUDOOZOT3J/rypVzZiYzT34nuTOZM/OMOecQEZHgFeJ1ASIikj0KchGRIKcgFxEJcgpyEZEgpyAXEQlyYV5stFSpUq5q1apebFpEJGgtWrRon3Ou9IXTPQnyqlWrkpyc7MWmRUSClpltzWi6Dq2IiAQ5BbmISJBTkIuIBDkFuYhIkFOQi4gEOQW5iEiQU5CLiAS5oAryeZt+ZfSszZw9p9a7IiK/C6ogn7x8F89NWsUtI+ewfs9hr8sREckRgirI/9WjAcNub8qWfUfpNmIWI35Yz6kz57wuS0TEU0EV5GbGjc0qMD0uhk4NyxE/fR3d35jF8u2/eV2aiIhngirIf1eqUD5ev6MZo+6O4sCxU9z45mxemrKa46fOel2aiEjABWWQ/65D/bIkDInh9qsq8U7SJroMT2Lepl+9LktEJKCCOsgBiuYP56Wejfn8gZacc9Dr3Xk8PX4Fh0+c9ro0EZGACPog/12bmqX4fnB7HmhXjS8W/ELHoUn8uGaP12WJiPhdrglygAIRYfzt+vqMfagNhSPDuO/DZAaPWcL+o6e8Lk1ExG9yVZD/rlnl4kx6tD2DrqvF5BW7iI1PZOKynTinC4lEJPfxWZCbWaiZLTGzSb5aZ3ZEhIUwpENtvnu0HZWK52fgF0vo+3Eyuw+e8Lo0ERGf8uUe+SBgtQ/X5xN1yxVh3MNtebprPWZt2EeH+ES+WPCL9s5FJNfwSZCbWUWgG/CeL9bna6EhRt/o6nw/KJoGFYrw5LgV3DlqPlt/Pep1aSIi2earPfJhwF+BHH29fNVSBfn8gVa81LMRKTsO0mlYEu/N3KQmXCIS1LId5GZ2PbDXObfoIsv1M7NkM0tOTU3N7mYvW0iIcUeLykyPi6FdzVI8P3k1Pd+ew9rdasIlIsHJsnus2MxeAnoDZ4BIoAgwzjn3p8y+JioqyiUnJ2dru77gnOO75bt4duJKDp84zcNX1+SRa2oSEZYrT+YRkSBnZoucc1EXTs92YjnnnnTOVXTOVQV6AT/+UYjnJGZG9yZXMCMuhq6NyjP8h/Vc//pMlm77zevSRESyTLueQImCEQzv1YzRfaI4dPwMPd+azfOTVqkJl4gEBZ8GuXPuZ+fc9b5cZyBdV68sCXHR9GpRmfdmbabTsCTmbNzndVkiIn9Ie+QXKBIZzos3NeKLvq0IMbhz1HyeHLecQ2rCJSI5lII8E61rlGTqoGgejK7Olwu30SE+kemr1IRLRHIeBfkfyB8RypNd6/HtI20pXiCCvh8nM+Dzxew7ctLr0kRE/p+CPAsaVyzGxAHtiOtQm2krd9MhPpFvl+zQZf4ikiMoyLMoIiyEgdfVYvLA9lQpWZDBXy7l/o+S2fnbca9LE5E8TkF+iWqXLczYh9rw9+vrM3fjr3QcmsSn87ZyTpf5i4hHFOSXITTEuL9dNaYNjqZJpaL87dsU7hg1j8371IRLRAJPQZ4NlUsW4NP7W/LKzY1ZtesQnYcl8U7iRs6czdG9w0Qkl1GQZ5OZcdtVlZgRF0N07dK8NHUNN701h1U7D3ldmojkEQpyHylbJJJ3e1/Jm3c2Z9fB43R/YxavJazl5Bld5i8i/qUg9yEzo1vj8kwfEkP3Jlfw+o8b6DZiFou2HvC6NBHJxRTkflC8YATxtzflg3uv4tjJM9wycg7//G4lx06d8bo0EcmFFOR+dE2dMiTExdC7VRU+mL2FjkOTmLVeTbhExLcU5H5WKF8Y/+rRkK8ebE14aAh/Gj2fv36zjIPH1IRLRHxDQR4gLaqVYOqg9jx0dQ3GLt5B7NBEvk/Z7XVZIpILKMgDKDI8lMc71+Xbh9tSqlA++n+6iEc+W0zqYTXhEpHL54ubL0ea2QIzW2ZmK83sn74oLDdrVLEoEwe05S+d6jB91R5i4xMZu2i7mnCJyGXxxR75SeBa51wToCnQ2cxa+WC9uVp4aAiPXFOTKYPaU7NMIR77ehn3fLCQHWrCJSKXyBc3X3bOuSPpT8PTP7RrmUU1yxTi6wdb8+wN9Vm4ZT8d4xP5eO4WNeESkSzzyTFyMws1s6XAXmC6c25+Bsv0M7NkM0tOTU31xWZzjZAQ4562aU24mlcpzjMTVnL7u3PZmHrk4l8sInme+fK4rJkVA8YDjzrnUjJbLioqyiUnJ/tsu7mJc45vFm3nuUmrOHHmHINja9G3fXXCQ/W+tEheZ2aLnHNRF073aTo4534DfgY6+3K9eYmZcWtUJWY8FsO1dcrwyvdrufHN2aTsOOh1aSKSQ/nirJXS6XvimFl+IBZYk9315nVlCkcysveVvH1Xc/YcOkmPN2fz6rQ1nDitJlwi8t98sUdeHvjJzJYDC0k7Rj7JB+sVoEuj8syIi+amZhV486eNdB0xk+Qt+70uS0RyEJ8eI88qHSO/PEnrUnly3Ap2HjxOn9ZV+UunOhTMF+Z1WSISIAE5Ri7+FV27NAlDounTuiofzU1rwpW4TmcAieR1CvIgUzBfGM92b8DXD7YmX3gIfd5fwGNfLeO3Y6e8Lk1EPKIgD1JRVUswZWB7BlxTk2+X7iA2PompK3Z5XZaIeEBBHsQiw0P5c6c6TBzQlrJF8vHQZ4vp/8ki9h464XVpIhJACvJcoMEVRZnwSFse71yXH9fuJTY+ka+Tt6kJl0geoSDPJcJCQ3jo6hpMHdSeOuUK85dvlnP3+wvYtv+Y16WJiJ8pyHOZGqUL8WW/1jzXowGLtx6g07AkPpi9mbNqwiWSaynIc6GQEKN366pMGxLNVVVL8M/vVnHbO3PZsPew16WJiB8oyHOxisUL8OG9VxF/WxM2ph6h6/BZvPHjek6fPed1aSLiQwryXM7M6Nm8ItOHxNChQVn+k7CO7m+oCZdIbqIgzyNKF87Hm3c2553eV7LvSFoTrpenqgmXSG6gIM9jOjUox4whMdzSvCIjEzfSdfhMFmxWEy6RYKYgz4OKFgjn37c05tP7W3Lq7Dlue2cuf/82hcMnTntdmohcBgV5HtauVikShkRzX9tqfDp/K52GJvHT2r1elyUil0hBnscViAjjmRvq803/NhTMF8a9Hywk7sulHDiqJlwiwUJBLgBcWaU4kwa2Y+C1NZm4bCex8YlMWr5Tl/mLBAFf3Oqtkpn9ZGarzWylmQ3yRWESePnCQonrWIfvHm3HFcXyM+DzJfT7ZBF71IRLJEfzxR75GeAx51w9oBXwiJnV98F6xSP1yhdh/MNteLJLXZLWpRIbn8iXC3/R3rlIDpXtIHfO7XLOLU5/fBhYDVTI7nrFW2GhITwYU4PvB0dTr3wRHh+7grvem88vv6oJl0hO49Nj5GZWFWgGzM9gXj8zSzaz5NRU3Z4sWFQrVZAxfVvxwk0NWb79IJ2GJTF6lppwieQkPrv5spkVAhKBF5xz4/5oWd18OTjtOnicp8en8OOavTStVIxXbmlM7bKFvS5LJM/w682XzSwcGAt8drEQl+BVvmh+RveJYnivpmz99SjdRsxkxA/rOXVGTbhEvOSLs1YMGA2sds7FZ78kycnMjB5NKzAjLobODcsTP30d3d+YxbJtv3ldmkie5Ys98rZAb+BaM1ua/tHVB+uVHKxkoXy8fkczRt0dxYFjp7jprdm8OGU1x0+pCZdIoIVldwXOuVmA+aAWCUId6pelZfUSvDRlNe8mbSJh5W5e6tmY1jVKel2aSJ6hKzsl24pEhvNSz8Z8/kBLzjm4Y9Q8nhq/gkNqwiUSEApy8Zk2NUsxbXA0fdtXY8yCX+gYn8SPa/Z4XZZIrqcgF5/KHxHK093qM+7hthTNH859HyYzaMwSfj1y0uvSRHItBbn4RdNKxfju0XYMjq3FlBW76DA0iQlLd+gyfxE/UJCL30SEhTA4tjaTHm1PpRIFGDRmKQ98lMyug8e9Lk0kV1GQi9/VKVeYcQ+14W/d6jF74z46xifx+fxfOKfL/EV8QkEuAREaYjzQvjrTBkfTsEJRnhq/gjvfm8eWfUe9Lk0k6CnIJaCqlCzI531b8nLPRqzccYjOw5MYlbRJTbhEskFBLgFnZvRqUZnpcTG0q1mKF6aspudbs1m7+7DXpYkEJQW5eKZc0UhG3R3F63c0Y/uB41z/+kyGTl/HyTO6zF/kUijIxVNmxg1NrmB6XAzdGpVn+A/rueH1WSz55YDXpYkEDQW55AglCkYwrFcz3r8nisMnztDz7Tk8N2kVx06d8bo0kRxPQS45yrV1y5IwJJq7WlZm9KzNdB42kzkb9nldlkiOpiCXHKdwZDjP39iIMf1aEWJw53vzeWLscg4eVxMukYwoyCXHalW9JN8PjubBmOp8lbyNjkMTmb5KTbhELqQglxwtMjyUJ7vU49tH2lK8QAR9P05mwOeL2acmXCL/z1f37HzfzPaaWYov1idyocYVizFxQDse61CbhJV7iI1PZPyS7WrCJYLv9sg/BDr7aF0iGYoIC+HR62oxeWA7qpUqyJAvl3HfhwvZ+ZuacEne5pMgd84lAft9sS6Ri6lVtjDf9G/DM9fXZ96m/XQcmsQn87aqCZfkWQE7Rm5m/cws2cySU1NTA7VZyaVCQ4z72lUjYUg0TSsV4+/fptBr1Dw2qwmX5EEBC3Ln3LvOuSjnXFTp0qUDtVnJ5SqVKMAn97fglZsbs3rXIToPS2Jk4kbOnD3ndWkiAaOzViTomRm3XVWJGXExxNQuzctT13DjW7NZtfOQ16WJBISCXHKNskUieaf3lbx1V3N2HzxB9zdm8VrCWjXhklzPV6cffgHMBeqY2XYzu98X6xW5VGZG10blmT4khu5Nr+D1HzfQbcQsFm1VEy7JvcyL83CjoqJccnJywLcrec/Pa/fy9PgUdh48zj1tqvLnjnUomC/M67JELouZLXLORV04XYdWJFe7uk4Zpg2JpnerKnwwewudhiUxc73OmpLcRUEuuV6hfGH8q0dDvnqwNRGhIfQevYC/frOMg8fUhEtyBwW55BktqpVgyqD2PHR1DcYu3kHs0ES+T9ntdVki2aYglzwlMjyUxzvXZcIjbSldKB/9P13Ew58tYu/hE16XJnLZFOSSJzWsUJQJA9ryl051mLF6Lx3ikxi7SE24JDgpyCXPCg8N4ZFrajJlYHtqlinEY18vo88HC9l+4JjXpYlcEgW55Hk1yxTi6wdb88/uDUjesp9OQ5P4eO4WNeGSoKEgFwFCQow+baoybXA0zasU55kJK7ntnblsTD3idWkiF6UgFzlPpRIF+Pi+Fvzn1ias33uELsNn8uZPGzitJlySgynIRS5gZtxyZUWmx0UTW68Mr05by41vziZlx0GvSxPJkIJcJBNlCkfy1l1XMvJPzdlz6CQ93pzNK9+v4cRpNeGSnEVBLnIRnRuW54e4GHo2q8BbP2+k64iZJG/RDbEk51CQi2RB0QLhvHprEz6+rwUnT5/j1nfm8o8JKRw5ecbr0kQU5CKXIrp2aRKGRNOndVU+nreVTkOTSFynJlziLQW5yCUqmC+MZ7s34Jv+rYkMD6HP+wuI+2opvx075XVpkkf56sYSnc1srZltMLMnfLFOkZzuyiolmDywPQOuqcnEpTuJjU9kyopdXpcleVC2g9zMQoE3gS5AfeAOM6uf3fWKBIPI8FD+3KkOEwa0pVzRSB7+bDH9P1nE3kNqwiWB44s98hbABufcJufcKWAM0MMH6xUJGg2uKMq3D7fl8c51+XHtXmLjE/kqeZuacElA+CLIKwDbznu+PX3afzGzfmaWbGbJqal6c0hyn7DQEB66ugbfD2pP3XJF+Os3y7n7/QVs268mXOJfvghyy2Da/+yGOOfedc5FOeeiSpcu7YPNiuRM1UsXYky/Vjx3Y0MWbz1Ax6FJfDB7M2fVhEv8xBdBvh2odN7zisBOH6xXJGiFhBi9W1UhIS6GltVL8M/vVnHryDls2HvY69IkF/JFkC8EaplZNTOLAHoBE32wXpGgV6FYfj645yqG3t6ETfuO0nX4LN74cb2acIlPZTvInXNngAHANGA18JVzbmV21yuSW5gZNzWryIy4GDo0KMt/EtZxw+uzWLFdTbjEN8yLd9WjoqJccnJywLcrkhNMW7mbv3+bwq9HT9G3fXUGx9YiMjzU67IkCJjZIudc1IXTdWWnSIB1alCO6XEx3NK8IiMTN9Jl+Ezmb/rV67IkiCnIRTxQNH84/76lMZ890JIz585x+7vz+Nu3Kzh84rTXpUkQUpCLeKhtzVJMGxzN/e2q8dn8X+g0NImf1uz1uiwJMgpyEY8ViAjj79fXZ+xDbSiYL4x7P1zIkC+Xsv+omnBJ1ijIRXKI5pWLM2lgOwZeV4vvlu2kQ3wik5bv1GX+clEKcpEcJF9YKHEdavPdo+2oUDw/Az5fQr9PFrFHTbjkDyjIRXKgeuWLMO6hNjzVtS5J61KJjU9kzIJftHcuGVKQi+RQYaEh9IuuwbTB0dQvX4Qnxq3grvfm88uvasIl/01BLpLDVS1VkC/6tuLFmxqxfPtBOg5L5L2Zm9SES/6fglwkCISEGHe2rMz0uGja1CjF85NXc/Pbc1i3R024REEuElTKF83P6D5RDO/VlF/2H6PbiJkMn7GeU2fUhCsvU5CLBBkzo0fTCkwfEk2XhuUZOiOtCdeybb95XZp4REEuEqRKFsrHiDua8d7dURw8fpqb3prNC5NXcfzUWa9LkwBTkIsEudj6ZUmIi6ZXi8qMmrmZzsOTmLtRTbjyEgW5SC5QJDKcF29qxOd9WwJwx6h5PDluBYfUhCtPUJCL5CJtapTi+0HR9IuuzpcLf6FjfBI/rN7jdVniZ9kKcjO71cxWmtk5M/ufZuciEnj5I0J5qms9xj3clqL5w7n/o2QGfrGEX4+c9Lo08ZPs7pGnAD2BJB/UIiI+1LRSMb57tB1DYmszNWUXHYYmMWHpDl3mnwtlK8idc6udc2t9VYyI+FZEWAiDYmsxeWB7KpcowKAxS3ngo2R2HTzudWniQwE7Rm5m/cws2cySU1NTA7VZEQFqly3M2Ifa8Ldu9Zi9cR8d4pP4bP5Wzuky/1zhokFuZjPMLCWDjx6XsiHn3LvOuSjnXFTp0qUvv2IRuSyhIcYD7auTMDiGxhWL8vT4FO58bx5b9h31ujTJprCLLeCciw1EISISGJVLFuCzB1ry5cJtvDB5NZ2GJfFYx9rc17YaYaE6kS0Y6VUTyYPMjF4tKjM9Lob2tUrz4pQ13Pz2HNbsPuR1aXIZsnv64U1mth1oDUw2s2m+KUtEAqFc0UhG3X0lb9zZjO0HjnP9iFnET1/HyTO6zD+YmBenIkVFRbnk5OSAb1dEMnfg6Cn+NWkV45fsoFaZQvz7lsY0r1zc67LkPGa2yDn3P9fs6NCKiABQvGAEQ29vygf3XMWRk2e4+e05PDdpFcdOnfG6NLkIBbmI/Jdr6pYhYUg0d7WszOhZm+k0LInZG/Z5XZb8AQW5iPyPwpHhPH9jI77s14qwkBDuem8+T4xdzsHjasKVEynIRSRTLauXZOqg9jwYU52vkrfRIT6RhJW7vS5LLqAgF5E/FBkeypNd6vHtI20pUTCCfp8s4pHPF5N6WE24cgoFuYhkSeOKaU24/tyxNtNX7qHD0ETGL9muJlw5gIJcRLIsPDSEAdfWYsqgdlQvVZAhXy7j3g8XsuM3NeHykoJcRC5ZzTKF+bp/G/5xQ33mb9pPx/hEPpmnJlxeUZCLyGUJDTHubVuNhCHRNKtcnL9/m0Kvd+exKfWI16XlOQpyEcmWSiUK8Mn9LXjllsas2X2ILsNnMjJxI2fOnvO6tDxDQS4i2WZm3BZViRlxMVxdpzQvT13DjW/NZtVONeEKBAW5iPhMmSKRvNM7irfvas7ugyfp/sYs/jNtLSdOqwmXPynIRcTnujQqz4y4aHo0rcAbP22g24iZLNq63+uyci0FuYj4RbECEbx2WxM+uq8FJ06f45aRc3l24kqOnlQTLl9TkIuIX8XULs20IdHc3aoKH87ZQqdhScxcr/v2+pKCXET8rlC+MP7ZoyFf929NRFgIvUcv4C9fL+PgMTXh8oXs3iHoVTNbY2bLzWy8mRXzUV0ikgtdVbUEUwa25+GrazBuyQ5ihybyfcour8sKetndI58ONHTONQbWAU9mvyQRyc0iw0P5a+e6THikLaUL5aP/p4t56NNF7D18wuvSgla2gtw5l+Cc+/2di3lAxeyXJCJ5QcMKRZkwoC1/6VSHH9bspUN8Et8sUhOuy+HLY+T3AVMzm2lm/cws2cySU1P1RoeIpDXheuSamkwZ2J5aZQrx56+X0eeDhWw/cMzr0oLKRW++bGYzgHIZzHraOTchfZmngSigp8vCn1PdfFlELnTunOPT+Vv599Q1OODxznXp3aoKISHmdWk5RmY3X75okGdhxX2A/sB1zrks/RlVkItIZrYfOMZT41NIWpdKVJXivHxzY2qWKeR1WTlCZkGe3bNWOgOPA92zGuIiIn+kYvECfHTvVbx2axPW7z1C1+EzefOnDZxWE65MZfcY+RtAYWC6mS01s5E+qElE8jgz4+YrKzIjLobY+mV4ddpaerwxm5QdB70uLUfK9qGVy6FDKyJyKb5P2cXfJ6xk/9FT9IuuzqDrahEZHup1WQHnl0MrIiKB0LlheWYMiaFnswq8/fNGug6fycItasL1OwW5iASFogXCefXWJnxyfwtOnT3HrSPn8syEFI6oCZeCXESCS/tapZk2OJp721blk3lb6TQ0iZ/X7vW6LE8pyEUk6BTMF8Y/bmjAN/3bkD8ilHs+WEjcV0s5cPSU16V5QkEuIkHryirFmTywHY9eW5OJS3fSYWgiU1bsynOX+SvIRSSo5QsL5bGOdZg4oB3li+bn4c8W0//TRew9lHeacCnIRSRXqH9FEcY/3IYnutTl57WpxMYn8lXytjyxd64gF5FcIyw0hP4xNZg6qD11yxfhr98sp/foBWzbn7svPFeQi0iuU710Icb0bcXzNzZk6bbf6Dg0ifdnbebsudy5d64gF5FcKSTE+FOrKiQMiaZl9RL8a9Iqbh05h/V7Dntdms8pyEUkV7uiWH4+uOcqht3elM37jtJtxCxe/2F9rmrCpSAXkVzPzLixWQWmx8XQsUFZXpu+jhten8WK7bmjCZeCXETyjFKF8vHGnc15t/eVHDh2ih5vzuKlqas5cfqs16Vli4JcRPKcjg3KkTAkhtuvqsQ7iZvoMnwm8zb96nVZl01BLiJ5UtH84bzUszGfP9CSs+ccvd6dx9PjV3D4xGmvS7tk2b1D0HNmtjz9phIJZnaFrwoTEQmENjVL8f3g9jzQrhpfLPiFjkOT+GlNcDXhyu4e+avOucbOuabAJOCZ7JckIhJYBSLC+Nv19Rn7UBsK5Qvj3g8XMnjMEvYHSROubAW5c+7QeU8LArnzbHsRyROaVS7OpIHtGHRdLSYt30WH+ES+W7Yzx1/mn+1j5Gb2gpltA+5Ce+QiEuTyhYUypENtJg1sR8Xi+Xn0iyX0/XgRuw/m3CZcF71np5nNAMplMOtp59yE85Z7Eoh0zv0jk/X0A/oBVK5c+cqtW7dedtEiIoFw9pzj/VmbeW36WsJDQniqWz16XVUJM/Oknszu2emzmy+bWRVgsnOu4cWW1c2XRSSYbNl3lCfGLWfepv20rl6Sl29uRJWSBQNeh19uvmxmtc572h1Yk531iYjkRFVLFeTzB1rx4k2NSNlxkE7Dknhv5qYc04Qru8fIXzazFDNbDnQEBvmgJhGRHCckxLizZWUS4qJpW6MUz09eTc+357B2t/dNuHx2aOVS6NCKiAQz5xzfLd/FsxNXcvjEaR65piYPX12TiDD/XmPpl0MrIiJ5kZnRvckVzIiLoWuj8gybsZ4bXp/F0m2/eVKPglxE5DKVKBjB8F7NGN0nioPHT9Pzrdm8MHkVx08FtgmXglxEJJuuq1eWhLhoerWozKiZm+k0LIk5G/cFbPsKchERHygSGc6LNzXii76tMIM7R83nyXErOBSAJlwKchERH2pdoyTfD4qmX3R1vlz4Cx3iE5mxao9ft6kgFxHxsfwRoTzVtR7jH25L8QIRPPBxMgO/WMKvR076ZXsKchERP2lSqRgTB7QjrkNtpqbsIjY+kbkbfX8DCwW5iIgfRYSFMPC6Wkwe2J6GFYpStVQBn28jzOdrFBGR/1G7bGE+ub+lX9atPXIRkSCnIBcRCXIKchGRIKcgFxEJcgpyEZEgpyAXEQlyCnIRkSCnIBcRCXKe3CHIzFKBrZf55aWAwPWHzDrVdWlU16VRXZcmp9YF2autinOu9IUTPQny7DCz5IxudeQ11XVpVNelUV2XJqfWBf6pTYdWRESCnIJcRCTIBWOQv+t1AZlQXZdGdV0a1XVpcmpd4Ifagu4YuYiI/Ldg3CMXEZHzKMhFRIJcjgxyM7vVzFaa2Tkzi7pg3pNmtsHM1ppZp0y+voSZTTez9emfi/uhxi/NbGn6xxYzW5rJclvMbEX6csm+riOD7T1rZjvOq61rJst1Th/DDWb2RADqetXM1pjZcjMbb2bFMlkuION1se/f0oxIn7/czJr7q5bztlnJzH4ys9XpP/+DMljmajM7eN7r+4y/60rf7h++Lh6NV53zxmGpmR0ys8EXLBOQ8TKz981sr5mlnDctSznkk99F51yO+wDqAXWAn4Go86bXB5YB+YBqwEYgNIOvfwV4Iv3xE8C//Vzva8AzmczbApQK4Ng9C/z5IsuEpo9ddSAifUzr+7mujkBY+uN/Z/aaBGK8svL9A12BqYABrYD5AXjtygPN0x8XBtZlUNfVwKRA/Txl9XXxYrwyeE13k3bBTMDHC4gGmgMp5027aA756ncxR+6RO+dWO+fWZjCrBzDGOXfSObcZ2AC0yGS5j9IffwTc6JdCSdsTAW4DvvDXNvygBbDBObfJOXcKGEPamPmNcy7BOXcm/ek8oKI/t3cRWfn+ewAfuzTzgGJmVt6fRTnndjnnFqc/PgysBir4c5s+FPDxusB1wEbn3OVeMZ4tzrkkYP8Fk7OSQz75XcyRQf4HKgDbznu+nYx/0Ms653ZB2i8HUMaPNbUH9jjn1mcy3wEJZrbIzPr5sY7zDUj/9/b9TP6dy+o4+st9pO29ZSQQ45WV79/TMTKzqkAzYH4Gs1ub2TIzm2pmDQJU0sVeF69/pnqR+c6UF+MFWcshn4ybZzdfNrMZQLkMZj3tnJuQ2ZdlMM1v509mscY7+OO98bbOuZ1mVgaYbmZr0v96+6Uu4G3gOdLG5TnSDvvcd+EqMvjabI9jVsbLzJ4GzgCfZbIan49XRqVmMO3C7z+gP2v/tWGzQsBYYLBz7tAFsxeTdvjgSPr7H98CtQJQ1sVeFy/HKwLoDjyZwWyvxiurfDJungW5cy72Mr5sO1DpvOcVgZ0ZLLfHzMo753al/3u31x81mlkY0BO48g/WsTP9814zG0/av1LZCqasjp2ZjQImZTArq+Po07rMrA9wPXCdSz9AmME6fD5eGcjK9++XMboYMwsnLcQ/c86Nu3D++cHunJtiZm+ZWSnnnF8bRGXhdfFkvNJ1ARY75/ZcOMOr8UqXlRzyybgF26GViUAvM8tnZtVI+8u6IJPl+qQ/7gNktoefXbHAGufc9oxmmllBMyv8+2PS3vBLyWhZX7nguORNmWxvIVDLzKql7830Im3M/FlXZ+BxoLtz7lgmywRqvLLy/U8E7k4/G6MVcPD3f5P9Jf39ltHAaudcfCbLlEtfDjNrQdrv8K9+risrr0vAx+s8mf5X7MV4nScrOeSb30V/v5t7OR+kBdB24CSwB5h23rynSXuXdy3Q5bzp75F+hgtQEvgBWJ/+uYSf6vwQ6H/BtCuAKemPq5P2LvQyYCVphxj8PXafACuA5ek/EOUvrCv9eVfSzorYGKC6NpB2LHBp+sdIL8cro+8f6P/760nav7xvps9fwXlnT/mxpnak/Vu9/Lxx6npBXQPSx2YZaW8atwlAXRm+Ll6PV/p2C5AWzEXPmxbw8SLtD8ku4HR6dt2fWQ7543dRl+iLiAS5YDu0IiIiF1CQi4gEOQW5iEiQU5CLiAQ5BbmISJBTkIuIBDkFuYhIkPs/7PeZrNT/0qQAAAAASUVORK5CYII=\n",
          "text/plain": "<Figure size 432x288 with 1 Axes>"
         },
         "metadata": {
          "needs_background": "light"
         },
         "output_type": "display_data"
        }
       ]
      }
     },
     "4093b9f58afb4ac2bcf6c2ba1bcf7734": {
      "model_module": "@jupyter-widgets/output",
      "model_module_version": "1.0.0",
      "model_name": "OutputModel",
      "state": {
       "layout": "IPY_MODEL_6a92f3ff4cad4344ac4b54e8c7d27be1",
       "outputs": [
        {
         "data": {
          "image/png": "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\n",
          "text/plain": "<Figure size 432x288 with 1 Axes>"
         },
         "metadata": {
          "needs_background": "light"
         },
         "output_type": "display_data"
        }
       ]
      }
     },
     "40f069a783f7443391816b6758c8427e": {
      "model_module": "@jupyter-widgets/base",
      "model_module_version": "1.2.0",
      "model_name": "LayoutModel",
      "state": {}
     },
     "411b5d54779f4e1fa089a5018abca0f3": {
      "model_module": "@jupyter-widgets/controls",
      "model_module_version": "1.5.0",
      "model_name": "VBoxModel",
      "state": {
       "_dom_classes": [
        "widget-interact"
       ],
       "children": [
        "IPY_MODEL_fa62f00db1234ed2bd62a7ae41248be4",
        "IPY_MODEL_cda20b5dfb384174baf1d08e7e73fd81",
        "IPY_MODEL_4093b9f58afb4ac2bcf6c2ba1bcf7734"
       ],
       "layout": "IPY_MODEL_d561a492a1304345a4c043a9595463b4"
      }
     },
     "41a2ae85bb83424983dbbf51241e85b7": {
      "model_module": "@jupyter-widgets/base",
      "model_module_version": "1.2.0",
      "model_name": "LayoutModel",
      "state": {}
     },
     "41d7568c793f44cda41cbda0fda62d4c": {
      "model_module": "@jupyter-widgets/controls",
      "model_module_version": "1.5.0",
      "model_name": "FloatSliderModel",
      "state": {
       "description": "b",
       "layout": "IPY_MODEL_a7c1ae3338794c9aa583fd3aee886089",
       "max": 3,
       "min": -3,
       "step": 0.5,
       "style": "IPY_MODEL_7967cb501cbf49dc83dd4fe9f10e8607"
      }
     },
     "423a3917beac4932ad8c14e8260daacc": {
      "model_module": "@jupyter-widgets/base",
      "model_module_version": "1.2.0",
      "model_name": "LayoutModel",
      "state": {
       "height": "350px"
      }
     },
     "428026fea07e449c9203ed9987d1f3db": {
      "model_module": "@jupyter-widgets/base",
      "model_module_version": "1.2.0",
      "model_name": "LayoutModel",
      "state": {}
     },
     "438c45834752489da2c5c1eed6859374": {
      "model_module": "@jupyter-widgets/controls",
      "model_module_version": "1.5.0",
      "model_name": "VBoxModel",
      "state": {
       "_dom_classes": [
        "widget-interact"
       ],
       "children": [
        "IPY_MODEL_caa274082b1b40469ecb5fca758e468a",
        "IPY_MODEL_3df6856f0b154aec99eae423a9eadb42",
        "IPY_MODEL_858fe4a3f3834ff4bd60ae9518182a0a"
       ],
       "layout": "IPY_MODEL_c0d10146050d49438d646ac333fe02ee"
      }
     },
     "43e3e2f38dae4ae394cd3631b29d08d8": {
      "model_module": "@jupyter-widgets/base",
      "model_module_version": "1.2.0",
      "model_name": "LayoutModel",
      "state": {}
     },
     "44ed98e554a64bbbbd5925c4864471ff": {
      "model_module": "@jupyter-widgets/controls",
      "model_module_version": "1.5.0",
      "model_name": "SliderStyleModel",
      "state": {
       "description_width": ""
      }
     },
     "44f83536f7f946deaf03f1aa77ee9e22": {
      "model_module": "@jupyter-widgets/controls",
      "model_module_version": "1.5.0",
      "model_name": "VBoxModel",
      "state": {
       "_dom_classes": [
        "widget-interact"
       ],
       "children": [
        "IPY_MODEL_ffdcf26f74904d0abb8ac9647637ea5e",
        "IPY_MODEL_4b914ab254824ed99de17d1af27883d5",
        "IPY_MODEL_0408747ec1b646bc8bc52c6d6ca9c28c"
       ],
       "layout": "IPY_MODEL_a41faef47c414a89b81cfda2e390f857"
      }
     },
     "45d63321135b44e584d870d500014e35": {
      "model_module": "@jupyter-widgets/base",
      "model_module_version": "1.2.0",
      "model_name": "LayoutModel",
      "state": {}
     },
     "4897e94ca264407487b2d871e78e2047": {
      "model_module": "@jupyter-widgets/controls",
      "model_module_version": "1.5.0",
      "model_name": "SliderStyleModel",
      "state": {
       "description_width": ""
      }
     },
     "495b7f89c7e942ce8f4ec0143fa9f1e7": {
      "model_module": "@jupyter-widgets/controls",
      "model_module_version": "1.5.0",
      "model_name": "SliderStyleModel",
      "state": {
       "description_width": ""
      }
     },
     "4a0f9546c8894e1cb15b52929ff7727d": {
      "model_module": "@jupyter-widgets/controls",
      "model_module_version": "1.5.0",
      "model_name": "SliderStyleModel",
      "state": {
       "description_width": ""
      }
     },
     "4b4fcfcdce6944cc8a10591092f132f5": {
      "model_module": "@jupyter-widgets/base",
      "model_module_version": "1.2.0",
      "model_name": "LayoutModel",
      "state": {}
     },
     "4b914ab254824ed99de17d1af27883d5": {
      "model_module": "@jupyter-widgets/controls",
      "model_module_version": "1.5.0",
      "model_name": "FloatSliderModel",
      "state": {
       "description": "b",
       "layout": "IPY_MODEL_dc0b3ec1c96040ab9c8beae2bdb79184",
       "max": 3,
       "min": -3,
       "step": 0.5,
       "style": "IPY_MODEL_d572014b398c4a8987558b88470804ef"
      }
     },
     "4ba945211f034caaa29bf5954c8257aa": {
      "model_module": "@jupyter-widgets/base",
      "model_module_version": "1.2.0",
      "model_name": "LayoutModel",
      "state": {
       "height": "350px"
      }
     },
     "4caa6e0233d6416687a3b70af5ca67e2": {
      "model_module": "@jupyter-widgets/controls",
      "model_module_version": "1.5.0",
      "model_name": "SliderStyleModel",
      "state": {
       "description_width": ""
      }
     },
     "4cfc508a4b5b4fe39ca3c8dd3d97798d": {
      "model_module": "@jupyter-widgets/base",
      "model_module_version": "1.2.0",
      "model_name": "LayoutModel",
      "state": {}
     },
     "4d1116e8d0014db09c775d3810bb931d": {
      "model_module": "@jupyter-widgets/controls",
      "model_module_version": "1.5.0",
      "model_name": "FloatSliderModel",
      "state": {
       "description": "b",
       "layout": "IPY_MODEL_b12fbd034da2447286d7720986472e07",
       "max": 3,
       "min": -3,
       "step": 0.5,
       "style": "IPY_MODEL_91ff77424ca14fcf887d2fb2081584b4"
      }
     },
     "4d3b16a461d142ee82de202683ea2799": {
      "model_module": "@jupyter-widgets/controls",
      "model_module_version": "1.5.0",
      "model_name": "VBoxModel",
      "state": {
       "_dom_classes": [
        "widget-interact"
       ],
       "children": [
        "IPY_MODEL_4e7e58e4b9024a0eaffe907b3952d472",
        "IPY_MODEL_0787c6c26bff42e4b1834337811c8c2d",
        "IPY_MODEL_630a1cf9d26149b78c6cb98f9f42b2a7"
       ],
       "layout": "IPY_MODEL_d8b38dded39345888ae6739b84043975"
      }
     },
     "4dd346907ee14418803e00349de17fa7": {
      "model_module": "@jupyter-widgets/controls",
      "model_module_version": "1.5.0",
      "model_name": "VBoxModel",
      "state": {
       "_dom_classes": [
        "widget-interact"
       ],
       "children": [
        "IPY_MODEL_ab47f16138ed4c9891dda1a0e77a4d7e",
        "IPY_MODEL_8f823411a9b648ccb69604a34c1f3aa7",
        "IPY_MODEL_f05f031e0ac64bad9e929906653b55fd"
       ],
       "layout": "IPY_MODEL_94340fd373a7487895963cf2fbd05a1f"
      }
     },
     "4e7e58e4b9024a0eaffe907b3952d472": {
      "model_module": "@jupyter-widgets/controls",
      "model_module_version": "1.5.0",
      "model_name": "FloatSliderModel",
      "state": {
       "description": "m",
       "layout": "IPY_MODEL_67c9fd7608764e19a98377cb5e0d5703",
       "max": 2,
       "min": -2,
       "step": 0.1,
       "style": "IPY_MODEL_44ed98e554a64bbbbd5925c4864471ff"
      }
     },
     "4ff694cc7dac4fd088d5f99303f9a7f8": {
      "model_module": "@jupyter-widgets/controls",
      "model_module_version": "1.5.0",
      "model_name": "SliderStyleModel",
      "state": {
       "description_width": ""
      }
     },
     "5174273c0a9945ed8f5e661faf493a61": {
      "model_module": "@jupyter-widgets/controls",
      "model_module_version": "1.5.0",
      "model_name": "SliderStyleModel",
      "state": {
       "description_width": ""
      }
     },
     "52bcf2c603954da3b97fd9edebb3ea3c": {
      "model_module": "@jupyter-widgets/controls",
      "model_module_version": "1.5.0",
      "model_name": "VBoxModel",
      "state": {
       "_dom_classes": [
        "widget-interact"
       ],
       "children": [
        "IPY_MODEL_b3a554eb0ccf4c90a76f73b30a523937",
        "IPY_MODEL_c4ce36dd532140f3809fab0c953617ea",
        "IPY_MODEL_b64cdbe1fb54443d845c6982a17ae013"
       ],
       "layout": "IPY_MODEL_8330c8afcb2d4cf1af6d57a8d9e6555b"
      }
     },
     "52f2fc286b8e42708f61ec0cd0d43270": {
      "model_module": "@jupyter-widgets/base",
      "model_module_version": "1.2.0",
      "model_name": "LayoutModel",
      "state": {
       "height": "350px"
      }
     },
     "539836812d304cabb71d6c322e96d145": {
      "model_module": "@jupyter-widgets/base",
      "model_module_version": "1.2.0",
      "model_name": "LayoutModel",
      "state": {}
     },
     "53fdaa2704d54973bf61f6f0bc323c54": {
      "model_module": "@jupyter-widgets/base",
      "model_module_version": "1.2.0",
      "model_name": "LayoutModel",
      "state": {}
     },
     "5581b4280a3e44c18209b826b8b283de": {
      "model_module": "@jupyter-widgets/controls",
      "model_module_version": "1.5.0",
      "model_name": "SliderStyleModel",
      "state": {
       "description_width": ""
      }
     },
     "56c7e72f7bbe4a5aa979c2d69c7eb89e": {
      "model_module": "@jupyter-widgets/controls",
      "model_module_version": "1.5.0",
      "model_name": "FloatSliderModel",
      "state": {
       "description": "m",
       "layout": "IPY_MODEL_5952d001803c4740961621b4254d42ed",
       "max": 2,
       "min": -2,
       "step": 0.1,
       "style": "IPY_MODEL_f40b2dcffaf940608d7812855d555c49",
       "value": -0.1
      }
     },
     "576440411c8145f79a15a2558629aa9b": {
      "model_module": "@jupyter-widgets/controls",
      "model_module_version": "1.5.0",
      "model_name": "SliderStyleModel",
      "state": {
       "description_width": ""
      }
     },
     "5952d001803c4740961621b4254d42ed": {
      "model_module": "@jupyter-widgets/base",
      "model_module_version": "1.2.0",
      "model_name": "LayoutModel",
      "state": {}
     },
     "5ae1df353dd243af94401db48d2f51e4": {
      "model_module": "@jupyter-widgets/controls",
      "model_module_version": "1.5.0",
      "model_name": "SliderStyleModel",
      "state": {
       "description_width": ""
      }
     },
     "5b8c185fe96f49b5ad72de133c977ea8": {
      "model_module": "@jupyter-widgets/controls",
      "model_module_version": "1.5.0",
      "model_name": "VBoxModel",
      "state": {
       "_dom_classes": [
        "widget-interact"
       ],
       "children": [
        "IPY_MODEL_338c281b25f74dd4892afb656314520f",
        "IPY_MODEL_b70df65b36cb435dbdd0fb4a4b7950ca",
        "IPY_MODEL_dc2bb49c4ca348c587bc07527680115f"
       ],
       "layout": "IPY_MODEL_1c201c863afe4e6096d03b9a804511dd"
      }
     },
     "5d5be612ed4e41c89de0eba782e9a757": {
      "model_module": "@jupyter-widgets/controls",
      "model_module_version": "1.5.0",
      "model_name": "SliderStyleModel",
      "state": {
       "description_width": ""
      }
     },
     "5e48313fec8345578ea5c7faca20b7c9": {
      "model_module": "@jupyter-widgets/controls",
      "model_module_version": "1.5.0",
      "model_name": "SliderStyleModel",
      "state": {
       "description_width": ""
      }
     },
     "5e5a7ed5ced04239b6fc8648179e3e5a": {
      "model_module": "@jupyter-widgets/controls",
      "model_module_version": "1.5.0",
      "model_name": "FloatSliderModel",
      "state": {
       "description": "m",
       "layout": "IPY_MODEL_7bf011663af7494f863e0e4967b2bf68",
       "max": 2,
       "min": -2,
       "step": 0.1,
       "style": "IPY_MODEL_13f5f85bd8ed4a46895edf15f667ad28",
       "value": 0.8
      }
     },
     "5f74f7927fa74c56a67f9b9859b7be4f": {
      "model_module": "@jupyter-widgets/controls",
      "model_module_version": "1.5.0",
      "model_name": "SliderStyleModel",
      "state": {
       "description_width": ""
      }
     },
     "5fa3116168174df1990fd677cc4635cc": {
      "model_module": "@jupyter-widgets/controls",
      "model_module_version": "1.5.0",
      "model_name": "SliderStyleModel",
      "state": {
       "description_width": ""
      }
     },
     "60538f35f72f4e22b0f76ccf8bbdce71": {
      "model_module": "@jupyter-widgets/base",
      "model_module_version": "1.2.0",
      "model_name": "LayoutModel",
      "state": {}
     },
     "616f62a0a20848e89c2513a5b474a0ab": {
      "model_module": "@jupyter-widgets/controls",
      "model_module_version": "1.5.0",
      "model_name": "VBoxModel",
      "state": {
       "_dom_classes": [
        "widget-interact"
       ],
       "children": [
        "IPY_MODEL_d23f00a349014dcb81dbae284cd39e33",
        "IPY_MODEL_91aa746980b84665ae95fdbdbaf143fe",
        "IPY_MODEL_f801130be92e481ca659e86022e4712b"
       ],
       "layout": "IPY_MODEL_b4bdd7d911c047d8a8ad44821bfff130"
      }
     },
     "630a1cf9d26149b78c6cb98f9f42b2a7": {
      "model_module": "@jupyter-widgets/output",
      "model_module_version": "1.0.0",
      "model_name": "OutputModel",
      "state": {
       "layout": "IPY_MODEL_b0ac9211d06e4a2696975cf73439fcee",
       "outputs": [
        {
         "ename": "ValueError",
         "evalue": "The passed figure is not managed by pyplot",
         "output_type": "error",
         "traceback": [
          "\u001b[0;31m---------------------------------------------------------------------------\u001b[0m",
          "\u001b[0;31mValueError\u001b[0m                                Traceback (most recent call last)",
          "File \u001b[0;32m~/anaconda3/envs/train/lib/python3.9/site-packages/ipywidgets/widgets/interaction.py:257\u001b[0m, in \u001b[0;36minteractive.update\u001b[0;34m(self, *args)\u001b[0m\n\u001b[1;32m    255\u001b[0m     value \u001b[38;5;241m=\u001b[39m widget\u001b[38;5;241m.\u001b[39mget_interact_value()\n\u001b[1;32m    256\u001b[0m     \u001b[38;5;28mself\u001b[39m\u001b[38;5;241m.\u001b[39mkwargs[widget\u001b[38;5;241m.\u001b[39m_kwarg] \u001b[38;5;241m=\u001b[39m value\n\u001b[0;32m--> 257\u001b[0m \u001b[38;5;28mself\u001b[39m\u001b[38;5;241m.\u001b[39mresult \u001b[38;5;241m=\u001b[39m \u001b[38;5;28;43mself\u001b[39;49m\u001b[38;5;241;43m.\u001b[39;49m\u001b[43mf\u001b[49m\u001b[43m(\u001b[49m\u001b[38;5;241;43m*\u001b[39;49m\u001b[38;5;241;43m*\u001b[39;49m\u001b[38;5;28;43mself\u001b[39;49m\u001b[38;5;241;43m.\u001b[39;49m\u001b[43mkwargs\u001b[49m\u001b[43m)\u001b[49m\n\u001b[1;32m    258\u001b[0m show_inline_matplotlib_plots()\n\u001b[1;32m    259\u001b[0m \u001b[38;5;28;01mif\u001b[39;00m \u001b[38;5;28mself\u001b[39m\u001b[38;5;241m.\u001b[39mauto_display \u001b[38;5;129;01mand\u001b[39;00m \u001b[38;5;28mself\u001b[39m\u001b[38;5;241m.\u001b[39mresult \u001b[38;5;129;01mis\u001b[39;00m \u001b[38;5;129;01mnot\u001b[39;00m \u001b[38;5;28;01mNone\u001b[39;00m:\n",
          "Input \u001b[0;32mIn [23]\u001b[0m, in \u001b[0;36mf\u001b[0;34m(m, b)\u001b[0m\n\u001b[1;32m     13\u001b[0m \u001b[38;5;28;01mdef\u001b[39;00m \u001b[38;5;21mf\u001b[39m(m, b):\n\u001b[1;32m     14\u001b[0m     \u001b[38;5;28;01mglobal\u001b[39;00m axes\n\u001b[0;32m---> 15\u001b[0m     \u001b[43mplt\u001b[49m\u001b[38;5;241;43m.\u001b[39;49m\u001b[43msca\u001b[49m\u001b[43m(\u001b[49m\u001b[43maxes\u001b[49m\u001b[43m)\u001b[49m  \u001b[38;5;66;03m# ******** 如果不进行选择画在哪个axis上，则不能显示话出来的内容 ********\u001b[39;00m\n\u001b[1;32m     16\u001b[0m     axes\u001b[38;5;241m.\u001b[39mclear()  \u001b[38;5;66;03m# 如果去掉，则在原图上一直累加显示\u001b[39;00m\n\u001b[1;32m     17\u001b[0m     x \u001b[38;5;241m=\u001b[39m np\u001b[38;5;241m.\u001b[39mlinspace(\u001b[38;5;241m-\u001b[39m\u001b[38;5;241m10\u001b[39m, \u001b[38;5;241m10\u001b[39m, num\u001b[38;5;241m=\u001b[39m\u001b[38;5;241m1000\u001b[39m)\n",
          "File \u001b[0;32m~/anaconda3/envs/train/lib/python3.9/site-packages/matplotlib/pyplot.py:1085\u001b[0m, in \u001b[0;36msca\u001b[0;34m(ax)\u001b[0m\n\u001b[1;32m   1081\u001b[0m \u001b[38;5;28;01mdef\u001b[39;00m \u001b[38;5;21msca\u001b[39m(ax):\n\u001b[1;32m   1082\u001b[0m     \u001b[38;5;124;03m\"\"\"\u001b[39;00m\n\u001b[1;32m   1083\u001b[0m \u001b[38;5;124;03m    Set the current Axes to *ax* and the current Figure to the parent of *ax*.\u001b[39;00m\n\u001b[1;32m   1084\u001b[0m \u001b[38;5;124;03m    \"\"\"\u001b[39;00m\n\u001b[0;32m-> 1085\u001b[0m     \u001b[43mfigure\u001b[49m\u001b[43m(\u001b[49m\u001b[43max\u001b[49m\u001b[38;5;241;43m.\u001b[39;49m\u001b[43mfigure\u001b[49m\u001b[43m)\u001b[49m\n\u001b[1;32m   1086\u001b[0m     ax\u001b[38;5;241m.\u001b[39mfigure\u001b[38;5;241m.\u001b[39msca(ax)\n",
          "File \u001b[0;32m~/anaconda3/envs/train/lib/python3.9/site-packages/matplotlib/pyplot.py:753\u001b[0m, in \u001b[0;36mfigure\u001b[0;34m(num, figsize, dpi, facecolor, edgecolor, frameon, FigureClass, clear, **kwargs)\u001b[0m\n\u001b[1;32m    751\u001b[0m \u001b[38;5;28;01mif\u001b[39;00m \u001b[38;5;28misinstance\u001b[39m(num, Figure):\n\u001b[1;32m    752\u001b[0m     \u001b[38;5;28;01mif\u001b[39;00m num\u001b[38;5;241m.\u001b[39mcanvas\u001b[38;5;241m.\u001b[39mmanager \u001b[38;5;129;01mis\u001b[39;00m \u001b[38;5;28;01mNone\u001b[39;00m:\n\u001b[0;32m--> 753\u001b[0m         \u001b[38;5;28;01mraise\u001b[39;00m \u001b[38;5;167;01mValueError\u001b[39;00m(\u001b[38;5;124m\"\u001b[39m\u001b[38;5;124mThe passed figure is not managed by pyplot\u001b[39m\u001b[38;5;124m\"\u001b[39m)\n\u001b[1;32m    754\u001b[0m     _pylab_helpers\u001b[38;5;241m.\u001b[39mGcf\u001b[38;5;241m.\u001b[39mset_active(num\u001b[38;5;241m.\u001b[39mcanvas\u001b[38;5;241m.\u001b[39mmanager)\n\u001b[1;32m    755\u001b[0m     \u001b[38;5;28;01mreturn\u001b[39;00m num\n",
          "\u001b[0;31mValueError\u001b[0m: The passed figure is not managed by pyplot"
         ]
        }
       ]
      }
     },
     "6496473aadb148a9bf920c982be3199b": {
      "model_module": "@jupyter-widgets/base",
      "model_module_version": "1.2.0",
      "model_name": "LayoutModel",
      "state": {
       "height": "350px"
      }
     },
     "6589ab353e484d13ae2032e02fa81d3c": {
      "model_module": "@jupyter-widgets/output",
      "model_module_version": "1.0.0",
      "model_name": "OutputModel",
      "state": {
       "layout": "IPY_MODEL_6915b0e633a24cb98a91830109d58840",
       "outputs": [
        {
         "data": {
          "image/png": "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\n",
          "text/plain": "<Figure size 432x288 with 1 Axes>"
         },
         "metadata": {
          "needs_background": "light"
         },
         "output_type": "display_data"
        }
       ]
      }
     },
     "664aa457787f4f9c89b07cd54ab7131d": {
      "model_module": "@jupyter-widgets/controls",
      "model_module_version": "1.5.0",
      "model_name": "FloatSliderModel",
      "state": {
       "description": "m",
       "layout": "IPY_MODEL_17acf5c90de5443ca6e0ec84346243a3",
       "max": 2,
       "min": -2,
       "step": 0.1,
       "style": "IPY_MODEL_24939a3d85894374b7a9fe0486c2bed1",
       "value": -0.9
      }
     },
     "6655d23fc9a4404d9a548b8f7f4cfbab": {
      "model_module": "@jupyter-widgets/controls",
      "model_module_version": "1.5.0",
      "model_name": "FloatSliderModel",
      "state": {
       "description": "b",
       "layout": "IPY_MODEL_bbc998021f2545f28280fbc36d0ce25a",
       "max": 3,
       "min": -3,
       "step": 0.5,
       "style": "IPY_MODEL_6986948a031441f286c7eae5a33a4222"
      }
     },
     "67c9fd7608764e19a98377cb5e0d5703": {
      "model_module": "@jupyter-widgets/base",
      "model_module_version": "1.2.0",
      "model_name": "LayoutModel",
      "state": {}
     },
     "67f0d38f17b046448046e6d70a249a42": {
      "model_module": "@jupyter-widgets/controls",
      "model_module_version": "1.5.0",
      "model_name": "SliderStyleModel",
      "state": {
       "description_width": ""
      }
     },
     "6847ebddc55142f795536ce7ee62fa89": {
      "model_module": "@jupyter-widgets/base",
      "model_module_version": "1.2.0",
      "model_name": "LayoutModel",
      "state": {}
     },
     "6893bfb2cd2e4549b2f2df0a6a9a64be": {
      "model_module": "@jupyter-widgets/output",
      "model_module_version": "1.0.0",
      "model_name": "OutputModel",
      "state": {
       "layout": "IPY_MODEL_4ba945211f034caaa29bf5954c8257aa",
       "outputs": [
        {
         "data": {
          "text/plain": "<Figure size 432x288 with 0 Axes>"
         },
         "metadata": {},
         "output_type": "display_data"
        }
       ]
      }
     },
     "6915b0e633a24cb98a91830109d58840": {
      "model_module": "@jupyter-widgets/base",
      "model_module_version": "1.2.0",
      "model_name": "LayoutModel",
      "state": {
       "height": "350px"
      }
     },
     "6986948a031441f286c7eae5a33a4222": {
      "model_module": "@jupyter-widgets/controls",
      "model_module_version": "1.5.0",
      "model_name": "SliderStyleModel",
      "state": {
       "description_width": ""
      }
     },
     "6a55924603d54096890a63d39e773e1e": {
      "model_module": "@jupyter-widgets/controls",
      "model_module_version": "1.5.0",
      "model_name": "SliderStyleModel",
      "state": {
       "description_width": ""
      }
     },
     "6a92f3ff4cad4344ac4b54e8c7d27be1": {
      "model_module": "@jupyter-widgets/base",
      "model_module_version": "1.2.0",
      "model_name": "LayoutModel",
      "state": {
       "height": "350px"
      }
     },
     "6b361915177a4380b680b9a0f28ad7ab": {
      "model_module": "@jupyter-widgets/controls",
      "model_module_version": "1.5.0",
      "model_name": "SliderStyleModel",
      "state": {
       "description_width": ""
      }
     },
     "6b36dad9709845e981733688394d6ce4": {
      "model_module": "@jupyter-widgets/controls",
      "model_module_version": "1.5.0",
      "model_name": "SliderStyleModel",
      "state": {
       "description_width": ""
      }
     },
     "6caba8b445ac4b18b2a476fad716d0d2": {
      "model_module": "@jupyter-widgets/controls",
      "model_module_version": "1.5.0",
      "model_name": "FloatSliderModel",
      "state": {
       "description": "b",
       "layout": "IPY_MODEL_83fbd80c2d47426dbf0785bcaefc2649",
       "max": 3,
       "min": -3,
       "step": 0.5,
       "style": "IPY_MODEL_4ff694cc7dac4fd088d5f99303f9a7f8"
      }
     },
     "6dc9bb74f6c548d0bb2f1c09ab2badec": {
      "model_module": "@jupyter-widgets/controls",
      "model_module_version": "1.5.0",
      "model_name": "FloatSliderModel",
      "state": {
       "description": "b",
       "layout": "IPY_MODEL_45d63321135b44e584d870d500014e35",
       "max": 3,
       "min": -3,
       "step": 0.5,
       "style": "IPY_MODEL_e5c5348128a14d6bbf6750f4a2b5637b"
      }
     },
     "6e2f73c25eec412282f3812683d52d2e": {
      "model_module": "@jupyter-widgets/base",
      "model_module_version": "1.2.0",
      "model_name": "LayoutModel",
      "state": {}
     },
     "6e8442f5eb6148188c898ae47b28b157": {
      "model_module": "@jupyter-widgets/controls",
      "model_module_version": "1.5.0",
      "model_name": "FloatSliderModel",
      "state": {
       "description": "b",
       "layout": "IPY_MODEL_8f38ff35ce844d52aaa40a6eea98fb15",
       "max": 3,
       "min": -3,
       "step": 0.5,
       "style": "IPY_MODEL_711f9d3f6ff5478d9cab4dbcc5137dfc"
      }
     },
     "6f672a3f84834155a72f1b0d4e0101e8": {
      "model_module": "@jupyter-widgets/base",
      "model_module_version": "1.2.0",
      "model_name": "LayoutModel",
      "state": {}
     },
     "70595d3cf06248bc9d5d7394e7940972": {
      "model_module": "@jupyter-widgets/controls",
      "model_module_version": "1.5.0",
      "model_name": "FloatSliderModel",
      "state": {
       "description": "m",
       "layout": "IPY_MODEL_f61d9c9c6bf747c09f8219d061fb66b7",
       "max": 2,
       "min": -2,
       "step": 0.1,
       "style": "IPY_MODEL_e0df90dd98204718bfaa4b8d664c7e1f",
       "value": 1.1
      }
     },
     "706a5f98a6ea4e9fa4bc043afa6bd0be": {
      "model_module": "@jupyter-widgets/base",
      "model_module_version": "1.2.0",
      "model_name": "LayoutModel",
      "state": {}
     },
     "711f9d3f6ff5478d9cab4dbcc5137dfc": {
      "model_module": "@jupyter-widgets/controls",
      "model_module_version": "1.5.0",
      "model_name": "SliderStyleModel",
      "state": {
       "description_width": ""
      }
     },
     "717f0e18946e4d8185e4844734614146": {
      "model_module": "@jupyter-widgets/controls",
      "model_module_version": "1.5.0",
      "model_name": "FloatSliderModel",
      "state": {
       "description": "m",
       "layout": "IPY_MODEL_4b4fcfcdce6944cc8a10591092f132f5",
       "max": 2,
       "min": -2,
       "step": 0.1,
       "style": "IPY_MODEL_c6f9227e88754b6da7c710e1c5b47412"
      }
     },
     "72ec6d460bad46ae9e0f30a7b3827334": {
      "model_module": "@jupyter-widgets/output",
      "model_module_version": "1.0.0",
      "model_name": "OutputModel",
      "state": {
       "layout": "IPY_MODEL_1b33a9a336404dbcae9dd2b285fcf0a1"
      }
     },
     "73c48d8a90604ff79856848ed4fa7e59": {
      "model_module": "@jupyter-widgets/controls",
      "model_module_version": "1.5.0",
      "model_name": "FloatSliderModel",
      "state": {
       "description": "m",
       "layout": "IPY_MODEL_428026fea07e449c9203ed9987d1f3db",
       "max": 2,
       "min": -2,
       "step": 0.1,
       "style": "IPY_MODEL_ea18a2bb3c0c46b39b01286ca2a8b41f"
      }
     },
     "73fff4e16acb4c049ada6476f630d468": {
      "model_module": "@jupyter-widgets/controls",
      "model_module_version": "1.5.0",
      "model_name": "FloatSliderModel",
      "state": {
       "description": "b",
       "layout": "IPY_MODEL_2d1d3e1754054f8689a68458b6c77b5e",
       "max": 3,
       "min": -3,
       "step": 0.5,
       "style": "IPY_MODEL_d1cf36bc985e4422b3e658e25f8c0c70"
      }
     },
     "740895c20cf24f138771df4084572d84": {
      "model_module": "@jupyter-widgets/base",
      "model_module_version": "1.2.0",
      "model_name": "LayoutModel",
      "state": {}
     },
     "7560b99fc013438d99895f5d6b0bbaaa": {
      "model_module": "@jupyter-widgets/controls",
      "model_module_version": "1.5.0",
      "model_name": "FloatSliderModel",
      "state": {
       "description": "m",
       "layout": "IPY_MODEL_f855deda562840eab2bba97e0f4fa5ff",
       "max": 2,
       "min": -2,
       "step": 0.1,
       "style": "IPY_MODEL_dedabcea5d8c48cf82c6a4af6846fb52"
      }
     },
     "758b2656750b46f8a1ff4318d84f2a92": {
      "model_module": "@jupyter-widgets/base",
      "model_module_version": "1.2.0",
      "model_name": "LayoutModel",
      "state": {}
     },
     "75af0da20dc94c1a905a09ab3a4c27b3": {
      "model_module": "@jupyter-widgets/controls",
      "model_module_version": "1.5.0",
      "model_name": "FloatSliderModel",
      "state": {
       "description": "b",
       "layout": "IPY_MODEL_952d20c73b374dc5bf65c5c08b971ad7",
       "max": 3,
       "min": -3,
       "step": 0.5,
       "style": "IPY_MODEL_b6eab67be313438dbfcd24a387d792f2"
      }
     },
     "763d39296511465f93fb8681fe3f50b6": {
      "model_module": "@jupyter-widgets/base",
      "model_module_version": "1.2.0",
      "model_name": "LayoutModel",
      "state": {}
     },
     "7740dba229804cf89cd3b3e344ca84f8": {
      "model_module": "@jupyter-widgets/controls",
      "model_module_version": "1.5.0",
      "model_name": "FloatSliderModel",
      "state": {
       "description": "b",
       "layout": "IPY_MODEL_a62c477d3090422fad84bf0c1d5f220b",
       "max": 3,
       "min": -3,
       "step": 0.5,
       "style": "IPY_MODEL_5174273c0a9945ed8f5e661faf493a61"
      }
     },
     "7836f382fd6a47fda158e27e25781725": {
      "model_module": "@jupyter-widgets/controls",
      "model_module_version": "1.5.0",
      "model_name": "FloatSliderModel",
      "state": {
       "description": "m",
       "layout": "IPY_MODEL_60538f35f72f4e22b0f76ccf8bbdce71",
       "max": 2,
       "min": -2,
       "step": 0.1,
       "style": "IPY_MODEL_cb17f9571a2840039273efcb3c41b115",
       "value": 0.4
      }
     },
     "785013d3271d4aa386d732ea6b4237e2": {
      "model_module": "@jupyter-widgets/controls",
      "model_module_version": "1.5.0",
      "model_name": "VBoxModel",
      "state": {
       "_dom_classes": [
        "widget-interact"
       ],
       "children": [
        "IPY_MODEL_8a9332119ee4456184fad997e2da91b8",
        "IPY_MODEL_75af0da20dc94c1a905a09ab3a4c27b3",
        "IPY_MODEL_82407ed175fa4733a27a7d8286f8708c"
       ],
       "layout": "IPY_MODEL_b0814be7857542798c412d118b94f99b"
      }
     },
     "7967cb501cbf49dc83dd4fe9f10e8607": {
      "model_module": "@jupyter-widgets/controls",
      "model_module_version": "1.5.0",
      "model_name": "SliderStyleModel",
      "state": {
       "description_width": ""
      }
     },
     "79bf6d285e3c4c099875da3d1a4e4cd9": {
      "model_module": "@jupyter-widgets/output",
      "model_module_version": "1.0.0",
      "model_name": "OutputModel",
      "state": {
       "layout": "IPY_MODEL_53fdaa2704d54973bf61f6f0bc323c54",
       "outputs": [
        {
         "data": {
          "image/png": "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\n",
          "text/plain": "<Figure size 432x288 with 1 Axes>"
         },
         "metadata": {
          "needs_background": "light"
         },
         "output_type": "display_data"
        }
       ]
      }
     },
     "79ea706c1b574748a00b5b41450fd86f": {
      "model_module": "@jupyter-widgets/controls",
      "model_module_version": "1.5.0",
      "model_name": "VBoxModel",
      "state": {
       "_dom_classes": [
        "widget-interact"
       ],
       "children": [
        "IPY_MODEL_73c48d8a90604ff79856848ed4fa7e59",
        "IPY_MODEL_11798ff3627a4ec986428f22b229c4ac",
        "IPY_MODEL_838b72a9cb4e492fb2f96a06efcc1c06"
       ],
       "layout": "IPY_MODEL_2e2137eb6bf6410981fbe0a743bbd095"
      }
     },
     "7ae0af70a8d84eda9db0537721a18331": {
      "model_module": "@jupyter-widgets/controls",
      "model_module_version": "1.5.0",
      "model_name": "FloatSliderModel",
      "state": {
       "description": "m",
       "layout": "IPY_MODEL_209a83a2ba424739b26fdd54c43f5548",
       "max": 2,
       "min": -2,
       "step": 0.1,
       "style": "IPY_MODEL_8c2f69e58cab4496a5083316fbf6dca1"
      }
     },
     "7b5748425a004bf8b9da399a07c33ea2": {
      "model_module": "@jupyter-widgets/controls",
      "model_module_version": "1.5.0",
      "model_name": "SliderStyleModel",
      "state": {
       "description_width": ""
      }
     },
     "7b5e2cd1f27045b8b9a37745d10372f4": {
      "model_module": "@jupyter-widgets/base",
      "model_module_version": "1.2.0",
      "model_name": "LayoutModel",
      "state": {}
     },
     "7bf011663af7494f863e0e4967b2bf68": {
      "model_module": "@jupyter-widgets/base",
      "model_module_version": "1.2.0",
      "model_name": "LayoutModel",
      "state": {}
     },
     "7cd69f1b8d5c440cbec3a673d4428738": {
      "model_module": "@jupyter-widgets/controls",
      "model_module_version": "1.5.0",
      "model_name": "SliderStyleModel",
      "state": {
       "description_width": ""
      }
     },
     "7cdcca89148240379713ab2eecfb570d": {
      "model_module": "@jupyter-widgets/base",
      "model_module_version": "1.2.0",
      "model_name": "LayoutModel",
      "state": {
       "height": "350px"
      }
     },
     "7e449a1a92ec4249a1f903b30b946fc4": {
      "model_module": "@jupyter-widgets/controls",
      "model_module_version": "1.5.0",
      "model_name": "FloatSliderModel",
      "state": {
       "description": "m",
       "layout": "IPY_MODEL_706a5f98a6ea4e9fa4bc043afa6bd0be",
       "max": 2,
       "min": -2,
       "step": 0.1,
       "style": "IPY_MODEL_326d2902507d4ae289dd11aa2e4c6e4b"
      }
     },
     "7ee69a845488407b99294c45f39521af": {
      "model_module": "@jupyter-widgets/base",
      "model_module_version": "1.2.0",
      "model_name": "LayoutModel",
      "state": {
       "height": "350px"
      }
     },
     "802719b0156d4a5e8bbd5bedee77e4cf": {
      "model_module": "@jupyter-widgets/controls",
      "model_module_version": "1.5.0",
      "model_name": "VBoxModel",
      "state": {
       "_dom_classes": [
        "widget-interact"
       ],
       "children": [
        "IPY_MODEL_8ef718f125104a8886b1ca51a2eb9b7b",
        "IPY_MODEL_174f1c19ac234eac84c201f06749f7a7",
        "IPY_MODEL_d98669101d8541bc80c5529247da3825"
       ],
       "layout": "IPY_MODEL_f14c192ec58443209a94b84ef8437c18"
      }
     },
     "81af054435ec4225a9b347092da7838c": {
      "model_module": "@jupyter-widgets/output",
      "model_module_version": "1.0.0",
      "model_name": "OutputModel",
      "state": {
       "layout": "IPY_MODEL_e86b837efa2449bb849221b485131189",
       "outputs": [
        {
         "data": {
          "image/png": "iVBORw0KGgoAAAANSUhEUgAAAXIAAAD4CAYAAADxeG0DAAAAOXRFWHRTb2Z0d2FyZQBNYXRwbG90bGliIHZlcnNpb24zLjUuMSwgaHR0cHM6Ly9tYXRwbG90bGliLm9yZy/YYfK9AAAACXBIWXMAAAsTAAALEwEAmpwYAAAMv0lEQVR4nO3dXYxcZR3H8d/PrpAoKGKLlLa4JRJiURNw0qD4QqBiqVjURFMStQkmDRckkEigtQliuEIiGiNKViCiNtYLQJCUQFGI8QJkW/tCKS8Fi5QWWDQBDAna8PdiDsl0mNk9s/PMTP/6/SSbzpxz9pxnntn97pmzs+CIEAAgr3eMegAAgP4QcgBIjpADQHKEHACSI+QAkNzYKA46d+7cGB8fH8WhASCtLVu2vBwR89qXjyTk4+PjmpycHMWhASAt2892Ws6lFQBIjpADQHKEHACSI+QAkBwhB4DkCDkAJEfIASA5Qg4AyRFyAEiOkANAcoQcAJIj5ACQHCEHgOQIOQAkR8gBIDlCDgDJEXIASK5YyG3Psf1X23eX2icAYGYlz8gvlbS74P4AADUUCbnthZK+IOmmEvsDANRX6oz8R5KukPRmtw1sr7E9aXtyamqq0GEBAH2H3Pb5kl6KiC3TbRcRExHRiIjGvHnz+j0sAKBS4oz8TEkrbe+VtFHS2bZ/XWC/AIAa+g55RKyLiIURMS5plaQ/RsTX+x4ZAKAW3kcOAMmNldxZRDwo6cGS+wQATI8zcgBIjpADQHKEHACSI+QAkBwhB4DkCDkAJEfIASA5Qg4AyRFyAEiOkANAcoQcAJIj5ACQHCEHgOQIOQAkR8gBIDlCDgDJEXIASI6QA0ByhBwAkiPkAJAcIQeA5Ag5ACRHyAEgOUIOAMkRcgBIjpADQHKEHACSI+QAkBwhB4DkCDkAJEfIASA5Qg4AyRFyAEiOkANAcn2H3PYi2w/Y3m17l+1LSwwMAFDPWIF9HJT07YjYavtoSVtsb46IxwrsGwAwg77PyCPiQERsrW6/Jmm3pAX97hcAUE/Ra+S2xyWdJunhkvsFAHRXLOS2j5J0m6TLIuLVDuvX2J60PTk1NVXqsADwf69IyG2/U82Ib4iI2zttExETEdGIiMa8efNKHBYAoDLvWrGkmyXtjojr+x8SAKAXJc7Iz5T0DUln295WfawosF8AQA19v/0wIv4syQXGAgCYBf6yEwCSI+QAkBwhB4DkCDkAJEfIASA5Qg4AyRFyAEiOkANAcoQcAJIj5ACQHCEHgOQIOQAkR8gBIDlCDgDJEXIASI6QA0ByhBwAkiPkAJAcIQeA5Ag5ACRHyAEgOUIOAMkRcgBIjpADQHKEHACSI+QAkBwhB4DkCDkAJEfIASA5Qg4AyRFyAEiOkANAcoQcAJIj5ACQHCEHgOSKhNz2cttP2N5je22JfQIA6uk75LbnSLpB0nmSlki60PaSfvcLAKhnrMA+lkraExHPSJLtjZIukPRYgX0f4nu/36XH9r9aercAMDRLTniPvvvFU4vus8SllQWSnmu5v69adgjba2xP2p6cmpoqcFgAgFTmjNwdlsXbFkRMSJqQpEaj8bb1dZT+KQYA/wtKnJHvk7So5f5CSfsL7BcAUEOJkD8i6WTbi20fIWmVpLsK7BcAUEPfl1Yi4qDtSyTdK2mOpFsiYlffIwMA1FLiGrkiYpOkTSX2BQDoDX/ZCQDJEXIASI6QA0ByhBwAkiPkAJAcIQeA5Ag5ACRHyAEgOUIOAMkRcgBIjpADQHKEHACSI+QAkBwhB4DkCDkAJEfIASA5Qg4AyRFyAEiOkANAcoQcAJIj5ACQHCEHgOQIOQAkR8gBIDlCDgDJEXIASI6QA0ByhBwAkiPkAJAcIQeA5Ag5ACRHyAEgOUIOAMkRcgBIrq+Q277O9uO2d9i+w/YxhcYFAKip3zPyzZI+EhEfk/SkpHX9DwkA0Iu+Qh4R90XEweruQ5IW9j8kAEAvSl4jv0jSPQX3BwCoYWymDWzfL+n4DqvWR8Sd1TbrJR2UtGGa/ayRtEaSTjzxxFkNFgDwdjOGPCKWTbfe9mpJ50s6JyJimv1MSJqQpEaj0XU7AEBvZgz5dGwvl3SlpM9GxOtlhgQA6EW/18h/IuloSZttb7N9Y4ExAQB60NcZeUR8qNRAAACzw192AkByhBwAkiPkAJAcIQeA5Ag5ACRHyAEgOUIOAMkRcgBIjpADQHKEHACSI+QAkBwhB4DkCDkAJEfIASA5Qg4AyRFyAEiOkANAcoQcAJIj5ACQHCEHgOQIOQAkR8gBIDlCDgDJEXIASI6QA0ByhBwAkiPkAJAcIQeA5Ag5ACRHyAEgOUIOAMkRcgBIjpADQHKEHACSI+QAkFyRkNu+3HbYnltifwCA+voOue1Fkj4n6e/9DwcA0KsSZ+Q/lHSFpCiwLwBAj/oKue2Vkp6PiO01tl1je9L25NTUVD+HBQC0GJtpA9v3Szq+w6r1kr4j6dw6B4qICUkTktRoNDh7B4BCZgx5RCzrtNz2RyUtlrTdtiQtlLTV9tKIeKHoKAEAXc0Y8m4iYqek4966b3uvpEZEvFxgXACAmngfOQAkN+sz8nYRMV5qXwCA+jgjB4DkCDkAJEfIASA5Qg4AyRFyAEiOkANAcoQcAJIj5ACQHCEHgOQIOQAkR8gBIDlCDgDJEXIASI6QA0ByhBwAkiPkAJCcI4b//0G2PSXp2Vl++lxJh+P/To5x9YZx9YZx9eZwHZfU39g+GBHz2heOJOT9sD0ZEY1Rj6Md4+oN4+oN4+rN4TouaTBj49IKACRHyAEguYwhnxj1ALpgXL1hXL1hXL05XMclDWBs6a6RAwAOlfGMHADQgpADQHKHZchtf9X2Lttv2m60rVtne4/tJ2x/vsvnH2t7s+2nqn/fN4Ax/tb2tupjr+1tXbbba3tntd1k6XF0ON7Vtp9vGduKLtstr+Zwj+21QxjXdbYft73D9h22j+my3VDma6bH76YfV+t32D59UGNpOeYi2w/Y3l19/V/aYZuzbL/S8vxeNehxVced9nkZ0Xyd0jIP22y/avuytm2GMl+2b7H9ku1HW5bV6lCR78WIOOw+JH1Y0imSHpTUaFm+RNJ2SUdKWizpaUlzOnz+9yWtrW6vlXTtgMf7A0lXdVm3V9LcIc7d1ZIun2GbOdXcnSTpiGpOlwx4XOdKGqtuX9vtORnGfNV5/JJWSLpHkiWdIenhITx38yWdXt0+WtKTHcZ1lqS7h/X1VPd5GcV8dXhOX1DzD2aGPl+SPiPpdEmPtiybsUOlvhcPyzPyiNgdEU90WHWBpI0R8UZE/E3SHklLu2x3a3X7VklfGshA1TwTkfQ1Sb8Z1DEGYKmkPRHxTET8W9JGNedsYCLivog4WN19SNLCQR5vBnUe/wWSfhlND0k6xvb8QQ4qIg5ExNbq9muSdktaMMhjFjT0+WpzjqSnI2K2fzHel4j4k6R/ti2u06Ei34uHZcinsUDScy3396nzF/oHIuKA1PzmkHTcAMf0aUkvRsRTXdaHpPtsb7G9ZoDjaHVJ9fL2li4v5+rO46BcpObZWyfDmK86j3+kc2R7XNJpkh7usPoTtrfbvsf2qUMa0kzPy6i/plap+8nUKOZLqtehIvM2NqvhFWD7fknHd1i1PiLu7PZpHZYN7P2TNcd4oaY/Gz8zIvbbPk7SZtuPVz+9BzIuST+TdI2a83KNmpd9LmrfRYfP7Xse68yX7fWSDkra0GU3xeer01A7LGt//EP9WjvkwPZRkm6TdFlEvNq2equalw/+Vf3+43eSTh7CsGZ6XkY5X0dIWilpXYfVo5qvuorM28hCHhHLZvFp+yQtarm/UNL+Dtu9aHt+RByoXt69NIgx2h6T9BVJH59mH/urf1+yfYeaL6X6ClPdubP9c0l3d1hVdx6Ljsv2aknnSzonqguEHfZRfL46qPP4BzJHM7H9TjUjviEibm9f3xr2iNhk+6e250bEQP8DUTWel5HMV+U8SVsj4sX2FaOar0qdDhWZt2yXVu6StMr2kbYXq/mT9S9dtltd3V4tqdsZfr+WSXo8IvZ1Wmn73baPfuu2mr/we7TTtqW0XZf8cpfjPSLpZNuLq7OZVWrO2SDHtVzSlZJWRsTrXbYZ1nzVefx3Sfpm9W6MMyS98tbL5EGpft9ys6TdEXF9l22Or7aT7aVqfg//Y8DjqvO8DH2+WnR9VTyK+WpRp0NlvhcH/dvc2XyoGaB9kt6Q9KKke1vWrVfzt7xPSDqvZflNqt7hIun9kv4g6anq32MHNM5fSLq4bdkJkjZVt09S87fQ2yXtUvMSw6Dn7leSdkraUX1BzG8fV3V/hZrvinh6SOPao+a1wG3Vx42jnK9Oj1/SxW89n2q+5L2hWr9TLe+eGuCYPqXmy+odLfO0om1cl1Rzs13NXxp/cgjj6vi8jHq+quO+S80wv7dl2dDnS80fJAck/adq17e6dWgQ34v8iT4AJJft0goAoA0hB4DkCDkAJEfIASA5Qg4AyRFyAEiOkANAcv8FN/jk1wZDAXYAAAAASUVORK5CYII=\n",
          "text/plain": "<Figure size 432x288 with 1 Axes>"
         },
         "metadata": {
          "needs_background": "light"
         },
         "output_type": "display_data"
        }
       ]
      }
     },
     "821ca37b1674485ea148f0fc44376cd3": {
      "model_module": "@jupyter-widgets/base",
      "model_module_version": "1.2.0",
      "model_name": "LayoutModel",
      "state": {}
     },
     "82407ed175fa4733a27a7d8286f8708c": {
      "model_module": "@jupyter-widgets/output",
      "model_module_version": "1.0.0",
      "model_name": "OutputModel",
      "state": {
       "layout": "IPY_MODEL_6496473aadb148a9bf920c982be3199b",
       "outputs": [
        {
         "data": {
          "image/png": "iVBORw0KGgoAAAANSUhEUgAAAXIAAAD4CAYAAADxeG0DAAAAOXRFWHRTb2Z0d2FyZQBNYXRwbG90bGliIHZlcnNpb24zLjUuMSwgaHR0cHM6Ly9tYXRwbG90bGliLm9yZy/YYfK9AAAACXBIWXMAAAsTAAALEwEAmpwYAAAMv0lEQVR4nO3dXYxcZR3H8d/PrpAoKGKLlLa4JRJiURNw0qD4QqBiqVjURFMStQkmDRckkEigtQliuEIiGiNKViCiNtYLQJCUQFGI8QJkW/tCKS8Fi5QWWDQBDAna8PdiDsl0mNk9s/PMTP/6/SSbzpxz9pxnntn97pmzs+CIEAAgr3eMegAAgP4QcgBIjpADQHKEHACSI+QAkNzYKA46d+7cGB8fH8WhASCtLVu2vBwR89qXjyTk4+PjmpycHMWhASAt2892Ws6lFQBIjpADQHKEHACSI+QAkBwhB4DkCDkAJEfIASA5Qg4AyRFyAEiOkANAcoQcAJIj5ACQHCEHgOQIOQAkR8gBIDlCDgDJEXIASK5YyG3Psf1X23eX2icAYGYlz8gvlbS74P4AADUUCbnthZK+IOmmEvsDANRX6oz8R5KukPRmtw1sr7E9aXtyamqq0GEBAH2H3Pb5kl6KiC3TbRcRExHRiIjGvHnz+j0sAKBS4oz8TEkrbe+VtFHS2bZ/XWC/AIAa+g55RKyLiIURMS5plaQ/RsTX+x4ZAKAW3kcOAMmNldxZRDwo6cGS+wQATI8zcgBIjpADQHKEHACSI+QAkBwhB4DkCDkAJEfIASA5Qg4AyRFyAEiOkANAcoQcAJIj5ACQHCEHgOQIOQAkR8gBIDlCDgDJEXIASI6QA0ByhBwAkiPkAJAcIQeA5Ag5ACRHyAEgOUIOAMkRcgBIjpADQHKEHACSI+QAkBwhB4DkCDkAJEfIASA5Qg4AyRFyAEiOkANAcn2H3PYi2w/Y3m17l+1LSwwMAFDPWIF9HJT07YjYavtoSVtsb46IxwrsGwAwg77PyCPiQERsrW6/Jmm3pAX97hcAUE/Ra+S2xyWdJunhkvsFAHRXLOS2j5J0m6TLIuLVDuvX2J60PTk1NVXqsADwf69IyG2/U82Ib4iI2zttExETEdGIiMa8efNKHBYAoDLvWrGkmyXtjojr+x8SAKAXJc7Iz5T0DUln295WfawosF8AQA19v/0wIv4syQXGAgCYBf6yEwCSI+QAkBwhB4DkCDkAJEfIASA5Qg4AyRFyAEiOkANAcoQcAJIj5ACQHCEHgOQIOQAkR8gBIDlCDgDJEXIASI6QA0ByhBwAkiPkAJAcIQeA5Ag5ACRHyAEgOUIOAMkRcgBIjpADQHKEHACSI+QAkBwhB4DkCDkAJEfIASA5Qg4AyRFyAEiOkANAcoQcAJIj5ACQHCEHgOSKhNz2cttP2N5je22JfQIA6uk75LbnSLpB0nmSlki60PaSfvcLAKhnrMA+lkraExHPSJLtjZIukPRYgX0f4nu/36XH9r9aercAMDRLTniPvvvFU4vus8SllQWSnmu5v69adgjba2xP2p6cmpoqcFgAgFTmjNwdlsXbFkRMSJqQpEaj8bb1dZT+KQYA/wtKnJHvk7So5f5CSfsL7BcAUEOJkD8i6WTbi20fIWmVpLsK7BcAUEPfl1Yi4qDtSyTdK2mOpFsiYlffIwMA1FLiGrkiYpOkTSX2BQDoDX/ZCQDJEXIASI6QA0ByhBwAkiPkAJAcIQeA5Ag5ACRHyAEgOUIOAMkRcgBIjpADQHKEHACSI+QAkBwhB4DkCDkAJEfIASA5Qg4AyRFyAEiOkANAcoQcAJIj5ACQHCEHgOQIOQAkR8gBIDlCDgDJEXIASI6QA0ByhBwAkiPkAJAcIQeA5Ag5ACRHyAEgOUIOAMkRcgBIrq+Q277O9uO2d9i+w/YxhcYFAKip3zPyzZI+EhEfk/SkpHX9DwkA0Iu+Qh4R90XEweruQ5IW9j8kAEAvSl4jv0jSPQX3BwCoYWymDWzfL+n4DqvWR8Sd1TbrJR2UtGGa/ayRtEaSTjzxxFkNFgDwdjOGPCKWTbfe9mpJ50s6JyJimv1MSJqQpEaj0XU7AEBvZgz5dGwvl3SlpM9GxOtlhgQA6EW/18h/IuloSZttb7N9Y4ExAQB60NcZeUR8qNRAAACzw192AkByhBwAkiPkAJAcIQeA5Ag5ACRHyAEgOUIOAMkRcgBIjpADQHKEHACSI+QAkBwhB4DkCDkAJEfIASA5Qg4AyRFyAEiOkANAcoQcAJIj5ACQHCEHgOQIOQAkR8gBIDlCDgDJEXIASI6QA0ByhBwAkiPkAJAcIQeA5Ag5ACRHyAEgOUIOAMkRcgBIjpADQHKEHACSI+QAkFyRkNu+3HbYnltifwCA+voOue1Fkj4n6e/9DwcA0KsSZ+Q/lHSFpCiwLwBAj/oKue2Vkp6PiO01tl1je9L25NTUVD+HBQC0GJtpA9v3Szq+w6r1kr4j6dw6B4qICUkTktRoNDh7B4BCZgx5RCzrtNz2RyUtlrTdtiQtlLTV9tKIeKHoKAEAXc0Y8m4iYqek4966b3uvpEZEvFxgXACAmngfOQAkN+sz8nYRMV5qXwCA+jgjB4DkCDkAJEfIASA5Qg4AyRFyAEiOkANAcoQcAJIj5ACQHCEHgOQIOQAkR8gBIDlCDgDJEXIASI6QA0ByhBwAkiPkAJCcI4b//0G2PSXp2Vl++lxJh+P/To5x9YZx9YZx9eZwHZfU39g+GBHz2heOJOT9sD0ZEY1Rj6Md4+oN4+oN4+rN4TouaTBj49IKACRHyAEguYwhnxj1ALpgXL1hXL1hXL05XMclDWBs6a6RAwAOlfGMHADQgpADQHKHZchtf9X2Lttv2m60rVtne4/tJ2x/vsvnH2t7s+2nqn/fN4Ax/tb2tupjr+1tXbbba3tntd1k6XF0ON7Vtp9vGduKLtstr+Zwj+21QxjXdbYft73D9h22j+my3VDma6bH76YfV+t32D59UGNpOeYi2w/Y3l19/V/aYZuzbL/S8vxeNehxVced9nkZ0Xyd0jIP22y/avuytm2GMl+2b7H9ku1HW5bV6lCR78WIOOw+JH1Y0imSHpTUaFm+RNJ2SUdKWizpaUlzOnz+9yWtrW6vlXTtgMf7A0lXdVm3V9LcIc7d1ZIun2GbOdXcnSTpiGpOlwx4XOdKGqtuX9vtORnGfNV5/JJWSLpHkiWdIenhITx38yWdXt0+WtKTHcZ1lqS7h/X1VPd5GcV8dXhOX1DzD2aGPl+SPiPpdEmPtiybsUOlvhcPyzPyiNgdEU90WHWBpI0R8UZE/E3SHklLu2x3a3X7VklfGshA1TwTkfQ1Sb8Z1DEGYKmkPRHxTET8W9JGNedsYCLivog4WN19SNLCQR5vBnUe/wWSfhlND0k6xvb8QQ4qIg5ExNbq9muSdktaMMhjFjT0+WpzjqSnI2K2fzHel4j4k6R/ti2u06Ei34uHZcinsUDScy3396nzF/oHIuKA1PzmkHTcAMf0aUkvRsRTXdaHpPtsb7G9ZoDjaHVJ9fL2li4v5+rO46BcpObZWyfDmK86j3+kc2R7XNJpkh7usPoTtrfbvsf2qUMa0kzPy6i/plap+8nUKOZLqtehIvM2NqvhFWD7fknHd1i1PiLu7PZpHZYN7P2TNcd4oaY/Gz8zIvbbPk7SZtuPVz+9BzIuST+TdI2a83KNmpd9LmrfRYfP7Xse68yX7fWSDkra0GU3xeer01A7LGt//EP9WjvkwPZRkm6TdFlEvNq2equalw/+Vf3+43eSTh7CsGZ6XkY5X0dIWilpXYfVo5qvuorM28hCHhHLZvFp+yQtarm/UNL+Dtu9aHt+RByoXt69NIgx2h6T9BVJH59mH/urf1+yfYeaL6X6ClPdubP9c0l3d1hVdx6Ljsv2aknnSzonqguEHfZRfL46qPP4BzJHM7H9TjUjviEibm9f3xr2iNhk+6e250bEQP8DUTWel5HMV+U8SVsj4sX2FaOar0qdDhWZt2yXVu6StMr2kbYXq/mT9S9dtltd3V4tqdsZfr+WSXo8IvZ1Wmn73baPfuu2mr/we7TTtqW0XZf8cpfjPSLpZNuLq7OZVWrO2SDHtVzSlZJWRsTrXbYZ1nzVefx3Sfpm9W6MMyS98tbL5EGpft9ys6TdEXF9l22Or7aT7aVqfg//Y8DjqvO8DH2+WnR9VTyK+WpRp0NlvhcH/dvc2XyoGaB9kt6Q9KKke1vWrVfzt7xPSDqvZflNqt7hIun9kv4g6anq32MHNM5fSLq4bdkJkjZVt09S87fQ2yXtUvMSw6Dn7leSdkraUX1BzG8fV3V/hZrvinh6SOPao+a1wG3Vx42jnK9Oj1/SxW89n2q+5L2hWr9TLe+eGuCYPqXmy+odLfO0om1cl1Rzs13NXxp/cgjj6vi8jHq+quO+S80wv7dl2dDnS80fJAck/adq17e6dWgQ34v8iT4AJJft0goAoA0hB4DkCDkAJEfIASA5Qg4AyRFyAEiOkANAcv8FN/jk1wZDAXYAAAAASUVORK5CYII=\n",
          "text/plain": "<Figure size 432x288 with 1 Axes>"
         },
         "metadata": {
          "needs_background": "light"
         },
         "output_type": "display_data"
        }
       ]
      }
     },
     "82aeae2d3e9849dc8b231ab8601a6bd2": {
      "model_module": "@jupyter-widgets/output",
      "model_module_version": "1.0.0",
      "model_name": "OutputModel",
      "state": {
       "layout": "IPY_MODEL_bcf13ddaca0e4d358c40f6331eb195e7",
       "outputs": [
        {
         "data": {
          "image/png": "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\n",
          "text/plain": "<Figure size 432x288 with 1 Axes>"
         },
         "metadata": {
          "needs_background": "light"
         },
         "output_type": "display_data"
        }
       ]
      }
     },
     "83084beacdc44b49aaa63f741872ccdf": {
      "model_module": "@jupyter-widgets/base",
      "model_module_version": "1.2.0",
      "model_name": "LayoutModel",
      "state": {}
     },
     "8330c8afcb2d4cf1af6d57a8d9e6555b": {
      "model_module": "@jupyter-widgets/base",
      "model_module_version": "1.2.0",
      "model_name": "LayoutModel",
      "state": {}
     },
     "838b72a9cb4e492fb2f96a06efcc1c06": {
      "model_module": "@jupyter-widgets/output",
      "model_module_version": "1.0.0",
      "model_name": "OutputModel",
      "state": {
       "layout": "IPY_MODEL_9d2396b65f624fdea0541b4fc52c00ae",
       "outputs": [
        {
         "ename": "ValueError",
         "evalue": "The passed figure is not managed by pyplot",
         "output_type": "error",
         "traceback": [
          "\u001b[0;31m---------------------------------------------------------------------------\u001b[0m",
          "\u001b[0;31mValueError\u001b[0m                                Traceback (most recent call last)",
          "File \u001b[0;32m~/anaconda3/envs/train/lib/python3.9/site-packages/ipywidgets/widgets/interaction.py:257\u001b[0m, in \u001b[0;36minteractive.update\u001b[0;34m(self, *args)\u001b[0m\n\u001b[1;32m    255\u001b[0m     value \u001b[38;5;241m=\u001b[39m widget\u001b[38;5;241m.\u001b[39mget_interact_value()\n\u001b[1;32m    256\u001b[0m     \u001b[38;5;28mself\u001b[39m\u001b[38;5;241m.\u001b[39mkwargs[widget\u001b[38;5;241m.\u001b[39m_kwarg] \u001b[38;5;241m=\u001b[39m value\n\u001b[0;32m--> 257\u001b[0m \u001b[38;5;28mself\u001b[39m\u001b[38;5;241m.\u001b[39mresult \u001b[38;5;241m=\u001b[39m \u001b[38;5;28;43mself\u001b[39;49m\u001b[38;5;241;43m.\u001b[39;49m\u001b[43mf\u001b[49m\u001b[43m(\u001b[49m\u001b[38;5;241;43m*\u001b[39;49m\u001b[38;5;241;43m*\u001b[39;49m\u001b[38;5;28;43mself\u001b[39;49m\u001b[38;5;241;43m.\u001b[39;49m\u001b[43mkwargs\u001b[49m\u001b[43m)\u001b[49m\n\u001b[1;32m    258\u001b[0m show_inline_matplotlib_plots()\n\u001b[1;32m    259\u001b[0m \u001b[38;5;28;01mif\u001b[39;00m \u001b[38;5;28mself\u001b[39m\u001b[38;5;241m.\u001b[39mauto_display \u001b[38;5;129;01mand\u001b[39;00m \u001b[38;5;28mself\u001b[39m\u001b[38;5;241m.\u001b[39mresult \u001b[38;5;129;01mis\u001b[39;00m \u001b[38;5;129;01mnot\u001b[39;00m \u001b[38;5;28;01mNone\u001b[39;00m:\n",
          "Input \u001b[0;32mIn [25]\u001b[0m, in \u001b[0;36mf\u001b[0;34m(m, b)\u001b[0m\n\u001b[1;32m     14\u001b[0m \u001b[38;5;28;01mglobal\u001b[39;00m axes\n\u001b[1;32m     15\u001b[0m plt\u001b[38;5;241m.\u001b[39mgcf()\n\u001b[0;32m---> 16\u001b[0m \u001b[43mplt\u001b[49m\u001b[38;5;241;43m.\u001b[39;49m\u001b[43msca\u001b[49m\u001b[43m(\u001b[49m\u001b[43maxes\u001b[49m\u001b[43m)\u001b[49m  \u001b[38;5;66;03m# ******** 如果不进行选择画在哪个axis上，则不能显示话出来的内容 ********\u001b[39;00m\n\u001b[1;32m     17\u001b[0m axes\u001b[38;5;241m.\u001b[39mclear()  \u001b[38;5;66;03m# 如果去掉，则在原图上一直累加显示\u001b[39;00m\n\u001b[1;32m     18\u001b[0m x \u001b[38;5;241m=\u001b[39m np\u001b[38;5;241m.\u001b[39mlinspace(\u001b[38;5;241m-\u001b[39m\u001b[38;5;241m10\u001b[39m, \u001b[38;5;241m10\u001b[39m, num\u001b[38;5;241m=\u001b[39m\u001b[38;5;241m1000\u001b[39m)\n",
          "File \u001b[0;32m~/anaconda3/envs/train/lib/python3.9/site-packages/matplotlib/pyplot.py:1085\u001b[0m, in \u001b[0;36msca\u001b[0;34m(ax)\u001b[0m\n\u001b[1;32m   1081\u001b[0m \u001b[38;5;28;01mdef\u001b[39;00m \u001b[38;5;21msca\u001b[39m(ax):\n\u001b[1;32m   1082\u001b[0m     \u001b[38;5;124;03m\"\"\"\u001b[39;00m\n\u001b[1;32m   1083\u001b[0m \u001b[38;5;124;03m    Set the current Axes to *ax* and the current Figure to the parent of *ax*.\u001b[39;00m\n\u001b[1;32m   1084\u001b[0m \u001b[38;5;124;03m    \"\"\"\u001b[39;00m\n\u001b[0;32m-> 1085\u001b[0m     \u001b[43mfigure\u001b[49m\u001b[43m(\u001b[49m\u001b[43max\u001b[49m\u001b[38;5;241;43m.\u001b[39;49m\u001b[43mfigure\u001b[49m\u001b[43m)\u001b[49m\n\u001b[1;32m   1086\u001b[0m     ax\u001b[38;5;241m.\u001b[39mfigure\u001b[38;5;241m.\u001b[39msca(ax)\n",
          "File \u001b[0;32m~/anaconda3/envs/train/lib/python3.9/site-packages/matplotlib/pyplot.py:753\u001b[0m, in \u001b[0;36mfigure\u001b[0;34m(num, figsize, dpi, facecolor, edgecolor, frameon, FigureClass, clear, **kwargs)\u001b[0m\n\u001b[1;32m    751\u001b[0m \u001b[38;5;28;01mif\u001b[39;00m \u001b[38;5;28misinstance\u001b[39m(num, Figure):\n\u001b[1;32m    752\u001b[0m     \u001b[38;5;28;01mif\u001b[39;00m num\u001b[38;5;241m.\u001b[39mcanvas\u001b[38;5;241m.\u001b[39mmanager \u001b[38;5;129;01mis\u001b[39;00m \u001b[38;5;28;01mNone\u001b[39;00m:\n\u001b[0;32m--> 753\u001b[0m         \u001b[38;5;28;01mraise\u001b[39;00m \u001b[38;5;167;01mValueError\u001b[39;00m(\u001b[38;5;124m\"\u001b[39m\u001b[38;5;124mThe passed figure is not managed by pyplot\u001b[39m\u001b[38;5;124m\"\u001b[39m)\n\u001b[1;32m    754\u001b[0m     _pylab_helpers\u001b[38;5;241m.\u001b[39mGcf\u001b[38;5;241m.\u001b[39mset_active(num\u001b[38;5;241m.\u001b[39mcanvas\u001b[38;5;241m.\u001b[39mmanager)\n\u001b[1;32m    755\u001b[0m     \u001b[38;5;28;01mreturn\u001b[39;00m num\n",
          "\u001b[0;31mValueError\u001b[0m: The passed figure is not managed by pyplot"
         ]
        }
       ]
      }
     },
     "83fbd80c2d47426dbf0785bcaefc2649": {
      "model_module": "@jupyter-widgets/base",
      "model_module_version": "1.2.0",
      "model_name": "LayoutModel",
      "state": {}
     },
     "8535c299c22345bbafb4e11bb42b2f3e": {
      "model_module": "@jupyter-widgets/controls",
      "model_module_version": "1.5.0",
      "model_name": "SliderStyleModel",
      "state": {
       "description_width": ""
      }
     },
     "855a1bde9af9450d8fc4466b03cc5324": {
      "model_module": "@jupyter-widgets/base",
      "model_module_version": "1.2.0",
      "model_name": "LayoutModel",
      "state": {}
     },
     "858fe4a3f3834ff4bd60ae9518182a0a": {
      "model_module": "@jupyter-widgets/output",
      "model_module_version": "1.0.0",
      "model_name": "OutputModel",
      "state": {
       "layout": "IPY_MODEL_d195c981c44c47e5a8e94b69079dcc15",
       "outputs": [
        {
         "data": {
          "image/png": "iVBORw0KGgoAAAANSUhEUgAAAXIAAAD4CAYAAADxeG0DAAAAOXRFWHRTb2Z0d2FyZQBNYXRwbG90bGliIHZlcnNpb24zLjUuMSwgaHR0cHM6Ly9tYXRwbG90bGliLm9yZy/YYfK9AAAACXBIWXMAAAsTAAALEwEAmpwYAAAMv0lEQVR4nO3dXYxcZR3H8d/PrpAoKGKLlLa4JRJiURNw0qD4QqBiqVjURFMStQkmDRckkEigtQliuEIiGiNKViCiNtYLQJCUQFGI8QJkW/tCKS8Fi5QWWDQBDAna8PdiDsl0mNk9s/PMTP/6/SSbzpxz9pxnntn97pmzs+CIEAAgr3eMegAAgP4QcgBIjpADQHKEHACSI+QAkNzYKA46d+7cGB8fH8WhASCtLVu2vBwR89qXjyTk4+PjmpycHMWhASAt2892Ws6lFQBIjpADQHKEHACSI+QAkBwhB4DkCDkAJEfIASA5Qg4AyRFyAEiOkANAcoQcAJIj5ACQHCEHgOQIOQAkR8gBIDlCDgDJEXIASK5YyG3Psf1X23eX2icAYGYlz8gvlbS74P4AADUUCbnthZK+IOmmEvsDANRX6oz8R5KukPRmtw1sr7E9aXtyamqq0GEBAH2H3Pb5kl6KiC3TbRcRExHRiIjGvHnz+j0sAKBS4oz8TEkrbe+VtFHS2bZ/XWC/AIAa+g55RKyLiIURMS5plaQ/RsTX+x4ZAKAW3kcOAMmNldxZRDwo6cGS+wQATI8zcgBIjpADQHKEHACSI+QAkBwhB4DkCDkAJEfIASA5Qg4AyRFyAEiOkANAcoQcAJIj5ACQHCEHgOQIOQAkR8gBIDlCDgDJEXIASI6QA0ByhBwAkiPkAJAcIQeA5Ag5ACRHyAEgOUIOAMkRcgBIjpADQHKEHACSI+QAkBwhB4DkCDkAJEfIASA5Qg4AyRFyAEiOkANAcn2H3PYi2w/Y3m17l+1LSwwMAFDPWIF9HJT07YjYavtoSVtsb46IxwrsGwAwg77PyCPiQERsrW6/Jmm3pAX97hcAUE/Ra+S2xyWdJunhkvsFAHRXLOS2j5J0m6TLIuLVDuvX2J60PTk1NVXqsADwf69IyG2/U82Ib4iI2zttExETEdGIiMa8efNKHBYAoDLvWrGkmyXtjojr+x8SAKAXJc7Iz5T0DUln295WfawosF8AQA19v/0wIv4syQXGAgCYBf6yEwCSI+QAkBwhB4DkCDkAJEfIASA5Qg4AyRFyAEiOkANAcoQcAJIj5ACQHCEHgOQIOQAkR8gBIDlCDgDJEXIASI6QA0ByhBwAkiPkAJAcIQeA5Ag5ACRHyAEgOUIOAMkRcgBIjpADQHKEHACSI+QAkBwhB4DkCDkAJEfIASA5Qg4AyRFyAEiOkANAcoQcAJIj5ACQHCEHgOSKhNz2cttP2N5je22JfQIA6uk75LbnSLpB0nmSlki60PaSfvcLAKhnrMA+lkraExHPSJLtjZIukPRYgX0f4nu/36XH9r9aercAMDRLTniPvvvFU4vus8SllQWSnmu5v69adgjba2xP2p6cmpoqcFgAgFTmjNwdlsXbFkRMSJqQpEaj8bb1dZT+KQYA/wtKnJHvk7So5f5CSfsL7BcAUEOJkD8i6WTbi20fIWmVpLsK7BcAUEPfl1Yi4qDtSyTdK2mOpFsiYlffIwMA1FLiGrkiYpOkTSX2BQDoDX/ZCQDJEXIASI6QA0ByhBwAkiPkAJAcIQeA5Ag5ACRHyAEgOUIOAMkRcgBIjpADQHKEHACSI+QAkBwhB4DkCDkAJEfIASA5Qg4AyRFyAEiOkANAcoQcAJIj5ACQHCEHgOQIOQAkR8gBIDlCDgDJEXIASI6QA0ByhBwAkiPkAJAcIQeA5Ag5ACRHyAEgOUIOAMkRcgBIrq+Q277O9uO2d9i+w/YxhcYFAKip3zPyzZI+EhEfk/SkpHX9DwkA0Iu+Qh4R90XEweruQ5IW9j8kAEAvSl4jv0jSPQX3BwCoYWymDWzfL+n4DqvWR8Sd1TbrJR2UtGGa/ayRtEaSTjzxxFkNFgDwdjOGPCKWTbfe9mpJ50s6JyJimv1MSJqQpEaj0XU7AEBvZgz5dGwvl3SlpM9GxOtlhgQA6EW/18h/IuloSZttb7N9Y4ExAQB60NcZeUR8qNRAAACzw192AkByhBwAkiPkAJAcIQeA5Ag5ACRHyAEgOUIOAMkRcgBIjpADQHKEHACSI+QAkBwhB4DkCDkAJEfIASA5Qg4AyRFyAEiOkANAcoQcAJIj5ACQHCEHgOQIOQAkR8gBIDlCDgDJEXIASI6QA0ByhBwAkiPkAJAcIQeA5Ag5ACRHyAEgOUIOAMkRcgBIjpADQHKEHACSI+QAkFyRkNu+3HbYnltifwCA+voOue1Fkj4n6e/9DwcA0KsSZ+Q/lHSFpCiwLwBAj/oKue2Vkp6PiO01tl1je9L25NTUVD+HBQC0GJtpA9v3Szq+w6r1kr4j6dw6B4qICUkTktRoNDh7B4BCZgx5RCzrtNz2RyUtlrTdtiQtlLTV9tKIeKHoKAEAXc0Y8m4iYqek4966b3uvpEZEvFxgXACAmngfOQAkN+sz8nYRMV5qXwCA+jgjB4DkCDkAJEfIASA5Qg4AyRFyAEiOkANAcoQcAJIj5ACQHCEHgOQIOQAkR8gBIDlCDgDJEXIASI6QA0ByhBwAkiPkAJCcI4b//0G2PSXp2Vl++lxJh+P/To5x9YZx9YZx9eZwHZfU39g+GBHz2heOJOT9sD0ZEY1Rj6Md4+oN4+oN4+rN4TouaTBj49IKACRHyAEguYwhnxj1ALpgXL1hXL1hXL05XMclDWBs6a6RAwAOlfGMHADQgpADQHKHZchtf9X2Lttv2m60rVtne4/tJ2x/vsvnH2t7s+2nqn/fN4Ax/tb2tupjr+1tXbbba3tntd1k6XF0ON7Vtp9vGduKLtstr+Zwj+21QxjXdbYft73D9h22j+my3VDma6bH76YfV+t32D59UGNpOeYi2w/Y3l19/V/aYZuzbL/S8vxeNehxVced9nkZ0Xyd0jIP22y/avuytm2GMl+2b7H9ku1HW5bV6lCR78WIOOw+JH1Y0imSHpTUaFm+RNJ2SUdKWizpaUlzOnz+9yWtrW6vlXTtgMf7A0lXdVm3V9LcIc7d1ZIun2GbOdXcnSTpiGpOlwx4XOdKGqtuX9vtORnGfNV5/JJWSLpHkiWdIenhITx38yWdXt0+WtKTHcZ1lqS7h/X1VPd5GcV8dXhOX1DzD2aGPl+SPiPpdEmPtiybsUOlvhcPyzPyiNgdEU90WHWBpI0R8UZE/E3SHklLu2x3a3X7VklfGshA1TwTkfQ1Sb8Z1DEGYKmkPRHxTET8W9JGNedsYCLivog4WN19SNLCQR5vBnUe/wWSfhlND0k6xvb8QQ4qIg5ExNbq9muSdktaMMhjFjT0+WpzjqSnI2K2fzHel4j4k6R/ti2u06Ei34uHZcinsUDScy3396nzF/oHIuKA1PzmkHTcAMf0aUkvRsRTXdaHpPtsb7G9ZoDjaHVJ9fL2li4v5+rO46BcpObZWyfDmK86j3+kc2R7XNJpkh7usPoTtrfbvsf2qUMa0kzPy6i/plap+8nUKOZLqtehIvM2NqvhFWD7fknHd1i1PiLu7PZpHZYN7P2TNcd4oaY/Gz8zIvbbPk7SZtuPVz+9BzIuST+TdI2a83KNmpd9LmrfRYfP7Xse68yX7fWSDkra0GU3xeer01A7LGt//EP9WjvkwPZRkm6TdFlEvNq2equalw/+Vf3+43eSTh7CsGZ6XkY5X0dIWilpXYfVo5qvuorM28hCHhHLZvFp+yQtarm/UNL+Dtu9aHt+RByoXt69NIgx2h6T9BVJH59mH/urf1+yfYeaL6X6ClPdubP9c0l3d1hVdx6Ljsv2aknnSzonqguEHfZRfL46qPP4BzJHM7H9TjUjviEibm9f3xr2iNhk+6e250bEQP8DUTWel5HMV+U8SVsj4sX2FaOar0qdDhWZt2yXVu6StMr2kbYXq/mT9S9dtltd3V4tqdsZfr+WSXo8IvZ1Wmn73baPfuu2mr/we7TTtqW0XZf8cpfjPSLpZNuLq7OZVWrO2SDHtVzSlZJWRsTrXbYZ1nzVefx3Sfpm9W6MMyS98tbL5EGpft9ys6TdEXF9l22Or7aT7aVqfg//Y8DjqvO8DH2+WnR9VTyK+WpRp0NlvhcH/dvc2XyoGaB9kt6Q9KKke1vWrVfzt7xPSDqvZflNqt7hIun9kv4g6anq32MHNM5fSLq4bdkJkjZVt09S87fQ2yXtUvMSw6Dn7leSdkraUX1BzG8fV3V/hZrvinh6SOPao+a1wG3Vx42jnK9Oj1/SxW89n2q+5L2hWr9TLe+eGuCYPqXmy+odLfO0om1cl1Rzs13NXxp/cgjj6vi8jHq+quO+S80wv7dl2dDnS80fJAck/adq17e6dWgQ34v8iT4AJJft0goAoA0hB4DkCDkAJEfIASA5Qg4AyRFyAEiOkANAcv8FN/jk1wZDAXYAAAAASUVORK5CYII=\n",
          "text/plain": "<Figure size 432x288 with 1 Axes>"
         },
         "metadata": {
          "needs_background": "light"
         },
         "output_type": "display_data"
        }
       ]
      }
     },
     "863cd9727cff41c1ab367fbdb79423f7": {
      "model_module": "@jupyter-widgets/base",
      "model_module_version": "1.2.0",
      "model_name": "LayoutModel",
      "state": {}
     },
     "865778089cae45e78fc7faa945b82251": {
      "model_module": "@jupyter-widgets/controls",
      "model_module_version": "1.5.0",
      "model_name": "FloatSliderModel",
      "state": {
       "description": "m",
       "layout": "IPY_MODEL_fdd96468c5ad409f8b686a73e04f7ef8",
       "max": 2,
       "min": -2,
       "step": 0.1,
       "style": "IPY_MODEL_576440411c8145f79a15a2558629aa9b",
       "value": 0.6
      }
     },
     "8782a02bd3404721b9e25d0867139975": {
      "model_module": "@jupyter-widgets/base",
      "model_module_version": "1.2.0",
      "model_name": "LayoutModel",
      "state": {}
     },
     "89723015b8f14e2380133d9eb0aba374": {
      "model_module": "@jupyter-widgets/controls",
      "model_module_version": "1.5.0",
      "model_name": "FloatSliderModel",
      "state": {
       "description": "m",
       "layout": "IPY_MODEL_b6844461e0534b21a83c1034117fe697",
       "max": 2,
       "min": -2,
       "step": 0.1,
       "style": "IPY_MODEL_1e97c00a16184d6e952f283f7f38f255"
      }
     },
     "8a9332119ee4456184fad997e2da91b8": {
      "model_module": "@jupyter-widgets/controls",
      "model_module_version": "1.5.0",
      "model_name": "FloatSliderModel",
      "state": {
       "description": "m",
       "layout": "IPY_MODEL_8782a02bd3404721b9e25d0867139975",
       "max": 2,
       "min": -2,
       "step": 0.1,
       "style": "IPY_MODEL_4caa6e0233d6416687a3b70af5ca67e2"
      }
     },
     "8a9e83e9f27c4b9281f6e430ffe6d7b8": {
      "model_module": "@jupyter-widgets/controls",
      "model_module_version": "1.5.0",
      "model_name": "SliderStyleModel",
      "state": {
       "description_width": ""
      }
     },
     "8b9d30393bd3477da3077433b5a5b91c": {
      "model_module": "@jupyter-widgets/controls",
      "model_module_version": "1.5.0",
      "model_name": "VBoxModel",
      "state": {
       "_dom_classes": [
        "widget-interact"
       ],
       "children": [
        "IPY_MODEL_865778089cae45e78fc7faa945b82251",
        "IPY_MODEL_9df0d86d05fa4cad881d3e932790f564",
        "IPY_MODEL_de42a9d7cd48439fb6948fdadd7d5db3"
       ],
       "layout": "IPY_MODEL_a0b8d51aa70d43b3b91f9ec70c5fab43"
      }
     },
     "8c2f69e58cab4496a5083316fbf6dca1": {
      "model_module": "@jupyter-widgets/controls",
      "model_module_version": "1.5.0",
      "model_name": "SliderStyleModel",
      "state": {
       "description_width": ""
      }
     },
     "8dd3e9681922479ab1cc3df556d624f9": {
      "model_module": "@jupyter-widgets/controls",
      "model_module_version": "1.5.0",
      "model_name": "SliderStyleModel",
      "state": {
       "description_width": ""
      }
     },
     "8e762f31fc59498e86acce691d099de4": {
      "model_module": "@jupyter-widgets/base",
      "model_module_version": "1.2.0",
      "model_name": "LayoutModel",
      "state": {}
     },
     "8ef718f125104a8886b1ca51a2eb9b7b": {
      "model_module": "@jupyter-widgets/controls",
      "model_module_version": "1.5.0",
      "model_name": "FloatSliderModel",
      "state": {
       "description": "m",
       "layout": "IPY_MODEL_f6fc8b8736d446a78e28d5276e5a0de6",
       "max": 2,
       "min": -2,
       "step": 0.1,
       "style": "IPY_MODEL_4897e94ca264407487b2d871e78e2047"
      }
     },
     "8f38ff35ce844d52aaa40a6eea98fb15": {
      "model_module": "@jupyter-widgets/base",
      "model_module_version": "1.2.0",
      "model_name": "LayoutModel",
      "state": {}
     },
     "8f823411a9b648ccb69604a34c1f3aa7": {
      "model_module": "@jupyter-widgets/controls",
      "model_module_version": "1.5.0",
      "model_name": "FloatSliderModel",
      "state": {
       "description": "b",
       "layout": "IPY_MODEL_e5d72d007ee8472a99dd10da5d1da778",
       "max": 3,
       "min": -3,
       "step": 0.5,
       "style": "IPY_MODEL_31de940e32d64e97aebf9635acd9731a"
      }
     },
     "90332fc809cb4b16878a1224a7d835b1": {
      "model_module": "@jupyter-widgets/controls",
      "model_module_version": "1.5.0",
      "model_name": "SliderStyleModel",
      "state": {
       "description_width": ""
      }
     },
     "91aa746980b84665ae95fdbdbaf143fe": {
      "model_module": "@jupyter-widgets/controls",
      "model_module_version": "1.5.0",
      "model_name": "FloatSliderModel",
      "state": {
       "description": "b",
       "layout": "IPY_MODEL_763d39296511465f93fb8681fe3f50b6",
       "max": 3,
       "min": -3,
       "step": 0.5,
       "style": "IPY_MODEL_d5c41bf7ad9e4ba5945fc2651426bea0"
      }
     },
     "91ff77424ca14fcf887d2fb2081584b4": {
      "model_module": "@jupyter-widgets/controls",
      "model_module_version": "1.5.0",
      "model_name": "SliderStyleModel",
      "state": {
       "description_width": ""
      }
     },
     "921f15b523df49e08589903be23011f0": {
      "model_module": "@jupyter-widgets/controls",
      "model_module_version": "1.5.0",
      "model_name": "VBoxModel",
      "state": {
       "_dom_classes": [
        "widget-interact"
       ],
       "children": [
        "IPY_MODEL_1d3712b739a442aba6ce96733a418ab9",
        "IPY_MODEL_ec111711abf44f978b6f2c7fe9039cc6",
        "IPY_MODEL_a0957b3ab8974a7882c4907284af9835"
       ],
       "layout": "IPY_MODEL_eb3fae9b4c1a44448edd0b9b8602dafe"
      }
     },
     "92cc82ef662e44cfb8f5d070a2c37efd": {
      "model_module": "@jupyter-widgets/controls",
      "model_module_version": "1.5.0",
      "model_name": "VBoxModel",
      "state": {
       "_dom_classes": [
        "widget-interact"
       ],
       "children": [
        "IPY_MODEL_a275b6a389544129a50e16f590a6d1ac",
        "IPY_MODEL_3b9df552b0f649ddb879ad5e1d4b1996",
        "IPY_MODEL_81af054435ec4225a9b347092da7838c"
       ],
       "layout": "IPY_MODEL_20c1c258f0a44396add29513222d83be"
      }
     },
     "93aa737a3208471d9a3aa87d4386ff22": {
      "model_module": "@jupyter-widgets/base",
      "model_module_version": "1.2.0",
      "model_name": "LayoutModel",
      "state": {}
     },
     "941dd95c338e42be967ba7949287f989": {
      "model_module": "@jupyter-widgets/base",
      "model_module_version": "1.2.0",
      "model_name": "LayoutModel",
      "state": {}
     },
     "94340fd373a7487895963cf2fbd05a1f": {
      "model_module": "@jupyter-widgets/base",
      "model_module_version": "1.2.0",
      "model_name": "LayoutModel",
      "state": {}
     },
     "952d20c73b374dc5bf65c5c08b971ad7": {
      "model_module": "@jupyter-widgets/base",
      "model_module_version": "1.2.0",
      "model_name": "LayoutModel",
      "state": {}
     },
     "9678cbdfda4945609ac8ca8184a9fbe1": {
      "model_module": "@jupyter-widgets/controls",
      "model_module_version": "1.5.0",
      "model_name": "SliderStyleModel",
      "state": {
       "description_width": ""
      }
     },
     "9757c7562d8546869cad5be5dff14ee7": {
      "model_module": "@jupyter-widgets/base",
      "model_module_version": "1.2.0",
      "model_name": "LayoutModel",
      "state": {
       "height": "350px"
      }
     },
     "9a65239374dd4c4abc20e3d9b3f4f27e": {
      "model_module": "@jupyter-widgets/base",
      "model_module_version": "1.2.0",
      "model_name": "LayoutModel",
      "state": {}
     },
     "9a84724e4556416b930f72c8261c9634": {
      "model_module": "@jupyter-widgets/controls",
      "model_module_version": "1.5.0",
      "model_name": "VBoxModel",
      "state": {
       "_dom_classes": [
        "widget-interact"
       ],
       "children": [
        "IPY_MODEL_dd82d9d375124bf49070ba1912c9bf30",
        "IPY_MODEL_1f4064a26b824d5e82fd091e6a4d090d",
        "IPY_MODEL_3fb629aeb27f4034bd90c2d31109e99e"
       ],
       "layout": "IPY_MODEL_14e29899950c4ed79029a1cac42ea5e1"
      }
     },
     "9c50daea456942f2beffcc49af71b6ee": {
      "model_module": "@jupyter-widgets/base",
      "model_module_version": "1.2.0",
      "model_name": "LayoutModel",
      "state": {}
     },
     "9ca902ed89404f348dd10aa3dd37c027": {
      "model_module": "@jupyter-widgets/controls",
      "model_module_version": "1.5.0",
      "model_name": "VBoxModel",
      "state": {
       "_dom_classes": [
        "widget-interact"
       ],
       "children": [
        "IPY_MODEL_1926f3698e5a4384afca463b7651d337",
        "IPY_MODEL_7740dba229804cf89cd3b3e344ca84f8",
        "IPY_MODEL_72ec6d460bad46ae9e0f30a7b3827334"
       ],
       "layout": "IPY_MODEL_93aa737a3208471d9a3aa87d4386ff22"
      }
     },
     "9d2396b65f624fdea0541b4fc52c00ae": {
      "model_module": "@jupyter-widgets/base",
      "model_module_version": "1.2.0",
      "model_name": "LayoutModel",
      "state": {
       "height": "350px"
      }
     },
     "9df0d86d05fa4cad881d3e932790f564": {
      "model_module": "@jupyter-widgets/controls",
      "model_module_version": "1.5.0",
      "model_name": "FloatSliderModel",
      "state": {
       "description": "b",
       "layout": "IPY_MODEL_099b16751e4048cb9e00ccd2ecbd5022",
       "max": 3,
       "min": -3,
       "step": 0.5,
       "style": "IPY_MODEL_6b36dad9709845e981733688394d6ce4"
      }
     },
     "9f3cf7cd452c49aaa465b6157394f622": {
      "model_module": "@jupyter-widgets/output",
      "model_module_version": "1.0.0",
      "model_name": "OutputModel",
      "state": {
       "layout": "IPY_MODEL_faf1062acff845c9ac1e0eeec7431d14",
       "outputs": [
        {
         "data": {
          "image/png": "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\n",
          "text/plain": "<Figure size 432x288 with 1 Axes>"
         },
         "metadata": {
          "needs_background": "light"
         },
         "output_type": "display_data"
        }
       ]
      }
     },
     "a0835b5896fe4f29b4d632acf540e75f": {
      "model_module": "@jupyter-widgets/controls",
      "model_module_version": "1.5.0",
      "model_name": "SliderStyleModel",
      "state": {
       "description_width": ""
      }
     },
     "a0957b3ab8974a7882c4907284af9835": {
      "model_module": "@jupyter-widgets/output",
      "model_module_version": "1.0.0",
      "model_name": "OutputModel",
      "state": {
       "layout": "IPY_MODEL_16b4a947df1a42529dc7478ff5e64394",
       "outputs": [
        {
         "data": {
          "image/png": "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\n",
          "text/plain": "<Figure size 432x288 with 1 Axes>"
         },
         "metadata": {
          "needs_background": "light"
         },
         "output_type": "display_data"
        }
       ]
      }
     },
     "a0b8d51aa70d43b3b91f9ec70c5fab43": {
      "model_module": "@jupyter-widgets/base",
      "model_module_version": "1.2.0",
      "model_name": "LayoutModel",
      "state": {}
     },
     "a0e3f85e0ed447ceba8796fc8a4b9a77": {
      "model_module": "@jupyter-widgets/controls",
      "model_module_version": "1.5.0",
      "model_name": "SliderStyleModel",
      "state": {
       "description_width": ""
      }
     },
     "a168d1e93ff2425bbf178ba15356cd35": {
      "model_module": "@jupyter-widgets/base",
      "model_module_version": "1.2.0",
      "model_name": "LayoutModel",
      "state": {
       "height": "350px"
      }
     },
     "a275b6a389544129a50e16f590a6d1ac": {
      "model_module": "@jupyter-widgets/controls",
      "model_module_version": "1.5.0",
      "model_name": "FloatSliderModel",
      "state": {
       "description": "m",
       "layout": "IPY_MODEL_e777373a3d484f6ebaff1f1e3f5f28ad",
       "max": 2,
       "min": -2,
       "step": 0.1,
       "style": "IPY_MODEL_7cd69f1b8d5c440cbec3a673d4428738"
      }
     },
     "a360a1e47bc24114b6da8d23330e0a29": {
      "model_module": "@jupyter-widgets/base",
      "model_module_version": "1.2.0",
      "model_name": "LayoutModel",
      "state": {}
     },
     "a41faef47c414a89b81cfda2e390f857": {
      "model_module": "@jupyter-widgets/base",
      "model_module_version": "1.2.0",
      "model_name": "LayoutModel",
      "state": {}
     },
     "a44e031fdb934db8a62512a42e61588c": {
      "model_module": "@jupyter-widgets/output",
      "model_module_version": "1.0.0",
      "model_name": "OutputModel",
      "state": {
       "layout": "IPY_MODEL_423a3917beac4932ad8c14e8260daacc",
       "outputs": [
        {
         "data": {
          "image/png": "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\n",
          "text/plain": "<Figure size 432x288 with 1 Axes>"
         },
         "metadata": {
          "needs_background": "light"
         },
         "output_type": "display_data"
        }
       ]
      }
     },
     "a48a3f0cd70c4b5fafd7927960da9592": {
      "model_module": "@jupyter-widgets/base",
      "model_module_version": "1.2.0",
      "model_name": "LayoutModel",
      "state": {
       "height": "350px"
      }
     },
     "a535236bc1cc4c109e34cf03e123c6b9": {
      "model_module": "@jupyter-widgets/controls",
      "model_module_version": "1.5.0",
      "model_name": "SliderStyleModel",
      "state": {
       "description_width": ""
      }
     },
     "a53a52456a2f4b1a8534747e8507a8d6": {
      "model_module": "@jupyter-widgets/output",
      "model_module_version": "1.0.0",
      "model_name": "OutputModel",
      "state": {
       "layout": "IPY_MODEL_e9175fe0cfed4efda1de8d35cecf21ae",
       "outputs": [
        {
         "ename": "ValueError",
         "evalue": "The passed figure is not managed by pyplot",
         "output_type": "error",
         "traceback": [
          "\u001b[0;31m---------------------------------------------------------------------------\u001b[0m",
          "\u001b[0;31mValueError\u001b[0m                                Traceback (most recent call last)",
          "File \u001b[0;32m~/anaconda3/envs/train/lib/python3.9/site-packages/ipywidgets/widgets/interaction.py:257\u001b[0m, in \u001b[0;36minteractive.update\u001b[0;34m(self, *args)\u001b[0m\n\u001b[1;32m    255\u001b[0m     value \u001b[38;5;241m=\u001b[39m widget\u001b[38;5;241m.\u001b[39mget_interact_value()\n\u001b[1;32m    256\u001b[0m     \u001b[38;5;28mself\u001b[39m\u001b[38;5;241m.\u001b[39mkwargs[widget\u001b[38;5;241m.\u001b[39m_kwarg] \u001b[38;5;241m=\u001b[39m value\n\u001b[0;32m--> 257\u001b[0m \u001b[38;5;28mself\u001b[39m\u001b[38;5;241m.\u001b[39mresult \u001b[38;5;241m=\u001b[39m \u001b[38;5;28;43mself\u001b[39;49m\u001b[38;5;241;43m.\u001b[39;49m\u001b[43mf\u001b[49m\u001b[43m(\u001b[49m\u001b[38;5;241;43m*\u001b[39;49m\u001b[38;5;241;43m*\u001b[39;49m\u001b[38;5;28;43mself\u001b[39;49m\u001b[38;5;241;43m.\u001b[39;49m\u001b[43mkwargs\u001b[49m\u001b[43m)\u001b[49m\n\u001b[1;32m    258\u001b[0m show_inline_matplotlib_plots()\n\u001b[1;32m    259\u001b[0m \u001b[38;5;28;01mif\u001b[39;00m \u001b[38;5;28mself\u001b[39m\u001b[38;5;241m.\u001b[39mauto_display \u001b[38;5;129;01mand\u001b[39;00m \u001b[38;5;28mself\u001b[39m\u001b[38;5;241m.\u001b[39mresult \u001b[38;5;129;01mis\u001b[39;00m \u001b[38;5;129;01mnot\u001b[39;00m \u001b[38;5;28;01mNone\u001b[39;00m:\n",
          "Input \u001b[0;32mIn [27]\u001b[0m, in \u001b[0;36mf\u001b[0;34m(m, b)\u001b[0m\n\u001b[1;32m     13\u001b[0m \u001b[38;5;28;01mdef\u001b[39;00m \u001b[38;5;21mf\u001b[39m(m, b):\n\u001b[1;32m     14\u001b[0m     \u001b[38;5;28;01mglobal\u001b[39;00m axes\n\u001b[0;32m---> 15\u001b[0m     \u001b[43mplt\u001b[49m\u001b[38;5;241;43m.\u001b[39;49m\u001b[43msca\u001b[49m\u001b[43m(\u001b[49m\u001b[43maxes\u001b[49m\u001b[43m)\u001b[49m  \u001b[38;5;66;03m# ******** 如果不进行选择画在哪个axis上，则不能显示话出来的内容 ********\u001b[39;00m\n\u001b[1;32m     16\u001b[0m     axes\u001b[38;5;241m.\u001b[39mclear()  \u001b[38;5;66;03m# 如果去掉，则在原图上一直累加显示\u001b[39;00m\n\u001b[1;32m     17\u001b[0m     x \u001b[38;5;241m=\u001b[39m np\u001b[38;5;241m.\u001b[39mlinspace(\u001b[38;5;241m-\u001b[39m\u001b[38;5;241m10\u001b[39m, \u001b[38;5;241m10\u001b[39m, num\u001b[38;5;241m=\u001b[39m\u001b[38;5;241m1000\u001b[39m)\n",
          "File \u001b[0;32m~/anaconda3/envs/train/lib/python3.9/site-packages/matplotlib/pyplot.py:1085\u001b[0m, in \u001b[0;36msca\u001b[0;34m(ax)\u001b[0m\n\u001b[1;32m   1081\u001b[0m \u001b[38;5;28;01mdef\u001b[39;00m \u001b[38;5;21msca\u001b[39m(ax):\n\u001b[1;32m   1082\u001b[0m     \u001b[38;5;124;03m\"\"\"\u001b[39;00m\n\u001b[1;32m   1083\u001b[0m \u001b[38;5;124;03m    Set the current Axes to *ax* and the current Figure to the parent of *ax*.\u001b[39;00m\n\u001b[1;32m   1084\u001b[0m \u001b[38;5;124;03m    \"\"\"\u001b[39;00m\n\u001b[0;32m-> 1085\u001b[0m     \u001b[43mfigure\u001b[49m\u001b[43m(\u001b[49m\u001b[43max\u001b[49m\u001b[38;5;241;43m.\u001b[39;49m\u001b[43mfigure\u001b[49m\u001b[43m)\u001b[49m\n\u001b[1;32m   1086\u001b[0m     ax\u001b[38;5;241m.\u001b[39mfigure\u001b[38;5;241m.\u001b[39msca(ax)\n",
          "File \u001b[0;32m~/anaconda3/envs/train/lib/python3.9/site-packages/matplotlib/pyplot.py:753\u001b[0m, in \u001b[0;36mfigure\u001b[0;34m(num, figsize, dpi, facecolor, edgecolor, frameon, FigureClass, clear, **kwargs)\u001b[0m\n\u001b[1;32m    751\u001b[0m \u001b[38;5;28;01mif\u001b[39;00m \u001b[38;5;28misinstance\u001b[39m(num, Figure):\n\u001b[1;32m    752\u001b[0m     \u001b[38;5;28;01mif\u001b[39;00m num\u001b[38;5;241m.\u001b[39mcanvas\u001b[38;5;241m.\u001b[39mmanager \u001b[38;5;129;01mis\u001b[39;00m \u001b[38;5;28;01mNone\u001b[39;00m:\n\u001b[0;32m--> 753\u001b[0m         \u001b[38;5;28;01mraise\u001b[39;00m \u001b[38;5;167;01mValueError\u001b[39;00m(\u001b[38;5;124m\"\u001b[39m\u001b[38;5;124mThe passed figure is not managed by pyplot\u001b[39m\u001b[38;5;124m\"\u001b[39m)\n\u001b[1;32m    754\u001b[0m     _pylab_helpers\u001b[38;5;241m.\u001b[39mGcf\u001b[38;5;241m.\u001b[39mset_active(num\u001b[38;5;241m.\u001b[39mcanvas\u001b[38;5;241m.\u001b[39mmanager)\n\u001b[1;32m    755\u001b[0m     \u001b[38;5;28;01mreturn\u001b[39;00m num\n",
          "\u001b[0;31mValueError\u001b[0m: The passed figure is not managed by pyplot"
         ]
        }
       ]
      }
     },
     "a62c477d3090422fad84bf0c1d5f220b": {
      "model_module": "@jupyter-widgets/base",
      "model_module_version": "1.2.0",
      "model_name": "LayoutModel",
      "state": {}
     },
     "a72679262b0d4c44a845fd6b4fad9c68": {
      "model_module": "@jupyter-widgets/base",
      "model_module_version": "1.2.0",
      "model_name": "LayoutModel",
      "state": {}
     },
     "a7c1ae3338794c9aa583fd3aee886089": {
      "model_module": "@jupyter-widgets/base",
      "model_module_version": "1.2.0",
      "model_name": "LayoutModel",
      "state": {}
     },
     "a8fee9e5d78e4127aeb03e882b55736a": {
      "model_module": "@jupyter-widgets/base",
      "model_module_version": "1.2.0",
      "model_name": "LayoutModel",
      "state": {}
     },
     "a90e6ec3d90c4b7ea008983202317097": {
      "model_module": "@jupyter-widgets/controls",
      "model_module_version": "1.5.0",
      "model_name": "VBoxModel",
      "state": {
       "_dom_classes": [
        "widget-interact"
       ],
       "children": [
        "IPY_MODEL_f7bac26e8ceb4b338c056ab40ce338b8",
        "IPY_MODEL_6655d23fc9a4404d9a548b8f7f4cfbab",
        "IPY_MODEL_17795f09c9d64d0eab6a1d07b6d2884b"
       ],
       "layout": "IPY_MODEL_d00780409fa74fce9f8953381999ab5d"
      }
     },
     "a962366287fb4b94b5d606273d2f08db": {
      "model_module": "@jupyter-widgets/controls",
      "model_module_version": "1.5.0",
      "model_name": "VBoxModel",
      "state": {
       "_dom_classes": [
        "widget-interact"
       ],
       "children": [
        "IPY_MODEL_229c4264ace44bcea5cd183570fe2420",
        "IPY_MODEL_1fa449ca4a274aac97801c1a59622f9b",
        "IPY_MODEL_df7b475edc7644eca20ca2679e6add9e"
       ],
       "layout": "IPY_MODEL_12fde1d7e29f4f33b2e3bd4f4e8e7178"
      }
     },
     "a991060e0a874e94a1cc75e40519b255": {
      "model_module": "@jupyter-widgets/controls",
      "model_module_version": "1.5.0",
      "model_name": "SliderStyleModel",
      "state": {
       "description_width": ""
      }
     },
     "ab24819f04e84bf7a5319d57b159d2db": {
      "model_module": "@jupyter-widgets/base",
      "model_module_version": "1.2.0",
      "model_name": "LayoutModel",
      "state": {}
     },
     "ab29768d5f4f4f849f019efed7c65da5": {
      "model_module": "@jupyter-widgets/base",
      "model_module_version": "1.2.0",
      "model_name": "LayoutModel",
      "state": {
       "height": "350px"
      }
     },
     "ab47f16138ed4c9891dda1a0e77a4d7e": {
      "model_module": "@jupyter-widgets/controls",
      "model_module_version": "1.5.0",
      "model_name": "FloatSliderModel",
      "state": {
       "description": "m",
       "layout": "IPY_MODEL_4cfc508a4b5b4fe39ca3c8dd3d97798d",
       "max": 2,
       "min": -2,
       "step": 0.1,
       "style": "IPY_MODEL_a991060e0a874e94a1cc75e40519b255"
      }
     },
     "adfae20ef25b48e48d20fe75dbf6b312": {
      "model_module": "@jupyter-widgets/controls",
      "model_module_version": "1.5.0",
      "model_name": "FloatSliderModel",
      "state": {
       "description": "b",
       "layout": "IPY_MODEL_83084beacdc44b49aaa63f741872ccdf",
       "max": 3,
       "min": -3,
       "step": 0.5,
       "style": "IPY_MODEL_e4914221a0e949de9d3d9f3dddc9f3d0"
      }
     },
     "affba62e9494419e95082003a704694f": {
      "model_module": "@jupyter-widgets/output",
      "model_module_version": "1.0.0",
      "model_name": "OutputModel",
      "state": {
       "layout": "IPY_MODEL_fcccc5badbdf4ac18bd0b853cb7cc020",
       "outputs": [
        {
         "data": {
          "image/png": "iVBORw0KGgoAAAANSUhEUgAAAXIAAAD4CAYAAADxeG0DAAAAOXRFWHRTb2Z0d2FyZQBNYXRwbG90bGliIHZlcnNpb24zLjUuMSwgaHR0cHM6Ly9tYXRwbG90bGliLm9yZy/YYfK9AAAACXBIWXMAAAsTAAALEwEAmpwYAAAMv0lEQVR4nO3dXYxcZR3H8d/PrpAoKGKLlLa4JRJiURNw0qD4QqBiqVjURFMStQkmDRckkEigtQliuEIiGiNKViCiNtYLQJCUQFGI8QJkW/tCKS8Fi5QWWDQBDAna8PdiDsl0mNk9s/PMTP/6/SSbzpxz9pxnntn97pmzs+CIEAAgr3eMegAAgP4QcgBIjpADQHKEHACSI+QAkNzYKA46d+7cGB8fH8WhASCtLVu2vBwR89qXjyTk4+PjmpycHMWhASAt2892Ws6lFQBIjpADQHKEHACSI+QAkBwhB4DkCDkAJEfIASA5Qg4AyRFyAEiOkANAcoQcAJIj5ACQHCEHgOQIOQAkR8gBIDlCDgDJEXIASK5YyG3Psf1X23eX2icAYGYlz8gvlbS74P4AADUUCbnthZK+IOmmEvsDANRX6oz8R5KukPRmtw1sr7E9aXtyamqq0GEBAH2H3Pb5kl6KiC3TbRcRExHRiIjGvHnz+j0sAKBS4oz8TEkrbe+VtFHS2bZ/XWC/AIAa+g55RKyLiIURMS5plaQ/RsTX+x4ZAKAW3kcOAMmNldxZRDwo6cGS+wQATI8zcgBIjpADQHKEHACSI+QAkBwhB4DkCDkAJEfIASA5Qg4AyRFyAEiOkANAcoQcAJIj5ACQHCEHgOQIOQAkR8gBIDlCDgDJEXIASI6QA0ByhBwAkiPkAJAcIQeA5Ag5ACRHyAEgOUIOAMkRcgBIjpADQHKEHACSI+QAkBwhB4DkCDkAJEfIASA5Qg4AyRFyAEiOkANAcn2H3PYi2w/Y3m17l+1LSwwMAFDPWIF9HJT07YjYavtoSVtsb46IxwrsGwAwg77PyCPiQERsrW6/Jmm3pAX97hcAUE/Ra+S2xyWdJunhkvsFAHRXLOS2j5J0m6TLIuLVDuvX2J60PTk1NVXqsADwf69IyG2/U82Ib4iI2zttExETEdGIiMa8efNKHBYAoDLvWrGkmyXtjojr+x8SAKAXJc7Iz5T0DUln295WfawosF8AQA19v/0wIv4syQXGAgCYBf6yEwCSI+QAkBwhB4DkCDkAJEfIASA5Qg4AyRFyAEiOkANAcoQcAJIj5ACQHCEHgOQIOQAkR8gBIDlCDgDJEXIASI6QA0ByhBwAkiPkAJAcIQeA5Ag5ACRHyAEgOUIOAMkRcgBIjpADQHKEHACSI+QAkBwhB4DkCDkAJEfIASA5Qg4AyRFyAEiOkANAcoQcAJIj5ACQHCEHgOSKhNz2cttP2N5je22JfQIA6uk75LbnSLpB0nmSlki60PaSfvcLAKhnrMA+lkraExHPSJLtjZIukPRYgX0f4nu/36XH9r9aercAMDRLTniPvvvFU4vus8SllQWSnmu5v69adgjba2xP2p6cmpoqcFgAgFTmjNwdlsXbFkRMSJqQpEaj8bb1dZT+KQYA/wtKnJHvk7So5f5CSfsL7BcAUEOJkD8i6WTbi20fIWmVpLsK7BcAUEPfl1Yi4qDtSyTdK2mOpFsiYlffIwMA1FLiGrkiYpOkTSX2BQDoDX/ZCQDJEXIASI6QA0ByhBwAkiPkAJAcIQeA5Ag5ACRHyAEgOUIOAMkRcgBIjpADQHKEHACSI+QAkBwhB4DkCDkAJEfIASA5Qg4AyRFyAEiOkANAcoQcAJIj5ACQHCEHgOQIOQAkR8gBIDlCDgDJEXIASI6QA0ByhBwAkiPkAJAcIQeA5Ag5ACRHyAEgOUIOAMkRcgBIrq+Q277O9uO2d9i+w/YxhcYFAKip3zPyzZI+EhEfk/SkpHX9DwkA0Iu+Qh4R90XEweruQ5IW9j8kAEAvSl4jv0jSPQX3BwCoYWymDWzfL+n4DqvWR8Sd1TbrJR2UtGGa/ayRtEaSTjzxxFkNFgDwdjOGPCKWTbfe9mpJ50s6JyJimv1MSJqQpEaj0XU7AEBvZgz5dGwvl3SlpM9GxOtlhgQA6EW/18h/IuloSZttb7N9Y4ExAQB60NcZeUR8qNRAAACzw192AkByhBwAkiPkAJAcIQeA5Ag5ACRHyAEgOUIOAMkRcgBIjpADQHKEHACSI+QAkBwhB4DkCDkAJEfIASA5Qg4AyRFyAEiOkANAcoQcAJIj5ACQHCEHgOQIOQAkR8gBIDlCDgDJEXIASI6QA0ByhBwAkiPkAJAcIQeA5Ag5ACRHyAEgOUIOAMkRcgBIjpADQHKEHACSI+QAkFyRkNu+3HbYnltifwCA+voOue1Fkj4n6e/9DwcA0KsSZ+Q/lHSFpCiwLwBAj/oKue2Vkp6PiO01tl1je9L25NTUVD+HBQC0GJtpA9v3Szq+w6r1kr4j6dw6B4qICUkTktRoNDh7B4BCZgx5RCzrtNz2RyUtlrTdtiQtlLTV9tKIeKHoKAEAXc0Y8m4iYqek4966b3uvpEZEvFxgXACAmngfOQAkN+sz8nYRMV5qXwCA+jgjB4DkCDkAJEfIASA5Qg4AyRFyAEiOkANAcoQcAJIj5ACQHCEHgOQIOQAkR8gBIDlCDgDJEXIASI6QA0ByhBwAkiPkAJCcI4b//0G2PSXp2Vl++lxJh+P/To5x9YZx9YZx9eZwHZfU39g+GBHz2heOJOT9sD0ZEY1Rj6Md4+oN4+oN4+rN4TouaTBj49IKACRHyAEguYwhnxj1ALpgXL1hXL1hXL05XMclDWBs6a6RAwAOlfGMHADQgpADQHKHZchtf9X2Lttv2m60rVtne4/tJ2x/vsvnH2t7s+2nqn/fN4Ax/tb2tupjr+1tXbbba3tntd1k6XF0ON7Vtp9vGduKLtstr+Zwj+21QxjXdbYft73D9h22j+my3VDma6bH76YfV+t32D59UGNpOeYi2w/Y3l19/V/aYZuzbL/S8vxeNehxVced9nkZ0Xyd0jIP22y/avuytm2GMl+2b7H9ku1HW5bV6lCR78WIOOw+JH1Y0imSHpTUaFm+RNJ2SUdKWizpaUlzOnz+9yWtrW6vlXTtgMf7A0lXdVm3V9LcIc7d1ZIun2GbOdXcnSTpiGpOlwx4XOdKGqtuX9vtORnGfNV5/JJWSLpHkiWdIenhITx38yWdXt0+WtKTHcZ1lqS7h/X1VPd5GcV8dXhOX1DzD2aGPl+SPiPpdEmPtiybsUOlvhcPyzPyiNgdEU90WHWBpI0R8UZE/E3SHklLu2x3a3X7VklfGshA1TwTkfQ1Sb8Z1DEGYKmkPRHxTET8W9JGNedsYCLivog4WN19SNLCQR5vBnUe/wWSfhlND0k6xvb8QQ4qIg5ExNbq9muSdktaMMhjFjT0+WpzjqSnI2K2fzHel4j4k6R/ti2u06Ei34uHZcinsUDScy3396nzF/oHIuKA1PzmkHTcAMf0aUkvRsRTXdaHpPtsb7G9ZoDjaHVJ9fL2li4v5+rO46BcpObZWyfDmK86j3+kc2R7XNJpkh7usPoTtrfbvsf2qUMa0kzPy6i/plap+8nUKOZLqtehIvM2NqvhFWD7fknHd1i1PiLu7PZpHZYN7P2TNcd4oaY/Gz8zIvbbPk7SZtuPVz+9BzIuST+TdI2a83KNmpd9LmrfRYfP7Xse68yX7fWSDkra0GU3xeer01A7LGt//EP9WjvkwPZRkm6TdFlEvNq2equalw/+Vf3+43eSTh7CsGZ6XkY5X0dIWilpXYfVo5qvuorM28hCHhHLZvFp+yQtarm/UNL+Dtu9aHt+RByoXt69NIgx2h6T9BVJH59mH/urf1+yfYeaL6X6ClPdubP9c0l3d1hVdx6Ljsv2aknnSzonqguEHfZRfL46qPP4BzJHM7H9TjUjviEibm9f3xr2iNhk+6e250bEQP8DUTWel5HMV+U8SVsj4sX2FaOar0qdDhWZt2yXVu6StMr2kbYXq/mT9S9dtltd3V4tqdsZfr+WSXo8IvZ1Wmn73baPfuu2mr/we7TTtqW0XZf8cpfjPSLpZNuLq7OZVWrO2SDHtVzSlZJWRsTrXbYZ1nzVefx3Sfpm9W6MMyS98tbL5EGpft9ys6TdEXF9l22Or7aT7aVqfg//Y8DjqvO8DH2+WnR9VTyK+WpRp0NlvhcH/dvc2XyoGaB9kt6Q9KKke1vWrVfzt7xPSDqvZflNqt7hIun9kv4g6anq32MHNM5fSLq4bdkJkjZVt09S87fQ2yXtUvMSw6Dn7leSdkraUX1BzG8fV3V/hZrvinh6SOPao+a1wG3Vx42jnK9Oj1/SxW89n2q+5L2hWr9TLe+eGuCYPqXmy+odLfO0om1cl1Rzs13NXxp/cgjj6vi8jHq+quO+S80wv7dl2dDnS80fJAck/adq17e6dWgQ34v8iT4AJJft0goAoA0hB4DkCDkAJEfIASA5Qg4AyRFyAEiOkANAcv8FN/jk1wZDAXYAAAAASUVORK5CYII=\n",
          "text/plain": "<Figure size 432x288 with 1 Axes>"
         },
         "metadata": {
          "needs_background": "light"
         },
         "output_type": "display_data"
        }
       ]
      }
     },
     "b032a6bb86364d09af8df3fc66b84cdc": {
      "model_module": "@jupyter-widgets/controls",
      "model_module_version": "1.5.0",
      "model_name": "SliderStyleModel",
      "state": {
       "description_width": ""
      }
     },
     "b07d3551b6f44cf7b233ccfc333502bc": {
      "model_module": "@jupyter-widgets/controls",
      "model_module_version": "1.5.0",
      "model_name": "FloatSliderModel",
      "state": {
       "description": "b",
       "layout": "IPY_MODEL_941dd95c338e42be967ba7949287f989",
       "max": 3,
       "min": -3,
       "step": 0.5,
       "style": "IPY_MODEL_1363ed65910c4870824fafcab0b090ec"
      }
     },
     "b0814be7857542798c412d118b94f99b": {
      "model_module": "@jupyter-widgets/base",
      "model_module_version": "1.2.0",
      "model_name": "LayoutModel",
      "state": {}
     },
     "b0ac9211d06e4a2696975cf73439fcee": {
      "model_module": "@jupyter-widgets/base",
      "model_module_version": "1.2.0",
      "model_name": "LayoutModel",
      "state": {
       "height": "350px"
      }
     },
     "b0f86a2d1f8d4c0aa92241ab0078bc2a": {
      "model_module": "@jupyter-widgets/base",
      "model_module_version": "1.2.0",
      "model_name": "LayoutModel",
      "state": {}
     },
     "b12fbd034da2447286d7720986472e07": {
      "model_module": "@jupyter-widgets/base",
      "model_module_version": "1.2.0",
      "model_name": "LayoutModel",
      "state": {}
     },
     "b15de4bc20ec468e963c3fd93922c3be": {
      "model_module": "@jupyter-widgets/controls",
      "model_module_version": "1.5.0",
      "model_name": "VBoxModel",
      "state": {
       "_dom_classes": [
        "widget-interact"
       ],
       "children": [
        "IPY_MODEL_e6e7ea5b153347288bcc98306e887701",
        "IPY_MODEL_1b3c444f30e04c4a85324c592d6ac7c3",
        "IPY_MODEL_6589ab353e484d13ae2032e02fa81d3c"
       ],
       "layout": "IPY_MODEL_2c3333569f0e4ad4a23d08ae7f8872de"
      }
     },
     "b217d254910143339de89ad4028d366d": {
      "model_module": "@jupyter-widgets/controls",
      "model_module_version": "1.5.0",
      "model_name": "SliderStyleModel",
      "state": {
       "description_width": ""
      }
     },
     "b28e1a6c617643a0a4c9459379ca51a8": {
      "model_module": "@jupyter-widgets/output",
      "model_module_version": "1.0.0",
      "model_name": "OutputModel",
      "state": {
       "layout": "IPY_MODEL_0d06ffa23579430d9d0740625116f306",
       "outputs": [
        {
         "data": {
          "image/png": "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\n",
          "text/plain": "<Figure size 432x288 with 1 Axes>"
         },
         "metadata": {
          "needs_background": "light"
         },
         "output_type": "display_data"
        }
       ]
      }
     },
     "b2ce1a72f97943358dd467bef1a98bc4": {
      "model_module": "@jupyter-widgets/controls",
      "model_module_version": "1.5.0",
      "model_name": "VBoxModel",
      "state": {
       "_dom_classes": [
        "widget-interact"
       ],
       "children": [
        "IPY_MODEL_7836f382fd6a47fda158e27e25781725",
        "IPY_MODEL_0ebcce0448f84c488111a683d823c98b",
        "IPY_MODEL_3dfad8350543462fb0c0e7679ae03151"
       ],
       "layout": "IPY_MODEL_ccd37429e18a4a95bf49ed004be8b4bb"
      }
     },
     "b2f759c9b7644776bfbd99517ecabc79": {
      "model_module": "@jupyter-widgets/controls",
      "model_module_version": "1.5.0",
      "model_name": "FloatSliderModel",
      "state": {
       "description": "m",
       "layout": "IPY_MODEL_d62752bcb4954b4b952e7f55c0644c44",
       "max": 2,
       "min": -2,
       "step": 0.1,
       "style": "IPY_MODEL_0a19f150c7f748bd8c1042083d27be2d",
       "value": 0.8
      }
     },
     "b2ff81c2a7f54f64a499ea097785fc23": {
      "model_module": "@jupyter-widgets/base",
      "model_module_version": "1.2.0",
      "model_name": "LayoutModel",
      "state": {}
     },
     "b38c369a599c482281f9cbdc4342711d": {
      "model_module": "@jupyter-widgets/controls",
      "model_module_version": "1.5.0",
      "model_name": "VBoxModel",
      "state": {
       "_dom_classes": [
        "widget-interact"
       ],
       "children": [
        "IPY_MODEL_5e5a7ed5ced04239b6fc8648179e3e5a",
        "IPY_MODEL_b07d3551b6f44cf7b233ccfc333502bc",
        "IPY_MODEL_82aeae2d3e9849dc8b231ab8601a6bd2"
       ],
       "layout": "IPY_MODEL_11c6d3b89a1648b6ba47f31bd6724944"
      }
     },
     "b3a554eb0ccf4c90a76f73b30a523937": {
      "model_module": "@jupyter-widgets/controls",
      "model_module_version": "1.5.0",
      "model_name": "FloatSliderModel",
      "state": {
       "description": "m",
       "layout": "IPY_MODEL_bd3d5dbb92ba48a99dd2029a784d1b09",
       "max": 2,
       "min": -2,
       "step": 0.1,
       "style": "IPY_MODEL_9678cbdfda4945609ac8ca8184a9fbe1"
      }
     },
     "b4bdd7d911c047d8a8ad44821bfff130": {
      "model_module": "@jupyter-widgets/base",
      "model_module_version": "1.2.0",
      "model_name": "LayoutModel",
      "state": {}
     },
     "b5b4ae7d3dea4840917ad1f78e2928a3": {
      "model_module": "@jupyter-widgets/controls",
      "model_module_version": "1.5.0",
      "model_name": "SliderStyleModel",
      "state": {
       "description_width": ""
      }
     },
     "b64cdbe1fb54443d845c6982a17ae013": {
      "model_module": "@jupyter-widgets/output",
      "model_module_version": "1.0.0",
      "model_name": "OutputModel",
      "state": {
       "layout": "IPY_MODEL_c36848e646cd4b33ad352a5e7c480bb9",
       "outputs": [
        {
         "data": {
          "image/png": "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\n",
          "text/plain": "<Figure size 432x288 with 1 Axes>"
         },
         "metadata": {
          "needs_background": "light"
         },
         "output_type": "display_data"
        }
       ]
      }
     },
     "b6844461e0534b21a83c1034117fe697": {
      "model_module": "@jupyter-widgets/base",
      "model_module_version": "1.2.0",
      "model_name": "LayoutModel",
      "state": {}
     },
     "b6eab67be313438dbfcd24a387d792f2": {
      "model_module": "@jupyter-widgets/controls",
      "model_module_version": "1.5.0",
      "model_name": "SliderStyleModel",
      "state": {
       "description_width": ""
      }
     },
     "b70df65b36cb435dbdd0fb4a4b7950ca": {
      "model_module": "@jupyter-widgets/controls",
      "model_module_version": "1.5.0",
      "model_name": "FloatSliderModel",
      "state": {
       "description": "b",
       "layout": "IPY_MODEL_40f069a783f7443391816b6758c8427e",
       "max": 3,
       "min": -3,
       "step": 0.5,
       "style": "IPY_MODEL_edfa9b60e7524c759d3917d91936698d"
      }
     },
     "bb7345c36dab4a579980dd16fa79cae6": {
      "model_module": "@jupyter-widgets/controls",
      "model_module_version": "1.5.0",
      "model_name": "FloatSliderModel",
      "state": {
       "description": "m",
       "layout": "IPY_MODEL_758b2656750b46f8a1ff4318d84f2a92",
       "max": 2,
       "min": -2,
       "step": 0.1,
       "style": "IPY_MODEL_5581b4280a3e44c18209b826b8b283de"
      }
     },
     "bbc998021f2545f28280fbc36d0ce25a": {
      "model_module": "@jupyter-widgets/base",
      "model_module_version": "1.2.0",
      "model_name": "LayoutModel",
      "state": {}
     },
     "bc374919021e4c329d5ba049f85af071": {
      "model_module": "@jupyter-widgets/base",
      "model_module_version": "1.2.0",
      "model_name": "LayoutModel",
      "state": {}
     },
     "bcf13ddaca0e4d358c40f6331eb195e7": {
      "model_module": "@jupyter-widgets/base",
      "model_module_version": "1.2.0",
      "model_name": "LayoutModel",
      "state": {
       "height": "350px"
      }
     },
     "bd3d5dbb92ba48a99dd2029a784d1b09": {
      "model_module": "@jupyter-widgets/base",
      "model_module_version": "1.2.0",
      "model_name": "LayoutModel",
      "state": {}
     },
     "bdbd6894d68745f5a27a8f675c86f8aa": {
      "model_module": "@jupyter-widgets/base",
      "model_module_version": "1.2.0",
      "model_name": "LayoutModel",
      "state": {}
     },
     "bf5418741cf64ebd8ae86a16a3fe8abb": {
      "model_module": "@jupyter-widgets/base",
      "model_module_version": "1.2.0",
      "model_name": "LayoutModel",
      "state": {}
     },
     "c046b24e60da4e82ae4dc7e3e70d6a88": {
      "model_module": "@jupyter-widgets/base",
      "model_module_version": "1.2.0",
      "model_name": "LayoutModel",
      "state": {
       "height": "350px"
      }
     },
     "c0d10146050d49438d646ac333fe02ee": {
      "model_module": "@jupyter-widgets/base",
      "model_module_version": "1.2.0",
      "model_name": "LayoutModel",
      "state": {}
     },
     "c36848e646cd4b33ad352a5e7c480bb9": {
      "model_module": "@jupyter-widgets/base",
      "model_module_version": "1.2.0",
      "model_name": "LayoutModel",
      "state": {}
     },
     "c43bffa8a7ab4b689a1c3163b516d25c": {
      "model_module": "@jupyter-widgets/controls",
      "model_module_version": "1.5.0",
      "model_name": "SliderStyleModel",
      "state": {
       "description_width": ""
      }
     },
     "c47eedce4b2f409687ce259aec97d3bf": {
      "model_module": "@jupyter-widgets/controls",
      "model_module_version": "1.5.0",
      "model_name": "VBoxModel",
      "state": {
       "_dom_classes": [
        "widget-interact"
       ],
       "children": [
        "IPY_MODEL_b2f759c9b7644776bfbd99517ecabc79",
        "IPY_MODEL_f1038e371edf4718b255cdb0ef0b57cb",
        "IPY_MODEL_6893bfb2cd2e4549b2f2df0a6a9a64be"
       ],
       "layout": "IPY_MODEL_03fcfd8464e6499989a2a9470766e2cb"
      }
     },
     "c4861acfacec4d01b3d250a703770a23": {
      "model_module": "@jupyter-widgets/controls",
      "model_module_version": "1.5.0",
      "model_name": "FloatSliderModel",
      "state": {
       "description": "b",
       "layout": "IPY_MODEL_297828d06391411dbe90a701f92e3ade",
       "max": 3,
       "min": -3,
       "step": 0.5,
       "style": "IPY_MODEL_f883e08d7a464483b1f6a1641854b110"
      }
     },
     "c4ce36dd532140f3809fab0c953617ea": {
      "model_module": "@jupyter-widgets/controls",
      "model_module_version": "1.5.0",
      "model_name": "FloatSliderModel",
      "state": {
       "description": "b",
       "layout": "IPY_MODEL_1716858afcf64063a516abc11379b95f",
       "max": 3,
       "min": -3,
       "step": 0.5,
       "style": "IPY_MODEL_b032a6bb86364d09af8df3fc66b84cdc"
      }
     },
     "c51aa8238ec34157a24a48d8031f6cea": {
      "model_module": "@jupyter-widgets/base",
      "model_module_version": "1.2.0",
      "model_name": "LayoutModel",
      "state": {
       "height": "350px"
      }
     },
     "c5f73c6f594146bbbcdbf4302684d694": {
      "model_module": "@jupyter-widgets/output",
      "model_module_version": "1.0.0",
      "model_name": "OutputModel",
      "state": {
       "layout": "IPY_MODEL_7ee69a845488407b99294c45f39521af",
       "outputs": [
        {
         "data": {
          "image/png": "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\n",
          "text/plain": "<Figure size 432x288 with 1 Axes>"
         },
         "metadata": {
          "needs_background": "light"
         },
         "output_type": "display_data"
        }
       ]
      }
     },
     "c6f9227e88754b6da7c710e1c5b47412": {
      "model_module": "@jupyter-widgets/controls",
      "model_module_version": "1.5.0",
      "model_name": "SliderStyleModel",
      "state": {
       "description_width": ""
      }
     },
     "c7ded158c0bc48a49b5d13f3501b06b2": {
      "model_module": "@jupyter-widgets/controls",
      "model_module_version": "1.5.0",
      "model_name": "SliderStyleModel",
      "state": {
       "description_width": ""
      }
     },
     "c907d747c72140ceb30eaea07e376303": {
      "model_module": "@jupyter-widgets/controls",
      "model_module_version": "1.5.0",
      "model_name": "VBoxModel",
      "state": {
       "_dom_classes": [
        "widget-interact"
       ],
       "children": [
        "IPY_MODEL_664aa457787f4f9c89b07cd54ab7131d",
        "IPY_MODEL_fa61795b19d54490aeb3f9579c21e3f0",
        "IPY_MODEL_06a2e02a37754c44bd58eea4ed6fe793"
       ],
       "layout": "IPY_MODEL_0945c1f5ef884d949951f21d4ee80bc4"
      }
     },
     "c9384eade5cc49cc8998758b20e81a64": {
      "model_module": "@jupyter-widgets/controls",
      "model_module_version": "1.5.0",
      "model_name": "SliderStyleModel",
      "state": {
       "description_width": ""
      }
     },
     "c98ba4fd71c04c2cb985a636b5186f1e": {
      "model_module": "@jupyter-widgets/controls",
      "model_module_version": "1.5.0",
      "model_name": "FloatSliderModel",
      "state": {
       "description": "b",
       "layout": "IPY_MODEL_a8fee9e5d78e4127aeb03e882b55736a",
       "max": 3,
       "min": -3,
       "step": 0.5,
       "style": "IPY_MODEL_13f6fe2bc8eb44d78b15228fb3bbe874",
       "value": 1
      }
     },
     "c9b762f7a4154b91a9d55c3ee1d2f333": {
      "model_module": "@jupyter-widgets/base",
      "model_module_version": "1.2.0",
      "model_name": "LayoutModel",
      "state": {}
     },
     "ca40a15a58e94b56ae24912563ad87a7": {
      "model_module": "@jupyter-widgets/base",
      "model_module_version": "1.2.0",
      "model_name": "LayoutModel",
      "state": {}
     },
     "ca6b62576edb4180ab9289c3e6876340": {
      "model_module": "@jupyter-widgets/controls",
      "model_module_version": "1.5.0",
      "model_name": "FloatSliderModel",
      "state": {
       "description": "m",
       "layout": "IPY_MODEL_016e0169d963488881bb60da6aa2063d",
       "max": 2,
       "min": -2,
       "step": 0.1,
       "style": "IPY_MODEL_f13f13cd14114185880a18c5b39c79ae"
      }
     },
     "caa274082b1b40469ecb5fca758e468a": {
      "model_module": "@jupyter-widgets/controls",
      "model_module_version": "1.5.0",
      "model_name": "FloatSliderModel",
      "state": {
       "description": "m",
       "layout": "IPY_MODEL_dfee9aacecb94e42906aeb803da2efbf",
       "max": 2,
       "min": -2,
       "step": 0.1,
       "style": "IPY_MODEL_fa5c1a2aa4434d94bd7fcf3cce61f474"
      }
     },
     "cb17f9571a2840039273efcb3c41b115": {
      "model_module": "@jupyter-widgets/controls",
      "model_module_version": "1.5.0",
      "model_name": "SliderStyleModel",
      "state": {
       "description_width": ""
      }
     },
     "ccd37429e18a4a95bf49ed004be8b4bb": {
      "model_module": "@jupyter-widgets/base",
      "model_module_version": "1.2.0",
      "model_name": "LayoutModel",
      "state": {}
     },
     "cd5e8caed27a4aa9bbae633e7daea5fa": {
      "model_module": "@jupyter-widgets/controls",
      "model_module_version": "1.5.0",
      "model_name": "VBoxModel",
      "state": {
       "_dom_classes": [
        "widget-interact"
       ],
       "children": [
        "IPY_MODEL_89723015b8f14e2380133d9eb0aba374",
        "IPY_MODEL_c4861acfacec4d01b3d250a703770a23",
        "IPY_MODEL_18284a58c907459197d45b6aa62b932a"
       ],
       "layout": "IPY_MODEL_a72679262b0d4c44a845fd6b4fad9c68"
      }
     },
     "cda20b5dfb384174baf1d08e7e73fd81": {
      "model_module": "@jupyter-widgets/controls",
      "model_module_version": "1.5.0",
      "model_name": "FloatSliderModel",
      "state": {
       "description": "b",
       "layout": "IPY_MODEL_e15f25c19ac34dd39e0b84674d59b0ad",
       "max": 3,
       "min": -3,
       "step": 0.5,
       "style": "IPY_MODEL_d70da6ae83e04a31b9982de4d1560aac"
      }
     },
     "cf601261153041c791e5d94297d8a529": {
      "model_module": "@jupyter-widgets/controls",
      "model_module_version": "1.5.0",
      "model_name": "FloatSliderModel",
      "state": {
       "description": "b",
       "layout": "IPY_MODEL_ca40a15a58e94b56ae24912563ad87a7",
       "max": 3,
       "min": -3,
       "step": 0.5,
       "style": "IPY_MODEL_a535236bc1cc4c109e34cf03e123c6b9"
      }
     },
     "d00780409fa74fce9f8953381999ab5d": {
      "model_module": "@jupyter-widgets/base",
      "model_module_version": "1.2.0",
      "model_name": "LayoutModel",
      "state": {}
     },
     "d08fc1dd3ef345f38c50fdc8ae9ad9bd": {
      "model_module": "@jupyter-widgets/controls",
      "model_module_version": "1.5.0",
      "model_name": "VBoxModel",
      "state": {
       "_dom_classes": [
        "widget-interact"
       ],
       "children": [
        "IPY_MODEL_ca6b62576edb4180ab9289c3e6876340",
        "IPY_MODEL_d30e5f5e9c1e44359ffe35f383d5bddb",
        "IPY_MODEL_10d2d0d5aed7401c811814f3a08a2bae"
       ],
       "layout": "IPY_MODEL_28866c9b396947de9fcdd4ae53d1c5e6"
      }
     },
     "d195c981c44c47e5a8e94b69079dcc15": {
      "model_module": "@jupyter-widgets/base",
      "model_module_version": "1.2.0",
      "model_name": "LayoutModel",
      "state": {
       "height": "350px"
      }
     },
     "d1cf36bc985e4422b3e658e25f8c0c70": {
      "model_module": "@jupyter-widgets/controls",
      "model_module_version": "1.5.0",
      "model_name": "SliderStyleModel",
      "state": {
       "description_width": ""
      }
     },
     "d21c945f696848e0b903f6f08148459b": {
      "model_module": "@jupyter-widgets/controls",
      "model_module_version": "1.5.0",
      "model_name": "FloatSliderModel",
      "state": {
       "description": "b",
       "layout": "IPY_MODEL_6f672a3f84834155a72f1b0d4e0101e8",
       "max": 3,
       "min": -3,
       "step": 0.5,
       "style": "IPY_MODEL_5fa3116168174df1990fd677cc4635cc",
       "value": -0.5
      }
     },
     "d23f00a349014dcb81dbae284cd39e33": {
      "model_module": "@jupyter-widgets/controls",
      "model_module_version": "1.5.0",
      "model_name": "FloatSliderModel",
      "state": {
       "description": "m",
       "layout": "IPY_MODEL_9a65239374dd4c4abc20e3d9b3f4f27e",
       "max": 2,
       "min": -2,
       "step": 0.1,
       "style": "IPY_MODEL_c9384eade5cc49cc8998758b20e81a64"
      }
     },
     "d30e5f5e9c1e44359ffe35f383d5bddb": {
      "model_module": "@jupyter-widgets/controls",
      "model_module_version": "1.5.0",
      "model_name": "FloatSliderModel",
      "state": {
       "description": "b",
       "layout": "IPY_MODEL_740895c20cf24f138771df4084572d84",
       "max": 3,
       "min": -3,
       "step": 0.5,
       "style": "IPY_MODEL_5ae1df353dd243af94401db48d2f51e4"
      }
     },
     "d561a492a1304345a4c043a9595463b4": {
      "model_module": "@jupyter-widgets/base",
      "model_module_version": "1.2.0",
      "model_name": "LayoutModel",
      "state": {}
     },
     "d572014b398c4a8987558b88470804ef": {
      "model_module": "@jupyter-widgets/controls",
      "model_module_version": "1.5.0",
      "model_name": "SliderStyleModel",
      "state": {
       "description_width": ""
      }
     },
     "d5c41bf7ad9e4ba5945fc2651426bea0": {
      "model_module": "@jupyter-widgets/controls",
      "model_module_version": "1.5.0",
      "model_name": "SliderStyleModel",
      "state": {
       "description_width": ""
      }
     },
     "d62752bcb4954b4b952e7f55c0644c44": {
      "model_module": "@jupyter-widgets/base",
      "model_module_version": "1.2.0",
      "model_name": "LayoutModel",
      "state": {}
     },
     "d70da6ae83e04a31b9982de4d1560aac": {
      "model_module": "@jupyter-widgets/controls",
      "model_module_version": "1.5.0",
      "model_name": "SliderStyleModel",
      "state": {
       "description_width": ""
      }
     },
     "d8b38dded39345888ae6739b84043975": {
      "model_module": "@jupyter-widgets/base",
      "model_module_version": "1.2.0",
      "model_name": "LayoutModel",
      "state": {}
     },
     "d98669101d8541bc80c5529247da3825": {
      "model_module": "@jupyter-widgets/output",
      "model_module_version": "1.0.0",
      "model_name": "OutputModel",
      "state": {
       "layout": "IPY_MODEL_bc374919021e4c329d5ba049f85af071"
      }
     },
     "d98f824eb1f546fa95987c7e3c858b25": {
      "model_module": "@jupyter-widgets/controls",
      "model_module_version": "1.5.0",
      "model_name": "VBoxModel",
      "state": {
       "_dom_classes": [
        "widget-interact"
       ],
       "children": [
        "IPY_MODEL_7ae0af70a8d84eda9db0537721a18331",
        "IPY_MODEL_adfae20ef25b48e48d20fe75dbf6b312",
        "IPY_MODEL_a53a52456a2f4b1a8534747e8507a8d6"
       ],
       "layout": "IPY_MODEL_26ea2c1f5bec46b9929ab49c25951d16"
      }
     },
     "db8fddc04d5e4c1491bd408753b1f835": {
      "model_module": "@jupyter-widgets/base",
      "model_module_version": "1.2.0",
      "model_name": "LayoutModel",
      "state": {}
     },
     "dc03f742ff07442fb3a4ad13e67f433d": {
      "model_module": "@jupyter-widgets/base",
      "model_module_version": "1.2.0",
      "model_name": "LayoutModel",
      "state": {}
     },
     "dc0b3ec1c96040ab9c8beae2bdb79184": {
      "model_module": "@jupyter-widgets/base",
      "model_module_version": "1.2.0",
      "model_name": "LayoutModel",
      "state": {}
     },
     "dc2bb49c4ca348c587bc07527680115f": {
      "model_module": "@jupyter-widgets/output",
      "model_module_version": "1.0.0",
      "model_name": "OutputModel",
      "state": {
       "layout": "IPY_MODEL_031283f0bdf3443fa2f0f4ca54c63547",
       "outputs": [
        {
         "ename": "ValueError",
         "evalue": "The passed figure is not managed by pyplot",
         "output_type": "error",
         "traceback": [
          "\u001b[0;31m---------------------------------------------------------------------------\u001b[0m",
          "\u001b[0;31mValueError\u001b[0m                                Traceback (most recent call last)",
          "File \u001b[0;32m~/anaconda3/envs/train/lib/python3.9/site-packages/ipywidgets/widgets/interaction.py:257\u001b[0m, in \u001b[0;36minteractive.update\u001b[0;34m(self, *args)\u001b[0m\n\u001b[1;32m    255\u001b[0m     value \u001b[38;5;241m=\u001b[39m widget\u001b[38;5;241m.\u001b[39mget_interact_value()\n\u001b[1;32m    256\u001b[0m     \u001b[38;5;28mself\u001b[39m\u001b[38;5;241m.\u001b[39mkwargs[widget\u001b[38;5;241m.\u001b[39m_kwarg] \u001b[38;5;241m=\u001b[39m value\n\u001b[0;32m--> 257\u001b[0m \u001b[38;5;28mself\u001b[39m\u001b[38;5;241m.\u001b[39mresult \u001b[38;5;241m=\u001b[39m \u001b[38;5;28;43mself\u001b[39;49m\u001b[38;5;241;43m.\u001b[39;49m\u001b[43mf\u001b[49m\u001b[43m(\u001b[49m\u001b[38;5;241;43m*\u001b[39;49m\u001b[38;5;241;43m*\u001b[39;49m\u001b[38;5;28;43mself\u001b[39;49m\u001b[38;5;241;43m.\u001b[39;49m\u001b[43mkwargs\u001b[49m\u001b[43m)\u001b[49m\n\u001b[1;32m    258\u001b[0m show_inline_matplotlib_plots()\n\u001b[1;32m    259\u001b[0m \u001b[38;5;28;01mif\u001b[39;00m \u001b[38;5;28mself\u001b[39m\u001b[38;5;241m.\u001b[39mauto_display \u001b[38;5;129;01mand\u001b[39;00m \u001b[38;5;28mself\u001b[39m\u001b[38;5;241m.\u001b[39mresult \u001b[38;5;129;01mis\u001b[39;00m \u001b[38;5;129;01mnot\u001b[39;00m \u001b[38;5;28;01mNone\u001b[39;00m:\n",
          "Input \u001b[0;32mIn [26]\u001b[0m, in \u001b[0;36mf\u001b[0;34m(m, b)\u001b[0m\n\u001b[1;32m     13\u001b[0m \u001b[38;5;28;01mdef\u001b[39;00m \u001b[38;5;21mf\u001b[39m(m, b):\n\u001b[1;32m     14\u001b[0m     \u001b[38;5;28;01mglobal\u001b[39;00m axes\n\u001b[0;32m---> 15\u001b[0m     \u001b[43mplt\u001b[49m\u001b[38;5;241;43m.\u001b[39;49m\u001b[43msca\u001b[49m\u001b[43m(\u001b[49m\u001b[43maxes\u001b[49m\u001b[43m)\u001b[49m  \u001b[38;5;66;03m# ******** 如果不进行选择画在哪个axis上，则不能显示话出来的内容 ********\u001b[39;00m\n\u001b[1;32m     16\u001b[0m     axes\u001b[38;5;241m.\u001b[39mclear()  \u001b[38;5;66;03m# 如果去掉，则在原图上一直累加显示\u001b[39;00m\n\u001b[1;32m     17\u001b[0m     x \u001b[38;5;241m=\u001b[39m np\u001b[38;5;241m.\u001b[39mlinspace(\u001b[38;5;241m-\u001b[39m\u001b[38;5;241m10\u001b[39m, \u001b[38;5;241m10\u001b[39m, num\u001b[38;5;241m=\u001b[39m\u001b[38;5;241m1000\u001b[39m)\n",
          "File \u001b[0;32m~/anaconda3/envs/train/lib/python3.9/site-packages/matplotlib/pyplot.py:1085\u001b[0m, in \u001b[0;36msca\u001b[0;34m(ax)\u001b[0m\n\u001b[1;32m   1081\u001b[0m \u001b[38;5;28;01mdef\u001b[39;00m \u001b[38;5;21msca\u001b[39m(ax):\n\u001b[1;32m   1082\u001b[0m     \u001b[38;5;124;03m\"\"\"\u001b[39;00m\n\u001b[1;32m   1083\u001b[0m \u001b[38;5;124;03m    Set the current Axes to *ax* and the current Figure to the parent of *ax*.\u001b[39;00m\n\u001b[1;32m   1084\u001b[0m \u001b[38;5;124;03m    \"\"\"\u001b[39;00m\n\u001b[0;32m-> 1085\u001b[0m     \u001b[43mfigure\u001b[49m\u001b[43m(\u001b[49m\u001b[43max\u001b[49m\u001b[38;5;241;43m.\u001b[39;49m\u001b[43mfigure\u001b[49m\u001b[43m)\u001b[49m\n\u001b[1;32m   1086\u001b[0m     ax\u001b[38;5;241m.\u001b[39mfigure\u001b[38;5;241m.\u001b[39msca(ax)\n",
          "File \u001b[0;32m~/anaconda3/envs/train/lib/python3.9/site-packages/matplotlib/pyplot.py:753\u001b[0m, in \u001b[0;36mfigure\u001b[0;34m(num, figsize, dpi, facecolor, edgecolor, frameon, FigureClass, clear, **kwargs)\u001b[0m\n\u001b[1;32m    751\u001b[0m \u001b[38;5;28;01mif\u001b[39;00m \u001b[38;5;28misinstance\u001b[39m(num, Figure):\n\u001b[1;32m    752\u001b[0m     \u001b[38;5;28;01mif\u001b[39;00m num\u001b[38;5;241m.\u001b[39mcanvas\u001b[38;5;241m.\u001b[39mmanager \u001b[38;5;129;01mis\u001b[39;00m \u001b[38;5;28;01mNone\u001b[39;00m:\n\u001b[0;32m--> 753\u001b[0m         \u001b[38;5;28;01mraise\u001b[39;00m \u001b[38;5;167;01mValueError\u001b[39;00m(\u001b[38;5;124m\"\u001b[39m\u001b[38;5;124mThe passed figure is not managed by pyplot\u001b[39m\u001b[38;5;124m\"\u001b[39m)\n\u001b[1;32m    754\u001b[0m     _pylab_helpers\u001b[38;5;241m.\u001b[39mGcf\u001b[38;5;241m.\u001b[39mset_active(num\u001b[38;5;241m.\u001b[39mcanvas\u001b[38;5;241m.\u001b[39mmanager)\n\u001b[1;32m    755\u001b[0m     \u001b[38;5;28;01mreturn\u001b[39;00m num\n",
          "\u001b[0;31mValueError\u001b[0m: The passed figure is not managed by pyplot"
         ]
        }
       ]
      }
     },
     "dca48dc80816442bba871fb8eebd312d": {
      "model_module": "@jupyter-widgets/controls",
      "model_module_version": "1.5.0",
      "model_name": "SliderStyleModel",
      "state": {
       "description_width": ""
      }
     },
     "dd82d9d375124bf49070ba1912c9bf30": {
      "model_module": "@jupyter-widgets/controls",
      "model_module_version": "1.5.0",
      "model_name": "FloatSliderModel",
      "state": {
       "description": "m",
       "layout": "IPY_MODEL_bf5418741cf64ebd8ae86a16a3fe8abb",
       "max": 2,
       "min": -2,
       "step": 0.1,
       "style": "IPY_MODEL_6a55924603d54096890a63d39e773e1e",
       "value": -0.4
      }
     },
     "de42a9d7cd48439fb6948fdadd7d5db3": {
      "model_module": "@jupyter-widgets/output",
      "model_module_version": "1.0.0",
      "model_name": "OutputModel",
      "state": {
       "layout": "IPY_MODEL_c046b24e60da4e82ae4dc7e3e70d6a88",
       "outputs": [
        {
         "data": {
          "image/png": "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\n",
          "text/plain": "<Figure size 432x288 with 1 Axes>"
         },
         "metadata": {
          "needs_background": "light"
         },
         "output_type": "display_data"
        }
       ]
      }
     },
     "dedabcea5d8c48cf82c6a4af6846fb52": {
      "model_module": "@jupyter-widgets/controls",
      "model_module_version": "1.5.0",
      "model_name": "SliderStyleModel",
      "state": {
       "description_width": ""
      }
     },
     "df7b475edc7644eca20ca2679e6add9e": {
      "model_module": "@jupyter-widgets/output",
      "model_module_version": "1.0.0",
      "model_name": "OutputModel",
      "state": {
       "layout": "IPY_MODEL_52f2fc286b8e42708f61ec0cd0d43270",
       "outputs": [
        {
         "ename": "ValueError",
         "evalue": "The passed figure is not managed by pyplot",
         "output_type": "error",
         "traceback": [
          "\u001b[0;31m---------------------------------------------------------------------------\u001b[0m",
          "\u001b[0;31mValueError\u001b[0m                                Traceback (most recent call last)",
          "File \u001b[0;32m~/anaconda3/envs/train/lib/python3.9/site-packages/ipywidgets/widgets/interaction.py:257\u001b[0m, in \u001b[0;36minteractive.update\u001b[0;34m(self, *args)\u001b[0m\n\u001b[1;32m    255\u001b[0m     value \u001b[38;5;241m=\u001b[39m widget\u001b[38;5;241m.\u001b[39mget_interact_value()\n\u001b[1;32m    256\u001b[0m     \u001b[38;5;28mself\u001b[39m\u001b[38;5;241m.\u001b[39mkwargs[widget\u001b[38;5;241m.\u001b[39m_kwarg] \u001b[38;5;241m=\u001b[39m value\n\u001b[0;32m--> 257\u001b[0m \u001b[38;5;28mself\u001b[39m\u001b[38;5;241m.\u001b[39mresult \u001b[38;5;241m=\u001b[39m \u001b[38;5;28;43mself\u001b[39;49m\u001b[38;5;241;43m.\u001b[39;49m\u001b[43mf\u001b[49m\u001b[43m(\u001b[49m\u001b[38;5;241;43m*\u001b[39;49m\u001b[38;5;241;43m*\u001b[39;49m\u001b[38;5;28;43mself\u001b[39;49m\u001b[38;5;241;43m.\u001b[39;49m\u001b[43mkwargs\u001b[49m\u001b[43m)\u001b[49m\n\u001b[1;32m    258\u001b[0m show_inline_matplotlib_plots()\n\u001b[1;32m    259\u001b[0m \u001b[38;5;28;01mif\u001b[39;00m \u001b[38;5;28mself\u001b[39m\u001b[38;5;241m.\u001b[39mauto_display \u001b[38;5;129;01mand\u001b[39;00m \u001b[38;5;28mself\u001b[39m\u001b[38;5;241m.\u001b[39mresult \u001b[38;5;129;01mis\u001b[39;00m \u001b[38;5;129;01mnot\u001b[39;00m \u001b[38;5;28;01mNone\u001b[39;00m:\n",
          "Input \u001b[0;32mIn [24]\u001b[0m, in \u001b[0;36mf\u001b[0;34m(m, b)\u001b[0m\n\u001b[1;32m     13\u001b[0m \u001b[38;5;28;01mdef\u001b[39;00m \u001b[38;5;21mf\u001b[39m(m, b):\n\u001b[1;32m     14\u001b[0m     \u001b[38;5;28;01mglobal\u001b[39;00m axes\n\u001b[0;32m---> 15\u001b[0m     \u001b[43mplt\u001b[49m\u001b[38;5;241;43m.\u001b[39;49m\u001b[43msca\u001b[49m\u001b[43m(\u001b[49m\u001b[43maxes\u001b[49m\u001b[43m)\u001b[49m  \u001b[38;5;66;03m# ******** 如果不进行选择画在哪个axis上，则不能显示话出来的内容 ********\u001b[39;00m\n\u001b[1;32m     16\u001b[0m     axes\u001b[38;5;241m.\u001b[39mclear()  \u001b[38;5;66;03m# 如果去掉，则在原图上一直累加显示\u001b[39;00m\n\u001b[1;32m     17\u001b[0m     x \u001b[38;5;241m=\u001b[39m np\u001b[38;5;241m.\u001b[39mlinspace(\u001b[38;5;241m-\u001b[39m\u001b[38;5;241m10\u001b[39m, \u001b[38;5;241m10\u001b[39m, num\u001b[38;5;241m=\u001b[39m\u001b[38;5;241m1000\u001b[39m)\n",
          "File \u001b[0;32m~/anaconda3/envs/train/lib/python3.9/site-packages/matplotlib/pyplot.py:1085\u001b[0m, in \u001b[0;36msca\u001b[0;34m(ax)\u001b[0m\n\u001b[1;32m   1081\u001b[0m \u001b[38;5;28;01mdef\u001b[39;00m \u001b[38;5;21msca\u001b[39m(ax):\n\u001b[1;32m   1082\u001b[0m     \u001b[38;5;124;03m\"\"\"\u001b[39;00m\n\u001b[1;32m   1083\u001b[0m \u001b[38;5;124;03m    Set the current Axes to *ax* and the current Figure to the parent of *ax*.\u001b[39;00m\n\u001b[1;32m   1084\u001b[0m \u001b[38;5;124;03m    \"\"\"\u001b[39;00m\n\u001b[0;32m-> 1085\u001b[0m     \u001b[43mfigure\u001b[49m\u001b[43m(\u001b[49m\u001b[43max\u001b[49m\u001b[38;5;241;43m.\u001b[39;49m\u001b[43mfigure\u001b[49m\u001b[43m)\u001b[49m\n\u001b[1;32m   1086\u001b[0m     ax\u001b[38;5;241m.\u001b[39mfigure\u001b[38;5;241m.\u001b[39msca(ax)\n",
          "File \u001b[0;32m~/anaconda3/envs/train/lib/python3.9/site-packages/matplotlib/pyplot.py:753\u001b[0m, in \u001b[0;36mfigure\u001b[0;34m(num, figsize, dpi, facecolor, edgecolor, frameon, FigureClass, clear, **kwargs)\u001b[0m\n\u001b[1;32m    751\u001b[0m \u001b[38;5;28;01mif\u001b[39;00m \u001b[38;5;28misinstance\u001b[39m(num, Figure):\n\u001b[1;32m    752\u001b[0m     \u001b[38;5;28;01mif\u001b[39;00m num\u001b[38;5;241m.\u001b[39mcanvas\u001b[38;5;241m.\u001b[39mmanager \u001b[38;5;129;01mis\u001b[39;00m \u001b[38;5;28;01mNone\u001b[39;00m:\n\u001b[0;32m--> 753\u001b[0m         \u001b[38;5;28;01mraise\u001b[39;00m \u001b[38;5;167;01mValueError\u001b[39;00m(\u001b[38;5;124m\"\u001b[39m\u001b[38;5;124mThe passed figure is not managed by pyplot\u001b[39m\u001b[38;5;124m\"\u001b[39m)\n\u001b[1;32m    754\u001b[0m     _pylab_helpers\u001b[38;5;241m.\u001b[39mGcf\u001b[38;5;241m.\u001b[39mset_active(num\u001b[38;5;241m.\u001b[39mcanvas\u001b[38;5;241m.\u001b[39mmanager)\n\u001b[1;32m    755\u001b[0m     \u001b[38;5;28;01mreturn\u001b[39;00m num\n",
          "\u001b[0;31mValueError\u001b[0m: The passed figure is not managed by pyplot"
         ]
        }
       ]
      }
     },
     "dfee9aacecb94e42906aeb803da2efbf": {
      "model_module": "@jupyter-widgets/base",
      "model_module_version": "1.2.0",
      "model_name": "LayoutModel",
      "state": {}
     },
     "e0df90dd98204718bfaa4b8d664c7e1f": {
      "model_module": "@jupyter-widgets/controls",
      "model_module_version": "1.5.0",
      "model_name": "SliderStyleModel",
      "state": {
       "description_width": ""
      }
     },
     "e15f25c19ac34dd39e0b84674d59b0ad": {
      "model_module": "@jupyter-widgets/base",
      "model_module_version": "1.2.0",
      "model_name": "LayoutModel",
      "state": {}
     },
     "e1ba0ccb9e1548788c7575f95ca43718": {
      "model_module": "@jupyter-widgets/base",
      "model_module_version": "1.2.0",
      "model_name": "LayoutModel",
      "state": {}
     },
     "e2ff2e9cfc654e1c863f394ab9fdacf4": {
      "model_module": "@jupyter-widgets/controls",
      "model_module_version": "1.5.0",
      "model_name": "SliderStyleModel",
      "state": {
       "description_width": ""
      }
     },
     "e30dc0542bf3479aaaf081eb7f461664": {
      "model_module": "@jupyter-widgets/output",
      "model_module_version": "1.0.0",
      "model_name": "OutputModel",
      "state": {
       "layout": "IPY_MODEL_b0f86a2d1f8d4c0aa92241ab0078bc2a",
       "outputs": [
        {
         "data": {
          "image/png": "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\n",
          "text/plain": "<Figure size 432x288 with 1 Axes>"
         },
         "metadata": {
          "needs_background": "light"
         },
         "output_type": "display_data"
        }
       ]
      }
     },
     "e33f22f13c76421ba92b30ec24ad4177": {
      "model_module": "@jupyter-widgets/controls",
      "model_module_version": "1.5.0",
      "model_name": "FloatSliderModel",
      "state": {
       "description": "m",
       "layout": "IPY_MODEL_e7dd61bc17084e35b2bf4c66ab20fb39",
       "max": 2,
       "min": -2,
       "step": 0.1,
       "style": "IPY_MODEL_8a9e83e9f27c4b9281f6e430ffe6d7b8",
       "value": 0.6
      }
     },
     "e4914221a0e949de9d3d9f3dddc9f3d0": {
      "model_module": "@jupyter-widgets/controls",
      "model_module_version": "1.5.0",
      "model_name": "SliderStyleModel",
      "state": {
       "description_width": ""
      }
     },
     "e5c5348128a14d6bbf6750f4a2b5637b": {
      "model_module": "@jupyter-widgets/controls",
      "model_module_version": "1.5.0",
      "model_name": "SliderStyleModel",
      "state": {
       "description_width": ""
      }
     },
     "e5d72d007ee8472a99dd10da5d1da778": {
      "model_module": "@jupyter-widgets/base",
      "model_module_version": "1.2.0",
      "model_name": "LayoutModel",
      "state": {}
     },
     "e61ab590527a401db4c7a64613e3da37": {
      "model_module": "@jupyter-widgets/base",
      "model_module_version": "1.2.0",
      "model_name": "LayoutModel",
      "state": {}
     },
     "e6e7ea5b153347288bcc98306e887701": {
      "model_module": "@jupyter-widgets/controls",
      "model_module_version": "1.5.0",
      "model_name": "FloatSliderModel",
      "state": {
       "description": "m",
       "layout": "IPY_MODEL_9c50daea456942f2beffcc49af71b6ee",
       "max": 2,
       "min": -2,
       "step": 0.1,
       "style": "IPY_MODEL_495b7f89c7e942ce8f4ec0143fa9f1e7"
      }
     },
     "e777373a3d484f6ebaff1f1e3f5f28ad": {
      "model_module": "@jupyter-widgets/base",
      "model_module_version": "1.2.0",
      "model_name": "LayoutModel",
      "state": {}
     },
     "e7dd61bc17084e35b2bf4c66ab20fb39": {
      "model_module": "@jupyter-widgets/base",
      "model_module_version": "1.2.0",
      "model_name": "LayoutModel",
      "state": {}
     },
     "e82eca05056c453a9923add7565725fc": {
      "model_module": "@jupyter-widgets/controls",
      "model_module_version": "1.5.0",
      "model_name": "FloatSliderModel",
      "state": {
       "description": "b",
       "layout": "IPY_MODEL_ea290e61efa34e42a55fc1a62eaa604e",
       "max": 3,
       "min": -3,
       "step": 0.5,
       "style": "IPY_MODEL_0fd10957ca45437f8161746fc805eff5"
      }
     },
     "e84d64e7d896455c81b1c1e85e20a6fa": {
      "model_module": "@jupyter-widgets/controls",
      "model_module_version": "1.5.0",
      "model_name": "VBoxModel",
      "state": {
       "_dom_classes": [
        "widget-interact"
       ],
       "children": [
        "IPY_MODEL_0f97dd887084455ab965a2806effd858",
        "IPY_MODEL_6e8442f5eb6148188c898ae47b28b157",
        "IPY_MODEL_e30dc0542bf3479aaaf081eb7f461664"
       ],
       "layout": "IPY_MODEL_821ca37b1674485ea148f0fc44376cd3"
      }
     },
     "e86b837efa2449bb849221b485131189": {
      "model_module": "@jupyter-widgets/base",
      "model_module_version": "1.2.0",
      "model_name": "LayoutModel",
      "state": {
       "height": "350px"
      }
     },
     "e9175fe0cfed4efda1de8d35cecf21ae": {
      "model_module": "@jupyter-widgets/base",
      "model_module_version": "1.2.0",
      "model_name": "LayoutModel",
      "state": {
       "height": "350px"
      }
     },
     "ea18a2bb3c0c46b39b01286ca2a8b41f": {
      "model_module": "@jupyter-widgets/controls",
      "model_module_version": "1.5.0",
      "model_name": "SliderStyleModel",
      "state": {
       "description_width": ""
      }
     },
     "ea290e61efa34e42a55fc1a62eaa604e": {
      "model_module": "@jupyter-widgets/base",
      "model_module_version": "1.2.0",
      "model_name": "LayoutModel",
      "state": {}
     },
     "ead236a4d606467eab3b84ea63c07a10": {
      "model_module": "@jupyter-widgets/controls",
      "model_module_version": "1.5.0",
      "model_name": "SliderStyleModel",
      "state": {
       "description_width": ""
      }
     },
     "eb3fae9b4c1a44448edd0b9b8602dafe": {
      "model_module": "@jupyter-widgets/base",
      "model_module_version": "1.2.0",
      "model_name": "LayoutModel",
      "state": {}
     },
     "ec111711abf44f978b6f2c7fe9039cc6": {
      "model_module": "@jupyter-widgets/controls",
      "model_module_version": "1.5.0",
      "model_name": "FloatSliderModel",
      "state": {
       "description": "b",
       "layout": "IPY_MODEL_0770e78b02d9464d8210bacc0d1ccf5f",
       "max": 3,
       "min": -3,
       "step": 0.5,
       "style": "IPY_MODEL_c7ded158c0bc48a49b5d13f3501b06b2"
      }
     },
     "ecd2fd11c3f84b0eb99f1eace38b7d72": {
      "model_module": "@jupyter-widgets/base",
      "model_module_version": "1.2.0",
      "model_name": "LayoutModel",
      "state": {
       "height": "350px"
      }
     },
     "edfa9b60e7524c759d3917d91936698d": {
      "model_module": "@jupyter-widgets/controls",
      "model_module_version": "1.5.0",
      "model_name": "SliderStyleModel",
      "state": {
       "description_width": ""
      }
     },
     "f05f031e0ac64bad9e929906653b55fd": {
      "model_module": "@jupyter-widgets/output",
      "model_module_version": "1.0.0",
      "model_name": "OutputModel",
      "state": {
       "layout": "IPY_MODEL_16f84c7421ba4e4f8b8576e2a32aa5f2",
       "outputs": [
        {
         "data": {
          "image/png": "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\n",
          "text/plain": "<Figure size 432x288 with 1 Axes>"
         },
         "metadata": {
          "needs_background": "light"
         },
         "output_type": "display_data"
        }
       ]
      }
     },
     "f1038e371edf4718b255cdb0ef0b57cb": {
      "model_module": "@jupyter-widgets/controls",
      "model_module_version": "1.5.0",
      "model_name": "FloatSliderModel",
      "state": {
       "description": "b",
       "layout": "IPY_MODEL_c9b762f7a4154b91a9d55c3ee1d2f333",
       "max": 3,
       "min": -3,
       "step": 0.5,
       "style": "IPY_MODEL_ead236a4d606467eab3b84ea63c07a10",
       "value": 0.5
      }
     },
     "f13f13cd14114185880a18c5b39c79ae": {
      "model_module": "@jupyter-widgets/controls",
      "model_module_version": "1.5.0",
      "model_name": "SliderStyleModel",
      "state": {
       "description_width": ""
      }
     },
     "f14c192ec58443209a94b84ef8437c18": {
      "model_module": "@jupyter-widgets/base",
      "model_module_version": "1.2.0",
      "model_name": "LayoutModel",
      "state": {}
     },
     "f248e3ace382420397caf310ae1feb3f": {
      "model_module": "@jupyter-widgets/base",
      "model_module_version": "1.2.0",
      "model_name": "LayoutModel",
      "state": {}
     },
     "f297c0eec9d347a986c02ae2749e2ca6": {
      "model_module": "@jupyter-widgets/base",
      "model_module_version": "1.2.0",
      "model_name": "LayoutModel",
      "state": {}
     },
     "f40b2dcffaf940608d7812855d555c49": {
      "model_module": "@jupyter-widgets/controls",
      "model_module_version": "1.5.0",
      "model_name": "SliderStyleModel",
      "state": {
       "description_width": ""
      }
     },
     "f4412b9d28834b4b9c605a46381fb39b": {
      "model_module": "@jupyter-widgets/base",
      "model_module_version": "1.2.0",
      "model_name": "LayoutModel",
      "state": {}
     },
     "f61d9c9c6bf747c09f8219d061fb66b7": {
      "model_module": "@jupyter-widgets/base",
      "model_module_version": "1.2.0",
      "model_name": "LayoutModel",
      "state": {}
     },
     "f6fc8b8736d446a78e28d5276e5a0de6": {
      "model_module": "@jupyter-widgets/base",
      "model_module_version": "1.2.0",
      "model_name": "LayoutModel",
      "state": {}
     },
     "f7bac26e8ceb4b338c056ab40ce338b8": {
      "model_module": "@jupyter-widgets/controls",
      "model_module_version": "1.5.0",
      "model_name": "FloatSliderModel",
      "state": {
       "description": "m",
       "layout": "IPY_MODEL_6847ebddc55142f795536ce7ee62fa89",
       "max": 2,
       "min": -2,
       "step": 0.1,
       "style": "IPY_MODEL_5f74f7927fa74c56a67f9b9859b7be4f"
      }
     },
     "f801130be92e481ca659e86022e4712b": {
      "model_module": "@jupyter-widgets/output",
      "model_module_version": "1.0.0",
      "model_name": "OutputModel",
      "state": {
       "layout": "IPY_MODEL_9757c7562d8546869cad5be5dff14ee7",
       "outputs": [
        {
         "data": {
          "image/png": "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\n",
          "text/plain": "<Figure size 432x288 with 1 Axes>"
         },
         "metadata": {
          "needs_background": "light"
         },
         "output_type": "display_data"
        }
       ]
      }
     },
     "f855deda562840eab2bba97e0f4fa5ff": {
      "model_module": "@jupyter-widgets/base",
      "model_module_version": "1.2.0",
      "model_name": "LayoutModel",
      "state": {}
     },
     "f883e08d7a464483b1f6a1641854b110": {
      "model_module": "@jupyter-widgets/controls",
      "model_module_version": "1.5.0",
      "model_name": "SliderStyleModel",
      "state": {
       "description_width": ""
      }
     },
     "fa04c13a2d1f46c9ac8347d06a60ad64": {
      "model_module": "@jupyter-widgets/controls",
      "model_module_version": "1.5.0",
      "model_name": "FloatSliderModel",
      "state": {
       "description": "m",
       "layout": "IPY_MODEL_8e762f31fc59498e86acce691d099de4",
       "max": 2,
       "min": -2,
       "step": 0.1,
       "style": "IPY_MODEL_a0835b5896fe4f29b4d632acf540e75f"
      }
     },
     "fa5c1a2aa4434d94bd7fcf3cce61f474": {
      "model_module": "@jupyter-widgets/controls",
      "model_module_version": "1.5.0",
      "model_name": "SliderStyleModel",
      "state": {
       "description_width": ""
      }
     },
     "fa61795b19d54490aeb3f9579c21e3f0": {
      "model_module": "@jupyter-widgets/controls",
      "model_module_version": "1.5.0",
      "model_name": "FloatSliderModel",
      "state": {
       "description": "b",
       "layout": "IPY_MODEL_09ea7312ecc64bed89005912216bb6df",
       "max": 3,
       "min": -3,
       "step": 0.5,
       "style": "IPY_MODEL_07828fd7a58a4770bfee85a3d6165ed6",
       "value": 0.5
      }
     },
     "fa62f00db1234ed2bd62a7ae41248be4": {
      "model_module": "@jupyter-widgets/controls",
      "model_module_version": "1.5.0",
      "model_name": "FloatSliderModel",
      "state": {
       "description": "m",
       "layout": "IPY_MODEL_7b5e2cd1f27045b8b9a37745d10372f4",
       "max": 2,
       "min": -2,
       "step": 0.1,
       "style": "IPY_MODEL_67f0d38f17b046448046e6d70a249a42"
      }
     },
     "faf1062acff845c9ac1e0eeec7431d14": {
      "model_module": "@jupyter-widgets/base",
      "model_module_version": "1.2.0",
      "model_name": "LayoutModel",
      "state": {
       "height": "350px"
      }
     },
     "fcccc5badbdf4ac18bd0b853cb7cc020": {
      "model_module": "@jupyter-widgets/base",
      "model_module_version": "1.2.0",
      "model_name": "LayoutModel",
      "state": {
       "height": "350px"
      }
     },
     "fdd96468c5ad409f8b686a73e04f7ef8": {
      "model_module": "@jupyter-widgets/base",
      "model_module_version": "1.2.0",
      "model_name": "LayoutModel",
      "state": {}
     },
     "fedf8e9f34d14860a934f54576dab594": {
      "model_module": "@jupyter-widgets/base",
      "model_module_version": "1.2.0",
      "model_name": "LayoutModel",
      "state": {
       "height": "350px"
      }
     },
     "ff09fe8dfe7f4695a3514c93f4637594": {
      "model_module": "@jupyter-widgets/base",
      "model_module_version": "1.2.0",
      "model_name": "LayoutModel",
      "state": {}
     },
     "ffdcf26f74904d0abb8ac9647637ea5e": {
      "model_module": "@jupyter-widgets/controls",
      "model_module_version": "1.5.0",
      "model_name": "FloatSliderModel",
      "state": {
       "description": "m",
       "layout": "IPY_MODEL_15264dfac36e4dbdb5f0cdabac1be1b1",
       "max": 2,
       "min": -2,
       "step": 0.1,
       "style": "IPY_MODEL_6b361915177a4380b680b9a0f28ad7ab"
      }
     }
    },
    "version_major": 2,
    "version_minor": 0
   }
  }
 },
 "nbformat": 4,
 "nbformat_minor": 5
}
