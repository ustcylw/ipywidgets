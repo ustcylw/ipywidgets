{
 "cells": [
  {
   "cell_type": "code",
   "execution_count": 1,
   "id": "d94d47ba-ec58-4b87-aa22-4e94d36263ad",
   "metadata": {
    "execution": {
     "iopub.execute_input": "2022-05-06T11:40:37.442816Z",
     "iopub.status.busy": "2022-05-06T11:40:37.442164Z",
     "iopub.status.idle": "2022-05-06T11:40:37.845828Z",
     "shell.execute_reply": "2022-05-06T11:40:37.844833Z",
     "shell.execute_reply.started": "2022-05-06T11:40:37.442680Z"
    }
   },
   "outputs": [],
   "source": [
    "import datetime\n",
    "import numpy as np\n",
    "import pandas as pd\n",
    "\n",
    "import plotly.graph_objects as go\n",
    "from ipywidgets import widgets"
   ]
  },
  {
   "cell_type": "code",
   "execution_count": 2,
   "id": "1c8bed4c-2edc-41cb-a038-5bc791073448",
   "metadata": {
    "execution": {
     "iopub.execute_input": "2022-05-06T11:40:46.322213Z",
     "iopub.status.busy": "2022-05-06T11:40:46.321593Z",
     "iopub.status.idle": "2022-05-06T11:40:54.547496Z",
     "shell.execute_reply": "2022-05-06T11:40:54.546484Z",
     "shell.execute_reply.started": "2022-05-06T11:40:46.322161Z"
    }
   },
   "outputs": [],
   "source": [
    "df = pd.read_csv(\n",
    "    'https://raw.githubusercontent.com/yankev/testing/master/datasets/nycflights.csv')\n",
    "df = df.drop(df.columns[[0]], axis=1)"
   ]
  },
  {
   "cell_type": "code",
   "execution_count": 3,
   "id": "b5924848-497d-4049-8926-bcf1866b803a",
   "metadata": {
    "execution": {
     "iopub.execute_input": "2022-05-06T11:40:56.322255Z",
     "iopub.status.busy": "2022-05-06T11:40:56.321418Z",
     "iopub.status.idle": "2022-05-06T11:40:56.366695Z",
     "shell.execute_reply": "2022-05-06T11:40:56.365513Z",
     "shell.execute_reply.started": "2022-05-06T11:40:56.322191Z"
    }
   },
   "outputs": [
    {
     "data": {
      "text/html": [
       "<div>\n",
       "<style scoped>\n",
       "    .dataframe tbody tr th:only-of-type {\n",
       "        vertical-align: middle;\n",
       "    }\n",
       "\n",
       "    .dataframe tbody tr th {\n",
       "        vertical-align: top;\n",
       "    }\n",
       "\n",
       "    .dataframe thead th {\n",
       "        text-align: right;\n",
       "    }\n",
       "</style>\n",
       "<table border=\"1\" class=\"dataframe\">\n",
       "  <thead>\n",
       "    <tr style=\"text-align: right;\">\n",
       "      <th></th>\n",
       "      <th>year</th>\n",
       "      <th>month</th>\n",
       "      <th>day</th>\n",
       "      <th>dep_time</th>\n",
       "      <th>dep_delay</th>\n",
       "      <th>arr_time</th>\n",
       "      <th>arr_delay</th>\n",
       "      <th>carrier</th>\n",
       "      <th>tailnum</th>\n",
       "      <th>flight</th>\n",
       "      <th>origin</th>\n",
       "      <th>dest</th>\n",
       "      <th>air_time</th>\n",
       "      <th>distance</th>\n",
       "      <th>hour</th>\n",
       "      <th>minute</th>\n",
       "    </tr>\n",
       "  </thead>\n",
       "  <tbody>\n",
       "    <tr>\n",
       "      <th>9235</th>\n",
       "      <td>2013</td>\n",
       "      <td>1</td>\n",
       "      <td>11</td>\n",
       "      <td>1240.0</td>\n",
       "      <td>-5.0</td>\n",
       "      <td>1531.0</td>\n",
       "      <td>-19.0</td>\n",
       "      <td>AA</td>\n",
       "      <td>N3BRAA</td>\n",
       "      <td>745</td>\n",
       "      <td>LGA</td>\n",
       "      <td>DFW</td>\n",
       "      <td>213.0</td>\n",
       "      <td>1389</td>\n",
       "      <td>12.0</td>\n",
       "      <td>40.0</td>\n",
       "    </tr>\n",
       "    <tr>\n",
       "      <th>28651</th>\n",
       "      <td>2013</td>\n",
       "      <td>10</td>\n",
       "      <td>2</td>\n",
       "      <td>1651.0</td>\n",
       "      <td>-4.0</td>\n",
       "      <td>1825.0</td>\n",
       "      <td>-6.0</td>\n",
       "      <td>EV</td>\n",
       "      <td>N13994</td>\n",
       "      <td>4695</td>\n",
       "      <td>EWR</td>\n",
       "      <td>RDU</td>\n",
       "      <td>64.0</td>\n",
       "      <td>416</td>\n",
       "      <td>16.0</td>\n",
       "      <td>51.0</td>\n",
       "    </tr>\n",
       "    <tr>\n",
       "      <th>306366</th>\n",
       "      <td>2013</td>\n",
       "      <td>8</td>\n",
       "      <td>28</td>\n",
       "      <td>1946.0</td>\n",
       "      <td>11.0</td>\n",
       "      <td>2243.0</td>\n",
       "      <td>-1.0</td>\n",
       "      <td>DL</td>\n",
       "      <td>N365NW</td>\n",
       "      <td>1854</td>\n",
       "      <td>LGA</td>\n",
       "      <td>FLL</td>\n",
       "      <td>143.0</td>\n",
       "      <td>1076</td>\n",
       "      <td>19.0</td>\n",
       "      <td>46.0</td>\n",
       "    </tr>\n",
       "  </tbody>\n",
       "</table>\n",
       "</div>"
      ],
      "text/plain": [
       "        year  month  day  dep_time  dep_delay  arr_time  arr_delay carrier  \\\n",
       "9235    2013      1   11    1240.0       -5.0    1531.0      -19.0      AA   \n",
       "28651   2013     10    2    1651.0       -4.0    1825.0       -6.0      EV   \n",
       "306366  2013      8   28    1946.0       11.0    2243.0       -1.0      DL   \n",
       "\n",
       "       tailnum  flight origin dest  air_time  distance  hour  minute  \n",
       "9235    N3BRAA     745    LGA  DFW     213.0      1389  12.0    40.0  \n",
       "28651   N13994    4695    EWR  RDU      64.0       416  16.0    51.0  \n",
       "306366  N365NW    1854    LGA  FLL     143.0      1076  19.0    46.0  "
      ]
     },
     "execution_count": 3,
     "metadata": {},
     "output_type": "execute_result"
    }
   ],
   "source": [
    "df.sample(3)"
   ]
  },
  {
   "cell_type": "code",
   "execution_count": 4,
   "id": "30fb3b72-e200-41a1-8c98-feea3e16ad12",
   "metadata": {
    "execution": {
     "iopub.execute_input": "2022-05-06T11:41:09.394012Z",
     "iopub.status.busy": "2022-05-06T11:41:09.393436Z",
     "iopub.status.idle": "2022-05-06T11:41:09.430016Z",
     "shell.execute_reply": "2022-05-06T11:41:09.428826Z",
     "shell.execute_reply.started": "2022-05-06T11:41:09.393960Z"
    }
   },
   "outputs": [
    {
     "data": {
      "text/plain": [
       "array(['UA', 'AA', 'B6', 'DL', 'EV', 'MQ', 'US', 'WN', 'VX', 'FL', 'AS',\n",
       "       '9E', 'F9', 'HA', 'YV', 'OO'], dtype=object)"
      ]
     },
     "execution_count": 4,
     "metadata": {},
     "output_type": "execute_result"
    }
   ],
   "source": [
    "df['carrier'].unique()"
   ]
  },
  {
   "cell_type": "code",
   "execution_count": 5,
   "id": "9623fe89-c3df-4612-81af-f146c0c93531",
   "metadata": {
    "execution": {
     "iopub.execute_input": "2022-05-06T11:41:20.709392Z",
     "iopub.status.busy": "2022-05-06T11:41:20.708948Z",
     "iopub.status.idle": "2022-05-06T11:41:21.079323Z",
     "shell.execute_reply": "2022-05-06T11:41:21.078626Z",
     "shell.execute_reply.started": "2022-05-06T11:41:20.709345Z"
    }
   },
   "outputs": [],
   "source": [
    "month = widgets.IntSlider(\n",
    "    value=1.0,\n",
    "    min=1.0,\n",
    "    max=12.0,\n",
    "    step=1.0,\n",
    "    description='Month:',\n",
    "    continuous_update=False\n",
    ")\n",
    "\n",
    "use_date = widgets.Checkbox(\n",
    "    description='Date: ',\n",
    "    value=True,\n",
    ")\n",
    "\n",
    "container = widgets.HBox(children=[use_date, month])\n",
    "\n",
    "textbox = widgets.Dropdown(\n",
    "    description='Airline:   ',\n",
    "    value='DL',\n",
    "    options=df['carrier'].unique().tolist()\n",
    ")\n",
    "\n",
    "origin = widgets.Dropdown(\n",
    "    options=list(df['origin'].unique()),\n",
    "    value='LGA',\n",
    "    description='Origin Airport:',\n",
    ")\n",
    "\n",
    "\n",
    "# Assign an empty figure widget with two traces\n",
    "trace1 = go.Histogram(x=df['arr_delay'], opacity=0.75, name='Arrival Delays')\n",
    "trace2 = go.Histogram(x=df['dep_delay'], opacity=0.75, name='Departure Delays')\n",
    "g = go.FigureWidget(data=[trace1, trace2],\n",
    "                    layout=go.Layout(\n",
    "                        title=dict(\n",
    "                            text='NYC FlightDatabase'\n",
    "                        ),\n",
    "                        barmode='overlay'\n",
    "                    ))"
   ]
  },
  {
   "cell_type": "code",
   "execution_count": 6,
   "id": "5df8faff-069e-46a9-a6dc-5a7e449dfc54",
   "metadata": {
    "execution": {
     "iopub.execute_input": "2022-05-06T11:41:30.819787Z",
     "iopub.status.busy": "2022-05-06T11:41:30.819344Z",
     "iopub.status.idle": "2022-05-06T11:41:30.835006Z",
     "shell.execute_reply": "2022-05-06T11:41:30.834044Z",
     "shell.execute_reply.started": "2022-05-06T11:41:30.819738Z"
    }
   },
   "outputs": [],
   "source": [
    "def validate():\n",
    "    if origin.value in df['origin'].unique() and textbox.value in df['carrier'].unique():\n",
    "        return True\n",
    "    else:\n",
    "        return False\n",
    "\n",
    "\n",
    "def response(change):\n",
    "    if validate():\n",
    "        if use_date.value:\n",
    "            filter_list = [i and j and k for i, j, k in\n",
    "                           zip(df['month'] == month.value, df['carrier'] == textbox.value,\n",
    "                               df['origin'] == origin.value)]\n",
    "            temp_df = df[filter_list]\n",
    "\n",
    "        else:\n",
    "            filter_list = [i and j for i, j in\n",
    "                           zip(df['carrier'] == 'DL', df['origin'] == origin.value)]\n",
    "            temp_df = df[filter_list]\n",
    "        x1 = temp_df['arr_delay']\n",
    "        x2 = temp_df['dep_delay']\n",
    "        with g.batch_update():\n",
    "            g.data[0].x = x1\n",
    "            g.data[1].x = x2\n",
    "            g.layout.barmode = 'overlay'\n",
    "            g.layout.xaxis.title = 'Delay in Minutes'\n",
    "            g.layout.yaxis.title = 'Number of Delays'\n",
    "\n",
    "\n",
    "origin.observe(response, names=\"value\")\n",
    "textbox.observe(response, names=\"value\")\n",
    "month.observe(response, names=\"value\")\n",
    "use_date.observe(response, names=\"value\")"
   ]
  },
  {
   "cell_type": "code",
   "execution_count": 7,
   "id": "06aa72b1-e840-4861-a30e-ec4f40888be0",
   "metadata": {
    "execution": {
     "iopub.execute_input": "2022-05-06T11:41:40.257639Z",
     "iopub.status.busy": "2022-05-06T11:41:40.257192Z",
     "iopub.status.idle": "2022-05-06T11:41:40.288826Z",
     "shell.execute_reply": "2022-05-06T11:41:40.288158Z",
     "shell.execute_reply.started": "2022-05-06T11:41:40.257591Z"
    }
   },
   "outputs": [
    {
     "data": {
      "application/vnd.jupyter.widget-view+json": {
       "model_id": "2116a2a78d4a4199a10b159291358cbe",
       "version_major": 2,
       "version_minor": 0
      },
      "text/plain": [
       "VBox(children=(HBox(children=(Checkbox(value=True, description='Date: '), IntSlider(value=1, continuous_update…"
      ]
     },
     "metadata": {},
     "output_type": "display_data"
    }
   ],
   "source": [
    "container2 = widgets.HBox([origin, textbox])\n",
    "widgets.VBox([container,\n",
    "              container2,\n",
    "              g])"
   ]
  },
  {
   "cell_type": "code",
   "execution_count": 8,
   "id": "f753fe59-e09a-4a2e-8ddb-9788988da254",
   "metadata": {
    "execution": {
     "iopub.execute_input": "2022-05-06T11:41:53.927533Z",
     "iopub.status.busy": "2022-05-06T11:41:53.926944Z",
     "iopub.status.idle": "2022-05-06T11:41:53.936710Z",
     "shell.execute_reply": "2022-05-06T11:41:53.935571Z",
     "shell.execute_reply.started": "2022-05-06T11:41:53.927483Z"
    }
   },
   "outputs": [
    {
     "data": {
      "text/html": [
       "<img src = 'https://cloud.githubusercontent.com/assets/12302455/16637308/4e476280-43ac-11e6-9fd3-ada2c9506ee1.gif' >\n"
      ],
      "text/plain": [
       "<IPython.core.display.HTML object>"
      ]
     },
     "metadata": {},
     "output_type": "display_data"
    }
   ],
   "source": [
    "%%html\n",
    "<img src = 'https://cloud.githubusercontent.com/assets/12302455/16637308/4e476280-43ac-11e6-9fd3-ada2c9506ee1.gif' >"
   ]
  },
  {
   "cell_type": "code",
   "execution_count": null,
   "id": "9f6ce71e-6633-4829-a4f8-52231cb2d85f",
   "metadata": {},
   "outputs": [],
   "source": []
  }
 ],
 "metadata": {
  "kernelspec": {
   "display_name": "train",
   "language": "python",
   "name": "train"
  },
  "language_info": {
   "codemirror_mode": {
    "name": "ipython",
    "version": 3
   },
   "file_extension": ".py",
   "mimetype": "text/x-python",
   "name": "python",
   "nbconvert_exporter": "python",
   "pygments_lexer": "ipython3",
   "version": "3.9.0"
  },
  "widgets": {
   "application/vnd.jupyter.widget-state+json": {
    "state": {
     "08a9a85bb928463aab703fa6f0e7a982": {
      "model_module": "@jupyter-widgets/controls",
      "model_module_version": "1.5.0",
      "model_name": "IntSliderModel",
      "state": {
       "continuous_update": false,
       "description": "Month:",
       "layout": "IPY_MODEL_91a46fa72ad64b0f9bcdef34c8d28165",
       "max": 12,
       "min": 1,
       "style": "IPY_MODEL_e5739906f186417cb6b5651489b260b9",
       "value": 1
      }
     },
     "1226db8b93974af1a8936599c6ababfe": {
      "model_module": "@jupyter-widgets/controls",
      "model_module_version": "1.5.0",
      "model_name": "DropdownModel",
      "state": {
       "_options_labels": [
        "UA",
        "AA",
        "B6",
        "DL",
        "EV",
        "MQ",
        "US",
        "WN",
        "VX",
        "FL",
        "AS",
        "9E",
        "F9",
        "HA",
        "YV",
        "OO"
       ],
       "description": "Airline:   ",
       "index": 0,
       "layout": "IPY_MODEL_956d55269e324bfeb4dfb1bc1e8b3e8d",
       "style": "IPY_MODEL_f67beedefac84560b919d9aeaf490cc5"
      }
     },
     "14d3faca1b234851a399c4e97ead8fae": {
      "model_module": "@jupyter-widgets/base",
      "model_module_version": "1.2.0",
      "model_name": "LayoutModel",
      "state": {}
     },
     "2116a2a78d4a4199a10b159291358cbe": {
      "model_module": "@jupyter-widgets/controls",
      "model_module_version": "1.5.0",
      "model_name": "VBoxModel",
      "state": {
       "children": [
        "IPY_MODEL_d7ab82aacb394ab898c554ee971c7e93",
        "IPY_MODEL_c1fe887d80304f23ad2afc94d80c0c65",
        "IPY_MODEL_2df8b3ab4dd240f5a3562cf18d0cfde7"
       ],
       "layout": "IPY_MODEL_c485fa42afd44a08b98d6defdd92f3f2"
      }
     },
     "2df8b3ab4dd240f5a3562cf18d0cfde7": {
      "buffers": [
       {
        "data": "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",
        "encoding": "base64",
        "path": [
         "_data",
         0,
         "x",
         "value"
        ]
       },
       {
        "data": "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",
        "encoding": "base64",
        "path": [
         "_data",
         1,
         "x",
         "value"
        ]
       }
      ],
      "model_module": "jupyterlab-plotly",
      "model_module_version": "^5.7.0",
      "model_name": "FigureModel",
      "state": {
       "_config": {
        "plotlyServerURL": "https://plot.ly"
       },
       "_data": [
        {
         "name": "Arrival Delays",
         "opacity": 0.75,
         "type": "histogram",
         "uid": "150a3a06-bc5e-4c47-9c03-c302f1eda18b",
         "x": {
          "dtype": "float64",
          "shape": [
           380
          ]
         }
        },
        {
         "name": "Departure Delays",
         "opacity": 0.75,
         "type": "histogram",
         "uid": "46d3cc88-8ee1-4595-b498-d03a3616679a",
         "x": {
          "dtype": "float64",
          "shape": [
           380
          ]
         }
        }
       ],
       "_js2py_pointsCallback": {},
       "_js2py_restyle": {},
       "_js2py_update": {},
       "_last_layout_edit_id": 13,
       "_last_trace_edit_id": 12,
       "_layout": {
        "autosize": true,
        "barmode": "overlay",
        "template": {
         "data": {
          "bar": [
           {
            "error_x": {
             "color": "#2a3f5f"
            },
            "error_y": {
             "color": "#2a3f5f"
            },
            "marker": {
             "line": {
              "color": "#E5ECF6",
              "width": 0.5
             },
             "pattern": {
              "fillmode": "overlay",
              "size": 10,
              "solidity": 0.2
             }
            },
            "type": "bar"
           }
          ],
          "barpolar": [
           {
            "marker": {
             "line": {
              "color": "#E5ECF6",
              "width": 0.5
             },
             "pattern": {
              "fillmode": "overlay",
              "size": 10,
              "solidity": 0.2
             }
            },
            "type": "barpolar"
           }
          ],
          "carpet": [
           {
            "aaxis": {
             "endlinecolor": "#2a3f5f",
             "gridcolor": "white",
             "linecolor": "white",
             "minorgridcolor": "white",
             "startlinecolor": "#2a3f5f"
            },
            "baxis": {
             "endlinecolor": "#2a3f5f",
             "gridcolor": "white",
             "linecolor": "white",
             "minorgridcolor": "white",
             "startlinecolor": "#2a3f5f"
            },
            "type": "carpet"
           }
          ],
          "choropleth": [
           {
            "colorbar": {
             "outlinewidth": 0,
             "ticks": ""
            },
            "type": "choropleth"
           }
          ],
          "contour": [
           {
            "colorbar": {
             "outlinewidth": 0,
             "ticks": ""
            },
            "colorscale": [
             [
              0,
              "#0d0887"
             ],
             [
              0.1111111111111111,
              "#46039f"
             ],
             [
              0.2222222222222222,
              "#7201a8"
             ],
             [
              0.3333333333333333,
              "#9c179e"
             ],
             [
              0.4444444444444444,
              "#bd3786"
             ],
             [
              0.5555555555555556,
              "#d8576b"
             ],
             [
              0.6666666666666666,
              "#ed7953"
             ],
             [
              0.7777777777777778,
              "#fb9f3a"
             ],
             [
              0.8888888888888888,
              "#fdca26"
             ],
             [
              1,
              "#f0f921"
             ]
            ],
            "type": "contour"
           }
          ],
          "contourcarpet": [
           {
            "colorbar": {
             "outlinewidth": 0,
             "ticks": ""
            },
            "type": "contourcarpet"
           }
          ],
          "heatmap": [
           {
            "colorbar": {
             "outlinewidth": 0,
             "ticks": ""
            },
            "colorscale": [
             [
              0,
              "#0d0887"
             ],
             [
              0.1111111111111111,
              "#46039f"
             ],
             [
              0.2222222222222222,
              "#7201a8"
             ],
             [
              0.3333333333333333,
              "#9c179e"
             ],
             [
              0.4444444444444444,
              "#bd3786"
             ],
             [
              0.5555555555555556,
              "#d8576b"
             ],
             [
              0.6666666666666666,
              "#ed7953"
             ],
             [
              0.7777777777777778,
              "#fb9f3a"
             ],
             [
              0.8888888888888888,
              "#fdca26"
             ],
             [
              1,
              "#f0f921"
             ]
            ],
            "type": "heatmap"
           }
          ],
          "heatmapgl": [
           {
            "colorbar": {
             "outlinewidth": 0,
             "ticks": ""
            },
            "colorscale": [
             [
              0,
              "#0d0887"
             ],
             [
              0.1111111111111111,
              "#46039f"
             ],
             [
              0.2222222222222222,
              "#7201a8"
             ],
             [
              0.3333333333333333,
              "#9c179e"
             ],
             [
              0.4444444444444444,
              "#bd3786"
             ],
             [
              0.5555555555555556,
              "#d8576b"
             ],
             [
              0.6666666666666666,
              "#ed7953"
             ],
             [
              0.7777777777777778,
              "#fb9f3a"
             ],
             [
              0.8888888888888888,
              "#fdca26"
             ],
             [
              1,
              "#f0f921"
             ]
            ],
            "type": "heatmapgl"
           }
          ],
          "histogram": [
           {
            "marker": {
             "pattern": {
              "fillmode": "overlay",
              "size": 10,
              "solidity": 0.2
             }
            },
            "type": "histogram"
           }
          ],
          "histogram2d": [
           {
            "colorbar": {
             "outlinewidth": 0,
             "ticks": ""
            },
            "colorscale": [
             [
              0,
              "#0d0887"
             ],
             [
              0.1111111111111111,
              "#46039f"
             ],
             [
              0.2222222222222222,
              "#7201a8"
             ],
             [
              0.3333333333333333,
              "#9c179e"
             ],
             [
              0.4444444444444444,
              "#bd3786"
             ],
             [
              0.5555555555555556,
              "#d8576b"
             ],
             [
              0.6666666666666666,
              "#ed7953"
             ],
             [
              0.7777777777777778,
              "#fb9f3a"
             ],
             [
              0.8888888888888888,
              "#fdca26"
             ],
             [
              1,
              "#f0f921"
             ]
            ],
            "type": "histogram2d"
           }
          ],
          "histogram2dcontour": [
           {
            "colorbar": {
             "outlinewidth": 0,
             "ticks": ""
            },
            "colorscale": [
             [
              0,
              "#0d0887"
             ],
             [
              0.1111111111111111,
              "#46039f"
             ],
             [
              0.2222222222222222,
              "#7201a8"
             ],
             [
              0.3333333333333333,
              "#9c179e"
             ],
             [
              0.4444444444444444,
              "#bd3786"
             ],
             [
              0.5555555555555556,
              "#d8576b"
             ],
             [
              0.6666666666666666,
              "#ed7953"
             ],
             [
              0.7777777777777778,
              "#fb9f3a"
             ],
             [
              0.8888888888888888,
              "#fdca26"
             ],
             [
              1,
              "#f0f921"
             ]
            ],
            "type": "histogram2dcontour"
           }
          ],
          "mesh3d": [
           {
            "colorbar": {
             "outlinewidth": 0,
             "ticks": ""
            },
            "type": "mesh3d"
           }
          ],
          "parcoords": [
           {
            "line": {
             "colorbar": {
              "outlinewidth": 0,
              "ticks": ""
             }
            },
            "type": "parcoords"
           }
          ],
          "pie": [
           {
            "automargin": true,
            "type": "pie"
           }
          ],
          "scatter": [
           {
            "fillpattern": {
             "fillmode": "overlay",
             "size": 10,
             "solidity": 0.2
            },
            "type": "scatter"
           }
          ],
          "scatter3d": [
           {
            "line": {
             "colorbar": {
              "outlinewidth": 0,
              "ticks": ""
             }
            },
            "marker": {
             "colorbar": {
              "outlinewidth": 0,
              "ticks": ""
             }
            },
            "type": "scatter3d"
           }
          ],
          "scattercarpet": [
           {
            "marker": {
             "colorbar": {
              "outlinewidth": 0,
              "ticks": ""
             }
            },
            "type": "scattercarpet"
           }
          ],
          "scattergeo": [
           {
            "marker": {
             "colorbar": {
              "outlinewidth": 0,
              "ticks": ""
             }
            },
            "type": "scattergeo"
           }
          ],
          "scattergl": [
           {
            "marker": {
             "colorbar": {
              "outlinewidth": 0,
              "ticks": ""
             }
            },
            "type": "scattergl"
           }
          ],
          "scattermapbox": [
           {
            "marker": {
             "colorbar": {
              "outlinewidth": 0,
              "ticks": ""
             }
            },
            "type": "scattermapbox"
           }
          ],
          "scatterpolar": [
           {
            "marker": {
             "colorbar": {
              "outlinewidth": 0,
              "ticks": ""
             }
            },
            "type": "scatterpolar"
           }
          ],
          "scatterpolargl": [
           {
            "marker": {
             "colorbar": {
              "outlinewidth": 0,
              "ticks": ""
             }
            },
            "type": "scatterpolargl"
           }
          ],
          "scatterternary": [
           {
            "marker": {
             "colorbar": {
              "outlinewidth": 0,
              "ticks": ""
             }
            },
            "type": "scatterternary"
           }
          ],
          "surface": [
           {
            "colorbar": {
             "outlinewidth": 0,
             "ticks": ""
            },
            "colorscale": [
             [
              0,
              "#0d0887"
             ],
             [
              0.1111111111111111,
              "#46039f"
             ],
             [
              0.2222222222222222,
              "#7201a8"
             ],
             [
              0.3333333333333333,
              "#9c179e"
             ],
             [
              0.4444444444444444,
              "#bd3786"
             ],
             [
              0.5555555555555556,
              "#d8576b"
             ],
             [
              0.6666666666666666,
              "#ed7953"
             ],
             [
              0.7777777777777778,
              "#fb9f3a"
             ],
             [
              0.8888888888888888,
              "#fdca26"
             ],
             [
              1,
              "#f0f921"
             ]
            ],
            "type": "surface"
           }
          ],
          "table": [
           {
            "cells": {
             "fill": {
              "color": "#EBF0F8"
             },
             "line": {
              "color": "white"
             }
            },
            "header": {
             "fill": {
              "color": "#C8D4E3"
             },
             "line": {
              "color": "white"
             }
            },
            "type": "table"
           }
          ]
         },
         "layout": {
          "annotationdefaults": {
           "arrowcolor": "#2a3f5f",
           "arrowhead": 0,
           "arrowwidth": 1
          },
          "autotypenumbers": "strict",
          "coloraxis": {
           "colorbar": {
            "outlinewidth": 0,
            "ticks": ""
           }
          },
          "colorscale": {
           "diverging": [
            [
             0,
             "#8e0152"
            ],
            [
             0.1,
             "#c51b7d"
            ],
            [
             0.2,
             "#de77ae"
            ],
            [
             0.3,
             "#f1b6da"
            ],
            [
             0.4,
             "#fde0ef"
            ],
            [
             0.5,
             "#f7f7f7"
            ],
            [
             0.6,
             "#e6f5d0"
            ],
            [
             0.7,
             "#b8e186"
            ],
            [
             0.8,
             "#7fbc41"
            ],
            [
             0.9,
             "#4d9221"
            ],
            [
             1,
             "#276419"
            ]
           ],
           "sequential": [
            [
             0,
             "#0d0887"
            ],
            [
             0.1111111111111111,
             "#46039f"
            ],
            [
             0.2222222222222222,
             "#7201a8"
            ],
            [
             0.3333333333333333,
             "#9c179e"
            ],
            [
             0.4444444444444444,
             "#bd3786"
            ],
            [
             0.5555555555555556,
             "#d8576b"
            ],
            [
             0.6666666666666666,
             "#ed7953"
            ],
            [
             0.7777777777777778,
             "#fb9f3a"
            ],
            [
             0.8888888888888888,
             "#fdca26"
            ],
            [
             1,
             "#f0f921"
            ]
           ],
           "sequentialminus": [
            [
             0,
             "#0d0887"
            ],
            [
             0.1111111111111111,
             "#46039f"
            ],
            [
             0.2222222222222222,
             "#7201a8"
            ],
            [
             0.3333333333333333,
             "#9c179e"
            ],
            [
             0.4444444444444444,
             "#bd3786"
            ],
            [
             0.5555555555555556,
             "#d8576b"
            ],
            [
             0.6666666666666666,
             "#ed7953"
            ],
            [
             0.7777777777777778,
             "#fb9f3a"
            ],
            [
             0.8888888888888888,
             "#fdca26"
            ],
            [
             1,
             "#f0f921"
            ]
           ]
          },
          "colorway": [
           "#636efa",
           "#EF553B",
           "#00cc96",
           "#ab63fa",
           "#FFA15A",
           "#19d3f3",
           "#FF6692",
           "#B6E880",
           "#FF97FF",
           "#FECB52"
          ],
          "font": {
           "color": "#2a3f5f"
          },
          "geo": {
           "bgcolor": "white",
           "lakecolor": "white",
           "landcolor": "#E5ECF6",
           "showlakes": true,
           "showland": true,
           "subunitcolor": "white"
          },
          "hoverlabel": {
           "align": "left"
          },
          "hovermode": "closest",
          "mapbox": {
           "style": "light"
          },
          "paper_bgcolor": "white",
          "plot_bgcolor": "#E5ECF6",
          "polar": {
           "angularaxis": {
            "gridcolor": "white",
            "linecolor": "white",
            "ticks": ""
           },
           "bgcolor": "#E5ECF6",
           "radialaxis": {
            "gridcolor": "white",
            "linecolor": "white",
            "ticks": ""
           }
          },
          "scene": {
           "xaxis": {
            "backgroundcolor": "#E5ECF6",
            "gridcolor": "white",
            "gridwidth": 2,
            "linecolor": "white",
            "showbackground": true,
            "ticks": "",
            "zerolinecolor": "white"
           },
           "yaxis": {
            "backgroundcolor": "#E5ECF6",
            "gridcolor": "white",
            "gridwidth": 2,
            "linecolor": "white",
            "showbackground": true,
            "ticks": "",
            "zerolinecolor": "white"
           },
           "zaxis": {
            "backgroundcolor": "#E5ECF6",
            "gridcolor": "white",
            "gridwidth": 2,
            "linecolor": "white",
            "showbackground": true,
            "ticks": "",
            "zerolinecolor": "white"
           }
          },
          "shapedefaults": {
           "line": {
            "color": "#2a3f5f"
           }
          },
          "ternary": {
           "aaxis": {
            "gridcolor": "white",
            "linecolor": "white",
            "ticks": ""
           },
           "baxis": {
            "gridcolor": "white",
            "linecolor": "white",
            "ticks": ""
           },
           "bgcolor": "#E5ECF6",
           "caxis": {
            "gridcolor": "white",
            "linecolor": "white",
            "ticks": ""
           }
          },
          "title": {
           "x": 0.05
          },
          "xaxis": {
           "automargin": true,
           "gridcolor": "white",
           "linecolor": "white",
           "ticks": "",
           "title": {
            "standoff": 15
           },
           "zerolinecolor": "white",
           "zerolinewidth": 2
          },
          "yaxis": {
           "automargin": true,
           "gridcolor": "white",
           "linecolor": "white",
           "ticks": "",
           "title": {
            "standoff": 15
           },
           "zerolinecolor": "white",
           "zerolinewidth": 2
          }
         }
        },
        "title": {
         "text": "NYC FlightDatabase"
        },
        "xaxis": {
         "title": {
          "text": "Delay in Minutes"
         }
        },
        "yaxis": {
         "title": {
          "text": "Number of Delays"
         }
        }
       },
       "_py2js_addTraces": {},
       "_py2js_animate": {},
       "_py2js_deleteTraces": {},
       "_py2js_moveTraces": {},
       "_py2js_removeLayoutProps": {},
       "_py2js_removeTraceProps": {},
       "_py2js_restyle": {},
       "_view_count": 2
      }
     },
     "3688bd8380d54bea855438a111da8409": {
      "model_module": "@jupyter-widgets/controls",
      "model_module_version": "1.5.0",
      "model_name": "DescriptionStyleModel",
      "state": {
       "description_width": ""
      }
     },
     "90d506a7c60e4c3e840c8a91a0347dd2": {
      "model_module": "@jupyter-widgets/base",
      "model_module_version": "1.2.0",
      "model_name": "LayoutModel",
      "state": {}
     },
     "91a46fa72ad64b0f9bcdef34c8d28165": {
      "model_module": "@jupyter-widgets/base",
      "model_module_version": "1.2.0",
      "model_name": "LayoutModel",
      "state": {}
     },
     "956d55269e324bfeb4dfb1bc1e8b3e8d": {
      "model_module": "@jupyter-widgets/base",
      "model_module_version": "1.2.0",
      "model_name": "LayoutModel",
      "state": {}
     },
     "c1fe887d80304f23ad2afc94d80c0c65": {
      "model_module": "@jupyter-widgets/controls",
      "model_module_version": "1.5.0",
      "model_name": "HBoxModel",
      "state": {
       "children": [
        "IPY_MODEL_c4495d1e48924bfba0f8410433f2f9fa",
        "IPY_MODEL_1226db8b93974af1a8936599c6ababfe"
       ],
       "layout": "IPY_MODEL_cf93917b7b364dcba0a66d79ac351137"
      }
     },
     "c4495d1e48924bfba0f8410433f2f9fa": {
      "model_module": "@jupyter-widgets/controls",
      "model_module_version": "1.5.0",
      "model_name": "DropdownModel",
      "state": {
       "_options_labels": [
        "EWR",
        "LGA",
        "JFK"
       ],
       "description": "Origin Airport:",
       "index": 2,
       "layout": "IPY_MODEL_90d506a7c60e4c3e840c8a91a0347dd2",
       "style": "IPY_MODEL_ff30bb2a12d04ae5a6bcf66d9ec8a5e8"
      }
     },
     "c485fa42afd44a08b98d6defdd92f3f2": {
      "model_module": "@jupyter-widgets/base",
      "model_module_version": "1.2.0",
      "model_name": "LayoutModel",
      "state": {}
     },
     "cf93917b7b364dcba0a66d79ac351137": {
      "model_module": "@jupyter-widgets/base",
      "model_module_version": "1.2.0",
      "model_name": "LayoutModel",
      "state": {}
     },
     "d7ab82aacb394ab898c554ee971c7e93": {
      "model_module": "@jupyter-widgets/controls",
      "model_module_version": "1.5.0",
      "model_name": "HBoxModel",
      "state": {
       "children": [
        "IPY_MODEL_f775b07f3c9b46ac9f57a3a655ef7f0d",
        "IPY_MODEL_08a9a85bb928463aab703fa6f0e7a982"
       ],
       "layout": "IPY_MODEL_f42cb946425745d38711f900241c3a05"
      }
     },
     "e5739906f186417cb6b5651489b260b9": {
      "model_module": "@jupyter-widgets/controls",
      "model_module_version": "1.5.0",
      "model_name": "SliderStyleModel",
      "state": {
       "description_width": ""
      }
     },
     "f42cb946425745d38711f900241c3a05": {
      "model_module": "@jupyter-widgets/base",
      "model_module_version": "1.2.0",
      "model_name": "LayoutModel",
      "state": {}
     },
     "f67beedefac84560b919d9aeaf490cc5": {
      "model_module": "@jupyter-widgets/controls",
      "model_module_version": "1.5.0",
      "model_name": "DescriptionStyleModel",
      "state": {
       "description_width": ""
      }
     },
     "f775b07f3c9b46ac9f57a3a655ef7f0d": {
      "model_module": "@jupyter-widgets/controls",
      "model_module_version": "1.5.0",
      "model_name": "CheckboxModel",
      "state": {
       "description": "Date: ",
       "disabled": false,
       "layout": "IPY_MODEL_14d3faca1b234851a399c4e97ead8fae",
       "style": "IPY_MODEL_3688bd8380d54bea855438a111da8409",
       "value": true
      }
     },
     "ff30bb2a12d04ae5a6bcf66d9ec8a5e8": {
      "model_module": "@jupyter-widgets/controls",
      "model_module_version": "1.5.0",
      "model_name": "DescriptionStyleModel",
      "state": {
       "description_width": ""
      }
     }
    },
    "version_major": 2,
    "version_minor": 0
   }
  }
 },
 "nbformat": 4,
 "nbformat_minor": 5
}
