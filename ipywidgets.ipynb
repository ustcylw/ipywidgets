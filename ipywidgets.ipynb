{
 "cells": [
  {
   "cell_type": "markdown",
   "id": "b30cf8d8",
   "metadata": {},
   "source": [
    "# 小例子"
   ]
  },
  {
   "cell_type": "markdown",
   "id": "159514aa",
   "metadata": {},
   "source": [
    "refs:\n",
    "\n",
    "    https://blog.csdn.net/sinat_26917383/article/details/84345407\n",
    "    "
   ]
  },
  {
   "cell_type": "code",
   "execution_count": 5,
   "id": "53d09b6b",
   "metadata": {
    "ExecuteTime": {
     "end_time": "2021-07-14T02:01:27.648561Z",
     "start_time": "2021-07-14T02:01:27.645715Z"
    },
    "execution": {
     "iopub.execute_input": "2022-05-18T05:54:03.778090Z",
     "iopub.status.busy": "2022-05-18T05:54:03.777568Z",
     "iopub.status.idle": "2022-05-18T05:54:03.784078Z",
     "shell.execute_reply": "2022-05-18T05:54:03.782913Z",
     "shell.execute_reply.started": "2022-05-18T05:54:03.778044Z"
    }
   },
   "outputs": [],
   "source": [
    "from ipywidgets import interact, widgets"
   ]
  },
  {
   "cell_type": "markdown",
   "id": "bd6c4cb8",
   "metadata": {},
   "source": [
    "## 基础组件"
   ]
  },
  {
   "cell_type": "markdown",
   "id": "da0879c7",
   "metadata": {},
   "source": [
    "### button 按钮"
   ]
  },
  {
   "cell_type": "code",
   "execution_count": 7,
   "id": "ecf03967",
   "metadata": {
    "ExecuteTime": {
     "end_time": "2021-07-14T02:11:18.545625Z",
     "start_time": "2021-07-14T02:11:18.526224Z"
    },
    "execution": {
     "iopub.execute_input": "2022-05-18T05:54:22.418447Z",
     "iopub.status.busy": "2022-05-18T05:54:22.417892Z",
     "iopub.status.idle": "2022-05-18T05:54:22.438324Z",
     "shell.execute_reply": "2022-05-18T05:54:22.437371Z",
     "shell.execute_reply.started": "2022-05-18T05:54:22.418399Z"
    }
   },
   "outputs": [
    {
     "data": {
      "application/vnd.jupyter.widget-view+json": {
       "model_id": "76065766dc744b8cb1dc706cd6e8b0b4",
       "version_major": 2,
       "version_minor": 0
      },
      "text/plain": [
       "Button(button_style='success', description='Click me', icon='check', style=ButtonStyle(), tooltip='Click me')"
      ]
     },
     "metadata": {},
     "output_type": "display_data"
    }
   ],
   "source": [
    "widgets.Button(\n",
    "    description='Click me',\n",
    "    disabled=False,\n",
    "    button_style='success', # 'success', 'info', 'warning', 'danger' or ''\n",
    "    tooltip='Click me',\n",
    "    icon='check'\n",
    ")\n",
    "\n",
    "# 调整按钮\n",
    "#from ipywidgets import Button, Layout\n",
    "\n",
    "#b = Button(description='(50% width, 80px height) button',\n",
    "#           layout=Layout(width='50%', height='80px'),\n",
    "#          button_style='success')\n",
    "#b"
   ]
  },
  {
   "cell_type": "markdown",
   "id": "124e7844",
   "metadata": {},
   "source": [
    "### IntSlider、FloatSlider"
   ]
  },
  {
   "cell_type": "markdown",
   "id": "484d1eeb",
   "metadata": {
    "ExecuteTime": {
     "end_time": "2021-07-14T02:12:56.774342Z",
     "start_time": "2021-07-14T02:12:56.760270Z"
    }
   },
   "source": [
    "一个整数型滑块，一个数值型滑块。"
   ]
  },
  {
   "cell_type": "code",
   "execution_count": 8,
   "id": "efe7d813",
   "metadata": {
    "ExecuteTime": {
     "end_time": "2021-07-14T02:12:28.768245Z",
     "start_time": "2021-07-14T02:12:28.712750Z"
    },
    "execution": {
     "iopub.execute_input": "2022-05-18T05:54:27.647725Z",
     "iopub.status.busy": "2022-05-18T05:54:27.647288Z",
     "iopub.status.idle": "2022-05-18T05:54:27.670449Z",
     "shell.execute_reply": "2022-05-18T05:54:27.669533Z",
     "shell.execute_reply.started": "2022-05-18T05:54:27.647678Z"
    }
   },
   "outputs": [
    {
     "data": {
      "application/vnd.jupyter.widget-view+json": {
       "model_id": "33b8113a557f4d21bb5c8a932781737d",
       "version_major": 2,
       "version_minor": 0
      },
      "text/plain": [
       "FloatSlider(value=7.5, continuous_update=False, description='Test:', max=10.0, readout_format='.1f')"
      ]
     },
     "metadata": {},
     "output_type": "display_data"
    }
   ],
   "source": [
    "widgets.FloatSlider(\n",
    "    value=7.5,\n",
    "    min=0,\n",
    "    max=10.0,\n",
    "    step=0.1,\n",
    "    description='Test:',\n",
    "    disabled=False,\n",
    "    continuous_update=False,\n",
    "    orientation='horizontal',\n",
    "    readout=True,\n",
    "    readout_format='.1f',\n",
    ")"
   ]
  },
  {
   "cell_type": "markdown",
   "id": "a40add56",
   "metadata": {},
   "source": [
    "### FloatProgress / IntProgress"
   ]
  },
  {
   "cell_type": "code",
   "execution_count": 9,
   "id": "208e9e0f",
   "metadata": {
    "ExecuteTime": {
     "end_time": "2021-07-14T02:13:42.179163Z",
     "start_time": "2021-07-14T02:13:42.141133Z"
    },
    "execution": {
     "iopub.execute_input": "2022-05-18T05:54:29.149636Z",
     "iopub.status.busy": "2022-05-18T05:54:29.148880Z",
     "iopub.status.idle": "2022-05-18T05:54:29.181132Z",
     "shell.execute_reply": "2022-05-18T05:54:29.180453Z",
     "shell.execute_reply.started": "2022-05-18T05:54:29.149573Z"
    }
   },
   "outputs": [
    {
     "data": {
      "application/vnd.jupyter.widget-view+json": {
       "model_id": "7b35705ae8d949bbb8d1386f8b8f20f2",
       "version_major": 2,
       "version_minor": 0
      },
      "text/plain": [
       "IntProgress(value=7, description='Loading:', max=10)"
      ]
     },
     "metadata": {},
     "output_type": "display_data"
    },
    {
     "data": {
      "application/vnd.jupyter.widget-view+json": {
       "model_id": "60d08f60d8b344bc862a69a937220887",
       "version_major": 2,
       "version_minor": 0
      },
      "text/plain": [
       "FloatProgress(value=7.5, bar_style='info', description='Loading:', max=10.0)"
      ]
     },
     "metadata": {},
     "output_type": "display_data"
    }
   ],
   "source": [
    "widgets.IntProgress(\n",
    "    value=7,\n",
    "    min=0,\n",
    "    max=10,\n",
    "    step=1,\n",
    "    description='Loading:',\n",
    "    bar_style='', # 'success', 'info', 'warning', 'danger' or ''\n",
    "    orientation='horizontal'\n",
    ")\n",
    "\n",
    "widgets.FloatProgress(\n",
    "    value=7.5,\n",
    "    min=0,\n",
    "    max=10.0,\n",
    "    step=0.1,\n",
    "    description='Loading:',\n",
    "    bar_style='info',\n",
    "    orientation='horizontal'\n",
    ")"
   ]
  },
  {
   "cell_type": "markdown",
   "id": "0e60f6a6",
   "metadata": {},
   "source": [
    "### Text、Textarea"
   ]
  },
  {
   "cell_type": "markdown",
   "id": "d1df3964",
   "metadata": {},
   "source": [
    "一般来说，textarea比text更好用，模块是可伸缩的。"
   ]
  },
  {
   "cell_type": "code",
   "execution_count": 10,
   "id": "2fbedb0c",
   "metadata": {
    "ExecuteTime": {
     "end_time": "2021-07-14T02:14:17.402098Z",
     "start_time": "2021-07-14T02:14:17.325671Z"
    },
    "execution": {
     "iopub.execute_input": "2022-05-18T05:54:31.351007Z",
     "iopub.status.busy": "2022-05-18T05:54:31.350561Z",
     "iopub.status.idle": "2022-05-18T05:54:31.386468Z",
     "shell.execute_reply": "2022-05-18T05:54:31.385541Z",
     "shell.execute_reply.started": "2022-05-18T05:54:31.350958Z"
    },
    "tags": []
   },
   "outputs": [
    {
     "data": {
      "application/vnd.jupyter.widget-view+json": {
       "model_id": "6f411613797d43bda19d3144e30364cf",
       "version_major": 2,
       "version_minor": 0
      },
      "text/plain": [
       "Text(value='Hello World', description='String:', placeholder='Type something')"
      ]
     },
     "metadata": {},
     "output_type": "display_data"
    },
    {
     "data": {
      "application/vnd.jupyter.widget-view+json": {
       "model_id": "04cc71785f1b48628fb94c43dec713b9",
       "version_major": 2,
       "version_minor": 0
      },
      "text/plain": [
       "Textarea(value='Hello World', description='String:', placeholder='Type something')"
      ]
     },
     "metadata": {},
     "output_type": "display_data"
    }
   ],
   "source": [
    "widgets.Text(\n",
    "    value='Hello World',\n",
    "    placeholder='Type something',\n",
    "    description='String:',\n",
    "    disabled=False\n",
    ")\n",
    "\n",
    "\n",
    "widgets.Textarea(\n",
    "    value='Hello World',\n",
    "    placeholder='Type something',\n",
    "    description='String:',\n",
    "    disabled=False\n",
    ")"
   ]
  },
  {
   "cell_type": "markdown",
   "id": "5defd246",
   "metadata": {},
   "source": [
    "### 图片Image"
   ]
  },
  {
   "cell_type": "code",
   "execution_count": 11,
   "id": "0b70b965",
   "metadata": {
    "ExecuteTime": {
     "end_time": "2021-07-14T02:15:26.402514Z",
     "start_time": "2021-07-14T02:15:26.374484Z"
    }
   },
   "outputs": [
    {
     "ename": "FileNotFoundError",
     "evalue": "[Errno 2] No such file or directory: 'images/WidgetArch.png'",
     "output_type": "error",
     "traceback": [
      "\u001b[0;31m---------------------------------------------------------------------------\u001b[0m",
      "\u001b[0;31mFileNotFoundError\u001b[0m                         Traceback (most recent call last)",
      "\u001b[0;32m<ipython-input-11-75c3c7cca405>\u001b[0m in \u001b[0;36m<module>\u001b[0;34m\u001b[0m\n\u001b[0;32m----> 1\u001b[0;31m \u001b[0mfile\u001b[0m \u001b[0;34m=\u001b[0m \u001b[0mopen\u001b[0m\u001b[0;34m(\u001b[0m\u001b[0;34m\"images/WidgetArch.png\"\u001b[0m\u001b[0;34m,\u001b[0m \u001b[0;34m\"rb\"\u001b[0m\u001b[0;34m)\u001b[0m\u001b[0;34m\u001b[0m\u001b[0;34m\u001b[0m\u001b[0m\n\u001b[0m\u001b[1;32m      2\u001b[0m \u001b[0mimage\u001b[0m \u001b[0;34m=\u001b[0m \u001b[0mfile\u001b[0m\u001b[0;34m.\u001b[0m\u001b[0mread\u001b[0m\u001b[0;34m(\u001b[0m\u001b[0;34m)\u001b[0m\u001b[0;34m\u001b[0m\u001b[0;34m\u001b[0m\u001b[0m\n\u001b[1;32m      3\u001b[0m widgets.Image(\n\u001b[1;32m      4\u001b[0m     \u001b[0mvalue\u001b[0m\u001b[0;34m=\u001b[0m\u001b[0mimage\u001b[0m\u001b[0;34m,\u001b[0m\u001b[0;34m\u001b[0m\u001b[0;34m\u001b[0m\u001b[0m\n\u001b[1;32m      5\u001b[0m     \u001b[0mformat\u001b[0m\u001b[0;34m=\u001b[0m\u001b[0;34m'png'\u001b[0m\u001b[0;34m,\u001b[0m\u001b[0;34m\u001b[0m\u001b[0;34m\u001b[0m\u001b[0m\n",
      "\u001b[0;31mFileNotFoundError\u001b[0m: [Errno 2] No such file or directory: 'images/WidgetArch.png'"
     ]
    }
   ],
   "source": [
    "file = open(\"images/WidgetArch.png\", \"rb\")\n",
    "image = file.read()\n",
    "widgets.Image(\n",
    "    value=image,\n",
    "    format='png',\n",
    "    width=300,\n",
    "    height=400,\n",
    ")"
   ]
  },
  {
   "cell_type": "markdown",
   "id": "ac744bdb",
   "metadata": {},
   "source": [
    "## 单控件 - interact 简单交互"
   ]
  },
  {
   "cell_type": "markdown",
   "id": "61dc729f",
   "metadata": {},
   "source": [
    "interact代表交互，第一个f代表函数，segx与opt都代表f函数的参数。\n",
    "\n",
    "segx代表滑条\n",
    "opt = True/False代表选项框\n",
    "\n",
    "注意interact，相当于给函数f赋值，除了第一个，之后的参数都是第一个函数的参数，名字需对齐。"
   ]
  },
  {
   "cell_type": "code",
   "execution_count": 12,
   "id": "1430361a",
   "metadata": {
    "ExecuteTime": {
     "end_time": "2021-07-14T02:17:19.064773Z",
     "start_time": "2021-07-14T02:17:18.946091Z"
    }
   },
   "outputs": [
    {
     "data": {
      "application/vnd.jupyter.widget-view+json": {
       "model_id": "573c6c780509467abef0fd4e7c062e80",
       "version_major": 2,
       "version_minor": 0
      },
      "text/plain": [
       "interactive(children=(IntSlider(value=10, description='segx', max=30, min=-10), Checkbox(value=True, descripti…"
      ]
     },
     "metadata": {},
     "output_type": "display_data"
    },
    {
     "data": {
      "text/plain": [
       "<function __main__.f(segx, opt)>"
      ]
     },
     "execution_count": 12,
     "metadata": {},
     "output_type": "execute_result"
    }
   ],
   "source": [
    "from __future__ import print_function\n",
    "from ipywidgets import interact, interactive, fixed, interact_manual\n",
    "import ipywidgets as widgets\n",
    "\n",
    "def f(segx,opt):\n",
    "    if opt:\n",
    "        return segx\n",
    "    else:\n",
    "        return 1\n",
    "interact(f, segx=10, opt = True)"
   ]
  },
  {
   "cell_type": "markdown",
   "id": "f91a74cd",
   "metadata": {},
   "source": [
    "## 单控件 - interact_manual简单交互"
   ]
  },
  {
   "cell_type": "code",
   "execution_count": 13,
   "id": "e1ea6ada",
   "metadata": {
    "ExecuteTime": {
     "end_time": "2021-07-14T02:21:21.067121Z",
     "start_time": "2021-07-14T02:21:21.001795Z"
    }
   },
   "outputs": [
    {
     "data": {
      "application/vnd.jupyter.widget-view+json": {
       "model_id": "e6269642fe564ef1be332afcb1bfbc60",
       "version_major": 2,
       "version_minor": 0
      },
      "text/plain": [
       "interactive(children=(FloatSlider(value=100000.0, description='i', max=10000000.0, min=100000.0, step=100000.0…"
      ]
     },
     "metadata": {},
     "output_type": "display_data"
    }
   ],
   "source": [
    "from ipywidgets import FloatSlider\n",
    "# 横轴进度可以拖拽\n",
    "def slow_function(i):\n",
    "    print(int(i),list(x for x in range(int(i)) if\n",
    "                str(x)==str(x)[::-1] and\n",
    "                str(x**2)==str(x**2)[::-1]))\n",
    "    return\n",
    "\n",
    "interact_manual(slow_function,i=FloatSlider(min=1e5, max=1e7, step=1e5));"
   ]
  },
  {
   "cell_type": "markdown",
   "id": "30d7f88b",
   "metadata": {
    "solution": "hidden",
    "solution_first": true
   },
   "source": [
    "FloatSlider表示拖拽滑块，interact_manual(函数，函数参数)，此时函数参数是由拖拽滑块FloatSlider来确定。\n",
    "\n",
    "<span class=\"burk\">与interact的区别</span>：\n",
    "interact是实时改变，interact_manual是人工点击RUN才能执行一次。"
   ]
  },
  {
   "cell_type": "markdown",
   "id": "7940c10c",
   "metadata": {},
   "source": [
    "## 单控件 - interactive_output + HBox交互"
   ]
  },
  {
   "cell_type": "code",
   "execution_count": 14,
   "id": "b2dc136f",
   "metadata": {
    "ExecuteTime": {
     "end_time": "2021-07-14T02:23:26.166282Z",
     "start_time": "2021-07-14T02:23:26.069835Z"
    }
   },
   "outputs": [
    {
     "data": {
      "application/vnd.jupyter.widget-view+json": {
       "model_id": "506cb4a2bbc54146ba8daa47684b8d9d",
       "version_major": 2,
       "version_minor": 0
      },
      "text/plain": [
       "HBox(children=(IntSlider(value=0), IntSlider(value=0), IntSlider(value=0)))"
      ]
     },
     "metadata": {},
     "output_type": "display_data"
    },
    {
     "data": {
      "application/vnd.jupyter.widget-view+json": {
       "model_id": "9e0d95b345674a0ca0f5b482d75ec876",
       "version_major": 2,
       "version_minor": 0
      },
      "text/plain": [
       "Output()"
      ]
     },
     "metadata": {},
     "output_type": "display_data"
    }
   ],
   "source": [
    "from IPython.display import display, HTML\n",
    "a = widgets.IntSlider()\n",
    "b = widgets.IntSlider()\n",
    "c = widgets.IntSlider()\n",
    "ui = widgets.HBox([a, b, c])\n",
    "\n",
    "def f(a, b, c):\n",
    "    print((a, b, c))\n",
    "\n",
    "out = widgets.interactive_output(f, {'a': a, 'b': b, 'c': c})\n",
    "\n",
    "display(ui, out)"
   ]
  },
  {
   "cell_type": "markdown",
   "id": "8e752fc9",
   "metadata": {},
   "source": [
    "a,b,c是三个滑块，通过widgets.HBox进行拼接成为一个Box组件。\n",
    "\n",
    "interactive_output（函数，函数参数），函数参数是一个组合Box组件。\n",
    "\n",
    "display是展示滑块组合以及输出项。"
   ]
  },
  {
   "cell_type": "markdown",
   "id": "7fcc7bdd",
   "metadata": {},
   "source": [
    "## 单控件 - 文本交互"
   ]
  },
  {
   "cell_type": "markdown",
   "id": "06c3c477",
   "metadata": {},
   "source": [
    "Textarea是一个比较长的文本框作为输入项。"
   ]
  },
  {
   "cell_type": "code",
   "execution_count": 15,
   "id": "d844aed3",
   "metadata": {
    "ExecuteTime": {
     "end_time": "2021-07-14T02:24:50.147161Z",
     "start_time": "2021-07-14T02:24:50.100024Z"
    }
   },
   "outputs": [
    {
     "data": {
      "application/vnd.jupyter.widget-view+json": {
       "model_id": "4f9ff78bee3046fdad421aa358a67ac9",
       "version_major": 2,
       "version_minor": 0
      },
      "text/plain": [
       "Textarea(value='Hello World', description='String:', placeholder='Type something')"
      ]
     },
     "metadata": {},
     "output_type": "display_data"
    }
   ],
   "source": [
    "widgets.Textarea(\n",
    "    value='Hello World',          # 默认语句\n",
    "    placeholder='Type something',\n",
    "    description='String:',        # 框的名字\n",
    "    disabled=False                # 是否可修改\n",
    ")"
   ]
  },
  {
   "cell_type": "markdown",
   "id": "945eb8b0",
   "metadata": {},
   "source": [
    "## 两个控件 - 组合交互jslink"
   ]
  },
  {
   "cell_type": "code",
   "execution_count": 16,
   "id": "b89de569",
   "metadata": {
    "ExecuteTime": {
     "end_time": "2021-07-14T02:25:54.453275Z",
     "start_time": "2021-07-14T02:25:54.426194Z"
    }
   },
   "outputs": [
    {
     "data": {
      "application/vnd.jupyter.widget-view+json": {
       "model_id": "cbb8d13aa96049369bb7fda5a59870d9",
       "version_major": 2,
       "version_minor": 0
      },
      "text/plain": [
       "FloatText(value=0.0)"
      ]
     },
     "metadata": {},
     "output_type": "display_data"
    },
    {
     "data": {
      "application/vnd.jupyter.widget-view+json": {
       "model_id": "9b1a706c08da48d48f78d5f31fee008d",
       "version_major": 2,
       "version_minor": 0
      },
      "text/plain": [
       "FloatSlider(value=0.0)"
      ]
     },
     "metadata": {},
     "output_type": "display_data"
    }
   ],
   "source": [
    "# jslink\n",
    "# 两个控件的交互\n",
    "a = widgets.FloatText()\n",
    "b = widgets.FloatSlider()\n",
    "display(a,b)\n",
    "\n",
    "mylink = widgets.jslink((a, 'value'), (b, 'value'))"
   ]
  },
  {
   "cell_type": "markdown",
   "id": "b3adfd3c",
   "metadata": {},
   "source": [
    "jslink把控件a,b组合起来，a是文本控件，b是数值控件。"
   ]
  },
  {
   "cell_type": "markdown",
   "id": "d00819f2",
   "metadata": {},
   "source": [
    "## 多模块\n",
    "### 控件独立分屏Accordion"
   ]
  },
  {
   "cell_type": "code",
   "execution_count": 18,
   "id": "9f2aa88a",
   "metadata": {
    "ExecuteTime": {
     "end_time": "2021-07-14T02:27:28.197097Z",
     "start_time": "2021-07-14T02:27:28.151798Z"
    }
   },
   "outputs": [
    {
     "data": {
      "application/vnd.jupyter.widget-view+json": {
       "model_id": "7e56a1fc86d8476ba1fa78757116136c",
       "version_major": 2,
       "version_minor": 0
      },
      "text/plain": [
       "Accordion(children=(Text(value=''), Text(value='')), _titles={'0': 'Text1', '1': 'Text2'})"
      ]
     },
     "metadata": {},
     "output_type": "display_data"
    }
   ],
   "source": [
    "accordion = widgets.Accordion(children=[widgets.Text(), widgets.Text()])\n",
    "accordion.set_title(0, 'Text1')\n",
    "accordion.set_title(1, 'Text2')\n",
    "accordion"
   ]
  },
  {
   "cell_type": "markdown",
   "id": "ad5559ac",
   "metadata": {},
   "source": [
    "可以把两个组件独立的链接在一起，而不是如jslink交互影响。"
   ]
  },
  {
   "cell_type": "markdown",
   "id": "bf016ac6",
   "metadata": {},
   "source": [
    "### 双模块分屏 + 选项分屏"
   ]
  },
  {
   "cell_type": "code",
   "execution_count": 20,
   "id": "b62db7d1",
   "metadata": {
    "ExecuteTime": {
     "end_time": "2021-07-14T02:29:50.627363Z",
     "start_time": "2021-07-14T02:29:50.511812Z"
    }
   },
   "outputs": [
    {
     "data": {
      "application/vnd.jupyter.widget-view+json": {
       "model_id": "c3c39f7c1ade4b51872c8d052fb3971f",
       "version_major": 2,
       "version_minor": 0
      },
      "text/plain": [
       "Tab(children=(Text(value='', description='P0'), Text(value='', description='P1'), Text(value='', description='…"
      ]
     },
     "metadata": {},
     "output_type": "display_data"
    }
   ],
   "source": [
    "# 选项分屏\n",
    "tab_contents = ['P0', 'P1', 'P2', 'P3', 'P4']\n",
    "children = [widgets.Text(description=name) for name in tab_contents]\n",
    "tab = widgets.Tab()\n",
    "tab.children = children\n",
    "for i in range(len(children)):\n",
    "    tab.set_title(i, str(i))\n",
    "tab"
   ]
  },
  {
   "cell_type": "markdown",
   "id": "ae507c32",
   "metadata": {
    "ExecuteTime": {
     "end_time": "2021-07-14T02:30:21.512482Z",
     "start_time": "2021-07-14T02:30:21.505322Z"
    }
   },
   "source": [
    "### 双模块分屏 + 选项分屏"
   ]
  },
  {
   "cell_type": "code",
   "execution_count": 22,
   "id": "98999fc5",
   "metadata": {
    "ExecuteTime": {
     "end_time": "2021-07-14T02:30:33.696794Z",
     "start_time": "2021-07-14T02:30:33.626475Z"
    }
   },
   "outputs": [
    {
     "data": {
      "application/vnd.jupyter.widget-view+json": {
       "model_id": "b826787827cf41299089b3fc9f4d9dc3",
       "version_major": 2,
       "version_minor": 0
      },
      "text/plain": [
       "Tab(children=(Accordion(children=(Text(value=''), Text(value='')), _titles={'0': 'Text1', '1': 'Text2'}), Acco…"
      ]
     },
     "metadata": {},
     "output_type": "display_data"
    }
   ],
   "source": [
    "tab_nest = widgets.Tab()\n",
    "tab_nest.children = [accordion, accordion]\n",
    "tab_nest.set_title(0, 'An accordion')\n",
    "tab_nest.set_title(1, 'Copy of the accordion')\n",
    "tab_nest"
   ]
  },
  {
   "cell_type": "markdown",
   "id": "734752b5",
   "metadata": {},
   "source": [
    "多个控件组合独立分开"
   ]
  },
  {
   "cell_type": "code",
   "execution_count": null,
   "id": "34dea2f7",
   "metadata": {},
   "outputs": [],
   "source": []
  },
  {
   "cell_type": "code",
   "execution_count": null,
   "id": "d226f879",
   "metadata": {},
   "outputs": [],
   "source": []
  },
  {
   "cell_type": "code",
   "execution_count": null,
   "id": "6388d9bf",
   "metadata": {},
   "outputs": [],
   "source": []
  },
  {
   "cell_type": "markdown",
   "id": "d61b86fe",
   "metadata": {},
   "source": [
    "## 小案例"
   ]
  },
  {
   "cell_type": "markdown",
   "id": "3d9cc00a",
   "metadata": {
    "ExecuteTime": {
     "end_time": "2021-07-14T02:31:27.060925Z",
     "start_time": "2021-07-14T02:31:27.057745Z"
    }
   },
   "source": [
    "### 图形 + 滑块"
   ]
  },
  {
   "cell_type": "markdown",
   "id": "76b93dbb",
   "metadata": {},
   "source": [
    "#### 案例一"
   ]
  },
  {
   "cell_type": "code",
   "execution_count": 24,
   "id": "798ec677",
   "metadata": {
    "ExecuteTime": {
     "end_time": "2021-07-14T02:31:41.401577Z",
     "start_time": "2021-07-14T02:31:41.002730Z"
    }
   },
   "outputs": [
    {
     "data": {
      "application/vnd.jupyter.widget-view+json": {
       "model_id": "f784f58d7777478bb931f73b91694695",
       "version_major": 2,
       "version_minor": 0
      },
      "text/plain": [
       "interactive(children=(FloatSlider(value=0.0, description='m', max=2.0, min=-2.0), FloatSlider(value=0.0, descr…"
      ]
     },
     "metadata": {},
     "output_type": "display_data"
    }
   ],
   "source": [
    "%matplotlib inline\n",
    "from ipywidgets import interactive\n",
    "import matplotlib.pyplot as plt\n",
    "import numpy as np\n",
    "\n",
    "def f(m, b):\n",
    "    plt.figure(2)\n",
    "    x = np.linspace(-10, 10, num=1000)\n",
    "    plt.plot(x, m * x + b)\n",
    "    plt.ylim(-5, 5)\n",
    "    plt.show()\n",
    "\n",
    "interactive_plot = interactive(f, m=(-2.0, 2.0), b=(-3, 3, 0.5))     \n",
    "# m代表范围\n",
    "output = interactive_plot.children[-1]\n",
    "output.layout.height = '350px'\n",
    "interactive_plot"
   ]
  },
  {
   "cell_type": "markdown",
   "id": "29dc5f4f",
   "metadata": {},
   "source": [
    "### 案例二"
   ]
  },
  {
   "cell_type": "markdown",
   "id": "e14901c6",
   "metadata": {},
   "source": [
    "interact_manual是单控件函数交互，此时通过装饰器，interact_manual（函数，函数参数）中的函数被隐去。"
   ]
  },
  {
   "cell_type": "code",
   "execution_count": 26,
   "id": "c489e31d",
   "metadata": {
    "ExecuteTime": {
     "end_time": "2021-07-14T02:34:59.738460Z",
     "start_time": "2021-07-14T02:34:59.668511Z"
    }
   },
   "outputs": [
    {
     "data": {
      "application/vnd.jupyter.widget-view+json": {
       "model_id": "0f03c4b38bb84c0e8c4cb387870e4148",
       "version_major": 2,
       "version_minor": 0
      },
      "text/plain": [
       "interactive(children=(FloatSlider(value=1.0, description='freq', max=3.0, min=-1.0), Dropdown(description='col…"
      ]
     },
     "metadata": {},
     "output_type": "display_data"
    }
   ],
   "source": [
    "@widgets.interact_manual(\n",
    "    color=['blue', 'red', 'green'], lw=(1., 10.))\n",
    "def plot(freq=1., color='blue', lw=2, grid=True):\n",
    "    t = np.linspace(-1., +1., 1000)\n",
    "    fig, ax = plt.subplots(1, 1, figsize=(8, 6))\n",
    "    ax.plot(t, np.sin(2 * np.pi * freq * t),\n",
    "            lw=lw, color=color)\n",
    "    ax.grid(grid)"
   ]
  },
  {
   "cell_type": "markdown",
   "id": "0dd7e502",
   "metadata": {},
   "source": [
    "### 一个可控的进度读条"
   ]
  },
  {
   "cell_type": "markdown",
   "id": "036cac47",
   "metadata": {},
   "source": [
    "Play是一个控制按钮，FloatProgress是一个数值进度条。\n",
    "通过jslink将两个空间链接，点击按钮就Loading就可以开始走动。"
   ]
  },
  {
   "cell_type": "code",
   "execution_count": 27,
   "id": "9029f97a",
   "metadata": {
    "ExecuteTime": {
     "end_time": "2021-07-14T02:36:06.486438Z",
     "start_time": "2021-07-14T02:36:06.389876Z"
    }
   },
   "outputs": [
    {
     "data": {
      "application/vnd.jupyter.widget-view+json": {
       "model_id": "70067490dc4745fb81bbe851615f8bce",
       "version_major": 2,
       "version_minor": 0
      },
      "text/plain": [
       "HBox(children=(Play(value=0, description='Press play'), FloatProgress(value=50.0, bar_style='success', descrip…"
      ]
     },
     "metadata": {},
     "output_type": "display_data"
    }
   ],
   "source": [
    "# 一个可控的进度条\n",
    "play = widgets.Play(\n",
    "#     interval=10,\n",
    "    value=0,\n",
    "    min=0,\n",
    "    max=100,\n",
    "    step=1,\n",
    "    description=\"Press play\",\n",
    "    disabled=False\n",
    ")\n",
    "#slider = widgets.IntSlider()\n",
    "slider = widgets.FloatProgress(\n",
    "    value=50,\n",
    "    min=0,\n",
    "    max=100.0,\n",
    "    step=1,\n",
    "    description='Loading:',\n",
    "    bar_style='success',\n",
    "    orientation='horizontal'\n",
    ")\n",
    "\n",
    "widgets.jslink((play, 'value'), (slider, 'value'))\n",
    "widgets.HBox([play, slider])"
   ]
  },
  {
   "cell_type": "markdown",
   "id": "24f83484",
   "metadata": {},
   "source": [
    "### 颜色筛选器"
   ]
  },
  {
   "cell_type": "code",
   "execution_count": 36,
   "id": "fd9416a4",
   "metadata": {
    "ExecuteTime": {
     "end_time": "2021-07-14T02:38:48.942018Z",
     "start_time": "2021-07-14T02:38:48.929281Z"
    }
   },
   "outputs": [
    {
     "data": {
      "application/vnd.jupyter.widget-view+json": {
       "model_id": "a3c248d3d777401aa20c54a0bb3b64df",
       "version_major": 2,
       "version_minor": 0
      },
      "text/plain": [
       "ColorPicker(value='blue', description='Pick a color')"
      ]
     },
     "metadata": {},
     "output_type": "display_data"
    }
   ],
   "source": [
    "# 颜色选择器\n",
    "widgets.ColorPicker(\n",
    "    concise=False,\n",
    "    description='Pick a color',\n",
    "    value='blue',\n",
    "    disabled=False\n",
    ")"
   ]
  },
  {
   "cell_type": "markdown",
   "id": "85c10b16",
   "metadata": {
    "ExecuteTime": {
     "end_time": "2021-07-14T02:39:11.876562Z",
     "start_time": "2021-07-14T02:39:11.870952Z"
    }
   },
   "source": [
    "### 复杂输入框"
   ]
  },
  {
   "cell_type": "code",
   "execution_count": 38,
   "id": "22b80840",
   "metadata": {
    "ExecuteTime": {
     "end_time": "2021-07-14T02:39:35.795011Z",
     "start_time": "2021-07-14T02:39:35.650298Z"
    }
   },
   "outputs": [
    {
     "data": {
      "application/vnd.jupyter.widget-view+json": {
       "model_id": "803cb70f0d2f4cce9319fcab5f2275f4",
       "version_major": 2,
       "version_minor": 0
      },
      "text/plain": [
       "Box(children=(Box(children=(Label(value='Age of the captain'), IntSlider(value=40, max=60, min=40)), layout=La…"
      ]
     },
     "metadata": {},
     "output_type": "display_data"
    }
   ],
   "source": [
    "# 复合功能\n",
    "from ipywidgets import Layout, Button, Box, FloatText, Textarea, Dropdown, Label, IntSlider\n",
    "\n",
    "form_item_layout = Layout(\n",
    "    display='flex',\n",
    "    flex_flow='row',\n",
    "    justify_content='space-between'\n",
    ")\n",
    "\n",
    "form_items = [\n",
    "    Box([Label(value='Age of the captain'), IntSlider(min=40, max=60)], layout=form_item_layout),\n",
    "    Box([Label(value='Egg style'),\n",
    "         Dropdown(options=['Scrambled', 'Sunny side up', 'Over easy'])], layout=form_item_layout),\n",
    "    Box([Label(value='Ship size'),\n",
    "         FloatText()], layout=form_item_layout),\n",
    "    Box([Label(value='Information'),\n",
    "         Textarea()], layout=form_item_layout)\n",
    "]\n",
    "\n",
    "form = Box(form_items, layout=Layout(\n",
    "    display='flex',\n",
    "    flex_flow='column',\n",
    "    border='solid 2px',\n",
    "    align_items='stretch',\n",
    "    width='50%'\n",
    "))\n",
    "form"
   ]
  },
  {
   "cell_type": "markdown",
   "id": "dcf75113",
   "metadata": {},
   "source": [
    "form_item_layout统一的Box布局，\n",
    "Dropdown是下拉框，一个Box是一个独立组件。\n",
    "form_items是多个Box的组合，Box( [Label(),Textarea()] , layout ) => Box( [前缀名,控件函数] , 布局 )"
   ]
  },
  {
   "cell_type": "code",
   "execution_count": null,
   "id": "a13830f4",
   "metadata": {},
   "outputs": [],
   "source": []
  },
  {
   "cell_type": "code",
   "execution_count": null,
   "id": "67393b05",
   "metadata": {},
   "outputs": [],
   "source": []
  },
  {
   "cell_type": "code",
   "execution_count": null,
   "id": "b40a317c",
   "metadata": {},
   "outputs": [],
   "source": []
  },
  {
   "cell_type": "code",
   "execution_count": null,
   "id": "6a57ca5f",
   "metadata": {},
   "outputs": [],
   "source": []
  },
  {
   "cell_type": "markdown",
   "id": "2b122b69",
   "metadata": {},
   "source": [
    "# lineup_widget"
   ]
  },
  {
   "cell_type": "markdown",
   "id": "fc144e72",
   "metadata": {},
   "source": [
    "这是一个专门为展示dataframe + ipywidgets而来的包。\n",
    "\n",
    "## 安装\n",
    "+ install Jupyter Widgets\n",
    "\n",
    "pip install ipywidgets\n",
    "\n",
    "jupyter nbextension enable --py widgetsnbextension\n",
    "\n",
    "+ install library\n",
    "\n",
    "pip install lineup_widget\n",
    "\n",
    "jupyter nbextension enable --py --sys-prefix lineup_widget"
   ]
  },
  {
   "cell_type": "markdown",
   "id": "85059d6d",
   "metadata": {},
   "source": [
    "## 主函数\n",
    "\n",
    "w = lineup_widget.LineUpWidget(df, options=dict(rowHeight=20))\n"
   ]
  },
  {
   "cell_type": "code",
   "execution_count": 1,
   "id": "64be6310",
   "metadata": {
    "ExecuteTime": {
     "end_time": "2021-07-14T03:35:23.703996Z",
     "start_time": "2021-07-14T03:35:23.663264Z"
    },
    "execution": {
     "iopub.execute_input": "2022-05-18T05:51:46.343614Z",
     "iopub.status.busy": "2022-05-18T05:51:46.343109Z",
     "iopub.status.idle": "2022-05-18T05:51:46.734561Z",
     "shell.execute_reply": "2022-05-18T05:51:46.733947Z",
     "shell.execute_reply.started": "2022-05-18T05:51:46.343484Z"
    }
   },
   "outputs": [
    {
     "ename": "TypeError",
     "evalue": "list() takes no keyword arguments",
     "output_type": "error",
     "traceback": [
      "\u001b[0;31m---------------------------------------------------------------------------\u001b[0m",
      "\u001b[0;31mTypeError\u001b[0m                                 Traceback (most recent call last)",
      "Input \u001b[0;32mIn [1]\u001b[0m, in \u001b[0;36m<cell line: 1>\u001b[0;34m()\u001b[0m\n\u001b[0;32m----> 1\u001b[0m _data \u001b[38;5;241m=\u001b[39m \u001b[38;5;28;43mlist\u001b[39;49m\u001b[43m(\u001b[49m\u001b[43mtrait\u001b[49m\u001b[38;5;241;43m=\u001b[39;49m\u001b[38;5;28;43mdict\u001b[39;49m\u001b[43m(\u001b[49m\u001b[43m)\u001b[49m\u001b[43m,\u001b[49m\u001b[43m \u001b[49m\u001b[43mdefault_value\u001b[49m\u001b[38;5;241;43m=\u001b[39;49m\u001b[43m[\u001b[49m\u001b[43m]\u001b[49m\u001b[43m)\u001b[49m\u001b[38;5;241m.\u001b[39mtag(sync\u001b[38;5;241m=\u001b[39m\u001b[38;5;28;01mTrue\u001b[39;00m)\n\u001b[1;32m      2\u001b[0m _columns \u001b[38;5;241m=\u001b[39m \u001b[38;5;28mlist\u001b[39m(trait\u001b[38;5;241m=\u001b[39m\u001b[38;5;28mdict\u001b[39m(), default_value\u001b[38;5;241m=\u001b[39m[])\u001b[38;5;241m.\u001b[39mtag(sync\u001b[38;5;241m=\u001b[39m\u001b[38;5;28;01mTrue\u001b[39;00m)\n\u001b[1;32m      3\u001b[0m options \u001b[38;5;241m=\u001b[39m \u001b[38;5;28mdict\u001b[39m(\n\u001b[1;32m      4\u001b[0m     traits\u001b[38;5;241m=\u001b[39m\u001b[38;5;28mdict\u001b[39m(filterGlobally\u001b[38;5;241m=\u001b[39mBool(), singleSelection\u001b[38;5;241m=\u001b[39mBool(), noCriteriaLimits\u001b[38;5;241m=\u001b[39mBool(), animated\u001b[38;5;241m=\u001b[39mBool(),\n\u001b[1;32m      5\u001b[0m                              sidePanel\u001b[38;5;241m=\u001b[39mEnum((\u001b[38;5;28;01mTrue\u001b[39;00m, \u001b[38;5;28;01mFalse\u001b[39;00m, \u001b[38;5;124m'\u001b[39m\u001b[38;5;124mcollapsed\u001b[39m\u001b[38;5;124m'\u001b[39m)), summaryHeader\u001b[38;5;241m=\u001b[39mBool(), overviewMode\u001b[38;5;241m=\u001b[39mBool(),\n\u001b[0;32m   (...)\u001b[0m\n\u001b[1;32m     13\u001b[0m                                     expandLineOnHover\u001b[38;5;241m=\u001b[39m\u001b[38;5;28;01mFalse\u001b[39;00m, defaultSlopeGraphMode\u001b[38;5;241m=\u001b[39m\u001b[38;5;124m'\u001b[39m\u001b[38;5;124mitem\u001b[39m\u001b[38;5;124m'\u001b[39m\n\u001b[1;32m     14\u001b[0m                                     ))\u001b[38;5;241m.\u001b[39mtag(sync\u001b[38;5;241m=\u001b[39m\u001b[38;5;28;01mTrue\u001b[39;00m)\n",
      "\u001b[0;31mTypeError\u001b[0m: list() takes no keyword arguments"
     ]
    }
   ],
   "source": [
    "_data = list(trait=dict(), default_value=[]).tag(sync=True)\n",
    "_columns = list(trait=dict(), default_value=[]).tag(sync=True)\n",
    "options = dict(\n",
    "    traits=dict(filterGlobally=Bool(), singleSelection=Bool(), noCriteriaLimits=Bool(), animated=Bool(),\n",
    "                             sidePanel=Enum((True, False, 'collapsed')), summaryHeader=Bool(), overviewMode=Bool(),\n",
    "                             hierarchyIndicator=Bool(), labelRotation=Int(), ignoreUnsupportedBrowser=Bool(),\n",
    "                             rowHeight=Int(), rowPadding=Int(), groupHeight=Int(), groupPadding=Int(),\n",
    "                             expandLineOnHover=Bool(), defaultSlopeGraphMode=Enum(('item', 'band'))),\n",
    "                 default_value=dict(filterGlobally=True, singleSelection=False, noCriteriaLimits=False, animated=True,\n",
    "                                    sidePanel='collapsed', summaryHeader=True, overviewMode=False,\n",
    "                                    hierarchyIndicator=True, labelRotation=0, ignoreUnsupportedBrowser=False,\n",
    "                                    rowHeight=18, rowPadding=2, groupHeight=40, groupPadding=5,\n",
    "                                    expandLineOnHover=False, defaultSlopeGraphMode='item'\n",
    "                                    )).tag(sync=True)\n",
    "rankings = List(trait=Dict(traits=dict(columns=List(trait=Union((Unicode(), Dict()))), sort_by=List(trait=Unicode()),\n",
    "                                         group_by=List(trait=Unicode())),\n",
    "                             default_value=dict(columns=['_*', '*'], sort_by=[], group_by=[])), default_value=[]).tag(\n",
    "    sync=True)"
   ]
  },
  {
   "cell_type": "markdown",
   "id": "f54efbb7",
   "metadata": {},
   "source": [
    "其中options之中有非常多的参数，由于文档也没具体说明，笔者这边只对几个参数有了解。\n",
    "其中：sidePanel=Enum((True, False, 'collapsed'))代表侧边的面板是否打开，笔者觉得很碍人，一般是sidePanel = False"
   ]
  },
  {
   "cell_type": "markdown",
   "id": "e4a2126e",
   "metadata": {},
   "source": [
    "### 案例一"
   ]
  },
  {
   "cell_type": "code",
   "execution_count": 1,
   "id": "a88f79e6",
   "metadata": {
    "ExecuteTime": {
     "end_time": "2021-07-14T03:39:27.571091Z",
     "start_time": "2021-07-14T03:39:27.290286Z"
    }
   },
   "outputs": [
    {
     "data": {
      "application/vnd.jupyter.widget-view+json": {
       "model_id": "77c33155994a4b06a58486cc6876b456",
       "version_major": 2,
       "version_minor": 0
      },
      "text/plain": [
       "LineUpWidget(value=[], layout=Layout(align_self='stretch', height='600px'), options={'filterGlobally': True, '…"
      ]
     },
     "metadata": {},
     "output_type": "display_data"
    }
   ],
   "source": [
    "import lineup_widget\n",
    "import pandas as pd\n",
    "import numpy as np\n",
    "\n",
    "df = pd.DataFrame(np.random.randint(0,100,size=(100, 4)), columns=list('ABCD'))\n",
    "\n",
    "w = lineup_widget.LineUpWidget(df)\n",
    "w.on_selection_changed(lambda selection: print(selection))\n",
    "w"
   ]
  },
  {
   "cell_type": "markdown",
   "id": "3952df06",
   "metadata": {},
   "source": [
    "非常简单，唯一需要整理的就是df，一个DataFrame的格式作为输入，其他不用调整任何东西，就可以使用了。"
   ]
  },
  {
   "cell_type": "markdown",
   "id": "70d51206",
   "metadata": {},
   "source": [
    "### 案例二"
   ]
  },
  {
   "cell_type": "code",
   "execution_count": 2,
   "id": "c3cd0622",
   "metadata": {
    "ExecuteTime": {
     "end_time": "2021-07-14T03:40:47.106775Z",
     "start_time": "2021-07-14T03:40:47.055116Z"
    }
   },
   "outputs": [
    {
     "data": {
      "application/vnd.jupyter.widget-view+json": {
       "model_id": "37c60ae93ba24db3b68174bdeff1f27f",
       "version_major": 2,
       "version_minor": 0
      },
      "text/plain": [
       "interactive(children=(LineUpWidget(value=[], description='selection', layout=Layout(align_self='stretch', heig…"
      ]
     },
     "metadata": {},
     "output_type": "display_data"
    },
    {
     "data": {
      "text/plain": [
       "<function __main__.selection_changed(selection)>"
      ]
     },
     "execution_count": 2,
     "metadata": {},
     "output_type": "execute_result"
    }
   ],
   "source": [
    "from __future__ import print_function\n",
    "from ipywidgets import interact, interactive, interact_manual\n",
    "\n",
    "def selection_changed(selection):\n",
    "    return df.iloc[selection]\n",
    "\n",
    "interact(selection_changed, selection=lineup_widget.LineUpWidget(df))"
   ]
  },
  {
   "cell_type": "markdown",
   "id": "f119a416",
   "metadata": {},
   "source": [
    "### 案例三: ipywidgets与lineup_widget共同使用的案例"
   ]
  },
  {
   "cell_type": "code",
   "execution_count": 2,
   "id": "0217cf45",
   "metadata": {
    "ExecuteTime": {
     "end_time": "2021-07-14T03:41:42.966679Z",
     "start_time": "2021-07-14T03:41:42.919941Z"
    },
    "execution": {
     "iopub.execute_input": "2022-05-18T05:52:17.602081Z",
     "iopub.status.busy": "2022-05-18T05:52:17.601463Z",
     "iopub.status.idle": "2022-05-18T05:52:17.760781Z",
     "shell.execute_reply": "2022-05-18T05:52:17.760193Z",
     "shell.execute_reply.started": "2022-05-18T05:52:17.602032Z"
    }
   },
   "outputs": [
    {
     "data": {
      "application/vnd.jupyter.widget-view+json": {
       "model_id": "5a1cb360e47649b9af0a5779a5350b75",
       "version_major": 2,
       "version_minor": 0
      },
      "text/plain": [
       "interactive(children=(Dropdown(description='类型:', options=('overall', 'part'), value='overall'), Checkbox(valu…"
      ]
     },
     "metadata": {},
     "output_type": "display_data"
    }
   ],
   "source": [
    "from __future__ import print_function\n",
    "from ipywidgets import interact, interactive, fixed, interact_manual\n",
    "import ipywidgets as widgets\n",
    "from IPython.display import display, HTML\n",
    "\n",
    "def view(down,std):\n",
    "    df = pd.DataFrame(np.random.randint(0,100,size=(100, 4)), columns=list('ABCD'))\n",
    "    \n",
    "    if down == 'overall':\n",
    "        df =df \n",
    "    elif down == 'part':\n",
    "        df = df[['A','B']]\n",
    "    \n",
    "    if std:\n",
    "        display(df)\n",
    "    else:\n",
    "        w = lineup_widget.LineUpWidget(df, options=dict(rowHeight=50,sidePanel = False))\n",
    "        display(w)\n",
    "    return\n",
    "\n",
    "\n",
    "down = widgets.Dropdown(\n",
    "    options=['overall','part'],\n",
    "    value='overall',\n",
    "    description='类型:',\n",
    "    disabled=False,\n",
    ")\n",
    "\n",
    "interactive(view, down = down , std = True)"
   ]
  },
  {
   "cell_type": "code",
   "execution_count": null,
   "id": "c1db75e1-f094-4791-917d-1cecb6b17da4",
   "metadata": {},
   "outputs": [],
   "source": []
  },
  {
   "cell_type": "markdown",
   "id": "e8e4496d-d8c7-4617-80ba-d21acd5f226f",
   "metadata": {},
   "source": [
    "## 案例四"
   ]
  },
  {
   "cell_type": "code",
   "execution_count": 3,
   "id": "d973699b-8828-46ae-9b7e-959aafe7ea6d",
   "metadata": {
    "execution": {
     "iopub.execute_input": "2022-05-18T05:53:02.370017Z",
     "iopub.status.busy": "2022-05-18T05:53:02.369274Z",
     "iopub.status.idle": "2022-05-18T05:53:03.114720Z",
     "shell.execute_reply": "2022-05-18T05:53:03.114269Z",
     "shell.execute_reply.started": "2022-05-18T05:53:02.369955Z"
    }
   },
   "outputs": [
    {
     "data": {
      "application/vnd.jupyter.widget-view+json": {
       "model_id": "4335a33b9ba742429558460cb4a0be00",
       "version_major": 2,
       "version_minor": 0
      },
      "text/plain": [
       "interactive(children=(FloatSlider(value=0.0, description='m', max=2.0, min=-2.0), FloatSlider(value=0.0, descr…"
      ]
     },
     "metadata": {},
     "output_type": "display_data"
    }
   ],
   "source": [
    "%matplotlib inline\n",
    "from ipywidgets import interactive\n",
    "import matplotlib.pyplot as plt\n",
    "import numpy as np\n",
    "\n",
    "def f(m, b):\n",
    "    plt.figure(2)\n",
    "    x = np.linspace(-10, 10, num=1000)\n",
    "    plt.plot(x, m * x + b)\n",
    "    plt.ylim(-5, 5)\n",
    "    plt.show()\n",
    "\n",
    "interactive_plot = interactive(f, m=(-2.0, 2.0), b=(-3, 3, 0.5))\n",
    "output = interactive_plot.children[-1]\n",
    "output.layout.height = '350px'\n",
    "interactive_plot"
   ]
  },
  {
   "cell_type": "code",
   "execution_count": 4,
   "id": "49c4493d-3457-4ddf-8aa4-831ab9762137",
   "metadata": {
    "execution": {
     "iopub.execute_input": "2022-05-18T05:53:35.586729Z",
     "iopub.status.busy": "2022-05-18T05:53:35.586292Z",
     "iopub.status.idle": "2022-05-18T05:53:35.788262Z",
     "shell.execute_reply": "2022-05-18T05:53:35.787256Z",
     "shell.execute_reply.started": "2022-05-18T05:53:35.586680Z"
    }
   },
   "outputs": [
    {
     "data": {
      "application/vnd.jupyter.widget-view+json": {
       "model_id": "c875a49ae6bb4f169c5405e671428c00",
       "version_major": 2,
       "version_minor": 0
      },
      "text/plain": [
       "interactive(children=(FloatSlider(value=0.0, description='m', max=2.0, min=-2.0), FloatSlider(value=0.0, descr…"
      ]
     },
     "metadata": {},
     "output_type": "display_data"
    },
    {
     "data": {
      "image/png": "[encoded data removed]",
      "text/plain": [
       "<Figure size 432x288 with 1 Axes>"
      ]
     },
     "metadata": {
      "needs_background": "light"
     },
     "output_type": "display_data"
    }
   ],
   "source": [
    "%matplotlib inline\n",
    "from ipywidgets import interactive\n",
    "import matplotlib.pyplot as plt\n",
    "import numpy as np\n",
    "\n",
    "# fig, axes = plt.subplots(nrows=1, ncols=1, figsize=(8, 8))\n",
    "# fig, axes = plt.subplots(nrows=1, ncols=1)\n",
    "# fig, axes = plt.subplots()\n",
    "fig = plt.gcf()\n",
    "axes = fig.add_subplot()\n",
    "\n",
    "\n",
    "def f(m, b):\n",
    "    global axes\n",
    "    plt.sca(axes)  # ******** 如果不进行选择画在哪个axis上，则不能显示话出来的内容 ********\n",
    "    # axes.clear()  # 如果去掉，则在原图上一直累加显示\n",
    "    axes.cla()  # 也可以\n",
    "    x = np.linspace(-10, 10, num=1000)\n",
    "    axes.plot(x, m * x + b)\n",
    "    axes.set_ylim(-5, 5)\n",
    "    # plt.show()  # 要不要都没关系\n",
    "    # fig.canvas.draw()  # 要不要都没关系\n",
    "\n",
    "\n",
    "interactive_plot = interactive(f, m=(-2.0, 2.0), b=(-3, 3, 0.5))\n",
    "# output = interactive_plot.children[-1]\n",
    "# output.layout.height = '350px'\n",
    "interactive_plot"
   ]
  },
  {
   "cell_type": "code",
   "execution_count": null,
   "id": "e5ee7057-75b1-4b20-88e4-2c7cc95ee919",
   "metadata": {},
   "outputs": [],
   "source": []
  }
 ],
 "metadata": {
  "gist": {
   "data": {
    "description": "ipywidgets/Untitled.ipynb",
    "public": false
   },
   "id": ""
  },
  "kernelspec": {
   "display_name": "train",
   "language": "python",
   "name": "train"
  },
  "language_info": {
   "codemirror_mode": {
    "name": "ipython",
    "version": 3
   },
   "file_extension": ".py",
   "mimetype": "text/x-python",
   "name": "python",
   "nbconvert_exporter": "python",
   "pygments_lexer": "ipython3",
   "version": "3.9.0"
  },
  "toc": {
   "base_numbering": 1,
   "nav_menu": {},
   "number_sections": true,
   "sideBar": true,
   "skip_h1_title": false,
   "title_cell": "Table of Contents",
   "title_sidebar": "Contents",
   "toc_cell": false,
   "toc_position": {},
   "toc_section_display": true,
   "toc_window_display": false
  },
  "varInspector": {
   "cols": {
    "lenName": 16,
    "lenType": 16,
    "lenVar": 40
   },
   "kernels_config": {
    "python": {
     "delete_cmd_postfix": "",
     "delete_cmd_prefix": "del ",
     "library": "var_list.py",
     "varRefreshCmd": "print(var_dic_list())"
    },
    "r": {
     "delete_cmd_postfix": ") ",
     "delete_cmd_prefix": "rm(",
     "library": "var_list.r",
     "varRefreshCmd": "cat(var_dic_list()) "
    }
   },
   "types_to_exclude": [
    "module",
    "function",
    "builtin_function_or_method",
    "instance",
    "_Feature"
   ],
   "window_display": false
  },
  "widgets": {
   "application/vnd.jupyter.widget-state+json": {
    "state": {
     "0127fa0411484c608f79769482152d20": {
      "model_module": "@jupyter-widgets/base",
      "model_module_version": "1.2.0",
      "model_name": "LayoutModel",
      "state": {}
     },
     "04cc71785f1b48628fb94c43dec713b9": {
      "model_module": "@jupyter-widgets/controls",
      "model_module_version": "1.5.0",
      "model_name": "TextareaModel",
      "state": {
       "description": "String:",
       "layout": "IPY_MODEL_25382ed12b5c4c31889d84dec6ff2fc7",
       "placeholder": "Type something",
       "style": "IPY_MODEL_862a4e98c86149e4837c6de3d471b8fb",
       "value": "Hello World"
      }
     },
     "09ee8dbd356a41b7a08751d701194cbc": {
      "model_module": "@jupyter-widgets/base",
      "model_module_version": "1.2.0",
      "model_name": "LayoutModel",
      "state": {
       "height": "350px"
      }
     },
     "0f9c4df29ef34f9699112af09b8093b9": {
      "model_module": "@jupyter-widgets/base",
      "model_module_version": "1.2.0",
      "model_name": "LayoutModel",
      "state": {}
     },
     "17797c0eeea941a0ae12cde4f730722c": {
      "model_module": "@jupyter-widgets/controls",
      "model_module_version": "1.5.0",
      "model_name": "DescriptionStyleModel",
      "state": {
       "description_width": ""
      }
     },
     "1afccc46b0ec4ec98cb022f3f16dc7d8": {
      "model_module": "@jupyter-widgets/controls",
      "model_module_version": "1.5.0",
      "model_name": "TextModel",
      "state": {
       "description": "String:",
       "layout": "IPY_MODEL_e3ef3007632940f38b1fb5ca5d99ed7b",
       "placeholder": "Type something",
       "style": "IPY_MODEL_22eb0137a5fe496395061f7b791191ee",
       "value": "Hello World"
      }
     },
     "22eb0137a5fe496395061f7b791191ee": {
      "model_module": "@jupyter-widgets/controls",
      "model_module_version": "1.5.0",
      "model_name": "DescriptionStyleModel",
      "state": {
       "description_width": ""
      }
     },
     "25382ed12b5c4c31889d84dec6ff2fc7": {
      "model_module": "@jupyter-widgets/base",
      "model_module_version": "1.2.0",
      "model_name": "LayoutModel",
      "state": {}
     },
     "33b8113a557f4d21bb5c8a932781737d": {
      "model_module": "@jupyter-widgets/controls",
      "model_module_version": "1.5.0",
      "model_name": "FloatSliderModel",
      "state": {
       "continuous_update": false,
       "description": "Test:",
       "layout": "IPY_MODEL_d17c7f5b2677480dafac7e0ba98d83b0",
       "max": 10,
       "readout_format": ".1f",
       "step": 0.1,
       "style": "IPY_MODEL_5321f090ba3d40a6b5a9f39981845416",
       "value": 7.5
      }
     },
     "3cb248f8e7b94cb190e3aeb390f1f37a": {
      "model_module": "@jupyter-widgets/output",
      "model_module_version": "1.0.0",
      "model_name": "OutputModel",
      "state": {
       "layout": "IPY_MODEL_09ee8dbd356a41b7a08751d701194cbc",
       "outputs": [
        {
         "data": {
          "image/png": "iVBORw0KGgoAAAANSUhEUgAAAXIAAAD4CAYAAADxeG0DAAAAOXRFWHRTb2Z0d2FyZQBNYXRwbG90bGliIHZlcnNpb24zLjUuMSwgaHR0cHM6Ly9tYXRwbG90bGliLm9yZy/YYfK9AAAACXBIWXMAAAsTAAALEwEAmpwYAAAPn0lEQVR4nO3dfYxl9V3H8c+nOwvlYVvAHYTuLu4SSSM+JMVxQ8WHpmAFJFBNNDSAJJhO+gcJJDYtuEnTpH/VxmqM1WZdiFUJ6x8tlhBIWWyJ8Q/Wzq77AC6UpaXuAIVBw1IlKa79+sc9C3cv9/n8zvP7lUz2zj1nzvnO786858ydGXBECADQXO+qegAAQD6EHAAajpADQMMRcgBoOEIOAA23UMVJN27cGFu3bq3i1ABa4o03/0/fe/V/tPAu6+LFs7R+XfuvS/ft2/dqRCwO3l9JyLdu3aqVlZUqTg2gBQ4ce0237NqrXzrrNO1evlzvO+eMqkcqhe3vD7u//V/CALTKyYif27GIj0PIATQGER+OkANoBCI+GiEHUHtEfDxCDqDWiPhkhBxAbRHx6RByALVExKdHyAHUDhGfDSEHUCtEfHaEHEBtEPH5EHIAtUDE50fIAVSOiOdDyAFUiojnR8gBVIaIp0HIAVSCiKdDyAGUjoinRcgBlIqIp5cs5LbX2f432w+lOiaAdiHixUh5RX6HpCMJjwegRYh4cZKE3PZmSb8laVeK4wFoFyJerFRX5H8m6VOSfjxqB9vLtldsr6ytrSU6LYC6I+LFyx1y29dJeiUi9o3bLyJ2RsRSRCwtLi7mPS2ABiDi5UhxRX6FpOttPy9pt6QP2/77BMcF0GBEvDy5Qx4Rd0fE5ojYKulGSd+MiJtzTwagsQ4ce0233NOL+P1EvHD8HjmApN6K+Jm9iG8i4oVbSHmwiHhc0uMpjwmgOYh4NbgiB5AEEa8OIQeQGxGvFiEHkAsRrx4hBzA3Il4PhBzAXIh4fRByADMj4vVCyAHMhIjXDyEHMDUiXk+EHMBUiHh9EXIAExHxeiPkAMYi4vVHyAGMRMSbgZADGIqINwchB/AORLxZCDmAUxDx5iHkAN5CxJuJkAOQRMSbjJADIOINR8iBjiPizUfIgQ4j4u1AyIGOOphF/Jwz1xPxhiPkQAcdPPaabs4ivnv5g0S84Qg50DFEvH0IOdAhRLydCDnQEUS8vQg50AFEvN0IOdByRLz9CDnQYkS8Gwg50FJEvDsIOdBCRLxbCDnQMkS8ewg50CJEvJsIOdASRLy7CDnQAkS823KH3PYW29+yfcT2U7bvSDEYgOkQcSwkOMYJSX8YEfttb5C0z/aeiPj3BMcGMAYRh5TgijwiXoqI/dntH0o6ImlT3uMCGI+I46Skz5Hb3irpA5L2pjwugFMRcfRLFnLbZ0v6qqQ7I+L1IduXba/YXllbW0t1WqBziDgGJQm57fXqRfy+iPjasH0iYmdELEXE0uLiYorTAp1DxDFMit9asaR7JB2JiC/mHwnAMEQco6S4Ir9C0i2SPmz7QPZybYLjAsgQcYyT+9cPI+JfJDnBLACGIOKYhL/sBGqMiGMahByoKSKOaRFyoIYOrb4d8fs/fjkRx1iEHKiZQ6uv6aZdb0d887lnVj0Sao6QAzVCxDEPQg7UBBHHvAg5UANEHHkQcqBiRBx5EXKgQkQcKRByoCJEHKkQcqACRBwpEXKgZEQcqRFyoEREHEUg5EBJiDiKQsiBEhBxFImQAwUj4igaIQcKRMRRBkIOFISIoyyEHCgAEUeZCDmQGBFH2Qg5kBARRxUIOZAIEUdVCDmQABFHlQg5kBMRR9UIOZADEUcdEHJgTicj/t4ziDiqRciBORxafU03ZxHfvUzEUS1CDszoZMTfQ8RRE4QcmAERRx0RcmBKRBx1RciBKRBx1BkhByYg4qg7Qg6MQcTRBIQcGIGIoykIOTAEEUeTJAm57attP2P7qO27UhwTqAoRR9PkDrntdZK+JOkaSZdK+pjtS/MeF6gCEUcTpbgi3y7paER8NyLelLRb0g0JjguUioijqVKEfJOkY32vr2b3ncL2su0V2ytra2sJTgukQ8TRZClC7iH3xTvuiNgZEUsRsbS4uJjgtEAaRBxNlyLkq5K29L2+WdKLCY4LFI6Iow1ShPzbki6xvc32aZJulPRgguMChSLiaIuFvAeIiBO2b5f0DUnrJN0bEU/lngwoEBFHm+QOuSRFxMOSHk5xLKBoRBxtw192olOIONqIkKMziDjaipCjE4g42oyQo/WIONqOkKPViDi6gJCjtYg4uoKQo5UOrx4n4ugMQo7WObx6XDftekLvOWO97v84EUf7EXK0ymDEt5xHxNF+hBytQcTRVYQcrUDE0WWEHI1HxNF1hByNRsQBQo4GI+JADyFHIxFx4G2EHI1DxIFTEXI0ChEH3omQozGIODAcIUcjEHFgNEKO2iPiwHiEHLVGxIHJCDlqi4gD0yHkqCUiDkyPkKN2iDgwG0KOWiHiwOwIOWqDiAPzIeSoBSIOzI+Qo3JEHMiHkKNSRBzIj5CjMkQcSIOQoxInI77h3UQcyIuQo3RPvnBcN9+zVxvevV67l4k4kBchR6mefOG4btq1V2efvkDEgUQIOUpDxIFi5Aq57S/Yftr2IdsP2D4n0VxoGSIOFCfvFfkeST8XEb8g6TuS7s4/EtqGiAPFyhXyiHg0Ik5krz4haXP+kdAmRBwoXsrnyG+T9EjC46HhiDhQjoVJO9h+TNIFQzbtiIivZ/vskHRC0n1jjrMsaVmSLrroormGRXMQcaA8E0MeEVeN2277VknXSboyImLMcXZK2ilJS0tLI/dD8xFxoFwTQz6O7aslfVrSr0fEG2lGQpMRcaB8eZ8j/wtJGyTtsX3A9pcTzISGIuJANXJdkUfET6caBM1GxIHq8JedyI2IA9Ui5MiFiAPVI+SYGxEH6oGQYy5EHKgPQo6ZEXGgXgg5ZkLEgfoh5JgaEQfqiZBjKkQcqC9CjomIOFBvhBxjEXGg/gg5RiLiQDMQcgxFxIHmIOR4ByIONAshxymIONA8hBxvIeJAMxFySCLiQJMRchBxoOEIeccRcaD5CHmHEXGgHQh5RxFxoD0IeQcRcaBdCHnHEHGgfQh5hxBxoJ0IeUcQcaC9CHkHEHGg3Qh5yxFxoP0IeYsRcaAbCHlLEXGgOwh5CxFxoFsIecsQcaB7CHmLEHGgmwh5SxBxoLsIeQsQcaDbCHnDEXEAhLzBiDgAKVHIbX/SdtjemOJ4mIyIAzgpd8htb5H0G5L+I/84mAYRB9AvxRX5n0r6lKRIcCxMQMQBDMoVctvXS3ohIg5Ose+y7RXbK2tra3lO21lEHMAwC5N2sP2YpAuGbNoh6Y8kfWSaE0XETkk7JWlpaYmr9xkRcQCjTAx5RFw17H7bPy9pm6SDtiVps6T9trdHxA+STtlxRBzAOBNDPkpEHJZ0/snXbT8vaSkiXk0wFzJEHMAk/B55jRFxANOY+4p8UERsTXUsEHEA0+OKvIaIOIBZEPKaIeIAZkXIa4SIA5gHIa8JIg5gXoS8Bog4gDwIecWIOIC8CHmFiDiAFAh5RYg4gFQIeQWIOICUCHnJiDiA1Ah5iYg4gCIQ8pIQcQBFIeQlIOIAikTIC0bEARSNkBeIiAMoAyEvCBEHUBZHlP//Qba9Jun7c775Rkl1/N/JMddsmGs2zDWbus4l5ZvtpyJicfDOSkKeh+2ViFiqeo5BzDUb5poNc82mrnNJxczGUysA0HCEHAAarokh31n1ACMw12yYazbMNZu6ziUVMFvjniMHAJyqiVfkAIA+hBwAGq6WIbf9u7afsv1j20sD2+62fdT2M7Z/c8Tbn2d7j+1ns3/PLWDGf7B9IHt53vaBEfs9b/twtt9K6jmGnO+ztl/om+3aEftdna3hUdt3lTDXF2w/bfuQ7QdsnzNiv1LWa9L7754/z7Yfsn1ZUbP0nXOL7W/ZPpJ9/N8xZJ8P2T7e9/h+pui5svOOfVwqWq/3963DAduv275zYJ9S1sv2vbZfsf1k331TdSjJ52JE1O5F0s9Ier+kxyUt9d1/qaSDkk6XtE3Sc5LWDXn7P5Z0V3b7LkmfL3jeP5H0mRHbnpe0scS1+6ykT07YZ122dhdLOi1b00sLnusjkhay258f9ZiUsV7TvP+SrpX0iCRLulzS3hIeuwslXZbd3iDpO0Pm+pCkh8r6eJr2calivYY8pj9Q7w9mSl8vSb8m6TJJT/bdN7FDqT4Xa3lFHhFHIuKZIZtukLQ7In4UEd+TdFTS9hH7fSW7/RVJHy1kUPWuRCT9nqT7izpHAbZLOhoR342INyXtVm/NChMRj0bEiezVJyRtLvJ8E0zz/t8g6W+j5wlJ59i+sMihIuKliNif3f6hpCOSNhV5zoRKX68BV0p6LiLm/YvxXCLinyX918Dd03QoyediLUM+xiZJx/peX9XwD/SfjIiXpN4nh6TzC5zpVyW9HBHPjtgekh61vc/2coFz9Ls9+/b23hHfzk27jkW5Tb2rt2HKWK9p3v9K18j2VkkfkLR3yOYP2j5o+xHbP1vSSJMel6o/pm7U6IupKtZLmq5DSdZtYa7xErD9mKQLhmzaERFfH/VmQ+4r7Pcnp5zxYxp/NX5FRLxo+3xJe2w/nX31LmQuSX8l6XPqrcvn1Hva57bBQwx529zrOM162d4h6YSk+0YcJvl6DRt1yH2D73+pH2unnNg+W9JXJd0ZEa8PbN6v3tMH/539/OMfJV1SwliTHpcq1+s0SddLunvI5qrWa1pJ1q2ykEfEVXO82aqkLX2vb5b04pD9XrZ9YUS8lH1790oRM9pekPQ7kn5xzDFezP59xfYD6n0rlStM066d7b+W9NCQTdOuY9K5bN8q6TpJV0b2BOGQYyRfryGmef8LWaNJbK9XL+L3RcTXBrf3hz0iHrb9l7Y3RkSh/4GoKR6XStYrc42k/RHx8uCGqtYrM02Hkqxb055aeVDSjbZPt71Nva+s/zpiv1uz27dKGnWFn9dVkp6OiNVhG22fZXvDydvq/cDvyWH7pjLwvORvjzjftyVdYntbdjVzo3prVuRcV0v6tKTrI+KNEfuUtV7TvP8PSvr97LcxLpd0/OS3yUXJft5yj6QjEfHFEftckO0n29vV+xz+z4LnmuZxKX29+oz8rriK9eozTYfSfC4W/dPceV7UC9CqpB9JelnSN/q27VDvp7zPSLqm7/5dyn7DRdJPSPonSc9m/55X0Jx/I+kTA/e9T9LD2e2L1fsp9EFJT6n3FEPRa/d3kg5LOpR9QFw4OFf2+rXq/VbEcyXNdVS95wIPZC9frnK9hr3/kj5x8vFU71veL2XbD6vvt6cKnOlX1Pu2+lDfOl07MNft2docVO+Hxr9cwlxDH5eq1ys775nqhfm9ffeVvl7qfSF5SdL/Zu36g1EdKuJzkT/RB4CGa9pTKwCAAYQcABqOkANAwxFyAGg4Qg4ADUfIAaDhCDkANNz/A9qsAeSBXSCZAAAAAElFTkSuQmCC\n",
          "text/plain": "<Figure size 432x288 with 1 Axes>"
         },
         "metadata": {
          "needs_background": "light"
         },
         "output_type": "display_data"
        }
       ]
      }
     },
     "3cb2a8dd5f534cf49b17757b7750585f": {
      "model_module": "@jupyter-widgets/controls",
      "model_module_version": "1.5.0",
      "model_name": "DropdownModel",
      "state": {
       "_options_labels": [
        "overall",
        "part"
       ],
       "description": "类型:",
       "index": 0,
       "layout": "IPY_MODEL_4d534360b4194932a5d6c6c5a65654fd",
       "style": "IPY_MODEL_ddb93aa4057142699381b01b5f2a1b5a"
      }
     },
     "413020cc720c4bbbb96d31f5142d929f": {
      "model_module": "@jupyter-widgets/controls",
      "model_module_version": "1.5.0",
      "model_name": "ButtonStyleModel",
      "state": {}
     },
     "41480cabdbde4816a8b46b46c5af370f": {
      "model_module": "@jupyter-widgets/base",
      "model_module_version": "1.2.0",
      "model_name": "LayoutModel",
      "state": {}
     },
     "4335a33b9ba742429558460cb4a0be00": {
      "model_module": "@jupyter-widgets/controls",
      "model_module_version": "1.5.0",
      "model_name": "VBoxModel",
      "state": {
       "_dom_classes": [
        "widget-interact"
       ],
       "children": [
        "IPY_MODEL_c6a293f362184f8aa0ed339ce09de302",
        "IPY_MODEL_83bccd7649a040be8b64e407449ff9b8",
        "IPY_MODEL_3cb248f8e7b94cb190e3aeb390f1f37a"
       ],
       "layout": "IPY_MODEL_c8d1335f8e984fb4903d9d4fa6acbbb1"
      }
     },
     "495643b16f30483db4b0952963d35e1b": {
      "model_module": "@jupyter-widgets/controls",
      "model_module_version": "1.5.0",
      "model_name": "TextareaModel",
      "state": {
       "description": "String:",
       "layout": "IPY_MODEL_6986c1fa1d1e4011bc1847d1337f825a",
       "placeholder": "Type something",
       "style": "IPY_MODEL_537be324166e47ceb497f6bdfa4dcc5e",
       "value": "Hello World"
      }
     },
     "4d534360b4194932a5d6c6c5a65654fd": {
      "model_module": "@jupyter-widgets/base",
      "model_module_version": "1.2.0",
      "model_name": "LayoutModel",
      "state": {}
     },
     "4e79d49b390f450eb43eb019b5227e24": {
      "model_module": "@jupyter-widgets/controls",
      "model_module_version": "1.5.0",
      "model_name": "FloatSliderModel",
      "state": {
       "description": "b",
       "layout": "IPY_MODEL_4faddae4942c4278a8a01a1b472ca514",
       "max": 3,
       "min": -3,
       "step": 0.5,
       "style": "IPY_MODEL_fec9b525083d4cef954ccd051a962f38"
      }
     },
     "4faddae4942c4278a8a01a1b472ca514": {
      "model_module": "@jupyter-widgets/base",
      "model_module_version": "1.2.0",
      "model_name": "LayoutModel",
      "state": {}
     },
     "5321f090ba3d40a6b5a9f39981845416": {
      "model_module": "@jupyter-widgets/controls",
      "model_module_version": "1.5.0",
      "model_name": "SliderStyleModel",
      "state": {
       "description_width": ""
      }
     },
     "537be324166e47ceb497f6bdfa4dcc5e": {
      "model_module": "@jupyter-widgets/controls",
      "model_module_version": "1.5.0",
      "model_name": "DescriptionStyleModel",
      "state": {
       "description_width": ""
      }
     },
     "5828304096d546e1adfeb48ccedaf86d": {
      "model_module": "@jupyter-widgets/base",
      "model_module_version": "1.2.0",
      "model_name": "LayoutModel",
      "state": {}
     },
     "5a1cb360e47649b9af0a5779a5350b75": {
      "model_module": "@jupyter-widgets/controls",
      "model_module_version": "1.5.0",
      "model_name": "VBoxModel",
      "state": {
       "_dom_classes": [
        "widget-interact"
       ],
       "children": [
        "IPY_MODEL_3cb2a8dd5f534cf49b17757b7750585f",
        "IPY_MODEL_5e3526b4606f48fe8899a2e8bd6fc6b2",
        "IPY_MODEL_6a0a34a89a804d738a995947a4a2d727"
       ],
       "layout": "IPY_MODEL_7e55bacf39274e1f9519b73da4e4055e"
      }
     },
     "5d1ecc3d611c4a6092b9dc1f4bdd8ad2": {
      "model_module": "@jupyter-widgets/controls",
      "model_module_version": "1.5.0",
      "model_name": "ProgressStyleModel",
      "state": {
       "description_width": ""
      }
     },
     "5e3526b4606f48fe8899a2e8bd6fc6b2": {
      "model_module": "@jupyter-widgets/controls",
      "model_module_version": "1.5.0",
      "model_name": "CheckboxModel",
      "state": {
       "description": "std",
       "disabled": false,
       "layout": "IPY_MODEL_9fcd4bd0b0eb415e94a2988ad4559c4a",
       "style": "IPY_MODEL_f58818cefea3463c8453de1b70e2f94b",
       "value": true
      }
     },
     "60d08f60d8b344bc862a69a937220887": {
      "model_module": "@jupyter-widgets/controls",
      "model_module_version": "1.5.0",
      "model_name": "FloatProgressModel",
      "state": {
       "bar_style": "info",
       "description": "Loading:",
       "layout": "IPY_MODEL_5828304096d546e1adfeb48ccedaf86d",
       "max": 10,
       "style": "IPY_MODEL_62253d05879e49eea4aab1ea69fe6564",
       "value": 7.5
      }
     },
     "62253d05879e49eea4aab1ea69fe6564": {
      "model_module": "@jupyter-widgets/controls",
      "model_module_version": "1.5.0",
      "model_name": "ProgressStyleModel",
      "state": {
       "description_width": ""
      }
     },
     "6986c1fa1d1e4011bc1847d1337f825a": {
      "model_module": "@jupyter-widgets/base",
      "model_module_version": "1.2.0",
      "model_name": "LayoutModel",
      "state": {}
     },
     "6a0a34a89a804d738a995947a4a2d727": {
      "model_module": "@jupyter-widgets/output",
      "model_module_version": "1.0.0",
      "model_name": "OutputModel",
      "state": {
       "layout": "IPY_MODEL_41480cabdbde4816a8b46b46c5af370f",
       "outputs": [
        {
         "ename": "NameError",
         "evalue": "name 'pd' is not defined",
         "output_type": "error",
         "traceback": [
          "\u001b[0;31m---------------------------------------------------------------------------\u001b[0m",
          "\u001b[0;31mNameError\u001b[0m                                 Traceback (most recent call last)",
          "File \u001b[0;32m~/anaconda3/envs/train/lib/python3.9/site-packages/ipywidgets/widgets/interaction.py:257\u001b[0m, in \u001b[0;36minteractive.update\u001b[0;34m(self, *args)\u001b[0m\n\u001b[1;32m    255\u001b[0m     value \u001b[38;5;241m=\u001b[39m widget\u001b[38;5;241m.\u001b[39mget_interact_value()\n\u001b[1;32m    256\u001b[0m     \u001b[38;5;28mself\u001b[39m\u001b[38;5;241m.\u001b[39mkwargs[widget\u001b[38;5;241m.\u001b[39m_kwarg] \u001b[38;5;241m=\u001b[39m value\n\u001b[0;32m--> 257\u001b[0m \u001b[38;5;28mself\u001b[39m\u001b[38;5;241m.\u001b[39mresult \u001b[38;5;241m=\u001b[39m \u001b[38;5;28;43mself\u001b[39;49m\u001b[38;5;241;43m.\u001b[39;49m\u001b[43mf\u001b[49m\u001b[43m(\u001b[49m\u001b[38;5;241;43m*\u001b[39;49m\u001b[38;5;241;43m*\u001b[39;49m\u001b[38;5;28;43mself\u001b[39;49m\u001b[38;5;241;43m.\u001b[39;49m\u001b[43mkwargs\u001b[49m\u001b[43m)\u001b[49m\n\u001b[1;32m    258\u001b[0m show_inline_matplotlib_plots()\n\u001b[1;32m    259\u001b[0m \u001b[38;5;28;01mif\u001b[39;00m \u001b[38;5;28mself\u001b[39m\u001b[38;5;241m.\u001b[39mauto_display \u001b[38;5;129;01mand\u001b[39;00m \u001b[38;5;28mself\u001b[39m\u001b[38;5;241m.\u001b[39mresult \u001b[38;5;129;01mis\u001b[39;00m \u001b[38;5;129;01mnot\u001b[39;00m \u001b[38;5;28;01mNone\u001b[39;00m:\n",
          "Input \u001b[0;32mIn [2]\u001b[0m, in \u001b[0;36mview\u001b[0;34m(down, std)\u001b[0m\n\u001b[1;32m      6\u001b[0m \u001b[38;5;28;01mdef\u001b[39;00m \u001b[38;5;21mview\u001b[39m(down,std):\n\u001b[0;32m----> 7\u001b[0m     df \u001b[38;5;241m=\u001b[39m \u001b[43mpd\u001b[49m\u001b[38;5;241m.\u001b[39mDataFrame(np\u001b[38;5;241m.\u001b[39mrandom\u001b[38;5;241m.\u001b[39mrandint(\u001b[38;5;241m0\u001b[39m,\u001b[38;5;241m100\u001b[39m,size\u001b[38;5;241m=\u001b[39m(\u001b[38;5;241m100\u001b[39m, \u001b[38;5;241m4\u001b[39m)), columns\u001b[38;5;241m=\u001b[39m\u001b[38;5;28mlist\u001b[39m(\u001b[38;5;124m'\u001b[39m\u001b[38;5;124mABCD\u001b[39m\u001b[38;5;124m'\u001b[39m))\n\u001b[1;32m      9\u001b[0m     \u001b[38;5;28;01mif\u001b[39;00m down \u001b[38;5;241m==\u001b[39m \u001b[38;5;124m'\u001b[39m\u001b[38;5;124moverall\u001b[39m\u001b[38;5;124m'\u001b[39m:\n\u001b[1;32m     10\u001b[0m         df \u001b[38;5;241m=\u001b[39mdf \n",
          "\u001b[0;31mNameError\u001b[0m: name 'pd' is not defined"
         ]
        }
       ]
      }
     },
     "6f411613797d43bda19d3144e30364cf": {
      "model_module": "@jupyter-widgets/controls",
      "model_module_version": "1.5.0",
      "model_name": "TextModel",
      "state": {
       "description": "String:",
       "layout": "IPY_MODEL_0127fa0411484c608f79769482152d20",
       "placeholder": "Type something",
       "style": "IPY_MODEL_17797c0eeea941a0ae12cde4f730722c",
       "value": "Hello World"
      }
     },
     "76065766dc744b8cb1dc706cd6e8b0b4": {
      "model_module": "@jupyter-widgets/controls",
      "model_module_version": "1.5.0",
      "model_name": "ButtonModel",
      "state": {
       "button_style": "success",
       "description": "Click me",
       "icon": "check",
       "layout": "IPY_MODEL_a3a147929e4d4526ac0f2653c9506e10",
       "style": "IPY_MODEL_413020cc720c4bbbb96d31f5142d929f",
       "tooltip": "Click me"
      }
     },
     "767ed40a7de34bc79f41b6b34bc6c631": {
      "model_module": "@jupyter-widgets/base",
      "model_module_version": "1.2.0",
      "model_name": "LayoutModel",
      "state": {}
     },
     "784f7ff5f010416f951dc751dbbe955a": {
      "model_module": "@jupyter-widgets/base",
      "model_module_version": "1.2.0",
      "model_name": "LayoutModel",
      "state": {}
     },
     "78b50cf3a8114c9292f994a109b33a2d": {
      "model_module": "@jupyter-widgets/controls",
      "model_module_version": "1.5.0",
      "model_name": "FloatSliderModel",
      "state": {
       "description": "m",
       "layout": "IPY_MODEL_0f9c4df29ef34f9699112af09b8093b9",
       "max": 2,
       "min": -2,
       "step": 0.1,
       "style": "IPY_MODEL_c1b6b432c1af46e1b8b86118376dda43"
      }
     },
     "7b35705ae8d949bbb8d1386f8b8f20f2": {
      "model_module": "@jupyter-widgets/controls",
      "model_module_version": "1.5.0",
      "model_name": "IntProgressModel",
      "state": {
       "description": "Loading:",
       "layout": "IPY_MODEL_fb7a5f8da9894bb998a3f0073ce1b051",
       "max": 10,
       "style": "IPY_MODEL_5d1ecc3d611c4a6092b9dc1f4bdd8ad2",
       "value": 7
      }
     },
     "7e55bacf39274e1f9519b73da4e4055e": {
      "model_module": "@jupyter-widgets/base",
      "model_module_version": "1.2.0",
      "model_name": "LayoutModel",
      "state": {}
     },
     "803ed9b78d524ac9a0496493d57d0003": {
      "model_module": "@jupyter-widgets/output",
      "model_module_version": "1.0.0",
      "model_name": "OutputModel",
      "state": {
       "layout": "IPY_MODEL_dab6b9b0e70746d9ab0dfb12ee338450",
       "outputs": [
        {
         "data": {
          "image/png": "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\n",
          "text/plain": "<Figure size 432x288 with 1 Axes>"
         },
         "metadata": {
          "needs_background": "light"
         },
         "output_type": "display_data"
        }
       ]
      }
     },
     "83bccd7649a040be8b64e407449ff9b8": {
      "model_module": "@jupyter-widgets/controls",
      "model_module_version": "1.5.0",
      "model_name": "FloatSliderModel",
      "state": {
       "description": "b",
       "layout": "IPY_MODEL_784f7ff5f010416f951dc751dbbe955a",
       "max": 3,
       "min": -3,
       "step": 0.5,
       "style": "IPY_MODEL_f5fc827e26a44930988fe28bdbf43efe"
      }
     },
     "862a4e98c86149e4837c6de3d471b8fb": {
      "model_module": "@jupyter-widgets/controls",
      "model_module_version": "1.5.0",
      "model_name": "DescriptionStyleModel",
      "state": {
       "description_width": ""
      }
     },
     "9fcd4bd0b0eb415e94a2988ad4559c4a": {
      "model_module": "@jupyter-widgets/base",
      "model_module_version": "1.2.0",
      "model_name": "LayoutModel",
      "state": {}
     },
     "a3a147929e4d4526ac0f2653c9506e10": {
      "model_module": "@jupyter-widgets/base",
      "model_module_version": "1.2.0",
      "model_name": "LayoutModel",
      "state": {}
     },
     "c1b6b432c1af46e1b8b86118376dda43": {
      "model_module": "@jupyter-widgets/controls",
      "model_module_version": "1.5.0",
      "model_name": "SliderStyleModel",
      "state": {
       "description_width": ""
      }
     },
     "c6a293f362184f8aa0ed339ce09de302": {
      "model_module": "@jupyter-widgets/controls",
      "model_module_version": "1.5.0",
      "model_name": "FloatSliderModel",
      "state": {
       "description": "m",
       "layout": "IPY_MODEL_facf8ac34b4743b8af703f7f9cd4dbf3",
       "max": 2,
       "min": -2,
       "step": 0.1,
       "style": "IPY_MODEL_e7e1b928fcd54656aed40c1ca51e82c4",
       "value": 0.7
      }
     },
     "c875a49ae6bb4f169c5405e671428c00": {
      "model_module": "@jupyter-widgets/controls",
      "model_module_version": "1.5.0",
      "model_name": "VBoxModel",
      "state": {
       "_dom_classes": [
        "widget-interact"
       ],
       "children": [
        "IPY_MODEL_78b50cf3a8114c9292f994a109b33a2d",
        "IPY_MODEL_4e79d49b390f450eb43eb019b5227e24",
        "IPY_MODEL_803ed9b78d524ac9a0496493d57d0003"
       ],
       "layout": "IPY_MODEL_767ed40a7de34bc79f41b6b34bc6c631"
      }
     },
     "c8d1335f8e984fb4903d9d4fa6acbbb1": {
      "model_module": "@jupyter-widgets/base",
      "model_module_version": "1.2.0",
      "model_name": "LayoutModel",
      "state": {}
     },
     "d17c7f5b2677480dafac7e0ba98d83b0": {
      "model_module": "@jupyter-widgets/base",
      "model_module_version": "1.2.0",
      "model_name": "LayoutModel",
      "state": {}
     },
     "dab6b9b0e70746d9ab0dfb12ee338450": {
      "model_module": "@jupyter-widgets/base",
      "model_module_version": "1.2.0",
      "model_name": "LayoutModel",
      "state": {}
     },
     "ddb93aa4057142699381b01b5f2a1b5a": {
      "model_module": "@jupyter-widgets/controls",
      "model_module_version": "1.5.0",
      "model_name": "DescriptionStyleModel",
      "state": {
       "description_width": ""
      }
     },
     "e3ef3007632940f38b1fb5ca5d99ed7b": {
      "model_module": "@jupyter-widgets/base",
      "model_module_version": "1.2.0",
      "model_name": "LayoutModel",
      "state": {}
     },
     "e7e1b928fcd54656aed40c1ca51e82c4": {
      "model_module": "@jupyter-widgets/controls",
      "model_module_version": "1.5.0",
      "model_name": "SliderStyleModel",
      "state": {
       "description_width": ""
      }
     },
     "f58818cefea3463c8453de1b70e2f94b": {
      "model_module": "@jupyter-widgets/controls",
      "model_module_version": "1.5.0",
      "model_name": "DescriptionStyleModel",
      "state": {
       "description_width": ""
      }
     },
     "f5fc827e26a44930988fe28bdbf43efe": {
      "model_module": "@jupyter-widgets/controls",
      "model_module_version": "1.5.0",
      "model_name": "SliderStyleModel",
      "state": {
       "description_width": ""
      }
     },
     "facf8ac34b4743b8af703f7f9cd4dbf3": {
      "model_module": "@jupyter-widgets/base",
      "model_module_version": "1.2.0",
      "model_name": "LayoutModel",
      "state": {}
     },
     "fb7a5f8da9894bb998a3f0073ce1b051": {
      "model_module": "@jupyter-widgets/base",
      "model_module_version": "1.2.0",
      "model_name": "LayoutModel",
      "state": {}
     },
     "fec9b525083d4cef954ccd051a962f38": {
      "model_module": "@jupyter-widgets/controls",
      "model_module_version": "1.5.0",
      "model_name": "SliderStyleModel",
      "state": {
       "description_width": ""
      }
     }
    },
    "version_major": 2,
    "version_minor": 0
   }
  }
 },
 "nbformat": 4,
 "nbformat_minor": 5
}
