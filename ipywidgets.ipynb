{
 "cells": [
  {
   "cell_type": "markdown",
   "id": "b30cf8d8",
   "metadata": {},
   "source": [
    "# 小例子"
   ]
  },
  {
   "cell_type": "markdown",
   "id": "159514aa",
   "metadata": {},
   "source": [
    "refs:\n",
    "\n",
    "    https://blog.csdn.net/sinat_26917383/article/details/84345407\n",
    "    "
   ]
  },
  {
   "cell_type": "code",
   "execution_count": 1,
   "id": "53d09b6b",
   "metadata": {
    "ExecuteTime": {
     "end_time": "2021-07-14T02:01:27.648561Z",
     "start_time": "2021-07-14T02:01:27.645715Z"
    }
   },
   "outputs": [],
   "source": [
    "from ipywidgets import interact, widgets"
   ]
  },
  {
   "cell_type": "markdown",
   "id": "bd6c4cb8",
   "metadata": {},
   "source": [
    "## 基础组件"
   ]
  },
  {
   "cell_type": "markdown",
   "id": "da0879c7",
   "metadata": {},
   "source": [
    "### button 按钮"
   ]
  },
  {
   "cell_type": "code",
   "execution_count": 6,
   "id": "ecf03967",
   "metadata": {
    "ExecuteTime": {
     "end_time": "2021-07-14T02:11:18.545625Z",
     "start_time": "2021-07-14T02:11:18.526224Z"
    }
   },
   "outputs": [
    {
     "data": {
      "application/vnd.jupyter.widget-view+json": {
       "model_id": "e6abfdeb8e6c43ffadb03230ccf32e3d",
       "version_major": 2,
       "version_minor": 0
      },
      "text/plain": [
       "Button(button_style='info', description='Click me', icon='check', style=ButtonStyle(), tooltip='Click me')"
      ]
     },
     "metadata": {},
     "output_type": "display_data"
    }
   ],
   "source": [
    "widgets.Button(\n",
    "    description='Click me',\n",
    "    disabled=False,\n",
    "    button_style='success', # 'success', 'info', 'warning', 'danger' or ''\n",
    "    tooltip='Click me',\n",
    "    icon='check'\n",
    ")\n",
    "\n",
    "# 调整按钮\n",
    "#from ipywidgets import Button, Layout\n",
    "\n",
    "#b = Button(description='(50% width, 80px height) button',\n",
    "#           layout=Layout(width='50%', height='80px'),\n",
    "#          button_style='success')\n",
    "#b"
   ]
  },
  {
   "cell_type": "markdown",
   "id": "124e7844",
   "metadata": {},
   "source": [
    "### IntSlider、FloatSlider"
   ]
  },
  {
   "cell_type": "markdown",
   "id": "484d1eeb",
   "metadata": {
    "ExecuteTime": {
     "end_time": "2021-07-14T02:12:56.774342Z",
     "start_time": "2021-07-14T02:12:56.760270Z"
    }
   },
   "source": [
    "一个整数型滑块，一个数值型滑块。"
   ]
  },
  {
   "cell_type": "code",
   "execution_count": 7,
   "id": "efe7d813",
   "metadata": {
    "ExecuteTime": {
     "end_time": "2021-07-14T02:12:28.768245Z",
     "start_time": "2021-07-14T02:12:28.712750Z"
    }
   },
   "outputs": [
    {
     "data": {
      "application/vnd.jupyter.widget-view+json": {
       "model_id": "2afa56d6c2ab4e3ea8c1ddc1c03b80c8",
       "version_major": 2,
       "version_minor": 0
      },
      "text/plain": [
       "FloatSlider(value=7.5, continuous_update=False, description='Test:', max=10.0, readout_format='.1f')"
      ]
     },
     "metadata": {},
     "output_type": "display_data"
    }
   ],
   "source": [
    "widgets.FloatSlider(\n",
    "    value=7.5,\n",
    "    min=0,\n",
    "    max=10.0,\n",
    "    step=0.1,\n",
    "    description='Test:',\n",
    "    disabled=False,\n",
    "    continuous_update=False,\n",
    "    orientation='horizontal',\n",
    "    readout=True,\n",
    "    readout_format='.1f',\n",
    ")"
   ]
  },
  {
   "cell_type": "markdown",
   "id": "a40add56",
   "metadata": {},
   "source": [
    "### FloatProgress / IntProgress"
   ]
  },
  {
   "cell_type": "code",
   "execution_count": 9,
   "id": "208e9e0f",
   "metadata": {
    "ExecuteTime": {
     "end_time": "2021-07-14T02:13:42.179163Z",
     "start_time": "2021-07-14T02:13:42.141133Z"
    }
   },
   "outputs": [
    {
     "data": {
      "application/vnd.jupyter.widget-view+json": {
       "model_id": "10a1dd685fae47ceac2af16100511be7",
       "version_major": 2,
       "version_minor": 0
      },
      "text/plain": [
       "FloatProgress(value=7.5, bar_style='info', description='Loading:', max=10.0)"
      ]
     },
     "metadata": {},
     "output_type": "display_data"
    }
   ],
   "source": [
    "widgets.IntProgress(\n",
    "    value=7,\n",
    "    min=0,\n",
    "    max=10,\n",
    "    step=1,\n",
    "    description='Loading:',\n",
    "    bar_style='', # 'success', 'info', 'warning', 'danger' or ''\n",
    "    orientation='horizontal'\n",
    ")\n",
    "\n",
    "widgets.FloatProgress(\n",
    "    value=7.5,\n",
    "    min=0,\n",
    "    max=10.0,\n",
    "    step=0.1,\n",
    "    description='Loading:',\n",
    "    bar_style='info',\n",
    "    orientation='horizontal'\n",
    ")"
   ]
  },
  {
   "cell_type": "markdown",
   "id": "0e60f6a6",
   "metadata": {},
   "source": [
    "### Text、Textarea"
   ]
  },
  {
   "cell_type": "markdown",
   "id": "d1df3964",
   "metadata": {},
   "source": [
    "一般来说，textarea比text更好用，模块是可伸缩的。"
   ]
  },
  {
   "cell_type": "code",
   "execution_count": 10,
   "id": "2fbedb0c",
   "metadata": {
    "ExecuteTime": {
     "end_time": "2021-07-14T02:14:17.402098Z",
     "start_time": "2021-07-14T02:14:17.325671Z"
    }
   },
   "outputs": [
    {
     "data": {
      "application/vnd.jupyter.widget-view+json": {
       "model_id": "d73654b8993547708c579e7c9a3037fa",
       "version_major": 2,
       "version_minor": 0
      },
      "text/plain": [
       "Textarea(value='Hello World', description='String:', placeholder='Type something')"
      ]
     },
     "metadata": {},
     "output_type": "display_data"
    }
   ],
   "source": [
    "widgets.Text(\n",
    "    value='Hello World',\n",
    "    placeholder='Type something',\n",
    "    description='String:',\n",
    "    disabled=False\n",
    ")\n",
    "\n",
    "\n",
    "widgets.Textarea(\n",
    "    value='Hello World',\n",
    "    placeholder='Type something',\n",
    "    description='String:',\n",
    "    disabled=False\n",
    ")"
   ]
  },
  {
   "cell_type": "markdown",
   "id": "5defd246",
   "metadata": {},
   "source": [
    "### 图片Image"
   ]
  },
  {
   "cell_type": "code",
   "execution_count": 11,
   "id": "0b70b965",
   "metadata": {
    "ExecuteTime": {
     "end_time": "2021-07-14T02:15:26.402514Z",
     "start_time": "2021-07-14T02:15:26.374484Z"
    }
   },
   "outputs": [
    {
     "ename": "FileNotFoundError",
     "evalue": "[Errno 2] No such file or directory: 'images/WidgetArch.png'",
     "output_type": "error",
     "traceback": [
      "\u001b[0;31m---------------------------------------------------------------------------\u001b[0m",
      "\u001b[0;31mFileNotFoundError\u001b[0m                         Traceback (most recent call last)",
      "\u001b[0;32m<ipython-input-11-75c3c7cca405>\u001b[0m in \u001b[0;36m<module>\u001b[0;34m\u001b[0m\n\u001b[0;32m----> 1\u001b[0;31m \u001b[0mfile\u001b[0m \u001b[0;34m=\u001b[0m \u001b[0mopen\u001b[0m\u001b[0;34m(\u001b[0m\u001b[0;34m\"images/WidgetArch.png\"\u001b[0m\u001b[0;34m,\u001b[0m \u001b[0;34m\"rb\"\u001b[0m\u001b[0;34m)\u001b[0m\u001b[0;34m\u001b[0m\u001b[0;34m\u001b[0m\u001b[0m\n\u001b[0m\u001b[1;32m      2\u001b[0m \u001b[0mimage\u001b[0m \u001b[0;34m=\u001b[0m \u001b[0mfile\u001b[0m\u001b[0;34m.\u001b[0m\u001b[0mread\u001b[0m\u001b[0;34m(\u001b[0m\u001b[0;34m)\u001b[0m\u001b[0;34m\u001b[0m\u001b[0;34m\u001b[0m\u001b[0m\n\u001b[1;32m      3\u001b[0m widgets.Image(\n\u001b[1;32m      4\u001b[0m     \u001b[0mvalue\u001b[0m\u001b[0;34m=\u001b[0m\u001b[0mimage\u001b[0m\u001b[0;34m,\u001b[0m\u001b[0;34m\u001b[0m\u001b[0;34m\u001b[0m\u001b[0m\n\u001b[1;32m      5\u001b[0m     \u001b[0mformat\u001b[0m\u001b[0;34m=\u001b[0m\u001b[0;34m'png'\u001b[0m\u001b[0;34m,\u001b[0m\u001b[0;34m\u001b[0m\u001b[0;34m\u001b[0m\u001b[0m\n",
      "\u001b[0;31mFileNotFoundError\u001b[0m: [Errno 2] No such file or directory: 'images/WidgetArch.png'"
     ]
    }
   ],
   "source": [
    "file = open(\"images/WidgetArch.png\", \"rb\")\n",
    "image = file.read()\n",
    "widgets.Image(\n",
    "    value=image,\n",
    "    format='png',\n",
    "    width=300,\n",
    "    height=400,\n",
    ")"
   ]
  },
  {
   "cell_type": "markdown",
   "id": "ac744bdb",
   "metadata": {},
   "source": [
    "## 单控件 - interact 简单交互"
   ]
  },
  {
   "cell_type": "markdown",
   "id": "61dc729f",
   "metadata": {},
   "source": [
    "interact代表交互，第一个f代表函数，segx与opt都代表f函数的参数。\n",
    "\n",
    "segx代表滑条\n",
    "opt = True/False代表选项框\n",
    "\n",
    "注意interact，相当于给函数f赋值，除了第一个，之后的参数都是第一个函数的参数，名字需对齐。"
   ]
  },
  {
   "cell_type": "code",
   "execution_count": 12,
   "id": "1430361a",
   "metadata": {
    "ExecuteTime": {
     "end_time": "2021-07-14T02:17:19.064773Z",
     "start_time": "2021-07-14T02:17:18.946091Z"
    }
   },
   "outputs": [
    {
     "data": {
      "application/vnd.jupyter.widget-view+json": {
       "model_id": "573c6c780509467abef0fd4e7c062e80",
       "version_major": 2,
       "version_minor": 0
      },
      "text/plain": [
       "interactive(children=(IntSlider(value=10, description='segx', max=30, min=-10), Checkbox(value=True, descripti…"
      ]
     },
     "metadata": {},
     "output_type": "display_data"
    },
    {
     "data": {
      "text/plain": [
       "<function __main__.f(segx, opt)>"
      ]
     },
     "execution_count": 12,
     "metadata": {},
     "output_type": "execute_result"
    }
   ],
   "source": [
    "from __future__ import print_function\n",
    "from ipywidgets import interact, interactive, fixed, interact_manual\n",
    "import ipywidgets as widgets\n",
    "\n",
    "def f(segx,opt):\n",
    "    if opt:\n",
    "        return segx\n",
    "    else:\n",
    "        return 1\n",
    "interact(f, segx=10, opt = True)"
   ]
  },
  {
   "cell_type": "markdown",
   "id": "f91a74cd",
   "metadata": {},
   "source": [
    "## 单控件 - interact_manual简单交互"
   ]
  },
  {
   "cell_type": "code",
   "execution_count": 13,
   "id": "e1ea6ada",
   "metadata": {
    "ExecuteTime": {
     "end_time": "2021-07-14T02:21:21.067121Z",
     "start_time": "2021-07-14T02:21:21.001795Z"
    }
   },
   "outputs": [
    {
     "data": {
      "application/vnd.jupyter.widget-view+json": {
       "model_id": "e6269642fe564ef1be332afcb1bfbc60",
       "version_major": 2,
       "version_minor": 0
      },
      "text/plain": [
       "interactive(children=(FloatSlider(value=100000.0, description='i', max=10000000.0, min=100000.0, step=100000.0…"
      ]
     },
     "metadata": {},
     "output_type": "display_data"
    }
   ],
   "source": [
    "from ipywidgets import FloatSlider\n",
    "# 横轴进度可以拖拽\n",
    "def slow_function(i):\n",
    "    print(int(i),list(x for x in range(int(i)) if\n",
    "                str(x)==str(x)[::-1] and\n",
    "                str(x**2)==str(x**2)[::-1]))\n",
    "    return\n",
    "\n",
    "interact_manual(slow_function,i=FloatSlider(min=1e5, max=1e7, step=1e5));"
   ]
  },
  {
   "cell_type": "markdown",
   "id": "30d7f88b",
   "metadata": {
    "solution": "hidden",
    "solution_first": true
   },
   "source": [
    "FloatSlider表示拖拽滑块，interact_manual(函数，函数参数)，此时函数参数是由拖拽滑块FloatSlider来确定。\n",
    "\n",
    "<span class=\"burk\">与interact的区别</span>：\n",
    "interact是实时改变，interact_manual是人工点击RUN才能执行一次。"
   ]
  },
  {
   "cell_type": "markdown",
   "id": "7940c10c",
   "metadata": {},
   "source": [
    "## 单控件 - interactive_output + HBox交互"
   ]
  },
  {
   "cell_type": "code",
   "execution_count": 14,
   "id": "b2dc136f",
   "metadata": {
    "ExecuteTime": {
     "end_time": "2021-07-14T02:23:26.166282Z",
     "start_time": "2021-07-14T02:23:26.069835Z"
    }
   },
   "outputs": [
    {
     "data": {
      "application/vnd.jupyter.widget-view+json": {
       "model_id": "506cb4a2bbc54146ba8daa47684b8d9d",
       "version_major": 2,
       "version_minor": 0
      },
      "text/plain": [
       "HBox(children=(IntSlider(value=0), IntSlider(value=0), IntSlider(value=0)))"
      ]
     },
     "metadata": {},
     "output_type": "display_data"
    },
    {
     "data": {
      "application/vnd.jupyter.widget-view+json": {
       "model_id": "9e0d95b345674a0ca0f5b482d75ec876",
       "version_major": 2,
       "version_minor": 0
      },
      "text/plain": [
       "Output()"
      ]
     },
     "metadata": {},
     "output_type": "display_data"
    }
   ],
   "source": [
    "from IPython.display import display, HTML\n",
    "a = widgets.IntSlider()\n",
    "b = widgets.IntSlider()\n",
    "c = widgets.IntSlider()\n",
    "ui = widgets.HBox([a, b, c])\n",
    "\n",
    "def f(a, b, c):\n",
    "    print((a, b, c))\n",
    "\n",
    "out = widgets.interactive_output(f, {'a': a, 'b': b, 'c': c})\n",
    "\n",
    "display(ui, out)"
   ]
  },
  {
   "cell_type": "markdown",
   "id": "8e752fc9",
   "metadata": {},
   "source": [
    "a,b,c是三个滑块，通过widgets.HBox进行拼接成为一个Box组件。\n",
    "\n",
    "interactive_output（函数，函数参数），函数参数是一个组合Box组件。\n",
    "\n",
    "display是展示滑块组合以及输出项。"
   ]
  },
  {
   "cell_type": "markdown",
   "id": "7fcc7bdd",
   "metadata": {},
   "source": [
    "## 单控件 - 文本交互"
   ]
  },
  {
   "cell_type": "markdown",
   "id": "06c3c477",
   "metadata": {},
   "source": [
    "Textarea是一个比较长的文本框作为输入项。"
   ]
  },
  {
   "cell_type": "code",
   "execution_count": 15,
   "id": "d844aed3",
   "metadata": {
    "ExecuteTime": {
     "end_time": "2021-07-14T02:24:50.147161Z",
     "start_time": "2021-07-14T02:24:50.100024Z"
    }
   },
   "outputs": [
    {
     "data": {
      "application/vnd.jupyter.widget-view+json": {
       "model_id": "4f9ff78bee3046fdad421aa358a67ac9",
       "version_major": 2,
       "version_minor": 0
      },
      "text/plain": [
       "Textarea(value='Hello World', description='String:', placeholder='Type something')"
      ]
     },
     "metadata": {},
     "output_type": "display_data"
    }
   ],
   "source": [
    "widgets.Textarea(\n",
    "    value='Hello World',          # 默认语句\n",
    "    placeholder='Type something',\n",
    "    description='String:',        # 框的名字\n",
    "    disabled=False                # 是否可修改\n",
    ")"
   ]
  },
  {
   "cell_type": "markdown",
   "id": "945eb8b0",
   "metadata": {},
   "source": [
    "## 两个控件 - 组合交互jslink"
   ]
  },
  {
   "cell_type": "code",
   "execution_count": 16,
   "id": "b89de569",
   "metadata": {
    "ExecuteTime": {
     "end_time": "2021-07-14T02:25:54.453275Z",
     "start_time": "2021-07-14T02:25:54.426194Z"
    }
   },
   "outputs": [
    {
     "data": {
      "application/vnd.jupyter.widget-view+json": {
       "model_id": "cbb8d13aa96049369bb7fda5a59870d9",
       "version_major": 2,
       "version_minor": 0
      },
      "text/plain": [
       "FloatText(value=0.0)"
      ]
     },
     "metadata": {},
     "output_type": "display_data"
    },
    {
     "data": {
      "application/vnd.jupyter.widget-view+json": {
       "model_id": "9b1a706c08da48d48f78d5f31fee008d",
       "version_major": 2,
       "version_minor": 0
      },
      "text/plain": [
       "FloatSlider(value=0.0)"
      ]
     },
     "metadata": {},
     "output_type": "display_data"
    }
   ],
   "source": [
    "# jslink\n",
    "# 两个控件的交互\n",
    "a = widgets.FloatText()\n",
    "b = widgets.FloatSlider()\n",
    "display(a,b)\n",
    "\n",
    "mylink = widgets.jslink((a, 'value'), (b, 'value'))"
   ]
  },
  {
   "cell_type": "markdown",
   "id": "b3adfd3c",
   "metadata": {},
   "source": [
    "jslink把控件a,b组合起来，a是文本控件，b是数值控件。"
   ]
  },
  {
   "cell_type": "markdown",
   "id": "d00819f2",
   "metadata": {},
   "source": [
    "## 多模块\n",
    "### 控件独立分屏Accordion"
   ]
  },
  {
   "cell_type": "code",
   "execution_count": 18,
   "id": "9f2aa88a",
   "metadata": {
    "ExecuteTime": {
     "end_time": "2021-07-14T02:27:28.197097Z",
     "start_time": "2021-07-14T02:27:28.151798Z"
    }
   },
   "outputs": [
    {
     "data": {
      "application/vnd.jupyter.widget-view+json": {
       "model_id": "7e56a1fc86d8476ba1fa78757116136c",
       "version_major": 2,
       "version_minor": 0
      },
      "text/plain": [
       "Accordion(children=(Text(value=''), Text(value='')), _titles={'0': 'Text1', '1': 'Text2'})"
      ]
     },
     "metadata": {},
     "output_type": "display_data"
    }
   ],
   "source": [
    "accordion = widgets.Accordion(children=[widgets.Text(), widgets.Text()])\n",
    "accordion.set_title(0, 'Text1')\n",
    "accordion.set_title(1, 'Text2')\n",
    "accordion"
   ]
  },
  {
   "cell_type": "markdown",
   "id": "ad5559ac",
   "metadata": {},
   "source": [
    "可以把两个组件独立的链接在一起，而不是如jslink交互影响。"
   ]
  },
  {
   "cell_type": "markdown",
   "id": "bf016ac6",
   "metadata": {},
   "source": [
    "### 双模块分屏 + 选项分屏"
   ]
  },
  {
   "cell_type": "code",
   "execution_count": 20,
   "id": "b62db7d1",
   "metadata": {
    "ExecuteTime": {
     "end_time": "2021-07-14T02:29:50.627363Z",
     "start_time": "2021-07-14T02:29:50.511812Z"
    }
   },
   "outputs": [
    {
     "data": {
      "application/vnd.jupyter.widget-view+json": {
       "model_id": "c3c39f7c1ade4b51872c8d052fb3971f",
       "version_major": 2,
       "version_minor": 0
      },
      "text/plain": [
       "Tab(children=(Text(value='', description='P0'), Text(value='', description='P1'), Text(value='', description='…"
      ]
     },
     "metadata": {},
     "output_type": "display_data"
    }
   ],
   "source": [
    "# 选项分屏\n",
    "tab_contents = ['P0', 'P1', 'P2', 'P3', 'P4']\n",
    "children = [widgets.Text(description=name) for name in tab_contents]\n",
    "tab = widgets.Tab()\n",
    "tab.children = children\n",
    "for i in range(len(children)):\n",
    "    tab.set_title(i, str(i))\n",
    "tab"
   ]
  },
  {
   "cell_type": "markdown",
   "id": "ae507c32",
   "metadata": {
    "ExecuteTime": {
     "end_time": "2021-07-14T02:30:21.512482Z",
     "start_time": "2021-07-14T02:30:21.505322Z"
    }
   },
   "source": [
    "### 双模块分屏 + 选项分屏"
   ]
  },
  {
   "cell_type": "code",
   "execution_count": 22,
   "id": "98999fc5",
   "metadata": {
    "ExecuteTime": {
     "end_time": "2021-07-14T02:30:33.696794Z",
     "start_time": "2021-07-14T02:30:33.626475Z"
    }
   },
   "outputs": [
    {
     "data": {
      "application/vnd.jupyter.widget-view+json": {
       "model_id": "b826787827cf41299089b3fc9f4d9dc3",
       "version_major": 2,
       "version_minor": 0
      },
      "text/plain": [
       "Tab(children=(Accordion(children=(Text(value=''), Text(value='')), _titles={'0': 'Text1', '1': 'Text2'}), Acco…"
      ]
     },
     "metadata": {},
     "output_type": "display_data"
    }
   ],
   "source": [
    "tab_nest = widgets.Tab()\n",
    "tab_nest.children = [accordion, accordion]\n",
    "tab_nest.set_title(0, 'An accordion')\n",
    "tab_nest.set_title(1, 'Copy of the accordion')\n",
    "tab_nest"
   ]
  },
  {
   "cell_type": "markdown",
   "id": "734752b5",
   "metadata": {},
   "source": [
    "多个控件组合独立分开"
   ]
  },
  {
   "cell_type": "code",
   "execution_count": null,
   "id": "34dea2f7",
   "metadata": {},
   "outputs": [],
   "source": []
  },
  {
   "cell_type": "code",
   "execution_count": null,
   "id": "d226f879",
   "metadata": {},
   "outputs": [],
   "source": []
  },
  {
   "cell_type": "code",
   "execution_count": null,
   "id": "6388d9bf",
   "metadata": {},
   "outputs": [],
   "source": []
  },
  {
   "cell_type": "markdown",
   "id": "d61b86fe",
   "metadata": {},
   "source": [
    "## 小案例"
   ]
  },
  {
   "cell_type": "markdown",
   "id": "3d9cc00a",
   "metadata": {
    "ExecuteTime": {
     "end_time": "2021-07-14T02:31:27.060925Z",
     "start_time": "2021-07-14T02:31:27.057745Z"
    }
   },
   "source": [
    "### 图形 + 滑块"
   ]
  },
  {
   "cell_type": "markdown",
   "id": "76b93dbb",
   "metadata": {},
   "source": [
    "#### 案例一"
   ]
  },
  {
   "cell_type": "code",
   "execution_count": 24,
   "id": "798ec677",
   "metadata": {
    "ExecuteTime": {
     "end_time": "2021-07-14T02:31:41.401577Z",
     "start_time": "2021-07-14T02:31:41.002730Z"
    }
   },
   "outputs": [
    {
     "data": {
      "application/vnd.jupyter.widget-view+json": {
       "model_id": "f784f58d7777478bb931f73b91694695",
       "version_major": 2,
       "version_minor": 0
      },
      "text/plain": [
       "interactive(children=(FloatSlider(value=0.0, description='m', max=2.0, min=-2.0), FloatSlider(value=0.0, descr…"
      ]
     },
     "metadata": {},
     "output_type": "display_data"
    }
   ],
   "source": [
    "%matplotlib inline\n",
    "from ipywidgets import interactive\n",
    "import matplotlib.pyplot as plt\n",
    "import numpy as np\n",
    "\n",
    "def f(m, b):\n",
    "    plt.figure(2)\n",
    "    x = np.linspace(-10, 10, num=1000)\n",
    "    plt.plot(x, m * x + b)\n",
    "    plt.ylim(-5, 5)\n",
    "    plt.show()\n",
    "\n",
    "interactive_plot = interactive(f, m=(-2.0, 2.0), b=(-3, 3, 0.5))     \n",
    "# m代表范围\n",
    "output = interactive_plot.children[-1]\n",
    "output.layout.height = '350px'\n",
    "interactive_plot"
   ]
  },
  {
   "cell_type": "markdown",
   "id": "29dc5f4f",
   "metadata": {},
   "source": [
    "### 案例二"
   ]
  },
  {
   "cell_type": "markdown",
   "id": "e14901c6",
   "metadata": {},
   "source": [
    "interact_manual是单控件函数交互，此时通过装饰器，interact_manual（函数，函数参数）中的函数被隐去。"
   ]
  },
  {
   "cell_type": "code",
   "execution_count": 26,
   "id": "c489e31d",
   "metadata": {
    "ExecuteTime": {
     "end_time": "2021-07-14T02:34:59.738460Z",
     "start_time": "2021-07-14T02:34:59.668511Z"
    }
   },
   "outputs": [
    {
     "data": {
      "application/vnd.jupyter.widget-view+json": {
       "model_id": "0f03c4b38bb84c0e8c4cb387870e4148",
       "version_major": 2,
       "version_minor": 0
      },
      "text/plain": [
       "interactive(children=(FloatSlider(value=1.0, description='freq', max=3.0, min=-1.0), Dropdown(description='col…"
      ]
     },
     "metadata": {},
     "output_type": "display_data"
    }
   ],
   "source": [
    "@widgets.interact_manual(\n",
    "    color=['blue', 'red', 'green'], lw=(1., 10.))\n",
    "def plot(freq=1., color='blue', lw=2, grid=True):\n",
    "    t = np.linspace(-1., +1., 1000)\n",
    "    fig, ax = plt.subplots(1, 1, figsize=(8, 6))\n",
    "    ax.plot(t, np.sin(2 * np.pi * freq * t),\n",
    "            lw=lw, color=color)\n",
    "    ax.grid(grid)"
   ]
  },
  {
   "cell_type": "markdown",
   "id": "0dd7e502",
   "metadata": {},
   "source": [
    "### 一个可控的进度读条"
   ]
  },
  {
   "cell_type": "markdown",
   "id": "036cac47",
   "metadata": {},
   "source": [
    "Play是一个控制按钮，FloatProgress是一个数值进度条。\n",
    "通过jslink将两个空间链接，点击按钮就Loading就可以开始走动。"
   ]
  },
  {
   "cell_type": "code",
   "execution_count": 27,
   "id": "9029f97a",
   "metadata": {
    "ExecuteTime": {
     "end_time": "2021-07-14T02:36:06.486438Z",
     "start_time": "2021-07-14T02:36:06.389876Z"
    }
   },
   "outputs": [
    {
     "data": {
      "application/vnd.jupyter.widget-view+json": {
       "model_id": "70067490dc4745fb81bbe851615f8bce",
       "version_major": 2,
       "version_minor": 0
      },
      "text/plain": [
       "HBox(children=(Play(value=0, description='Press play'), FloatProgress(value=50.0, bar_style='success', descrip…"
      ]
     },
     "metadata": {},
     "output_type": "display_data"
    }
   ],
   "source": [
    "# 一个可控的进度条\n",
    "play = widgets.Play(\n",
    "#     interval=10,\n",
    "    value=0,\n",
    "    min=0,\n",
    "    max=100,\n",
    "    step=1,\n",
    "    description=\"Press play\",\n",
    "    disabled=False\n",
    ")\n",
    "#slider = widgets.IntSlider()\n",
    "slider = widgets.FloatProgress(\n",
    "    value=50,\n",
    "    min=0,\n",
    "    max=100.0,\n",
    "    step=1,\n",
    "    description='Loading:',\n",
    "    bar_style='success',\n",
    "    orientation='horizontal'\n",
    ")\n",
    "\n",
    "widgets.jslink((play, 'value'), (slider, 'value'))\n",
    "widgets.HBox([play, slider])"
   ]
  },
  {
   "cell_type": "markdown",
   "id": "24f83484",
   "metadata": {},
   "source": [
    "### 颜色筛选器"
   ]
  },
  {
   "cell_type": "code",
   "execution_count": 36,
   "id": "fd9416a4",
   "metadata": {
    "ExecuteTime": {
     "end_time": "2021-07-14T02:38:48.942018Z",
     "start_time": "2021-07-14T02:38:48.929281Z"
    }
   },
   "outputs": [
    {
     "data": {
      "application/vnd.jupyter.widget-view+json": {
       "model_id": "a3c248d3d777401aa20c54a0bb3b64df",
       "version_major": 2,
       "version_minor": 0
      },
      "text/plain": [
       "ColorPicker(value='blue', description='Pick a color')"
      ]
     },
     "metadata": {},
     "output_type": "display_data"
    }
   ],
   "source": [
    "# 颜色选择器\n",
    "widgets.ColorPicker(\n",
    "    concise=False,\n",
    "    description='Pick a color',\n",
    "    value='blue',\n",
    "    disabled=False\n",
    ")"
   ]
  },
  {
   "cell_type": "markdown",
   "id": "85c10b16",
   "metadata": {
    "ExecuteTime": {
     "end_time": "2021-07-14T02:39:11.876562Z",
     "start_time": "2021-07-14T02:39:11.870952Z"
    }
   },
   "source": [
    "### 复杂输入框"
   ]
  },
  {
   "cell_type": "code",
   "execution_count": 38,
   "id": "22b80840",
   "metadata": {
    "ExecuteTime": {
     "end_time": "2021-07-14T02:39:35.795011Z",
     "start_time": "2021-07-14T02:39:35.650298Z"
    }
   },
   "outputs": [
    {
     "data": {
      "application/vnd.jupyter.widget-view+json": {
       "model_id": "803cb70f0d2f4cce9319fcab5f2275f4",
       "version_major": 2,
       "version_minor": 0
      },
      "text/plain": [
       "Box(children=(Box(children=(Label(value='Age of the captain'), IntSlider(value=40, max=60, min=40)), layout=La…"
      ]
     },
     "metadata": {},
     "output_type": "display_data"
    }
   ],
   "source": [
    "# 复合功能\n",
    "from ipywidgets import Layout, Button, Box, FloatText, Textarea, Dropdown, Label, IntSlider\n",
    "\n",
    "form_item_layout = Layout(\n",
    "    display='flex',\n",
    "    flex_flow='row',\n",
    "    justify_content='space-between'\n",
    ")\n",
    "\n",
    "form_items = [\n",
    "    Box([Label(value='Age of the captain'), IntSlider(min=40, max=60)], layout=form_item_layout),\n",
    "    Box([Label(value='Egg style'),\n",
    "         Dropdown(options=['Scrambled', 'Sunny side up', 'Over easy'])], layout=form_item_layout),\n",
    "    Box([Label(value='Ship size'),\n",
    "         FloatText()], layout=form_item_layout),\n",
    "    Box([Label(value='Information'),\n",
    "         Textarea()], layout=form_item_layout)\n",
    "]\n",
    "\n",
    "form = Box(form_items, layout=Layout(\n",
    "    display='flex',\n",
    "    flex_flow='column',\n",
    "    border='solid 2px',\n",
    "    align_items='stretch',\n",
    "    width='50%'\n",
    "))\n",
    "form"
   ]
  },
  {
   "cell_type": "markdown",
   "id": "dcf75113",
   "metadata": {},
   "source": [
    "form_item_layout统一的Box布局，\n",
    "Dropdown是下拉框，一个Box是一个独立组件。\n",
    "form_items是多个Box的组合，Box( [Label(),Textarea()] , layout ) => Box( [前缀名,控件函数] , 布局 )"
   ]
  },
  {
   "cell_type": "code",
   "execution_count": null,
   "id": "a13830f4",
   "metadata": {},
   "outputs": [],
   "source": []
  },
  {
   "cell_type": "code",
   "execution_count": null,
   "id": "67393b05",
   "metadata": {},
   "outputs": [],
   "source": []
  },
  {
   "cell_type": "code",
   "execution_count": null,
   "id": "b40a317c",
   "metadata": {},
   "outputs": [],
   "source": []
  },
  {
   "cell_type": "code",
   "execution_count": null,
   "id": "6a57ca5f",
   "metadata": {},
   "outputs": [],
   "source": []
  },
  {
   "cell_type": "markdown",
   "id": "2b122b69",
   "metadata": {},
   "source": [
    "# lineup_widget"
   ]
  },
  {
   "cell_type": "markdown",
   "id": "fc144e72",
   "metadata": {},
   "source": [
    "这是一个专门为展示dataframe + ipywidgets而来的包。\n",
    "\n",
    "## 安装\n",
    "+ install Jupyter Widgets\n",
    "\n",
    "pip install ipywidgets\n",
    "\n",
    "jupyter nbextension enable --py widgetsnbextension\n",
    "\n",
    "+ install library\n",
    "\n",
    "pip install lineup_widget\n",
    "\n",
    "jupyter nbextension enable --py --sys-prefix lineup_widget"
   ]
  },
  {
   "cell_type": "markdown",
   "id": "85059d6d",
   "metadata": {},
   "source": [
    "## 主函数\n",
    "\n",
    "w = lineup_widget.LineUpWidget(df, options=dict(rowHeight=20))\n"
   ]
  },
  {
   "cell_type": "code",
   "execution_count": 43,
   "id": "64be6310",
   "metadata": {
    "ExecuteTime": {
     "end_time": "2021-07-14T03:35:23.703996Z",
     "start_time": "2021-07-14T03:35:23.663264Z"
    }
   },
   "outputs": [
    {
     "ename": "TypeError",
     "evalue": "list() takes no keyword arguments",
     "output_type": "error",
     "traceback": [
      "\u001b[0;31m---------------------------------------------------------------------------\u001b[0m",
      "\u001b[0;31mTypeError\u001b[0m                                 Traceback (most recent call last)",
      "\u001b[0;32m<ipython-input-43-96af6a8d2096>\u001b[0m in \u001b[0;36m<module>\u001b[0;34m\u001b[0m\n\u001b[0;32m----> 1\u001b[0;31m \u001b[0m_data\u001b[0m \u001b[0;34m=\u001b[0m \u001b[0mlist\u001b[0m\u001b[0;34m(\u001b[0m\u001b[0mtrait\u001b[0m\u001b[0;34m=\u001b[0m\u001b[0mdict\u001b[0m\u001b[0;34m(\u001b[0m\u001b[0;34m)\u001b[0m\u001b[0;34m,\u001b[0m \u001b[0mdefault_value\u001b[0m\u001b[0;34m=\u001b[0m\u001b[0;34m[\u001b[0m\u001b[0;34m]\u001b[0m\u001b[0;34m)\u001b[0m\u001b[0;34m.\u001b[0m\u001b[0mtag\u001b[0m\u001b[0;34m(\u001b[0m\u001b[0msync\u001b[0m\u001b[0;34m=\u001b[0m\u001b[0;32mTrue\u001b[0m\u001b[0;34m)\u001b[0m\u001b[0;34m\u001b[0m\u001b[0;34m\u001b[0m\u001b[0m\n\u001b[0m\u001b[1;32m      2\u001b[0m \u001b[0m_columns\u001b[0m \u001b[0;34m=\u001b[0m \u001b[0mlist\u001b[0m\u001b[0;34m(\u001b[0m\u001b[0mtrait\u001b[0m\u001b[0;34m=\u001b[0m\u001b[0mdict\u001b[0m\u001b[0;34m(\u001b[0m\u001b[0;34m)\u001b[0m\u001b[0;34m,\u001b[0m \u001b[0mdefault_value\u001b[0m\u001b[0;34m=\u001b[0m\u001b[0;34m[\u001b[0m\u001b[0;34m]\u001b[0m\u001b[0;34m)\u001b[0m\u001b[0;34m.\u001b[0m\u001b[0mtag\u001b[0m\u001b[0;34m(\u001b[0m\u001b[0msync\u001b[0m\u001b[0;34m=\u001b[0m\u001b[0;32mTrue\u001b[0m\u001b[0;34m)\u001b[0m\u001b[0;34m\u001b[0m\u001b[0;34m\u001b[0m\u001b[0m\n\u001b[1;32m      3\u001b[0m options = dict(\n\u001b[1;32m      4\u001b[0m     traits=dict(filterGlobally=Bool(), singleSelection=Bool(), noCriteriaLimits=Bool(), animated=Bool(),\n\u001b[1;32m      5\u001b[0m                              \u001b[0msidePanel\u001b[0m\u001b[0;34m=\u001b[0m\u001b[0mEnum\u001b[0m\u001b[0;34m(\u001b[0m\u001b[0;34m(\u001b[0m\u001b[0;32mTrue\u001b[0m\u001b[0;34m,\u001b[0m \u001b[0;32mFalse\u001b[0m\u001b[0;34m,\u001b[0m \u001b[0;34m'collapsed'\u001b[0m\u001b[0;34m)\u001b[0m\u001b[0;34m)\u001b[0m\u001b[0;34m,\u001b[0m \u001b[0msummaryHeader\u001b[0m\u001b[0;34m=\u001b[0m\u001b[0mBool\u001b[0m\u001b[0;34m(\u001b[0m\u001b[0;34m)\u001b[0m\u001b[0;34m,\u001b[0m \u001b[0moverviewMode\u001b[0m\u001b[0;34m=\u001b[0m\u001b[0mBool\u001b[0m\u001b[0;34m(\u001b[0m\u001b[0;34m)\u001b[0m\u001b[0;34m,\u001b[0m\u001b[0;34m\u001b[0m\u001b[0;34m\u001b[0m\u001b[0m\n",
      "\u001b[0;31mTypeError\u001b[0m: list() takes no keyword arguments"
     ]
    }
   ],
   "source": [
    "_data = list(trait=dict(), default_value=[]).tag(sync=True)\n",
    "_columns = list(trait=dict(), default_value=[]).tag(sync=True)\n",
    "options = dict(\n",
    "    traits=dict(filterGlobally=Bool(), singleSelection=Bool(), noCriteriaLimits=Bool(), animated=Bool(),\n",
    "                             sidePanel=Enum((True, False, 'collapsed')), summaryHeader=Bool(), overviewMode=Bool(),\n",
    "                             hierarchyIndicator=Bool(), labelRotation=Int(), ignoreUnsupportedBrowser=Bool(),\n",
    "                             rowHeight=Int(), rowPadding=Int(), groupHeight=Int(), groupPadding=Int(),\n",
    "                             expandLineOnHover=Bool(), defaultSlopeGraphMode=Enum(('item', 'band'))),\n",
    "                 default_value=dict(filterGlobally=True, singleSelection=False, noCriteriaLimits=False, animated=True,\n",
    "                                    sidePanel='collapsed', summaryHeader=True, overviewMode=False,\n",
    "                                    hierarchyIndicator=True, labelRotation=0, ignoreUnsupportedBrowser=False,\n",
    "                                    rowHeight=18, rowPadding=2, groupHeight=40, groupPadding=5,\n",
    "                                    expandLineOnHover=False, defaultSlopeGraphMode='item'\n",
    "                                    )).tag(sync=True)\n",
    "rankings = List(trait=Dict(traits=dict(columns=List(trait=Union((Unicode(), Dict()))), sort_by=List(trait=Unicode()),\n",
    "                                         group_by=List(trait=Unicode())),\n",
    "                             default_value=dict(columns=['_*', '*'], sort_by=[], group_by=[])), default_value=[]).tag(\n",
    "    sync=True)"
   ]
  },
  {
   "cell_type": "markdown",
   "id": "f54efbb7",
   "metadata": {},
   "source": [
    "其中options之中有非常多的参数，由于文档也没具体说明，笔者这边只对几个参数有了解。\n",
    "其中：sidePanel=Enum((True, False, 'collapsed'))代表侧边的面板是否打开，笔者觉得很碍人，一般是sidePanel = False"
   ]
  },
  {
   "cell_type": "markdown",
   "id": "e4a2126e",
   "metadata": {},
   "source": [
    "### 案例一"
   ]
  },
  {
   "cell_type": "code",
   "execution_count": 1,
   "id": "a88f79e6",
   "metadata": {
    "ExecuteTime": {
     "end_time": "2021-07-14T03:39:27.571091Z",
     "start_time": "2021-07-14T03:39:27.290286Z"
    }
   },
   "outputs": [
    {
     "data": {
      "application/vnd.jupyter.widget-view+json": {
       "model_id": "77c33155994a4b06a58486cc6876b456",
       "version_major": 2,
       "version_minor": 0
      },
      "text/plain": [
       "LineUpWidget(value=[], layout=Layout(align_self='stretch', height='600px'), options={'filterGlobally': True, '…"
      ]
     },
     "metadata": {},
     "output_type": "display_data"
    }
   ],
   "source": [
    "import lineup_widget\n",
    "import pandas as pd\n",
    "import numpy as np\n",
    "\n",
    "df = pd.DataFrame(np.random.randint(0,100,size=(100, 4)), columns=list('ABCD'))\n",
    "\n",
    "w = lineup_widget.LineUpWidget(df)\n",
    "w.on_selection_changed(lambda selection: print(selection))\n",
    "w"
   ]
  },
  {
   "cell_type": "markdown",
   "id": "3952df06",
   "metadata": {},
   "source": [
    "非常简单，唯一需要整理的就是df，一个DataFrame的格式作为输入，其他不用调整任何东西，就可以使用了。"
   ]
  },
  {
   "cell_type": "markdown",
   "id": "70d51206",
   "metadata": {},
   "source": [
    "### 案例二"
   ]
  },
  {
   "cell_type": "code",
   "execution_count": 2,
   "id": "c3cd0622",
   "metadata": {
    "ExecuteTime": {
     "end_time": "2021-07-14T03:40:47.106775Z",
     "start_time": "2021-07-14T03:40:47.055116Z"
    }
   },
   "outputs": [
    {
     "data": {
      "application/vnd.jupyter.widget-view+json": {
       "model_id": "37c60ae93ba24db3b68174bdeff1f27f",
       "version_major": 2,
       "version_minor": 0
      },
      "text/plain": [
       "interactive(children=(LineUpWidget(value=[], description='selection', layout=Layout(align_self='stretch', heig…"
      ]
     },
     "metadata": {},
     "output_type": "display_data"
    },
    {
     "data": {
      "text/plain": [
       "<function __main__.selection_changed(selection)>"
      ]
     },
     "execution_count": 2,
     "metadata": {},
     "output_type": "execute_result"
    }
   ],
   "source": [
    "from __future__ import print_function\n",
    "from ipywidgets import interact, interactive, interact_manual\n",
    "\n",
    "def selection_changed(selection):\n",
    "    return df.iloc[selection]\n",
    "\n",
    "interact(selection_changed, selection=lineup_widget.LineUpWidget(df))"
   ]
  },
  {
   "cell_type": "markdown",
   "id": "f119a416",
   "metadata": {},
   "source": [
    "### 案例三: ipywidgets与lineup_widget共同使用的案例"
   ]
  },
  {
   "cell_type": "code",
   "execution_count": 3,
   "id": "0217cf45",
   "metadata": {
    "ExecuteTime": {
     "end_time": "2021-07-14T03:41:42.966679Z",
     "start_time": "2021-07-14T03:41:42.919941Z"
    }
   },
   "outputs": [
    {
     "data": {
      "application/vnd.jupyter.widget-view+json": {
       "model_id": "32437d4036974d0499eb2a9eecaa9ce2",
       "version_major": 2,
       "version_minor": 0
      },
      "text/plain": [
       "interactive(children=(Dropdown(description='类型:', options=('overall', 'part'), value='overall'), Checkbox(valu…"
      ]
     },
     "metadata": {},
     "output_type": "display_data"
    }
   ],
   "source": [
    "from __future__ import print_function\n",
    "from ipywidgets import interact, interactive, fixed, interact_manual\n",
    "import ipywidgets as widgets\n",
    "from IPython.display import display, HTML\n",
    "\n",
    "def view(down,std):\n",
    "    df = pd.DataFrame(np.random.randint(0,100,size=(100, 4)), columns=list('ABCD'))\n",
    "    \n",
    "    if down == 'overall':\n",
    "        df =df \n",
    "    elif down == 'part':\n",
    "        df = df[['A','B']]\n",
    "    \n",
    "    if std:\n",
    "        display(df)\n",
    "    else:\n",
    "        w = lineup_widget.LineUpWidget(df, options=dict(rowHeight=50,sidePanel = False))\n",
    "        display(w)\n",
    "    return\n",
    "\n",
    "\n",
    "down = widgets.Dropdown(\n",
    "    options=['overall','part'],\n",
    "    value='overall',\n",
    "    description='类型:',\n",
    "    disabled=False,\n",
    ")\n",
    "\n",
    "interactive(view, down = down , std = True)"
   ]
  },
  {
   "cell_type": "code",
   "execution_count": null,
   "id": "780ac453",
   "metadata": {},
   "outputs": [],
   "source": []
  }
 ],
 "metadata": {
  "gist": {
   "data": {
    "description": "ipywidgets/Untitled.ipynb",
    "public": false
   },
   "id": ""
  },
  "kernelspec": {
   "display_name": "Python 3.7.10 64-bit ('object_tracking': conda)",
   "language": "python",
   "name": "python371064bitobjecttrackingconda66c6f2efc4d740808a4620e21504b8f3"
  },
  "language_info": {
   "codemirror_mode": {
    "name": "ipython",
    "version": 3
   },
   "file_extension": ".py",
   "mimetype": "text/x-python",
   "name": "python",
   "nbconvert_exporter": "python",
   "pygments_lexer": "ipython3",
   "version": "3.7.10"
  },
  "toc": {
   "base_numbering": 1,
   "nav_menu": {},
   "number_sections": true,
   "sideBar": true,
   "skip_h1_title": false,
   "title_cell": "Table of Contents",
   "title_sidebar": "Contents",
   "toc_cell": false,
   "toc_position": {},
   "toc_section_display": true,
   "toc_window_display": false
  },
  "varInspector": {
   "cols": {
    "lenName": 16,
    "lenType": 16,
    "lenVar": 40
   },
   "kernels_config": {
    "python": {
     "delete_cmd_postfix": "",
     "delete_cmd_prefix": "del ",
     "library": "var_list.py",
     "varRefreshCmd": "print(var_dic_list())"
    },
    "r": {
     "delete_cmd_postfix": ") ",
     "delete_cmd_prefix": "rm(",
     "library": "var_list.r",
     "varRefreshCmd": "cat(var_dic_list()) "
    }
   },
   "types_to_exclude": [
    "module",
    "function",
    "builtin_function_or_method",
    "instance",
    "_Feature"
   ],
   "window_display": false
  }
 },
 "nbformat": 4,
 "nbformat_minor": 5
}
